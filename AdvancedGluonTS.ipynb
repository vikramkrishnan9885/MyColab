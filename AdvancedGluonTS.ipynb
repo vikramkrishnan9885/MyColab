{
  "nbformat": 4,
  "nbformat_minor": 0,
  "metadata": {
    "colab": {
      "name": "AdvancedGluonTS.ipynb",
      "provenance": [],
      "collapsed_sections": [],
      "toc_visible": true,
      "authorship_tag": "ABX9TyPjkG8ZNkDSMisO5tL/ylaz",
      "include_colab_link": true
    },
    "kernelspec": {
      "name": "python3",
      "display_name": "Python 3"
    },
    "accelerator": "GPU"
  },
  "cells": [
    {
      "cell_type": "markdown",
      "metadata": {
        "id": "view-in-github",
        "colab_type": "text"
      },
      "source": [
        "<a href=\"https://colab.research.google.com/github/vikramkrishnan9885/MyColab/blob/master/AdvancedGluonTS.ipynb\" target=\"_parent\"><img src=\"https://colab.research.google.com/assets/colab-badge.svg\" alt=\"Open In Colab\"/></a>"
      ]
    },
    {
      "cell_type": "code",
      "metadata": {
        "id": "dNRh3ThgF5Sv",
        "colab_type": "code",
        "colab": {
          "base_uri": "https://localhost:8080/",
          "height": 1000
        },
        "outputId": "caefe055-ed88-4cb3-a3b6-4013a37caf1e"
      },
      "source": [
        "!pip install ujson==1.35\n",
        "!pip install spacy==2.0.18 folium==0.2.1 imgaug==0.2.7\n",
        "!pip install --upgrade numpy\n",
        "!pip install -q mxnet-cu101\n",
        "!pip install gluonts\n",
        "\n",
        "!nvcc --version"
      ],
      "execution_count": 1,
      "outputs": [
        {
          "output_type": "stream",
          "text": [
            "Requirement already satisfied: ujson==1.35 in /usr/local/lib/python3.6/dist-packages (1.35)\n",
            "Requirement already satisfied: spacy==2.0.18 in /usr/local/lib/python3.6/dist-packages (2.0.18)\n",
            "Requirement already satisfied: folium==0.2.1 in /usr/local/lib/python3.6/dist-packages (0.2.1)\n",
            "Requirement already satisfied: imgaug==0.2.7 in /usr/local/lib/python3.6/dist-packages (0.2.7)\n",
            "Requirement already satisfied: dill<0.3,>=0.2 in /usr/local/lib/python3.6/dist-packages (from spacy==2.0.18) (0.2.9)\n",
            "Requirement already satisfied: preshed<2.1.0,>=2.0.1 in /usr/local/lib/python3.6/dist-packages (from spacy==2.0.18) (2.0.1)\n",
            "Requirement already satisfied: thinc<6.13.0,>=6.12.1 in /usr/local/lib/python3.6/dist-packages (from spacy==2.0.18) (6.12.1)\n",
            "Requirement already satisfied: plac<1.0.0,>=0.9.6 in /usr/local/lib/python3.6/dist-packages (from spacy==2.0.18) (0.9.6)\n",
            "Requirement already satisfied: numpy>=1.15.0 in /usr/local/lib/python3.6/dist-packages (from spacy==2.0.18) (1.19.1)\n",
            "Requirement already satisfied: ujson>=1.35 in /usr/local/lib/python3.6/dist-packages (from spacy==2.0.18) (1.35)\n",
            "Requirement already satisfied: murmurhash<1.1.0,>=0.28.0 in /usr/local/lib/python3.6/dist-packages (from spacy==2.0.18) (1.0.2)\n",
            "Requirement already satisfied: regex==2018.01.10 in /usr/local/lib/python3.6/dist-packages (from spacy==2.0.18) (2018.1.10)\n",
            "Requirement already satisfied: cymem<2.1.0,>=2.0.2 in /usr/local/lib/python3.6/dist-packages (from spacy==2.0.18) (2.0.3)\n",
            "Requirement already satisfied: requests<3.0.0,>=2.13.0 in /usr/local/lib/python3.6/dist-packages (from spacy==2.0.18) (2.23.0)\n",
            "Requirement already satisfied: Jinja2 in /usr/local/lib/python3.6/dist-packages (from folium==0.2.1) (2.11.2)\n",
            "Requirement already satisfied: Shapely in /usr/local/lib/python3.6/dist-packages (from imgaug==0.2.7) (1.7.0)\n",
            "Requirement already satisfied: Pillow in /usr/local/lib/python3.6/dist-packages (from imgaug==0.2.7) (7.0.0)\n",
            "Requirement already satisfied: scipy in /usr/local/lib/python3.6/dist-packages (from imgaug==0.2.7) (1.4.1)\n",
            "Requirement already satisfied: matplotlib in /usr/local/lib/python3.6/dist-packages (from imgaug==0.2.7) (3.2.2)\n",
            "Requirement already satisfied: scikit-image>=0.11.0 in /usr/local/lib/python3.6/dist-packages (from imgaug==0.2.7) (0.16.2)\n",
            "Requirement already satisfied: six in /usr/local/lib/python3.6/dist-packages (from imgaug==0.2.7) (1.15.0)\n",
            "Requirement already satisfied: imageio in /usr/local/lib/python3.6/dist-packages (from imgaug==0.2.7) (2.4.1)\n",
            "Requirement already satisfied: wrapt<1.11.0,>=1.10.0 in /usr/local/lib/python3.6/dist-packages (from thinc<6.13.0,>=6.12.1->spacy==2.0.18) (1.10.11)\n",
            "Requirement already satisfied: tqdm<5.0.0,>=4.10.0 in /usr/local/lib/python3.6/dist-packages (from thinc<6.13.0,>=6.12.1->spacy==2.0.18) (4.41.1)\n",
            "Requirement already satisfied: msgpack-numpy<0.4.4 in /usr/local/lib/python3.6/dist-packages (from thinc<6.13.0,>=6.12.1->spacy==2.0.18) (0.4.3.2)\n",
            "Requirement already satisfied: msgpack<0.6.0,>=0.5.6 in /usr/local/lib/python3.6/dist-packages (from thinc<6.13.0,>=6.12.1->spacy==2.0.18) (0.5.6)\n",
            "Requirement already satisfied: cytoolz<0.10,>=0.9.0 in /usr/local/lib/python3.6/dist-packages (from thinc<6.13.0,>=6.12.1->spacy==2.0.18) (0.9.0.1)\n",
            "Requirement already satisfied: idna<3,>=2.5 in /usr/local/lib/python3.6/dist-packages (from requests<3.0.0,>=2.13.0->spacy==2.0.18) (2.10)\n",
            "Requirement already satisfied: urllib3!=1.25.0,!=1.25.1,<1.26,>=1.21.1 in /usr/local/lib/python3.6/dist-packages (from requests<3.0.0,>=2.13.0->spacy==2.0.18) (1.24.3)\n",
            "Requirement already satisfied: certifi>=2017.4.17 in /usr/local/lib/python3.6/dist-packages (from requests<3.0.0,>=2.13.0->spacy==2.0.18) (2020.6.20)\n",
            "Requirement already satisfied: chardet<4,>=3.0.2 in /usr/local/lib/python3.6/dist-packages (from requests<3.0.0,>=2.13.0->spacy==2.0.18) (3.0.4)\n",
            "Requirement already satisfied: MarkupSafe>=0.23 in /usr/local/lib/python3.6/dist-packages (from Jinja2->folium==0.2.1) (1.1.1)\n",
            "Requirement already satisfied: kiwisolver>=1.0.1 in /usr/local/lib/python3.6/dist-packages (from matplotlib->imgaug==0.2.7) (1.2.0)\n",
            "Requirement already satisfied: cycler>=0.10 in /usr/local/lib/python3.6/dist-packages (from matplotlib->imgaug==0.2.7) (0.10.0)\n",
            "Requirement already satisfied: pyparsing!=2.0.4,!=2.1.2,!=2.1.6,>=2.0.1 in /usr/local/lib/python3.6/dist-packages (from matplotlib->imgaug==0.2.7) (2.4.7)\n",
            "Requirement already satisfied: python-dateutil>=2.1 in /usr/local/lib/python3.6/dist-packages (from matplotlib->imgaug==0.2.7) (2.8.1)\n",
            "Requirement already satisfied: PyWavelets>=0.4.0 in /usr/local/lib/python3.6/dist-packages (from scikit-image>=0.11.0->imgaug==0.2.7) (1.1.1)\n",
            "Requirement already satisfied: networkx>=2.0 in /usr/local/lib/python3.6/dist-packages (from scikit-image>=0.11.0->imgaug==0.2.7) (2.4)\n",
            "Requirement already satisfied: toolz>=0.8.0 in /usr/local/lib/python3.6/dist-packages (from cytoolz<0.10,>=0.9.0->thinc<6.13.0,>=6.12.1->spacy==2.0.18) (0.10.0)\n",
            "Requirement already satisfied: decorator>=4.3.0 in /usr/local/lib/python3.6/dist-packages (from networkx>=2.0->scikit-image>=0.11.0->imgaug==0.2.7) (4.4.2)\n",
            "Requirement already up-to-date: numpy in /usr/local/lib/python3.6/dist-packages (1.19.1)\n",
            "Requirement already satisfied: gluonts in /usr/local/lib/python3.6/dist-packages (0.5.0)\n",
            "Requirement already satisfied: tqdm~=4.23 in /usr/local/lib/python3.6/dist-packages (from gluonts) (4.41.1)\n",
            "Requirement already satisfied: matplotlib~=3.0 in /usr/local/lib/python3.6/dist-packages (from gluonts) (3.2.2)\n",
            "Requirement already satisfied: holidays<0.10,>=0.9 in /usr/local/lib/python3.6/dist-packages (from gluonts) (0.9.12)\n",
            "Requirement already satisfied: ujson~=1.35 in /usr/local/lib/python3.6/dist-packages (from gluonts) (1.35)\n",
            "Requirement already satisfied: pydantic~=1.1 in /usr/local/lib/python3.6/dist-packages (from gluonts) (1.6.1)\n",
            "Requirement already satisfied: pandas~=1.0 in /usr/local/lib/python3.6/dist-packages (from gluonts) (1.0.5)\n",
            "Requirement already satisfied: numpy~=1.16 in /usr/local/lib/python3.6/dist-packages (from gluonts) (1.19.1)\n",
            "Requirement already satisfied: kiwisolver>=1.0.1 in /usr/local/lib/python3.6/dist-packages (from matplotlib~=3.0->gluonts) (1.2.0)\n",
            "Requirement already satisfied: python-dateutil>=2.1 in /usr/local/lib/python3.6/dist-packages (from matplotlib~=3.0->gluonts) (2.8.1)\n",
            "Requirement already satisfied: cycler>=0.10 in /usr/local/lib/python3.6/dist-packages (from matplotlib~=3.0->gluonts) (0.10.0)\n",
            "Requirement already satisfied: pyparsing!=2.0.4,!=2.1.2,!=2.1.6,>=2.0.1 in /usr/local/lib/python3.6/dist-packages (from matplotlib~=3.0->gluonts) (2.4.7)\n",
            "Requirement already satisfied: six in /usr/local/lib/python3.6/dist-packages (from holidays<0.10,>=0.9->gluonts) (1.15.0)\n",
            "Requirement already satisfied: dataclasses>=0.6; python_version < \"3.7\" in /usr/local/lib/python3.6/dist-packages (from pydantic~=1.1->gluonts) (0.7)\n",
            "Requirement already satisfied: pytz>=2017.2 in /usr/local/lib/python3.6/dist-packages (from pandas~=1.0->gluonts) (2018.9)\n",
            "nvcc: NVIDIA (R) Cuda compiler driver\n",
            "Copyright (c) 2005-2019 NVIDIA Corporation\n",
            "Built on Sun_Jul_28_19:07:16_PDT_2019\n",
            "Cuda compilation tools, release 10.1, V10.1.243\n"
          ],
          "name": "stdout"
        }
      ]
    },
    {
      "cell_type": "code",
      "metadata": {
        "id": "4bXTF074FrXF",
        "colab_type": "code",
        "colab": {}
      },
      "source": [
        "%matplotlib inline\n",
        "import mxnet as mx\n",
        "from mxnet import gluon\n",
        "import numpy as np\n",
        "import pandas as pd\n",
        "import matplotlib.pyplot as plt\n",
        "import json\n",
        "import os\n",
        "from itertools import islice\n",
        "from pathlib import Path"
      ],
      "execution_count": 2,
      "outputs": []
    },
    {
      "cell_type": "code",
      "metadata": {
        "id": "kLX9_W2sFt-2",
        "colab_type": "code",
        "colab": {}
      },
      "source": [
        "mx.random.seed(0)\n",
        "np.random.seed(0)"
      ],
      "execution_count": 3,
      "outputs": []
    },
    {
      "cell_type": "markdown",
      "metadata": {
        "id": "7iBUyaoVHI_H",
        "colab_type": "text"
      },
      "source": [
        "GluonTS offers three different options to practitioners that want to experiment with the various modules:\n",
        "* Use an available dataset provided by GluonTS\n",
        "* Create an artificial dataset using GluonTS\n",
        "* Convert your dataset to a GluonTS friendly format"
      ]
    },
    {
      "cell_type": "code",
      "metadata": {
        "id": "ZH0PWSMlTNMZ",
        "colab_type": "code",
        "colab": {
          "base_uri": "https://localhost:8080/",
          "height": 37
        },
        "outputId": "0049793a-20d2-4691-e961-fc61532b65f1"
      },
      "source": [
        "!pip freeze | grep ujson"
      ],
      "execution_count": 42,
      "outputs": [
        {
          "output_type": "stream",
          "text": [
            "ujson==1.35\n"
          ],
          "name": "stdout"
        }
      ]
    },
    {
      "cell_type": "code",
      "metadata": {
        "id": "7eRy7rLyLR3W",
        "colab_type": "code",
        "colab": {}
      },
      "source": [
        "import json\n",
        "from gluonts.dataset.repository.datasets import get_dataset, dataset_recipes\n",
        "from gluonts.dataset.util import to_pandas"
      ],
      "execution_count": 44,
      "outputs": []
    },
    {
      "cell_type": "markdown",
      "metadata": {
        "id": "GkqzqiqBXGnG",
        "colab_type": "text"
      },
      "source": [
        "# Create artificial datasets\n",
        "We can easily create a complex artificial time series dataset using the ComplexSeasonalTimeSeries module."
      ]
    },
    {
      "cell_type": "code",
      "metadata": {
        "id": "4tnjmnpSXTq3",
        "colab_type": "code",
        "colab": {}
      },
      "source": [
        "from gluonts.dataset.artificial import ComplexSeasonalTimeSeries\n",
        "from gluonts.dataset.common import ListDataset"
      ],
      "execution_count": 45,
      "outputs": []
    },
    {
      "cell_type": "code",
      "metadata": {
        "id": "zOY1XLq_XXoU",
        "colab_type": "code",
        "colab": {}
      },
      "source": [
        "artificial_dataset = ComplexSeasonalTimeSeries(\n",
        "    num_series=10,\n",
        "    prediction_length=21,\n",
        "    freq_str=\"H\",\n",
        "    length_low=30,\n",
        "    length_high=200,\n",
        "    min_val=-10000,\n",
        "    max_val=10000,\n",
        "    is_integer=False,\n",
        "    proportion_missing_values=0,\n",
        "    is_noise=True,\n",
        "    is_scale=True,\n",
        "    percentage_unique_timestamps=1,\n",
        "    is_out_of_bounds_date=True,\n",
        ")"
      ],
      "execution_count": 46,
      "outputs": []
    },
    {
      "cell_type": "code",
      "metadata": {
        "id": "tptnyUu1XclL",
        "colab_type": "code",
        "colab": {
          "base_uri": "https://localhost:8080/",
          "height": 57
        },
        "outputId": "18b20ac2-440a-4731-a65b-73bea259f032"
      },
      "source": [
        "print(f\"prediction length: {artificial_dataset.metadata.prediction_length}\")\n",
        "print(f\"frequency: {artificial_dataset.metadata.freq}\")"
      ],
      "execution_count": 47,
      "outputs": [
        {
          "output_type": "stream",
          "text": [
            "prediction length: 21\n",
            "frequency: H\n"
          ],
          "name": "stdout"
        }
      ]
    },
    {
      "cell_type": "code",
      "metadata": {
        "id": "XYW2R-3lanb-",
        "colab_type": "code",
        "colab": {
          "base_uri": "https://localhost:8080/",
          "height": 97
        },
        "outputId": "d70915db-41d0-4f81-c5dc-11412105b121"
      },
      "source": [
        "# The artificial dataset that we created is a list of dictionaries. \n",
        "# Each dictionary corresponds to a time series and it should contain the required fields.\n",
        "\n",
        "print(f\"type of train dataset: {type(artificial_dataset.train)}\")\n",
        "print(f\"train dataset fields: {artificial_dataset.train[0].keys()}\")\n",
        "print(f\"type of test dataset: {type(artificial_dataset.test)}\")\n",
        "print(f\"test dataset fields: {artificial_dataset.test[0].keys()}\")"
      ],
      "execution_count": 48,
      "outputs": [
        {
          "output_type": "stream",
          "text": [
            "type of train dataset: <class 'list'>\n",
            "train dataset fields: dict_keys(['start', 'target', 'item_id'])\n",
            "type of test dataset: <class 'list'>\n",
            "test dataset fields: dict_keys(['start', 'target', 'item_id'])\n"
          ],
          "name": "stdout"
        }
      ]
    },
    {
      "cell_type": "code",
      "metadata": {
        "id": "7WeIuFHratOV",
        "colab_type": "code",
        "colab": {
          "base_uri": "https://localhost:8080/",
          "height": 37
        },
        "outputId": "8c98561d-4eb2-44a9-fc10-ffeafd9a60ff"
      },
      "source": [
        "# In order to use the artificially created datasets (list of dictionaries) \n",
        "# we need to convert them to ListDataset objects.\n",
        "train_ds = ListDataset(\n",
        "    artificial_dataset.train,\n",
        "    freq=artificial_dataset.metadata.freq\n",
        ")\n",
        "\n",
        "test_ds = ListDataset(\n",
        "    artificial_dataset.test,\n",
        "    freq=artificial_dataset.metadata.freq\n",
        ")\n",
        "\n",
        "train_entry = next(iter(train_ds))\n",
        "train_entry.keys()"
      ],
      "execution_count": 49,
      "outputs": [
        {
          "output_type": "execute_result",
          "data": {
            "text/plain": [
              "dict_keys(['start', 'target', 'item_id', 'source'])"
            ]
          },
          "metadata": {
            "tags": []
          },
          "execution_count": 49
        }
      ]
    },
    {
      "cell_type": "code",
      "metadata": {
        "id": "R7tIvaK8bM51",
        "colab_type": "code",
        "colab": {
          "base_uri": "https://localhost:8080/",
          "height": 37
        },
        "outputId": "71803522-3339-4ed1-f553-6055e98d8fc9"
      },
      "source": [
        "test_entry = next(iter(test_ds))\n",
        "test_entry.keys()"
      ],
      "execution_count": 50,
      "outputs": [
        {
          "output_type": "execute_result",
          "data": {
            "text/plain": [
              "dict_keys(['start', 'target', 'item_id', 'source'])"
            ]
          },
          "metadata": {
            "tags": []
          },
          "execution_count": 50
        }
      ]
    },
    {
      "cell_type": "code",
      "metadata": {
        "id": "RKBRweHobOFa",
        "colab_type": "code",
        "colab": {
          "base_uri": "https://localhost:8080/",
          "height": 452
        },
        "outputId": "08f6eaa2-a401-4785-f694-9ead35df8d9d"
      },
      "source": [
        "test_series = to_pandas(test_entry)\n",
        "train_series = to_pandas(train_entry)\n",
        "\n",
        "fig, ax = plt.subplots(2, 1, sharex=True, sharey=True, figsize=(10, 7))\n",
        "\n",
        "train_series.plot(ax=ax[0])\n",
        "ax[0].grid(which=\"both\")\n",
        "ax[0].legend([\"train series\"], loc=\"upper left\")\n",
        "\n",
        "test_series.plot(ax=ax[1])\n",
        "ax[1].axvline(train_series.index[-1], color='r') # end of train dataset\n",
        "ax[1].grid(which=\"both\")\n",
        "ax[1].legend([\"test series\", \"end of train series\"], loc=\"upper left\")\n",
        "\n",
        "plt.show()"
      ],
      "execution_count": 51,
      "outputs": [
        {
          "output_type": "display_data",
          "data": {
            "image/png": "[encoded data removed]",
            "text/plain": [
              "<Figure size 720x504 with 2 Axes>"
            ]
          },
          "metadata": {
            "tags": [],
            "needs_background": "light"
          }
        }
      ]
    },
    {
      "cell_type": "code",
      "metadata": {
        "id": "bVhJ9dm_d7JO",
        "colab_type": "code",
        "colab": {}
      },
      "source": [
        "from gluonts.dataset.field_names import FieldName"
      ],
      "execution_count": 52,
      "outputs": []
    },
    {
      "cell_type": "code",
      "metadata": {
        "id": "llNRKX0Pd8wx",
        "colab_type": "code",
        "colab": {
          "base_uri": "https://localhost:8080/",
          "height": 297
        },
        "outputId": "4f1d04cc-608d-4a66-8a3a-e553449b7308"
      },
      "source": [
        "[f\"FieldName.{k} = '{v}'\" for k, v in FieldName.__dict__.items() if not k.startswith('_')]"
      ],
      "execution_count": 53,
      "outputs": [
        {
          "output_type": "execute_result",
          "data": {
            "text/plain": [
              "[\"FieldName.ITEM_ID = 'item_id'\",\n",
              " \"FieldName.START = 'start'\",\n",
              " \"FieldName.TARGET = 'target'\",\n",
              " \"FieldName.FEAT_STATIC_CAT = 'feat_static_cat'\",\n",
              " \"FieldName.FEAT_STATIC_REAL = 'feat_static_real'\",\n",
              " \"FieldName.FEAT_DYNAMIC_CAT = 'feat_dynamic_cat'\",\n",
              " \"FieldName.FEAT_DYNAMIC_REAL = 'feat_dynamic_real'\",\n",
              " \"FieldName.FEAT_TIME = 'time_feat'\",\n",
              " \"FieldName.FEAT_CONST = 'feat_dynamic_const'\",\n",
              " \"FieldName.FEAT_AGE = 'feat_dynamic_age'\",\n",
              " \"FieldName.OBSERVED_VALUES = 'observed_values'\",\n",
              " \"FieldName.IS_PAD = 'is_pad'\",\n",
              " \"FieldName.FORECAST_START = 'forecast_start'\",\n",
              " \"FieldName.TARGET_DIM_INDICATOR = 'target_dimension_indicator'\"]"
            ]
          },
          "metadata": {
            "tags": []
          },
          "execution_count": 53
        }
      ]
    },
    {
      "cell_type": "markdown",
      "metadata": {
        "id": "cPND2Eljd_uU",
        "colab_type": "text"
      },
      "source": [
        "The fields are split into three categories (__ROT__): the required ones, the optional ones, and the ones that can be added by the Transformation (explained in a while).\n",
        "\n",
        "* Required:\n",
        "  * start: start date of the time series\n",
        "  * target: values of the time series\n",
        "* Optional:\n",
        "  * feat_static_cat: static (over time) categorical features, list with dimension equal to the number of features\n",
        "  * feat_static_real: static (over time) real features, list with dimension equal to the number of features\n",
        "  * feat_dynamic_cat: dynamic (over time) categorical features, array with shape equal to (number of features, target length)\n",
        "  * feat_dynamic_real: dynamic (over time) real features, array with shape equal to (number of features, target length)\n",
        "* Added by Transformation:\n",
        "  * time_feat: time related features such as the month or the day\n",
        "  * feat_dynamic_const: expands a constant value feature along the time axis\n",
        "  * feat_dynamic_age: age feature, i.e., a feature that its value is small for distant past timestamps and it monotonically increases the more we approach the current timestamp\n",
        "  * observed_values: indicator for observed values, i.e., a feature that equals to 1 if the value is observed and 0 if the value is missing\n",
        "  * is_pad: indicator for each time step that shows if it is padded (if the length is not enough)\n",
        "  * forecast_start: forecast start date\n",
        "\n",
        "The dataset consists of a target, a real dynamic feature (which in this example we set to be the target value one period earlier), and a static categorical feature that indicates the sinusoid type (different phase) that we used to create the target."
      ]
    },
    {
      "cell_type": "code",
      "metadata": {
        "id": "_hlj8tUie_wu",
        "colab_type": "code",
        "colab": {}
      },
      "source": [
        "def create_dataset(num_series, num_steps, period=24, mu=1, sigma=0.3):\n",
        "    # create target: noise + pattern\n",
        "    # noise\n",
        "    noise = np.random.normal(mu, sigma, size=(num_series, num_steps))\n",
        "\n",
        "    # pattern - sinusoid with different phase\n",
        "    sin_minumPi_Pi = np.sin(np.tile(np.linspace(-np.pi, np.pi, period), int(num_steps / period)))\n",
        "    sin_Zero_2Pi = np.sin(np.tile(np.linspace(0, 2 * np.pi, 24), int(num_steps / period)))\n",
        "\n",
        "    pattern = np.concatenate((np.tile(sin_minumPi_Pi.reshape(1, -1),\n",
        "                                      (int(np.ceil(num_series / 2)),1)),\n",
        "                              np.tile(sin_Zero_2Pi.reshape(1, -1),\n",
        "                                      (int(np.floor(num_series / 2)), 1))\n",
        "                             ),\n",
        "                             axis=0\n",
        "                            )\n",
        "\n",
        "    target = noise + pattern\n",
        "\n",
        "    # create time features: use target one period earlier, append with zeros\n",
        "    feat_dynamic_real = np.concatenate((np.zeros((num_series, period)),\n",
        "                                        target[:, :-period]\n",
        "                                       ),\n",
        "                                       axis=1\n",
        "                                      )\n",
        "\n",
        "    # create categorical static feats: use the sinusoid type as a categorical feature\n",
        "    feat_static_cat = np.concatenate((np.zeros(int(np.ceil(num_series / 2))),\n",
        "                                      np.ones(int(np.floor(num_series / 2)))\n",
        "                                     ),\n",
        "                                     axis=0\n",
        "                                    )\n",
        "\n",
        "    return target, feat_dynamic_real, feat_static_cat\n",
        "\n",
        "\n",
        "# define the parameters of the dataset\n",
        "custom_ds_metadata = {'num_series': 100,\n",
        "                      'num_steps': 24 * 7,\n",
        "                      'prediction_length': 24,\n",
        "                      'freq': '1H',\n",
        "                      'start': [pd.Timestamp(\"01-01-2019\", freq='1H')\n",
        "                                for _ in range(100)]\n",
        "                     }\n",
        "\n",
        "\n",
        "data_out = create_dataset(custom_ds_metadata['num_series'],\n",
        "                          custom_ds_metadata['num_steps'],\n",
        "                          custom_ds_metadata['prediction_length']\n",
        "                         )\n",
        "\n",
        "target, feat_dynamic_real, feat_static_cat = data_out\n",
        "\n",
        "# We can easily create the train and test datasets by simply filling in the correct fields. \n",
        "# Remember that for the train dataset we need to cut the last window.\n",
        "\n",
        "train_ds = ListDataset([{FieldName.TARGET: target,\n",
        "                         FieldName.START: start,\n",
        "                         FieldName.FEAT_DYNAMIC_REAL: [fdr],\n",
        "                         FieldName.FEAT_STATIC_CAT: [fsc]}\n",
        "                        for (target, start, fdr, fsc) in zip(target[:, :-custom_ds_metadata['prediction_length']],\n",
        "                                                             custom_ds_metadata['start'],\n",
        "                                                             feat_dynamic_real[:, :-custom_ds_metadata['prediction_length']],\n",
        "                                                             feat_static_cat)],\n",
        "                      freq=custom_ds_metadata['freq'])\n",
        "\n",
        "test_ds = ListDataset([{FieldName.TARGET: target,\n",
        "                        FieldName.START: start,\n",
        "                        FieldName.FEAT_DYNAMIC_REAL: [fdr],\n",
        "                        FieldName.FEAT_STATIC_CAT: [fsc]}\n",
        "                       for (target, start, fdr, fsc) in zip(target,\n",
        "                                                            custom_ds_metadata['start'],\n",
        "                                                            feat_dynamic_real,\n",
        "                                                            feat_static_cat)],\n",
        "                     freq=custom_ds_metadata['freq'])"
      ],
      "execution_count": 54,
      "outputs": []
    },
    {
      "cell_type": "markdown",
      "metadata": {
        "id": "_7Pz5lVWfJwI",
        "colab_type": "text"
      },
      "source": [
        "* Now, we can examine each entry of the train and test datasets. \n",
        "* We should expect that they have the following fields: \n",
        "  * target, \n",
        "  * start, \n",
        "  * feat_dynamic_real and \n",
        "  * feat_static_cat."
      ]
    },
    {
      "cell_type": "code",
      "metadata": {
        "id": "l9vicmrjg7Y9",
        "colab_type": "code",
        "colab": {
          "base_uri": "https://localhost:8080/",
          "height": 37
        },
        "outputId": "6357f10f-5e0b-4aa8-d6ad-09460d5f4998"
      },
      "source": [
        "train_entry = next(iter(train_ds))\n",
        "train_entry.keys()"
      ],
      "execution_count": 55,
      "outputs": [
        {
          "output_type": "execute_result",
          "data": {
            "text/plain": [
              "dict_keys(['target', 'start', 'feat_dynamic_real', 'feat_static_cat', 'source'])"
            ]
          },
          "metadata": {
            "tags": []
          },
          "execution_count": 55
        }
      ]
    },
    {
      "cell_type": "code",
      "metadata": {
        "id": "00GXuX9Mg8gv",
        "colab_type": "code",
        "colab": {
          "base_uri": "https://localhost:8080/",
          "height": 37
        },
        "outputId": "c8218caf-6281-4d84-f969-ef3c4b4361b9"
      },
      "source": [
        "test_entry = next(iter(test_ds))\n",
        "test_entry.keys()"
      ],
      "execution_count": 56,
      "outputs": [
        {
          "output_type": "execute_result",
          "data": {
            "text/plain": [
              "dict_keys(['target', 'start', 'feat_dynamic_real', 'feat_static_cat', 'source'])"
            ]
          },
          "metadata": {
            "tags": []
          },
          "execution_count": 56
        }
      ]
    },
    {
      "cell_type": "code",
      "metadata": {
        "id": "9B2jEasXg_wN",
        "colab_type": "code",
        "colab": {
          "base_uri": "https://localhost:8080/",
          "height": 452
        },
        "outputId": "244e5a41-5060-465b-b7c1-82703b2e20cf"
      },
      "source": [
        "test_series = to_pandas(test_entry)\n",
        "train_series = to_pandas(train_entry)\n",
        "\n",
        "fig, ax = plt.subplots(2, 1, sharex=True, sharey=True, figsize=(10, 7))\n",
        "\n",
        "train_series.plot(ax=ax[0])\n",
        "ax[0].grid(which=\"both\")\n",
        "ax[0].legend([\"train series\"], loc=\"upper left\")\n",
        "\n",
        "test_series.plot(ax=ax[1])\n",
        "ax[1].axvline(train_series.index[-1], color='r') # end of train dataset\n",
        "ax[1].grid(which=\"both\")\n",
        "ax[1].legend([\"test series\", \"end of train series\"], loc=\"upper left\")\n",
        "\n",
        "plt.show()"
      ],
      "execution_count": 57,
      "outputs": [
        {
          "output_type": "display_data",
          "data": {
            "image/png": "[encoded data removed]",
            "text/plain": [
              "<Figure size 720x504 with 2 Axes>"
            ]
          },
          "metadata": {
            "tags": [],
            "needs_background": "light"
          }
        }
      ]
    },
    {
      "cell_type": "markdown",
      "metadata": {
        "id": "FS5lKDyYrMVE",
        "colab_type": "text"
      },
      "source": [
        "# Transformation\n",
        "\n",
        "The primary use case for a Transformation is for __feature processing__, e.g., adding a holiday feature and for defining the way the dataset will be split into appropriate windows during training and inference.\n",
        "\n",
        "In general, it __gets an iterable collection of entries of a dataset and transform it to another iterable collection that can possibly contain more fields__. The transformation is done by defining a set of __\"actions\"__ to the raw dataset depending on what is useful to our model.  As an example, in the following we add the following transformations:\n",
        "* __AddObservedValuesIndicator__: Creates the observed_values field in the dataset, i.e., adds a feature that equals to 1 if the value is observed and 0 if the value is missing\n",
        "* __AddAgeFeature__: Creates the feat_dynamic_age field in the dataset, i.e., adds a feature that its value is small for distant past timestamps and it monotonically increases the more we approach the current timestamp\n",
        "\n",
        "The __Transformation__ may not define an additional field in the dataset. However, it __always__ needs to define how the datasets are going to be split in example windows during training and testing. This is done with the InstanceSplitter that is configured as follows (skipping the obvious fields):\n",
        "* `is_pad_field`: indicator if the time series is padded (if the length is not enough)\n",
        "* `train_sampler`: defines how the training windows are cut/sampled\n",
        "* `time_series_fields`: contains the time dependent features that need to be split in the same manner as the target\n"
      ]
    },
    {
      "cell_type": "code",
      "metadata": {
        "id": "sAMCLmYerrgg",
        "colab_type": "code",
        "colab": {}
      },
      "source": [
        "from gluonts.transform import (\n",
        "    AddAgeFeature,\n",
        "    AddObservedValuesIndicator,\n",
        "    Chain,\n",
        "    ExpectedNumInstanceSampler,\n",
        "    InstanceSplitter,\n",
        "    SetFieldIfNotPresent,\n",
        ")\n",
        "\n",
        "def create_transformation(freq, context_length, prediction_length):\n",
        "    return Chain(\n",
        "        [\n",
        "            AddObservedValuesIndicator(\n",
        "                target_field=FieldName.TARGET,\n",
        "                output_field=FieldName.OBSERVED_VALUES,\n",
        "            ),\n",
        "            AddAgeFeature(\n",
        "                target_field=FieldName.TARGET,\n",
        "                output_field=FieldName.FEAT_AGE,\n",
        "                pred_length=prediction_length,\n",
        "                log_scale=True,\n",
        "            ),\n",
        "            InstanceSplitter(\n",
        "                target_field=FieldName.TARGET,\n",
        "                is_pad_field=FieldName.IS_PAD,\n",
        "                start_field=FieldName.START,\n",
        "                forecast_start_field=FieldName.FORECAST_START,\n",
        "                train_sampler=ExpectedNumInstanceSampler(num_instances=1),\n",
        "                past_length=context_length,\n",
        "                future_length=prediction_length,\n",
        "                time_series_fields=[\n",
        "                    FieldName.FEAT_AGE,\n",
        "                    FieldName.FEAT_DYNAMIC_REAL,\n",
        "                    FieldName.OBSERVED_VALUES,\n",
        "                ],\n",
        "            ),\n",
        "        ]\n",
        "    )"
      ],
      "execution_count": 58,
      "outputs": []
    },
    {
      "cell_type": "code",
      "metadata": {
        "id": "rd1A0Wp6vf7Z",
        "colab_type": "code",
        "colab": {}
      },
      "source": [
        "transformation = create_transformation(custom_ds_metadata['freq'],\n",
        "                                       2 * custom_ds_metadata['prediction_length'], # can be any appropriate value\n",
        "                                       custom_ds_metadata['prediction_length'])"
      ],
      "execution_count": 59,
      "outputs": []
    },
    {
      "cell_type": "markdown",
      "metadata": {
        "id": "2bk3idTxv6SU",
        "colab_type": "text"
      },
      "source": [
        "When is_train=True in the transformation, the InstanceSplitter iterates over the transformed dataset and cuts windows by selecting randomly a time series and a starting point on that time series (this “randomness” is defined by the train_sampler)."
      ]
    },
    {
      "cell_type": "code",
      "metadata": {
        "id": "6DW7CXfLvlmd",
        "colab_type": "code",
        "colab": {
          "base_uri": "https://localhost:8080/",
          "height": 37
        },
        "outputId": "d50075bd-97dd-4853-866b-a4b5c54a137f"
      },
      "source": [
        "train_tf = transformation(iter(train_ds), is_train=True)\n",
        "type(train_tf)"
      ],
      "execution_count": 60,
      "outputs": [
        {
          "output_type": "execute_result",
          "data": {
            "text/plain": [
              "generator"
            ]
          },
          "metadata": {
            "tags": []
          },
          "execution_count": 60
        }
      ]
    },
    {
      "cell_type": "code",
      "metadata": {
        "id": "T1mir5Q0vvgp",
        "colab_type": "code",
        "colab": {
          "base_uri": "https://localhost:8080/",
          "height": 277
        },
        "outputId": "c4f79d07-8c27-47a2-867e-07efb905fde1"
      },
      "source": [
        "train_tf_entry = next(iter(train_tf))\n",
        "[k for k in train_tf_entry.keys()]"
      ],
      "execution_count": 61,
      "outputs": [
        {
          "output_type": "execute_result",
          "data": {
            "text/plain": [
              "['start',\n",
              " 'feat_static_cat',\n",
              " 'source',\n",
              " 'past_feat_dynamic_age',\n",
              " 'future_feat_dynamic_age',\n",
              " 'past_feat_dynamic_real',\n",
              " 'future_feat_dynamic_real',\n",
              " 'past_observed_values',\n",
              " 'future_observed_values',\n",
              " 'past_target',\n",
              " 'future_target',\n",
              " 'past_is_pad',\n",
              " 'forecast_start']"
            ]
          },
          "metadata": {
            "tags": []
          },
          "execution_count": 61
        }
      ]
    },
    {
      "cell_type": "markdown",
      "metadata": {
        "id": "jsQPwM-MwCFS",
        "colab_type": "text"
      },
      "source": [
        "The transformer has done what we asked. In particular it has added:\n",
        "* a field for observed values (`observed_values`)\n",
        "* a field for the age feature (`feat_dynamic_age`)\n",
        "* some extra useful fields (`past_is_pad`, `forecast_start`)\n",
        "\n",
        "It has done one more important thing: it has split the window into past and future and has added the corresponding prefixes to all time dependent fields. This way we can easily use e.g., the `past_target` field as input and the `future_target` field to calculate the error of our predictions. Of course, the length of the past is equal to the `context_length` and of the future equal to the `prediction_length`"
      ]
    },
    {
      "cell_type": "code",
      "metadata": {
        "id": "Sw9Jjv8twX6M",
        "colab_type": "code",
        "colab": {
          "base_uri": "https://localhost:8080/",
          "height": 157
        },
        "outputId": "2c5e3829-39f3-42b2-c933-e47517e011a7"
      },
      "source": [
        "print(f\"past target shape: {train_tf_entry['past_target'].shape}\")\n",
        "print(f\"future target shape: {train_tf_entry['future_target'].shape}\")\n",
        "print(f\"past observed values shape: {train_tf_entry['past_observed_values'].shape}\")\n",
        "print(f\"future observed values shape: {train_tf_entry['future_observed_values'].shape}\")\n",
        "print(f\"past age feature shape: {train_tf_entry['past_feat_dynamic_age'].shape}\")\n",
        "print(f\"future age feature shape: {train_tf_entry['future_feat_dynamic_age'].shape}\")\n",
        "print(train_tf_entry['feat_static_cat'])"
      ],
      "execution_count": 62,
      "outputs": [
        {
          "output_type": "stream",
          "text": [
            "past target shape: (48,)\n",
            "future target shape: (24,)\n",
            "past observed values shape: (48,)\n",
            "future observed values shape: (24,)\n",
            "past age feature shape: (48, 1)\n",
            "future age feature shape: (24, 1)\n",
            "[0]\n"
          ],
          "name": "stdout"
        }
      ]
    },
    {
      "cell_type": "code",
      "metadata": {
        "id": "4fLLPMbnwZMO",
        "colab_type": "code",
        "colab": {
          "base_uri": "https://localhost:8080/",
          "height": 37
        },
        "outputId": "11e80144-f602-498c-db7e-015205c69bc7"
      },
      "source": [
        "[k for k in next(iter(train_ds)).keys()]"
      ],
      "execution_count": 63,
      "outputs": [
        {
          "output_type": "execute_result",
          "data": {
            "text/plain": [
              "['target', 'start', 'feat_dynamic_real', 'feat_static_cat', 'source']"
            ]
          },
          "metadata": {
            "tags": []
          },
          "execution_count": 63
        }
      ]
    },
    {
      "cell_type": "code",
      "metadata": {
        "id": "TaZLf6N0wlMY",
        "colab_type": "code",
        "colab": {
          "base_uri": "https://localhost:8080/",
          "height": 277
        },
        "outputId": "8234816a-c6e4-43b4-d56f-ef69a602e785"
      },
      "source": [
        "test_tf = transformation(iter(test_ds), is_train=False)\n",
        "test_tf_entry = next(iter(test_tf))\n",
        "[k for k in test_tf_entry.keys()]"
      ],
      "execution_count": 64,
      "outputs": [
        {
          "output_type": "execute_result",
          "data": {
            "text/plain": [
              "['start',\n",
              " 'feat_static_cat',\n",
              " 'source',\n",
              " 'past_feat_dynamic_age',\n",
              " 'future_feat_dynamic_age',\n",
              " 'past_feat_dynamic_real',\n",
              " 'future_feat_dynamic_real',\n",
              " 'past_observed_values',\n",
              " 'future_observed_values',\n",
              " 'past_target',\n",
              " 'future_target',\n",
              " 'past_is_pad',\n",
              " 'forecast_start']"
            ]
          },
          "metadata": {
            "tags": []
          },
          "execution_count": 64
        }
      ]
    },
    {
      "cell_type": "code",
      "metadata": {
        "id": "LmP8REAawnjk",
        "colab_type": "code",
        "colab": {
          "base_uri": "https://localhost:8080/",
          "height": 157
        },
        "outputId": "9d7d274f-b5a7-4fed-ec8f-e61e1e4ebb30"
      },
      "source": [
        "print(f\"past target shape: {test_tf_entry['past_target'].shape}\")\n",
        "print(f\"future target shape: {test_tf_entry['future_target'].shape}\")\n",
        "print(f\"past observed values shape: {test_tf_entry['past_observed_values'].shape}\")\n",
        "print(f\"future observed values shape: {test_tf_entry['future_observed_values'].shape}\")\n",
        "print(f\"past age feature shape: {test_tf_entry['past_feat_dynamic_age'].shape}\")\n",
        "print(f\"future age feature shape: {test_tf_entry['future_feat_dynamic_age'].shape}\")\n",
        "print(test_tf_entry['feat_static_cat'])"
      ],
      "execution_count": 65,
      "outputs": [
        {
          "output_type": "stream",
          "text": [
            "past target shape: (48,)\n",
            "future target shape: (0,)\n",
            "past observed values shape: (48,)\n",
            "future observed values shape: (0,)\n",
            "past age feature shape: (48, 1)\n",
            "future age feature shape: (24, 1)\n",
            "[0]\n"
          ],
          "name": "stdout"
        }
      ]
    },
    {
      "cell_type": "code",
      "metadata": {
        "id": "I6CdtnQL0qY9",
        "colab_type": "code",
        "colab": {
          "base_uri": "https://localhost:8080/",
          "height": 137
        },
        "outputId": "bbecd7aa-f688-4367-f75b-950ec50e2f28"
      },
      "source": [
        "from gluonts.model.simple_feedforward import SimpleFeedForwardEstimator\n",
        "from gluonts.trainer import Trainer\n",
        "\n",
        "estimator = SimpleFeedForwardEstimator(\n",
        "    num_hidden_dimensions=[10],\n",
        "    prediction_length=custom_ds_metadata['prediction_length'],\n",
        "    context_length=2*custom_ds_metadata['prediction_length'],\n",
        "    freq=custom_ds_metadata['freq'],\n",
        "    trainer=Trainer(ctx=\"cpu\",\n",
        "                    epochs=5,\n",
        "                    learning_rate=1e-3,\n",
        "                    hybridize=False,\n",
        "                    num_batches_per_epoch=100\n",
        "                   )\n",
        ")\n",
        "\n",
        "predictor = estimator.train(train_ds)"
      ],
      "execution_count": 66,
      "outputs": [
        {
          "output_type": "stream",
          "text": [
            "\r  0%|          | 0/100 [00:00<?, ?it/s]"
          ],
          "name": "stderr"
        },
        {
          "output_type": "stream",
          "text": [
            "learning rate from ``lr_scheduler`` has been overwritten by ``learning_rate`` in optimizer.\n"
          ],
          "name": "stdout"
        },
        {
          "output_type": "stream",
          "text": [
            "100%|██████████| 100/100 [00:00<00:00, 107.93it/s, epoch=1/5, avg_epoch_loss=1.28]\n",
            "100%|██████████| 100/100 [00:00<00:00, 109.42it/s, epoch=2/5, avg_epoch_loss=0.748]\n",
            "100%|██████████| 100/100 [00:00<00:00, 108.60it/s, epoch=3/5, avg_epoch_loss=0.683]\n",
            "100%|██████████| 100/100 [00:00<00:00, 110.63it/s, epoch=4/5, avg_epoch_loss=0.635]\n",
            "100%|██████████| 100/100 [00:00<00:00, 111.75it/s, epoch=5/5, avg_epoch_loss=0.614]\n"
          ],
          "name": "stderr"
        }
      ]
    },
    {
      "cell_type": "markdown",
      "metadata": {
        "id": "X67drd6FLoTn",
        "colab_type": "text"
      },
      "source": [
        "GluonTS comes with the make_evaluation_predictions function that automates the process of prediction and model evaluation. Roughly, this function performs the following steps:\n",
        "* Removes the final window of length `prediction_length` of the dataset.test that we want to predict\n",
        "* The estimator uses the __remaining data to predict (in the form of sample paths) the \"future\" window that was just removed__\n",
        "* The module outputs the __forecast sample paths__ and the __dataset.test__ (as python generator objects)"
      ]
    },
    {
      "cell_type": "markdown",
      "metadata": {
        "id": "df3CfRcOTtm1",
        "colab_type": "text"
      },
      "source": [
        "# Predictions"
      ]
    },
    {
      "cell_type": "code",
      "metadata": {
        "id": "i_fiuyrS6BxE",
        "colab_type": "code",
        "colab": {}
      },
      "source": [
        "from gluonts.evaluation.backtest import make_evaluation_predictions"
      ],
      "execution_count": 83,
      "outputs": []
    },
    {
      "cell_type": "code",
      "metadata": {
        "id": "oC9nOkdv6Fuv",
        "colab_type": "code",
        "colab": {}
      },
      "source": [
        "forecast_it, ts_it = make_evaluation_predictions(\n",
        "    dataset=test_ds,  # test dataset\n",
        "    predictor=predictor,  # predictor\n",
        "    num_samples=100,  # number of sample paths we want for evaluation\n",
        ")"
      ],
      "execution_count": 68,
      "outputs": []
    },
    {
      "cell_type": "markdown",
      "metadata": {
        "id": "axmXkAPmMPuw",
        "colab_type": "text"
      },
      "source": [
        "First, we can convert these generators to lists to ease the subsequent computations."
      ]
    },
    {
      "cell_type": "code",
      "metadata": {
        "id": "4GQnjTeV6IZS",
        "colab_type": "code",
        "colab": {}
      },
      "source": [
        "forecasts = list(forecast_it)\n",
        "tss = list(ts_it)\n",
        "#tss"
      ],
      "execution_count": 82,
      "outputs": []
    },
    {
      "cell_type": "code",
      "metadata": {
        "id": "FBxnFRI06UQh",
        "colab_type": "code",
        "colab": {
          "base_uri": "https://localhost:8080/",
          "height": 57
        },
        "outputId": "7ebf2f4d-9739-42f8-e70c-d1bbdaa2c822"
      },
      "source": [
        "# first entry of the time series list\n",
        "# We expect the first entry of tss to contain the (target of the) first time series of test_ds.\n",
        "ts_entry = tss[0]\n",
        "\n",
        "# first 5 values of the time series (convert from pandas to numpy)\n",
        "np.array(ts_entry[:5]).reshape(-1,)"
      ],
      "execution_count": 70,
      "outputs": [
        {
          "output_type": "execute_result",
          "data": {
            "text/plain": [
              "array([ 0.40194348,  0.29920882,  0.21578501,  0.28834894, -0.02217778],\n",
              "      dtype=float32)"
            ]
          },
          "metadata": {
            "tags": []
          },
          "execution_count": 70
        }
      ]
    },
    {
      "cell_type": "code",
      "metadata": {
        "id": "7e-uMGmc6j1d",
        "colab_type": "code",
        "colab": {
          "base_uri": "https://localhost:8080/",
          "height": 57
        },
        "outputId": "40efb7b4-58c8-4303-9977-a80c16e19e33"
      },
      "source": [
        "# first entry of test_ds\n",
        "test_ds_entry = next(iter(test_ds))\n",
        "\n",
        "# first 5 values\n",
        "test_ds_entry['target'][:5]"
      ],
      "execution_count": 71,
      "outputs": [
        {
          "output_type": "execute_result",
          "data": {
            "text/plain": [
              "array([ 0.40194348,  0.29920882,  0.21578501,  0.28834894, -0.02217778],\n",
              "      dtype=float32)"
            ]
          },
          "metadata": {
            "tags": []
          },
          "execution_count": 71
        }
      ]
    },
    {
      "cell_type": "code",
      "metadata": {
        "id": "UVdyf7P66rwD",
        "colab_type": "code",
        "colab": {
          "base_uri": "https://localhost:8080/",
          "height": 97
        },
        "outputId": "be2380bc-04fe-436a-9216-d8112fc8b64b"
      },
      "source": [
        "# first entry of the forecast list\n",
        "forecast_entry = forecasts[0]\n",
        "\n",
        "print(f\"Number of sample paths: {forecast_entry.num_samples}\")\n",
        "print(f\"Dimension of samples: {forecast_entry.samples.shape}\")\n",
        "print(f\"Start date of the forecast window: {forecast_entry.start_date}\")\n",
        "print(f\"Frequency of the time series: {forecast_entry.freq}\")"
      ],
      "execution_count": 72,
      "outputs": [
        {
          "output_type": "stream",
          "text": [
            "Number of sample paths: 100\n",
            "Dimension of samples: (100, 24)\n",
            "Start date of the forecast window: 2019-01-07 00:00:00\n",
            "Frequency of the time series: 1H\n"
          ],
          "name": "stdout"
        }
      ]
    },
    {
      "cell_type": "code",
      "metadata": {
        "id": "rwPK9ISW62Ek",
        "colab_type": "code",
        "colab": {
          "base_uri": "https://localhost:8080/",
          "height": 217
        },
        "outputId": "e1374bf5-29b1-47f4-8852-d8101006d92b"
      },
      "source": [
        "print(f\"Mean of the future window:\\n {forecast_entry.mean}\")\n",
        "print(f\"0.5-quantile (median) of the future window:\\n {forecast_entry.quantile(0.5)}\")"
      ],
      "execution_count": 73,
      "outputs": [
        {
          "output_type": "stream",
          "text": [
            "Mean of the future window:\n",
            " [ 0.7687885   0.57479066  0.42558858  0.35770085 -0.03998543  0.01786965\n",
            "  0.04216652  0.16436006  0.3055727   0.57480365  0.68381876  0.92868805\n",
            "  1.1378901   1.4839767   1.6699803   1.8055857   2.1092532   1.9813521\n",
            "  1.8803532   1.9119743   1.8196814   1.4288113   1.315247    1.168612  ]\n",
            "0.5-quantile (median) of the future window:\n",
            " [ 0.7709384   0.5722398   0.37283054  0.41722664 -0.04640997  0.07672715\n",
            "  0.02357208  0.17925902  0.32135636  0.5326626   0.72498083  1.0249072\n",
            "  1.1320527   1.4835811   1.6571349   1.754259    2.0429163   1.9488655\n",
            "  1.8956212   1.9338121   1.8165689   1.5020033   1.3492587   1.1550597 ]\n"
          ],
          "name": "stdout"
        }
      ]
    },
    {
      "cell_type": "code",
      "metadata": {
        "id": "Cs_6eI10661w",
        "colab_type": "code",
        "colab": {}
      },
      "source": [
        "def plot_prob_forecasts(ts_entry, forecast_entry):\n",
        "    plot_length = 150\n",
        "    prediction_intervals = (50.0, 90.0)\n",
        "    legend = [\"observations\", \"median prediction\"] + [f\"{k}% prediction interval\" for k in prediction_intervals][::-1]\n",
        "\n",
        "    fig, ax = plt.subplots(1, 1, figsize=(10, 7))\n",
        "    ts_entry[-plot_length:].plot(ax=ax)  # plot the time series\n",
        "    forecast_entry.plot(prediction_intervals=prediction_intervals, color='g')\n",
        "    plt.grid(which=\"both\")\n",
        "    plt.legend(legend, loc=\"upper left\")\n",
        "    plt.show()"
      ],
      "execution_count": 74,
      "outputs": []
    },
    {
      "cell_type": "code",
      "metadata": {
        "id": "lEWw8uUB6-Bo",
        "colab_type": "code",
        "colab": {
          "base_uri": "https://localhost:8080/",
          "height": 450
        },
        "outputId": "a76ead9a-981e-4f6a-d800-cc6ea5b1d332"
      },
      "source": [
        "plot_prob_forecasts(ts_entry, forecast_entry)"
      ],
      "execution_count": 75,
      "outputs": [
        {
          "output_type": "display_data",
          "data": {
            "image/png": "[encoded data removed]",
            "text/plain": [
              "<Figure size 720x504 with 1 Axes>"
            ]
          },
          "metadata": {
            "tags": [],
            "needs_background": "light"
          }
        }
      ]
    },
    {
      "cell_type": "markdown",
      "metadata": {
        "id": "DzXthZS7T0ji",
        "colab_type": "text"
      },
      "source": [
        "## Metrics for evaluation"
      ]
    },
    {
      "cell_type": "code",
      "metadata": {
        "id": "ZO68E2X97B7j",
        "colab_type": "code",
        "colab": {}
      },
      "source": [
        "from gluonts.evaluation import Evaluator"
      ],
      "execution_count": 76,
      "outputs": []
    },
    {
      "cell_type": "code",
      "metadata": {
        "id": "_5Hi6sHf7Fc2",
        "colab_type": "code",
        "colab": {
          "base_uri": "https://localhost:8080/",
          "height": 37
        },
        "outputId": "b4ead305-4015-44e7-c4c1-e60e50608a58"
      },
      "source": [
        "evaluator = Evaluator(quantiles=[0.1, 0.5, 0.9])\n",
        "agg_metrics, item_metrics = evaluator(iter(tss), iter(forecasts), num_series=len(test_ds))"
      ],
      "execution_count": 77,
      "outputs": [
        {
          "output_type": "stream",
          "text": [
            "Running evaluation: 100%|██████████| 100/100 [00:00<00:00, 4204.44it/s]\n"
          ],
          "name": "stderr"
        }
      ]
    },
    {
      "cell_type": "code",
      "metadata": {
        "id": "iIfp_8TV7Gha",
        "colab_type": "code",
        "colab": {
          "base_uri": "https://localhost:8080/",
          "height": 537
        },
        "outputId": "c3e09899-b69d-4293-aa9f-1183670a2556"
      },
      "source": [
        "print(json.dumps(agg_metrics, indent=4))"
      ],
      "execution_count": 78,
      "outputs": [
        {
          "output_type": "stream",
          "text": [
            "{\n",
            "    \"MSE\": 0.12162884215513863,\n",
            "    \"abs_error\": 665.8266272544861,\n",
            "    \"abs_target_sum\": 2509.9790267944336,\n",
            "    \"abs_target_mean\": 1.0458245944976805,\n",
            "    \"seasonal_error\": 0.3390809672673543,\n",
            "    \"MASE\": 0.8222465866000758,\n",
            "    \"MAPE\": 1.775539882557497,\n",
            "    \"sMAPE\": 0.5514238612174842,\n",
            "    \"OWA\": NaN,\n",
            "    \"MSIS\": 7.320265780281107,\n",
            "    \"QuantileLoss[0.1]\": 297.9266677971929,\n",
            "    \"Coverage[0.1]\": 0.11375000000000002,\n",
            "    \"QuantileLoss[0.5]\": 665.8266295599751,\n",
            "    \"Coverage[0.5]\": 0.5091666666666665,\n",
            "    \"QuantileLoss[0.9]\": 307.3730945164337,\n",
            "    \"Coverage[0.9]\": 0.8795833333333336,\n",
            "    \"RMSE\": 0.34875326830746495,\n",
            "    \"NRMSE\": 0.3334720469783697,\n",
            "    \"ND\": 0.2652717891849608,\n",
            "    \"wQuantileLoss[0.1]\": 0.11869687539886882,\n",
            "    \"wQuantileLoss[0.5]\": 0.26527179010349,\n",
            "    \"wQuantileLoss[0.9]\": 0.12246042346775651,\n",
            "    \"mean_wQuantileLoss\": 0.16880969632337176,\n",
            "    \"MAE_Coverage\": 0.014444444444444324\n",
            "}\n"
          ],
          "name": "stdout"
        }
      ]
    },
    {
      "cell_type": "code",
      "metadata": {
        "id": "iJ3EbtZa7Jty",
        "colab_type": "code",
        "colab": {
          "base_uri": "https://localhost:8080/",
          "height": 224
        },
        "outputId": "2f129432-9d36-4f86-beab-be7dd3cf3791"
      },
      "source": [
        "item_metrics.head()"
      ],
      "execution_count": 79,
      "outputs": [
        {
          "output_type": "execute_result",
          "data": {
            "text/html": [
              "<div>\n",
              "<style scoped>\n",
              "    .dataframe tbody tr th:only-of-type {\n",
              "        vertical-align: middle;\n",
              "    }\n",
              "\n",
              "    .dataframe tbody tr th {\n",
              "        vertical-align: top;\n",
              "    }\n",
              "\n",
              "    .dataframe thead th {\n",
              "        text-align: right;\n",
              "    }\n",
              "</style>\n",
              "<table border=\"1\" class=\"dataframe\">\n",
              "  <thead>\n",
              "    <tr style=\"text-align: right;\">\n",
              "      <th></th>\n",
              "      <th>item_id</th>\n",
              "      <th>MSE</th>\n",
              "      <th>abs_error</th>\n",
              "      <th>abs_target_sum</th>\n",
              "      <th>abs_target_mean</th>\n",
              "      <th>seasonal_error</th>\n",
              "      <th>MASE</th>\n",
              "      <th>MAPE</th>\n",
              "      <th>sMAPE</th>\n",
              "      <th>OWA</th>\n",
              "      <th>MSIS</th>\n",
              "      <th>QuantileLoss[0.1]</th>\n",
              "      <th>Coverage[0.1]</th>\n",
              "      <th>QuantileLoss[0.5]</th>\n",
              "      <th>Coverage[0.5]</th>\n",
              "      <th>QuantileLoss[0.9]</th>\n",
              "      <th>Coverage[0.9]</th>\n",
              "    </tr>\n",
              "  </thead>\n",
              "  <tbody>\n",
              "    <tr>\n",
              "      <th>0</th>\n",
              "      <td>NaN</td>\n",
              "      <td>0.082750</td>\n",
              "      <td>5.121516</td>\n",
              "      <td>24.381290</td>\n",
              "      <td>1.015887</td>\n",
              "      <td>0.372056</td>\n",
              "      <td>0.573561</td>\n",
              "      <td>0.920208</td>\n",
              "      <td>0.471269</td>\n",
              "      <td>NaN</td>\n",
              "      <td>4.194084</td>\n",
              "      <td>2.953334</td>\n",
              "      <td>0.083333</td>\n",
              "      <td>5.121517</td>\n",
              "      <td>0.458333</td>\n",
              "      <td>2.380882</td>\n",
              "      <td>1.000000</td>\n",
              "    </tr>\n",
              "    <tr>\n",
              "      <th>1</th>\n",
              "      <td>NaN</td>\n",
              "      <td>0.080070</td>\n",
              "      <td>5.765226</td>\n",
              "      <td>24.990339</td>\n",
              "      <td>1.041264</td>\n",
              "      <td>0.305420</td>\n",
              "      <td>0.786516</td>\n",
              "      <td>0.511279</td>\n",
              "      <td>0.394038</td>\n",
              "      <td>NaN</td>\n",
              "      <td>3.713232</td>\n",
              "      <td>2.194221</td>\n",
              "      <td>0.125000</td>\n",
              "      <td>5.765227</td>\n",
              "      <td>0.458333</td>\n",
              "      <td>2.297045</td>\n",
              "      <td>0.916667</td>\n",
              "    </tr>\n",
              "    <tr>\n",
              "      <th>2</th>\n",
              "      <td>NaN</td>\n",
              "      <td>0.090272</td>\n",
              "      <td>5.375115</td>\n",
              "      <td>26.256813</td>\n",
              "      <td>1.094034</td>\n",
              "      <td>0.325431</td>\n",
              "      <td>0.688205</td>\n",
              "      <td>0.630792</td>\n",
              "      <td>0.558952</td>\n",
              "      <td>NaN</td>\n",
              "      <td>7.593437</td>\n",
              "      <td>2.223640</td>\n",
              "      <td>0.041667</td>\n",
              "      <td>5.375115</td>\n",
              "      <td>0.541667</td>\n",
              "      <td>3.765395</td>\n",
              "      <td>0.833333</td>\n",
              "    </tr>\n",
              "    <tr>\n",
              "      <th>3</th>\n",
              "      <td>NaN</td>\n",
              "      <td>0.132005</td>\n",
              "      <td>7.045155</td>\n",
              "      <td>26.670816</td>\n",
              "      <td>1.111284</td>\n",
              "      <td>0.336027</td>\n",
              "      <td>0.873586</td>\n",
              "      <td>0.604077</td>\n",
              "      <td>0.482731</td>\n",
              "      <td>NaN</td>\n",
              "      <td>8.799925</td>\n",
              "      <td>3.113174</td>\n",
              "      <td>0.208333</td>\n",
              "      <td>7.045155</td>\n",
              "      <td>0.375000</td>\n",
              "      <td>3.305107</td>\n",
              "      <td>0.791667</td>\n",
              "    </tr>\n",
              "    <tr>\n",
              "      <th>4</th>\n",
              "      <td>NaN</td>\n",
              "      <td>0.149351</td>\n",
              "      <td>7.953507</td>\n",
              "      <td>24.797359</td>\n",
              "      <td>1.033223</td>\n",
              "      <td>0.342568</td>\n",
              "      <td>0.967386</td>\n",
              "      <td>0.928238</td>\n",
              "      <td>0.534840</td>\n",
              "      <td>NaN</td>\n",
              "      <td>10.160505</td>\n",
              "      <td>3.785291</td>\n",
              "      <td>0.208333</td>\n",
              "      <td>7.953507</td>\n",
              "      <td>0.583333</td>\n",
              "      <td>3.099930</td>\n",
              "      <td>0.916667</td>\n",
              "    </tr>\n",
              "  </tbody>\n",
              "</table>\n",
              "</div>"
            ],
            "text/plain": [
              "   item_id       MSE  ...  QuantileLoss[0.9]  Coverage[0.9]\n",
              "0      NaN  0.082750  ...           2.380882       1.000000\n",
              "1      NaN  0.080070  ...           2.297045       0.916667\n",
              "2      NaN  0.090272  ...           3.765395       0.833333\n",
              "3      NaN  0.132005  ...           3.305107       0.791667\n",
              "4      NaN  0.149351  ...           3.099930       0.916667\n",
              "\n",
              "[5 rows x 17 columns]"
            ]
          },
          "metadata": {
            "tags": []
          },
          "execution_count": 79
        }
      ]
    },
    {
      "cell_type": "code",
      "metadata": {
        "id": "p00MpzlA7Usn",
        "colab_type": "code",
        "colab": {
          "base_uri": "https://localhost:8080/",
          "height": 279
        },
        "outputId": "90eeaa8a-19b0-4d4c-ef51-78bf8f5f6041"
      },
      "source": [
        "item_metrics.plot(x='MSIS', y='MASE', kind='scatter')\n",
        "plt.grid(which=\"both\")\n",
        "plt.show()"
      ],
      "execution_count": 80,
      "outputs": [
        {
          "output_type": "display_data",
          "data": {
            "image/png": "[encoded data removed]",
            "text/plain": [
              "<Figure size 432x288 with 1 Axes>"
            ]
          },
          "metadata": {
            "tags": [],
            "needs_background": "light"
          }
        }
      ]
    },
    {
      "cell_type": "markdown",
      "metadata": {
        "id": "r4JQZENfUj2Y",
        "colab_type": "text"
      },
      "source": [
        "# Probabilistic forecasting\n",
        "\n",
        "* Probabilistic forecasting requires that __we learn the distribution of the future values of the time series__ and not the values themselves as in point forecasting. \n",
        "* To achieve this, we need to __specify the type of distribution__ that the future values follow. \n",
        "  * GluonTS comes with a number of different distributions that cover many use cases, such as __Gaussian, Student-t and Uniform__ just to name a few.\n",
        "* In order to learn a distribution __we need to learn its parameters__. \n",
        "  * For example, in the simple case where we assume a __Gaussian__ distribution, we need to learn the __mean and the variance__ that fully specify the distribution.\n",
        "* Each distribution that is available in GluonTS is defined by the corresponding __Distribution__ class (e.g., Gaussian). \n",
        "  * This class defines -among others- the parameters of the distribution, __its (log-)likelihood and a sampling method__ (given the parameters).\n",
        "* Each distribution comes with a `DistributionOutput` class (e.g., GaussianOutput). The role of this class is to connect a model with a distribution. Its main usage is to take the output of the model and map it to the parameters of the distribution. "
      ]
    },
    {
      "cell_type": "markdown",
      "metadata": {
        "id": "3VBLwhiLbHJS",
        "colab_type": "text"
      },
      "source": [
        "## Changes to the point estimate models\n",
        "\n",
        "First, we need to change the output of the network. In the point forecast network the output was a vector of length prediction_length that gave directly the point estimates. Now, we need to output a set of features that the DistributionOutput will use to project to the distribution parameters. These features should be different for each time step at the prediction horizon. Therefore we need an overall output of prediction_length * num_features values.\n",
        "\n",
        "The DistributionOutput takes as input a tensor and uses the last dimension as features to be projected to the distribution parameters. Here, we need a distribution object for each time step, i.e., prediction_length distribution objects. Given that the output of the network has prediction_length * num_features values, we can reshape it to (prediction_length, num_features) and get the required distributions, while the last axis of length num_features will be projected to the distribution parameters.\n",
        "\n",
        "We want the prediction network to output many sample paths for each time series. To achieve this we can repeat each time series as many times as the number of sample paths and do a standard forecast for each of them."
      ]
    },
    {
      "cell_type": "code",
      "metadata": {
        "id": "dDWWTmZhbl4G",
        "colab_type": "code",
        "colab": {}
      },
      "source": [
        "from gluonts.distribution.distribution_output import DistributionOutput\n",
        "from gluonts.distribution.gaussian import GaussianOutput\n",
        "from gluonts.model.estimator import GluonEstimator\n",
        "from gluonts.model.predictor import Predictor, RepresentableBlockPredictor\n",
        "from gluonts.core.component import validated\n",
        "from gluonts.trainer import Trainer\n",
        "from gluonts.support.util import copy_parameters\n",
        "from gluonts.transform import ExpectedNumInstanceSampler, Transformation, InstanceSplitter\n",
        "from mxnet.gluon import HybridBlock"
      ],
      "execution_count": 89,
      "outputs": []
    },
    {
      "cell_type": "code",
      "metadata": {
        "id": "K1P6WLqgbob-",
        "colab_type": "code",
        "colab": {}
      },
      "source": [
        "class MyProbNetwork(gluon.HybridBlock):\n",
        "    def __init__(self,\n",
        "                 prediction_length,\n",
        "                 distr_output,\n",
        "                 num_cells,\n",
        "                 num_sample_paths=100,\n",
        "                 **kwargs\n",
        "    ) -> None:\n",
        "        super().__init__(**kwargs)\n",
        "        self.prediction_length = prediction_length\n",
        "        self.distr_output = distr_output\n",
        "        self.num_cells = num_cells\n",
        "        self.num_sample_paths = num_sample_paths\n",
        "        self.proj_distr_args = distr_output.get_args_proj()\n",
        "\n",
        "        with self.name_scope():\n",
        "            # Set up a 2 layer neural network that its ouput will be projected to the distribution parameters\n",
        "            self.nn = mx.gluon.nn.HybridSequential()\n",
        "            self.nn.add(mx.gluon.nn.Dense(units=self.num_cells, activation='relu'))\n",
        "            self.nn.add(mx.gluon.nn.Dense(units=self.prediction_length * self.num_cells, activation='relu'))"
      ],
      "execution_count": 85,
      "outputs": []
    },
    {
      "cell_type": "code",
      "metadata": {
        "id": "MBPNNNgwbwvW",
        "colab_type": "code",
        "colab": {}
      },
      "source": [
        "class MyProbTrainNetwork(MyProbNetwork):\n",
        "    def hybrid_forward(self, F, past_target, future_target):\n",
        "        # compute network output\n",
        "        net_output = self.nn(past_target)\n",
        "\n",
        "        # (batch, prediction_length * nn_features)  ->  (batch, prediction_length, nn_features)\n",
        "        net_output = net_output.reshape(0, self.prediction_length, -1)\n",
        "\n",
        "        # project network output to distribution parameters domain\n",
        "        distr_args = self.proj_distr_args(net_output)\n",
        "\n",
        "        # compute distribution\n",
        "        distr = self.distr_output.distribution(distr_args)\n",
        "\n",
        "        # negative log-likelihood\n",
        "        loss = distr.loss(future_target)\n",
        "        return loss"
      ],
      "execution_count": 86,
      "outputs": []
    },
    {
      "cell_type": "code",
      "metadata": {
        "id": "sXADUGVKb1ul",
        "colab_type": "code",
        "colab": {}
      },
      "source": [
        "class MyProbPredNetwork(MyProbTrainNetwork):\n",
        "    # The prediction network only receives past_target and returns predictions\n",
        "    def hybrid_forward(self, F, past_target):\n",
        "        # repeat past target: from (batch_size, past_target_length) to\n",
        "        # (batch_size * num_sample_paths, past_target_length)\n",
        "        repeated_past_target = past_target.repeat(\n",
        "            repeats=self.num_sample_paths, axis=0\n",
        "        )\n",
        "\n",
        "        # compute network output\n",
        "        net_output = self.nn(repeated_past_target)\n",
        "\n",
        "        # (batch * num_sample_paths, prediction_length * nn_features)  ->  (batch * num_sample_paths, prediction_length, nn_features)\n",
        "        net_output = net_output.reshape(0, self.prediction_length, -1)\n",
        "\n",
        "        # project network output to distribution parameters domain\n",
        "        distr_args = self.proj_distr_args(net_output)\n",
        "\n",
        "        # compute distribution\n",
        "        distr = self.distr_output.distribution(distr_args)\n",
        "\n",
        "        # get (batch_size * num_sample_paths, prediction_length) samples\n",
        "        samples = distr.sample()\n",
        "\n",
        "        # reshape from (batch_size * num_sample_paths, prediction_length) to\n",
        "        # (batch_size, num_sample_paths, prediction_length)\n",
        "        return samples.reshape(shape=(-1, self.num_sample_paths, self.prediction_length))"
      ],
      "execution_count": 87,
      "outputs": []
    },
    {
      "cell_type": "code",
      "metadata": {
        "id": "N1eYX7TYb9cp",
        "colab_type": "code",
        "colab": {}
      },
      "source": [
        "class MyProbEstimator(GluonEstimator):\n",
        "    @validated()\n",
        "    def __init__(\n",
        "            self,\n",
        "            prediction_length: int,\n",
        "            context_length: int,\n",
        "            freq: str,\n",
        "            distr_output: DistributionOutput,\n",
        "            num_cells: int,\n",
        "            num_sample_paths: int = 100,\n",
        "            trainer: Trainer = Trainer()\n",
        "    ) -> None:\n",
        "        super().__init__(trainer=trainer)\n",
        "        self.prediction_length = prediction_length\n",
        "        self.context_length = context_length\n",
        "        self.freq = freq\n",
        "        self.distr_output = distr_output\n",
        "        self.num_cells = num_cells\n",
        "        self.num_sample_paths = num_sample_paths\n",
        "\n",
        "    def create_transformation(self):\n",
        "        return InstanceSplitter(\n",
        "            target_field=FieldName.TARGET,\n",
        "            is_pad_field=FieldName.IS_PAD,\n",
        "            start_field=FieldName.START,\n",
        "            forecast_start_field=FieldName.FORECAST_START,\n",
        "            train_sampler=ExpectedNumInstanceSampler(num_instances=1),\n",
        "            past_length=self.context_length,\n",
        "            future_length=self.prediction_length,\n",
        "        )\n",
        "\n",
        "    def create_training_network(self) -> MyProbTrainNetwork:\n",
        "        return MyProbTrainNetwork(\n",
        "            prediction_length=self.prediction_length,\n",
        "            distr_output=self.distr_output,\n",
        "            num_cells=self.num_cells,\n",
        "            num_sample_paths=self.num_sample_paths\n",
        "        )\n",
        "\n",
        "    def create_predictor(\n",
        "            self, transformation: Transformation, trained_network: HybridBlock\n",
        "    ) -> Predictor:\n",
        "        prediction_network = MyProbPredNetwork(\n",
        "            prediction_length=self.prediction_length,\n",
        "            distr_output=self.distr_output,\n",
        "            num_cells=self.num_cells,\n",
        "            num_sample_paths=self.num_sample_paths\n",
        "        )\n",
        "\n",
        "        copy_parameters(trained_network, prediction_network)\n",
        "\n",
        "        return RepresentableBlockPredictor(\n",
        "            input_transform=transformation,\n",
        "            prediction_net=prediction_network,\n",
        "            batch_size=self.trainer.batch_size,\n",
        "            freq=self.freq,\n",
        "            prediction_length=self.prediction_length,\n",
        "            ctx=self.trainer.ctx,\n",
        "        )"
      ],
      "execution_count": 90,
      "outputs": []
    },
    {
      "cell_type": "markdown",
      "metadata": {
        "id": "1oBOj6ajcLrJ",
        "colab_type": "text"
      },
      "source": [
        "### Run the model"
      ]
    },
    {
      "cell_type": "code",
      "metadata": {
        "id": "xzYEzY_6cPjS",
        "colab_type": "code",
        "colab": {}
      },
      "source": [
        "estimator = MyProbEstimator(\n",
        "    prediction_length=custom_ds_metadata['prediction_length'],\n",
        "    context_length=2*custom_ds_metadata['prediction_length'],\n",
        "    freq=custom_ds_metadata['freq'],\n",
        "    distr_output=GaussianOutput(),\n",
        "    num_cells=40,\n",
        "    trainer=Trainer(ctx=\"cpu\",\n",
        "                    epochs=5,\n",
        "                    learning_rate=1e-3,\n",
        "                    hybridize=False,\n",
        "                    num_batches_per_epoch=100\n",
        "                   )\n",
        ")"
      ],
      "execution_count": 91,
      "outputs": []
    },
    {
      "cell_type": "code",
      "metadata": {
        "id": "d42lGJJJcT8T",
        "colab_type": "code",
        "colab": {
          "base_uri": "https://localhost:8080/",
          "height": 137
        },
        "outputId": "a3cef570-fa57-41d4-a569-8eb58bd25a45"
      },
      "source": [
        "\n",
        "predictor = estimator.train(train_ds)"
      ],
      "execution_count": 92,
      "outputs": [
        {
          "output_type": "stream",
          "text": [
            "\r  0%|          | 0/100 [00:00<?, ?it/s]"
          ],
          "name": "stderr"
        },
        {
          "output_type": "stream",
          "text": [
            "learning rate from ``lr_scheduler`` has been overwritten by ``learning_rate`` in optimizer.\n"
          ],
          "name": "stdout"
        },
        {
          "output_type": "stream",
          "text": [
            "100%|██████████| 100/100 [00:00<00:00, 136.17it/s, epoch=1/5, avg_epoch_loss=0.739]\n",
            "100%|██████████| 100/100 [00:00<00:00, 144.23it/s, epoch=2/5, avg_epoch_loss=0.405]\n",
            "100%|██████████| 100/100 [00:00<00:00, 141.18it/s, epoch=3/5, avg_epoch_loss=0.374]\n",
            "100%|██████████| 100/100 [00:00<00:00, 143.12it/s, epoch=4/5, avg_epoch_loss=0.354]\n",
            "100%|██████████| 100/100 [00:00<00:00, 140.49it/s, epoch=5/5, avg_epoch_loss=0.351]\n"
          ],
          "name": "stderr"
        }
      ]
    },
    {
      "cell_type": "code",
      "metadata": {
        "id": "WbuE9SqDcW14",
        "colab_type": "code",
        "colab": {}
      },
      "source": [
        "forecast_it, ts_it = make_evaluation_predictions(\n",
        "    dataset=test_ds,  # test dataset\n",
        "    predictor=predictor,  # predictor\n",
        "    num_samples=100,  # number of sample paths we want for evaluation\n",
        ")"
      ],
      "execution_count": 93,
      "outputs": []
    },
    {
      "cell_type": "code",
      "metadata": {
        "id": "3kUkFQFXca0K",
        "colab_type": "code",
        "colab": {}
      },
      "source": [
        "forecasts = list(forecast_it)\n",
        "tss = list(ts_it)"
      ],
      "execution_count": 94,
      "outputs": []
    },
    {
      "cell_type": "code",
      "metadata": {
        "id": "lzx397qCcef5",
        "colab_type": "code",
        "colab": {
          "base_uri": "https://localhost:8080/",
          "height": 450
        },
        "outputId": "0a89127b-6ad9-4135-96fe-870445aaec64"
      },
      "source": [
        "plot_prob_forecasts(tss[0], forecasts[0])"
      ],
      "execution_count": 95,
      "outputs": [
        {
          "output_type": "display_data",
          "data": {
            "image/png": "[encoded data removed]",
            "text/plain": [
              "<Figure size 720x504 with 1 Axes>"
            ]
          },
          "metadata": {
            "tags": [],
            "needs_background": "light"
          }
        }
      ]
    },
    {
      "cell_type": "markdown",
      "metadata": {
        "id": "zowPhQOYevK2",
        "colab_type": "text"
      },
      "source": [
        "## Add features and scaling\n",
        "In the previous networks __we used only the target__ and __did not leverage any of the features of the dataset__. Here we expand the probabilistic network by including the `feat_dynamic_real` field of the dataset that could enhance the forecasting power of our model. We achieve this by __concatenating the target and the features to an enhanced vector that forms the new network input__.\n",
        "\n",
        "All the __features__ that are available in a dataset can be potentially used as __inputs__ to our model. However, for the purposes of this example we will restrict ourselves to using only one feature.\n",
        "\n",
        "An important issue that a practitioner needs to deal with often is the __different orders of magnitude__ in the values of the time series in a dataset. It is extremely helpful for a model to be trained and forecast values that lie roughly in the same value range. To address this issue, we add a `Scaler` to out model, that computes the scale of each time series."
      ]
    },
    {
      "cell_type": "code",
      "metadata": {
        "id": "gnl5a41PfyfX",
        "colab_type": "code",
        "colab": {}
      },
      "source": [
        "from gluonts.block.scaler import MeanScaler, NOPScaler"
      ],
      "execution_count": 96,
      "outputs": []
    },
    {
      "cell_type": "code",
      "metadata": {
        "id": "yqOFyTwDfzRo",
        "colab_type": "code",
        "colab": {}
      },
      "source": [
        "class MyProbNetwork(gluon.HybridBlock):\n",
        "    def __init__(self,\n",
        "                 prediction_length,\n",
        "                 context_length,\n",
        "                 distr_output,\n",
        "                 num_cells,\n",
        "                 num_sample_paths=100,\n",
        "                 scaling=True,\n",
        "                 **kwargs\n",
        "    ) -> None:\n",
        "        super().__init__(**kwargs)\n",
        "        self.prediction_length = prediction_length\n",
        "        self.context_length = context_length\n",
        "        self.distr_output = distr_output\n",
        "        self.num_cells = num_cells\n",
        "        self.num_sample_paths = num_sample_paths\n",
        "        self.proj_distr_args = distr_output.get_args_proj()\n",
        "        self.scaling = scaling\n",
        "\n",
        "        with self.name_scope():\n",
        "            # Set up a 2 layer neural network that its ouput will be projected to the distribution parameters\n",
        "            self.nn = mx.gluon.nn.HybridSequential()\n",
        "            self.nn.add(mx.gluon.nn.Dense(units=self.num_cells, activation='relu'))\n",
        "            self.nn.add(mx.gluon.nn.Dense(units=self.prediction_length * self.num_cells, activation='relu'))\n",
        "\n",
        "            if scaling:\n",
        "                self.scaler = MeanScaler(keepdims=True)\n",
        "            else:\n",
        "                self.scaler = NOPScaler(keepdims=True)\n",
        "\n",
        "    def compute_scale(self, past_target, past_observed_values):\n",
        "        # scale shape is (batch_size, 1)\n",
        "        _, scale = self.scaler(\n",
        "            past_target.slice_axis(\n",
        "                axis=1, begin=-self.context_length, end=None\n",
        "            ),\n",
        "            past_observed_values.slice_axis(\n",
        "                axis=1, begin=-self.context_length, end=None\n",
        "            ),\n",
        "        )\n",
        "\n",
        "        return scale"
      ],
      "execution_count": 97,
      "outputs": []
    },
    {
      "cell_type": "code",
      "metadata": {
        "id": "N82gfDm3gALB",
        "colab_type": "code",
        "colab": {}
      },
      "source": [
        "class MyProbTrainNetwork(MyProbNetwork):\n",
        "    def hybrid_forward(self, F, past_target, future_target, past_observed_values, past_feat_dynamic_real):\n",
        "        # compute scale\n",
        "        scale = self.compute_scale(past_target, past_observed_values)\n",
        "\n",
        "        # scale target and time features\n",
        "        past_target_scale = F.broadcast_div(past_target, scale)\n",
        "        past_feat_dynamic_real_scale = F.broadcast_div(past_feat_dynamic_real.squeeze(axis=-1), scale)\n",
        "\n",
        "        # concatenate target and time features to use them as input to the network\n",
        "        net_input = F.concat(past_target_scale, past_feat_dynamic_real_scale, dim=-1)\n",
        "\n",
        "        # compute network output\n",
        "        net_output = self.nn(net_input)\n",
        "\n",
        "        # (batch, prediction_length * nn_features)  ->  (batch, prediction_length, nn_features)\n",
        "        net_output = net_output.reshape(0, self.prediction_length, -1)\n",
        "\n",
        "        # project network output to distribution parameters domain\n",
        "        distr_args = self.proj_distr_args(net_output)\n",
        "\n",
        "        # compute distribution\n",
        "        distr = self.distr_output.distribution(distr_args, scale=scale)\n",
        "\n",
        "        # negative log-likelihood\n",
        "        loss = distr.loss(future_target)\n",
        "        return loss"
      ],
      "execution_count": 98,
      "outputs": []
    },
    {
      "cell_type": "code",
      "metadata": {
        "id": "NTpPqGOYgFrw",
        "colab_type": "code",
        "colab": {}
      },
      "source": [
        "class MyProbPredNetwork(MyProbTrainNetwork):\n",
        "    # The prediction network only receives past_target and returns predictions\n",
        "    def hybrid_forward(self, F, past_target, past_observed_values, past_feat_dynamic_real):\n",
        "        # repeat fields: from (batch_size, past_target_length) to\n",
        "        # (batch_size * num_sample_paths, past_target_length)\n",
        "        repeated_past_target = past_target.repeat(\n",
        "            repeats=self.num_sample_paths, axis=0\n",
        "        )\n",
        "        repeated_past_observed_values = past_observed_values.repeat(\n",
        "            repeats=self.num_sample_paths, axis=0\n",
        "        )\n",
        "        repeated_past_feat_dynamic_real = past_feat_dynamic_real.repeat(\n",
        "            repeats=self.num_sample_paths, axis=0\n",
        "        )\n",
        "\n",
        "        # compute scale\n",
        "        scale = self.compute_scale(repeated_past_target, repeated_past_observed_values)\n",
        "\n",
        "        # scale repeated target and time features\n",
        "        repeated_past_target_scale = F.broadcast_div(repeated_past_target, scale)\n",
        "        repeated_past_feat_dynamic_real_scale = F.broadcast_div(repeated_past_feat_dynamic_real.squeeze(axis=-1), scale)\n",
        "\n",
        "        # concatenate target and time features to use them as input to the network\n",
        "        net_input = F.concat(repeated_past_target_scale, repeated_past_feat_dynamic_real_scale, dim=-1)\n",
        "\n",
        "        # compute network oputput\n",
        "        net_output = self.nn(net_input)\n",
        "\n",
        "        # (batch * num_sample_paths, prediction_length * nn_features)  ->  (batch * num_sample_paths, prediction_length, nn_features)\n",
        "        net_output = net_output.reshape(0, self.prediction_length, -1)\n",
        "\n",
        "        # project network output to distribution parameters domain\n",
        "        distr_args = self.proj_distr_args(net_output)\n",
        "\n",
        "        # compute distribution\n",
        "        distr = self.distr_output.distribution(distr_args, scale=scale)\n",
        "\n",
        "        # get (batch_size * num_sample_paths, prediction_length) samples\n",
        "        samples = distr.sample()\n",
        "\n",
        "        # reshape from (batch_size * num_sample_paths, prediction_length) to\n",
        "        # (batch_size, num_sample_paths, prediction_length)\n",
        "        return samples.reshape(shape=(-1, self.num_sample_paths, self.prediction_length))"
      ],
      "execution_count": 99,
      "outputs": []
    },
    {
      "cell_type": "code",
      "metadata": {
        "id": "E-_sEgWWgLJi",
        "colab_type": "code",
        "colab": {}
      },
      "source": [
        "class MyProbEstimator(GluonEstimator):\n",
        "    @validated()\n",
        "    def __init__(\n",
        "            self,\n",
        "            prediction_length: int,\n",
        "            context_length: int,\n",
        "            freq: str,\n",
        "            distr_output: DistributionOutput,\n",
        "            num_cells: int,\n",
        "            num_sample_paths: int = 100,\n",
        "            scaling: bool = True,\n",
        "            trainer: Trainer = Trainer()\n",
        "    ) -> None:\n",
        "        super().__init__(trainer=trainer)\n",
        "        self.prediction_length = prediction_length\n",
        "        self.context_length = context_length\n",
        "        self.freq = freq\n",
        "        self.distr_output = distr_output\n",
        "        self.num_cells = num_cells\n",
        "        self.num_sample_paths = num_sample_paths\n",
        "        self.scaling = scaling\n",
        "\n",
        "    def create_transformation(self):\n",
        "        # Feature transformation that the model uses for input.\n",
        "        return Chain(\n",
        "            [\n",
        "                AddObservedValuesIndicator(\n",
        "                    target_field=FieldName.TARGET,\n",
        "                    output_field=FieldName.OBSERVED_VALUES,\n",
        "                ),\n",
        "                InstanceSplitter(\n",
        "                    target_field=FieldName.TARGET,\n",
        "                    is_pad_field=FieldName.IS_PAD,\n",
        "                    start_field=FieldName.START,\n",
        "                    forecast_start_field=FieldName.FORECAST_START,\n",
        "                    train_sampler=ExpectedNumInstanceSampler(num_instances=1),\n",
        "                    past_length=self.context_length,\n",
        "                    future_length=self.prediction_length,\n",
        "                    time_series_fields=[\n",
        "                        FieldName.FEAT_DYNAMIC_REAL,\n",
        "                        FieldName.OBSERVED_VALUES,\n",
        "                    ],\n",
        "                ),\n",
        "\n",
        "            ]\n",
        "        )\n",
        "\n",
        "    def create_training_network(self) -> MyProbTrainNetwork:\n",
        "        return MyProbTrainNetwork(\n",
        "            prediction_length=self.prediction_length,\n",
        "            context_length=self.context_length,\n",
        "            distr_output=self.distr_output,\n",
        "            num_cells=self.num_cells,\n",
        "            num_sample_paths=self.num_sample_paths,\n",
        "            scaling=self.scaling\n",
        "        )\n",
        "\n",
        "    def create_predictor(\n",
        "            self, transformation: Transformation, trained_network: HybridBlock\n",
        "    ) -> Predictor:\n",
        "        prediction_network = MyProbPredNetwork(\n",
        "            prediction_length=self.prediction_length,\n",
        "            context_length=self.context_length,\n",
        "            distr_output=self.distr_output,\n",
        "            num_cells=self.num_cells,\n",
        "            num_sample_paths=self.num_sample_paths,\n",
        "            scaling=self.scaling\n",
        "        )\n",
        "\n",
        "        copy_parameters(trained_network, prediction_network)\n",
        "\n",
        "        return RepresentableBlockPredictor(\n",
        "            input_transform=transformation,\n",
        "            prediction_net=prediction_network,\n",
        "            batch_size=self.trainer.batch_size,\n",
        "            freq=self.freq,\n",
        "            prediction_length=self.prediction_length,\n",
        "            ctx=self.trainer.ctx,\n",
        "        )"
      ],
      "execution_count": 100,
      "outputs": []
    },
    {
      "cell_type": "code",
      "metadata": {
        "id": "2ZYksGOQgPiM",
        "colab_type": "code",
        "colab": {
          "base_uri": "https://localhost:8080/",
          "height": 570
        },
        "outputId": "801914e7-9d30-4c0b-f7d8-1cd4c4908e41"
      },
      "source": [
        "estimator = MyProbEstimator(\n",
        "    prediction_length=custom_ds_metadata['prediction_length'],\n",
        "    context_length=2*custom_ds_metadata['prediction_length'],\n",
        "    freq=custom_ds_metadata['freq'],\n",
        "    distr_output=GaussianOutput(),\n",
        "    num_cells=40,\n",
        "    trainer=Trainer(ctx=\"cpu\",\n",
        "                    epochs=5,\n",
        "                    learning_rate=1e-3,\n",
        "                    hybridize=False,\n",
        "                    num_batches_per_epoch=100\n",
        "                   )\n",
        ")\n",
        "\n",
        "predictor = estimator.train(train_ds)\n",
        "\n",
        "forecast_it, ts_it = make_evaluation_predictions(\n",
        "    dataset=test_ds,  # test dataset\n",
        "    predictor=predictor,  # predictor\n",
        "    num_samples=100,  # number of sample paths we want for evaluation\n",
        ")\n",
        "\n",
        "forecasts = list(forecast_it)\n",
        "tss = list(ts_it)\n",
        "\n",
        "plot_prob_forecasts(tss[0], forecasts[0])"
      ],
      "execution_count": 101,
      "outputs": [
        {
          "output_type": "stream",
          "text": [
            "\r  0%|          | 0/100 [00:00<?, ?it/s]"
          ],
          "name": "stderr"
        },
        {
          "output_type": "stream",
          "text": [
            "learning rate from ``lr_scheduler`` has been overwritten by ``learning_rate`` in optimizer.\n"
          ],
          "name": "stdout"
        },
        {
          "output_type": "stream",
          "text": [
            "100%|██████████| 100/100 [00:01<00:00, 95.42it/s, epoch=1/5, avg_epoch_loss=1.01]\n",
            "100%|██████████| 100/100 [00:01<00:00, 99.19it/s, epoch=2/5, avg_epoch_loss=0.572]\n",
            "100%|██████████| 100/100 [00:01<00:00, 99.98it/s, epoch=3/5, avg_epoch_loss=0.51]\n",
            "100%|██████████| 100/100 [00:01<00:00, 98.63it/s, epoch=4/5, avg_epoch_loss=0.462]\n",
            "100%|██████████| 100/100 [00:01<00:00, 96.90it/s, epoch=5/5, avg_epoch_loss=0.444]\n"
          ],
          "name": "stderr"
        },
        {
          "output_type": "display_data",
          "data": {
            "image/png": "[encoded data removed]",
            "text/plain": [
              "<Figure size 720x504 with 1 Axes>"
            ]
          },
          "metadata": {
            "tags": [],
            "needs_background": "light"
          }
        }
      ]
    }
  ]
}