{
  "nbformat": 4,
  "nbformat_minor": 0,
  "metadata": {
    "colab": {
      "name": "AdvancedGluonTS.ipynb",
      "provenance": [],
      "collapsed_sections": [],
      "authorship_tag": "ABX9TyN/PmZj+arloaYVREraPYvf",
      "include_colab_link": true
    },
    "kernelspec": {
      "name": "python3",
      "display_name": "Python 3"
    },
    "accelerator": "GPU"
  },
  "cells": [
    {
      "cell_type": "markdown",
      "metadata": {
        "id": "view-in-github",
        "colab_type": "text"
      },
      "source": [
        "<a href=\"https://colab.research.google.com/github/vikramkrishnan9885/MyColab/blob/master/AdvancedGluonTS.ipynb\" target=\"_parent\"><img src=\"https://colab.research.google.com/assets/colab-badge.svg\" alt=\"Open In Colab\"/></a>"
      ]
    },
    {
      "cell_type": "code",
      "metadata": {
        "id": "dNRh3ThgF5Sv",
        "colab_type": "code",
        "colab": {
          "base_uri": "https://localhost:8080/",
          "height": 1000
        },
        "outputId": "180e99b3-1d57-4db4-f900-2b9e9cbb85aa"
      },
      "source": [
        "!pip install ujson==1.35\n",
        "!pip install spacy==2.0.18 folium==0.2.1 imgaug==0.2.7\n",
        "!pip install --upgrade numpy\n",
        "!pip install -q mxnet-cu101\n",
        "!pip install gluonts\n",
        "\n",
        "!nvcc --version"
      ],
      "execution_count": 1,
      "outputs": [
        {
          "output_type": "stream",
          "text": [
            "Requirement already satisfied: ujson==1.35 in /usr/local/lib/python3.6/dist-packages (1.35)\n",
            "Requirement already satisfied: spacy==2.0.18 in /usr/local/lib/python3.6/dist-packages (2.0.18)\n",
            "Requirement already satisfied: folium==0.2.1 in /usr/local/lib/python3.6/dist-packages (0.2.1)\n",
            "Requirement already satisfied: imgaug==0.2.7 in /usr/local/lib/python3.6/dist-packages (0.2.7)\n",
            "Requirement already satisfied: regex==2018.01.10 in /usr/local/lib/python3.6/dist-packages (from spacy==2.0.18) (2018.1.10)\n",
            "Requirement already satisfied: requests<3.0.0,>=2.13.0 in /usr/local/lib/python3.6/dist-packages (from spacy==2.0.18) (2.23.0)\n",
            "Requirement already satisfied: dill<0.3,>=0.2 in /usr/local/lib/python3.6/dist-packages (from spacy==2.0.18) (0.2.9)\n",
            "Requirement already satisfied: plac<1.0.0,>=0.9.6 in /usr/local/lib/python3.6/dist-packages (from spacy==2.0.18) (0.9.6)\n",
            "Requirement already satisfied: ujson>=1.35 in /usr/local/lib/python3.6/dist-packages (from spacy==2.0.18) (1.35)\n",
            "Requirement already satisfied: thinc<6.13.0,>=6.12.1 in /usr/local/lib/python3.6/dist-packages (from spacy==2.0.18) (6.12.1)\n",
            "Requirement already satisfied: cymem<2.1.0,>=2.0.2 in /usr/local/lib/python3.6/dist-packages (from spacy==2.0.18) (2.0.3)\n",
            "Requirement already satisfied: numpy>=1.15.0 in /usr/local/lib/python3.6/dist-packages (from spacy==2.0.18) (1.19.1)\n",
            "Requirement already satisfied: murmurhash<1.1.0,>=0.28.0 in /usr/local/lib/python3.6/dist-packages (from spacy==2.0.18) (1.0.2)\n",
            "Requirement already satisfied: preshed<2.1.0,>=2.0.1 in /usr/local/lib/python3.6/dist-packages (from spacy==2.0.18) (2.0.1)\n",
            "Requirement already satisfied: Jinja2 in /usr/local/lib/python3.6/dist-packages (from folium==0.2.1) (2.11.2)\n",
            "Requirement already satisfied: Shapely in /usr/local/lib/python3.6/dist-packages (from imgaug==0.2.7) (1.7.0)\n",
            "Requirement already satisfied: scipy in /usr/local/lib/python3.6/dist-packages (from imgaug==0.2.7) (1.4.1)\n",
            "Requirement already satisfied: Pillow in /usr/local/lib/python3.6/dist-packages (from imgaug==0.2.7) (7.0.0)\n",
            "Requirement already satisfied: matplotlib in /usr/local/lib/python3.6/dist-packages (from imgaug==0.2.7) (3.2.2)\n",
            "Requirement already satisfied: six in /usr/local/lib/python3.6/dist-packages (from imgaug==0.2.7) (1.15.0)\n",
            "Requirement already satisfied: scikit-image>=0.11.0 in /usr/local/lib/python3.6/dist-packages (from imgaug==0.2.7) (0.16.2)\n",
            "Requirement already satisfied: imageio in /usr/local/lib/python3.6/dist-packages (from imgaug==0.2.7) (2.4.1)\n",
            "Requirement already satisfied: idna<3,>=2.5 in /usr/local/lib/python3.6/dist-packages (from requests<3.0.0,>=2.13.0->spacy==2.0.18) (2.10)\n",
            "Requirement already satisfied: chardet<4,>=3.0.2 in /usr/local/lib/python3.6/dist-packages (from requests<3.0.0,>=2.13.0->spacy==2.0.18) (3.0.4)\n",
            "Requirement already satisfied: certifi>=2017.4.17 in /usr/local/lib/python3.6/dist-packages (from requests<3.0.0,>=2.13.0->spacy==2.0.18) (2020.6.20)\n",
            "Requirement already satisfied: urllib3!=1.25.0,!=1.25.1,<1.26,>=1.21.1 in /usr/local/lib/python3.6/dist-packages (from requests<3.0.0,>=2.13.0->spacy==2.0.18) (1.24.3)\n",
            "Requirement already satisfied: msgpack-numpy<0.4.4 in /usr/local/lib/python3.6/dist-packages (from thinc<6.13.0,>=6.12.1->spacy==2.0.18) (0.4.3.2)\n",
            "Requirement already satisfied: wrapt<1.11.0,>=1.10.0 in /usr/local/lib/python3.6/dist-packages (from thinc<6.13.0,>=6.12.1->spacy==2.0.18) (1.10.11)\n",
            "Requirement already satisfied: cytoolz<0.10,>=0.9.0 in /usr/local/lib/python3.6/dist-packages (from thinc<6.13.0,>=6.12.1->spacy==2.0.18) (0.9.0.1)\n",
            "Requirement already satisfied: tqdm<5.0.0,>=4.10.0 in /usr/local/lib/python3.6/dist-packages (from thinc<6.13.0,>=6.12.1->spacy==2.0.18) (4.41.1)\n",
            "Requirement already satisfied: msgpack<0.6.0,>=0.5.6 in /usr/local/lib/python3.6/dist-packages (from thinc<6.13.0,>=6.12.1->spacy==2.0.18) (0.5.6)\n",
            "Requirement already satisfied: MarkupSafe>=0.23 in /usr/local/lib/python3.6/dist-packages (from Jinja2->folium==0.2.1) (1.1.1)\n",
            "Requirement already satisfied: python-dateutil>=2.1 in /usr/local/lib/python3.6/dist-packages (from matplotlib->imgaug==0.2.7) (2.8.1)\n",
            "Requirement already satisfied: kiwisolver>=1.0.1 in /usr/local/lib/python3.6/dist-packages (from matplotlib->imgaug==0.2.7) (1.2.0)\n",
            "Requirement already satisfied: pyparsing!=2.0.4,!=2.1.2,!=2.1.6,>=2.0.1 in /usr/local/lib/python3.6/dist-packages (from matplotlib->imgaug==0.2.7) (2.4.7)\n",
            "Requirement already satisfied: cycler>=0.10 in /usr/local/lib/python3.6/dist-packages (from matplotlib->imgaug==0.2.7) (0.10.0)\n",
            "Requirement already satisfied: PyWavelets>=0.4.0 in /usr/local/lib/python3.6/dist-packages (from scikit-image>=0.11.0->imgaug==0.2.7) (1.1.1)\n",
            "Requirement already satisfied: networkx>=2.0 in /usr/local/lib/python3.6/dist-packages (from scikit-image>=0.11.0->imgaug==0.2.7) (2.4)\n",
            "Requirement already satisfied: toolz>=0.8.0 in /usr/local/lib/python3.6/dist-packages (from cytoolz<0.10,>=0.9.0->thinc<6.13.0,>=6.12.1->spacy==2.0.18) (0.10.0)\n",
            "Requirement already satisfied: decorator>=4.3.0 in /usr/local/lib/python3.6/dist-packages (from networkx>=2.0->scikit-image>=0.11.0->imgaug==0.2.7) (4.4.2)\n",
            "Requirement already up-to-date: numpy in /usr/local/lib/python3.6/dist-packages (1.19.1)\n",
            "\u001b[K     |████████████████████████████████| 710.5MB 26kB/s \n",
            "\u001b[?25hCollecting gluonts\n",
            "\u001b[?25l  Downloading https://files.pythonhosted.org/packages/c2/07/5a63f7d645761982743d375fc816120b680e0de13ac139829e509b3206fc/gluonts-0.5.0-py3-none-any.whl (419kB)\n",
            "\u001b[K     |████████████████████████████████| 419kB 6.5MB/s \n",
            "\u001b[?25hRequirement already satisfied: tqdm~=4.23 in /usr/local/lib/python3.6/dist-packages (from gluonts) (4.41.1)\n",
            "Requirement already satisfied: numpy~=1.16 in /usr/local/lib/python3.6/dist-packages (from gluonts) (1.19.1)\n",
            "Requirement already satisfied: holidays<0.10,>=0.9 in /usr/local/lib/python3.6/dist-packages (from gluonts) (0.9.12)\n",
            "Requirement already satisfied: matplotlib~=3.0 in /usr/local/lib/python3.6/dist-packages (from gluonts) (3.2.2)\n",
            "Collecting pydantic~=1.1\n",
            "\u001b[?25l  Downloading https://files.pythonhosted.org/packages/aa/5f/855412ad12817ae87f1c77d3af2fc384eaed3adfb8f3994816d75483fa20/pydantic-1.6.1-cp36-cp36m-manylinux2014_x86_64.whl (8.7MB)\n",
            "\u001b[K     |████████████████████████████████| 8.7MB 16.3MB/s \n",
            "\u001b[?25hRequirement already satisfied: ujson~=1.35 in /usr/local/lib/python3.6/dist-packages (from gluonts) (1.35)\n",
            "Requirement already satisfied: pandas~=1.0 in /usr/local/lib/python3.6/dist-packages (from gluonts) (1.0.5)\n",
            "Requirement already satisfied: python-dateutil in /usr/local/lib/python3.6/dist-packages (from holidays<0.10,>=0.9->gluonts) (2.8.1)\n",
            "Requirement already satisfied: six in /usr/local/lib/python3.6/dist-packages (from holidays<0.10,>=0.9->gluonts) (1.15.0)\n",
            "Requirement already satisfied: cycler>=0.10 in /usr/local/lib/python3.6/dist-packages (from matplotlib~=3.0->gluonts) (0.10.0)\n",
            "Requirement already satisfied: kiwisolver>=1.0.1 in /usr/local/lib/python3.6/dist-packages (from matplotlib~=3.0->gluonts) (1.2.0)\n",
            "Requirement already satisfied: pyparsing!=2.0.4,!=2.1.2,!=2.1.6,>=2.0.1 in /usr/local/lib/python3.6/dist-packages (from matplotlib~=3.0->gluonts) (2.4.7)\n",
            "Requirement already satisfied: dataclasses>=0.6; python_version < \"3.7\" in /usr/local/lib/python3.6/dist-packages (from pydantic~=1.1->gluonts) (0.7)\n",
            "Requirement already satisfied: pytz>=2017.2 in /usr/local/lib/python3.6/dist-packages (from pandas~=1.0->gluonts) (2018.9)\n",
            "Installing collected packages: pydantic, gluonts\n",
            "Successfully installed gluonts-0.5.0 pydantic-1.6.1\n",
            "nvcc: NVIDIA (R) Cuda compiler driver\n",
            "Copyright (c) 2005-2019 NVIDIA Corporation\n",
            "Built on Sun_Jul_28_19:07:16_PDT_2019\n",
            "Cuda compilation tools, release 10.1, V10.1.243\n"
          ],
          "name": "stdout"
        }
      ]
    },
    {
      "cell_type": "code",
      "metadata": {
        "id": "4bXTF074FrXF",
        "colab_type": "code",
        "colab": {}
      },
      "source": [
        "%matplotlib inline\n",
        "import mxnet as mx\n",
        "from mxnet import gluon\n",
        "import numpy as np\n",
        "import pandas as pd\n",
        "import matplotlib.pyplot as plt\n",
        "import json\n",
        "import os\n",
        "from itertools import islice\n",
        "from pathlib import Path"
      ],
      "execution_count": 2,
      "outputs": []
    },
    {
      "cell_type": "code",
      "metadata": {
        "id": "kLX9_W2sFt-2",
        "colab_type": "code",
        "colab": {}
      },
      "source": [
        "mx.random.seed(0)\n",
        "np.random.seed(0)"
      ],
      "execution_count": 3,
      "outputs": []
    },
    {
      "cell_type": "markdown",
      "metadata": {
        "id": "7iBUyaoVHI_H",
        "colab_type": "text"
      },
      "source": [
        "GluonTS offers three different options to practitioners that want to experiment with the various modules:\n",
        "* Use an available dataset provided by GluonTS\n",
        "* Create an artificial dataset using GluonTS\n",
        "* Convert your dataset to a GluonTS friendly format"
      ]
    },
    {
      "cell_type": "code",
      "metadata": {
        "id": "ZH0PWSMlTNMZ",
        "colab_type": "code",
        "colab": {
          "base_uri": "https://localhost:8080/",
          "height": 37
        },
        "outputId": "ab8f82e2-b4ec-4d9c-e0be-d1468d4fd725"
      },
      "source": [
        "!pip freeze | grep ujson"
      ],
      "execution_count": 4,
      "outputs": [
        {
          "output_type": "stream",
          "text": [
            "ujson==1.35\n"
          ],
          "name": "stdout"
        }
      ]
    },
    {
      "cell_type": "code",
      "metadata": {
        "id": "7eRy7rLyLR3W",
        "colab_type": "code",
        "colab": {}
      },
      "source": [
        "import json\n",
        "from gluonts.dataset.repository.datasets import get_dataset, dataset_recipes\n",
        "from gluonts.dataset.util import to_pandas"
      ],
      "execution_count": 5,
      "outputs": []
    },
    {
      "cell_type": "markdown",
      "metadata": {
        "id": "GkqzqiqBXGnG",
        "colab_type": "text"
      },
      "source": [
        "# Create artificial datasets\n",
        "We can easily create a complex artificial time series dataset using the ComplexSeasonalTimeSeries module."
      ]
    },
    {
      "cell_type": "code",
      "metadata": {
        "id": "4tnjmnpSXTq3",
        "colab_type": "code",
        "colab": {}
      },
      "source": [
        "from gluonts.dataset.artificial import ComplexSeasonalTimeSeries\n",
        "from gluonts.dataset.common import ListDataset"
      ],
      "execution_count": 6,
      "outputs": []
    },
    {
      "cell_type": "code",
      "metadata": {
        "id": "zOY1XLq_XXoU",
        "colab_type": "code",
        "colab": {}
      },
      "source": [
        "artificial_dataset = ComplexSeasonalTimeSeries(\n",
        "    num_series=10,\n",
        "    prediction_length=21,\n",
        "    freq_str=\"H\",\n",
        "    length_low=30,\n",
        "    length_high=200,\n",
        "    min_val=-10000,\n",
        "    max_val=10000,\n",
        "    is_integer=False,\n",
        "    proportion_missing_values=0,\n",
        "    is_noise=True,\n",
        "    is_scale=True,\n",
        "    percentage_unique_timestamps=1,\n",
        "    is_out_of_bounds_date=True,\n",
        ")"
      ],
      "execution_count": 7,
      "outputs": []
    },
    {
      "cell_type": "code",
      "metadata": {
        "id": "tptnyUu1XclL",
        "colab_type": "code",
        "colab": {
          "base_uri": "https://localhost:8080/",
          "height": 57
        },
        "outputId": "c16346cf-eed1-4dac-f0f8-7fcdec80d4e1"
      },
      "source": [
        "print(f\"prediction length: {artificial_dataset.metadata.prediction_length}\")\n",
        "print(f\"frequency: {artificial_dataset.metadata.freq}\")"
      ],
      "execution_count": 8,
      "outputs": [
        {
          "output_type": "stream",
          "text": [
            "prediction length: 21\n",
            "frequency: H\n"
          ],
          "name": "stdout"
        }
      ]
    },
    {
      "cell_type": "code",
      "metadata": {
        "id": "XYW2R-3lanb-",
        "colab_type": "code",
        "colab": {
          "base_uri": "https://localhost:8080/",
          "height": 97
        },
        "outputId": "71f964b2-6623-4d7e-f8a9-02bfeb492d6d"
      },
      "source": [
        "# The artificial dataset that we created is a list of dictionaries. \n",
        "# Each dictionary corresponds to a time series and it should contain the required fields.\n",
        "\n",
        "print(f\"type of train dataset: {type(artificial_dataset.train)}\")\n",
        "print(f\"train dataset fields: {artificial_dataset.train[0].keys()}\")\n",
        "print(f\"type of test dataset: {type(artificial_dataset.test)}\")\n",
        "print(f\"test dataset fields: {artificial_dataset.test[0].keys()}\")"
      ],
      "execution_count": 9,
      "outputs": [
        {
          "output_type": "stream",
          "text": [
            "type of train dataset: <class 'list'>\n",
            "train dataset fields: dict_keys(['start', 'target', 'item_id'])\n",
            "type of test dataset: <class 'list'>\n",
            "test dataset fields: dict_keys(['start', 'target', 'item_id'])\n"
          ],
          "name": "stdout"
        }
      ]
    },
    {
      "cell_type": "code",
      "metadata": {
        "id": "7WeIuFHratOV",
        "colab_type": "code",
        "colab": {
          "base_uri": "https://localhost:8080/",
          "height": 37
        },
        "outputId": "e7bd942e-4239-4a35-fcba-67b1ba852cf4"
      },
      "source": [
        "# In order to use the artificially created datasets (list of dictionaries) \n",
        "# we need to convert them to ListDataset objects.\n",
        "train_ds = ListDataset(\n",
        "    artificial_dataset.train,\n",
        "    freq=artificial_dataset.metadata.freq\n",
        ")\n",
        "\n",
        "test_ds = ListDataset(\n",
        "    artificial_dataset.test,\n",
        "    freq=artificial_dataset.metadata.freq\n",
        ")\n",
        "\n",
        "train_entry = next(iter(train_ds))\n",
        "train_entry.keys()"
      ],
      "execution_count": 10,
      "outputs": [
        {
          "output_type": "execute_result",
          "data": {
            "text/plain": [
              "dict_keys(['start', 'target', 'item_id', 'source'])"
            ]
          },
          "metadata": {
            "tags": []
          },
          "execution_count": 10
        }
      ]
    },
    {
      "cell_type": "code",
      "metadata": {
        "id": "R7tIvaK8bM51",
        "colab_type": "code",
        "colab": {
          "base_uri": "https://localhost:8080/",
          "height": 37
        },
        "outputId": "3cf6e491-1603-4104-fc85-af18126f2ab6"
      },
      "source": [
        "test_entry = next(iter(test_ds))\n",
        "test_entry.keys()"
      ],
      "execution_count": 11,
      "outputs": [
        {
          "output_type": "execute_result",
          "data": {
            "text/plain": [
              "dict_keys(['start', 'target', 'item_id', 'source'])"
            ]
          },
          "metadata": {
            "tags": []
          },
          "execution_count": 11
        }
      ]
    },
    {
      "cell_type": "code",
      "metadata": {
        "id": "RKBRweHobOFa",
        "colab_type": "code",
        "colab": {
          "base_uri": "https://localhost:8080/",
          "height": 452
        },
        "outputId": "a0df27c0-0cb1-4774-f6ef-e76e1f2089ee"
      },
      "source": [
        "test_series = to_pandas(test_entry)\n",
        "train_series = to_pandas(train_entry)\n",
        "\n",
        "fig, ax = plt.subplots(2, 1, sharex=True, sharey=True, figsize=(10, 7))\n",
        "\n",
        "train_series.plot(ax=ax[0])\n",
        "ax[0].grid(which=\"both\")\n",
        "ax[0].legend([\"train series\"], loc=\"upper left\")\n",
        "\n",
        "test_series.plot(ax=ax[1])\n",
        "ax[1].axvline(train_series.index[-1], color='r') # end of train dataset\n",
        "ax[1].grid(which=\"both\")\n",
        "ax[1].legend([\"test series\", \"end of train series\"], loc=\"upper left\")\n",
        "\n",
        "plt.show()"
      ],
      "execution_count": 12,
      "outputs": [
        {
          "output_type": "display_data",
          "data": {
            "image/png": "[encoded data removed]",
            "text/plain": [
              "<Figure size 720x504 with 2 Axes>"
            ]
          },
          "metadata": {
            "tags": [],
            "needs_background": "light"
          }
        }
      ]
    },
    {
      "cell_type": "code",
      "metadata": {
        "id": "bVhJ9dm_d7JO",
        "colab_type": "code",
        "colab": {}
      },
      "source": [
        "from gluonts.dataset.field_names import FieldName"
      ],
      "execution_count": 13,
      "outputs": []
    },
    {
      "cell_type": "code",
      "metadata": {
        "id": "llNRKX0Pd8wx",
        "colab_type": "code",
        "colab": {
          "base_uri": "https://localhost:8080/",
          "height": 297
        },
        "outputId": "fdec8f76-e7e1-4c5c-f40b-cfc50f48c7f7"
      },
      "source": [
        "[f\"FieldName.{k} = '{v}'\" for k, v in FieldName.__dict__.items() if not k.startswith('_')]"
      ],
      "execution_count": 14,
      "outputs": [
        {
          "output_type": "execute_result",
          "data": {
            "text/plain": [
              "[\"FieldName.ITEM_ID = 'item_id'\",\n",
              " \"FieldName.START = 'start'\",\n",
              " \"FieldName.TARGET = 'target'\",\n",
              " \"FieldName.FEAT_STATIC_CAT = 'feat_static_cat'\",\n",
              " \"FieldName.FEAT_STATIC_REAL = 'feat_static_real'\",\n",
              " \"FieldName.FEAT_DYNAMIC_CAT = 'feat_dynamic_cat'\",\n",
              " \"FieldName.FEAT_DYNAMIC_REAL = 'feat_dynamic_real'\",\n",
              " \"FieldName.FEAT_TIME = 'time_feat'\",\n",
              " \"FieldName.FEAT_CONST = 'feat_dynamic_const'\",\n",
              " \"FieldName.FEAT_AGE = 'feat_dynamic_age'\",\n",
              " \"FieldName.OBSERVED_VALUES = 'observed_values'\",\n",
              " \"FieldName.IS_PAD = 'is_pad'\",\n",
              " \"FieldName.FORECAST_START = 'forecast_start'\",\n",
              " \"FieldName.TARGET_DIM_INDICATOR = 'target_dimension_indicator'\"]"
            ]
          },
          "metadata": {
            "tags": []
          },
          "execution_count": 14
        }
      ]
    },
    {
      "cell_type": "markdown",
      "metadata": {
        "id": "cPND2Eljd_uU",
        "colab_type": "text"
      },
      "source": [
        "The fields are split into three categories (__ROT__): the required ones, the optional ones, and the ones that can be added by the Transformation (explained in a while).\n",
        "\n",
        "* Required:\n",
        "  * start: start date of the time series\n",
        "  * target: values of the time series\n",
        "* Optional:\n",
        "  * feat_static_cat: static (over time) categorical features, list with dimension equal to the number of features\n",
        "  * feat_static_real: static (over time) real features, list with dimension equal to the number of features\n",
        "  * feat_dynamic_cat: dynamic (over time) categorical features, array with shape equal to (number of features, target length)\n",
        "  * feat_dynamic_real: dynamic (over time) real features, array with shape equal to (number of features, target length)\n",
        "* Added by Transformation:\n",
        "  * time_feat: time related features such as the month or the day\n",
        "  * feat_dynamic_const: expands a constant value feature along the time axis\n",
        "  * feat_dynamic_age: age feature, i.e., a feature that its value is small for distant past timestamps and it monotonically increases the more we approach the current timestamp\n",
        "  * observed_values: indicator for observed values, i.e., a feature that equals to 1 if the value is observed and 0 if the value is missing\n",
        "  * is_pad: indicator for each time step that shows if it is padded (if the length is not enough)\n",
        "  * forecast_start: forecast start date\n",
        "\n",
        "The dataset consists of a target, a real dynamic feature (which in this example we set to be the target value one period earlier), and a static categorical feature that indicates the sinusoid type (different phase) that we used to create the target."
      ]
    },
    {
      "cell_type": "code",
      "metadata": {
        "id": "_hlj8tUie_wu",
        "colab_type": "code",
        "colab": {}
      },
      "source": [
        "def create_dataset(num_series, num_steps, period=24, mu=1, sigma=0.3):\n",
        "    # create target: noise + pattern\n",
        "    # noise\n",
        "    noise = np.random.normal(mu, sigma, size=(num_series, num_steps))\n",
        "\n",
        "    # pattern - sinusoid with different phase\n",
        "    sin_minumPi_Pi = np.sin(np.tile(np.linspace(-np.pi, np.pi, period), int(num_steps / period)))\n",
        "    sin_Zero_2Pi = np.sin(np.tile(np.linspace(0, 2 * np.pi, 24), int(num_steps / period)))\n",
        "\n",
        "    pattern = np.concatenate((np.tile(sin_minumPi_Pi.reshape(1, -1),\n",
        "                                      (int(np.ceil(num_series / 2)),1)),\n",
        "                              np.tile(sin_Zero_2Pi.reshape(1, -1),\n",
        "                                      (int(np.floor(num_series / 2)), 1))\n",
        "                             ),\n",
        "                             axis=0\n",
        "                            )\n",
        "\n",
        "    target = noise + pattern\n",
        "\n",
        "    # create time features: use target one period earlier, append with zeros\n",
        "    feat_dynamic_real = np.concatenate((np.zeros((num_series, period)),\n",
        "                                        target[:, :-period]\n",
        "                                       ),\n",
        "                                       axis=1\n",
        "                                      )\n",
        "\n",
        "    # create categorical static feats: use the sinusoid type as a categorical feature\n",
        "    feat_static_cat = np.concatenate((np.zeros(int(np.ceil(num_series / 2))),\n",
        "                                      np.ones(int(np.floor(num_series / 2)))\n",
        "                                     ),\n",
        "                                     axis=0\n",
        "                                    )\n",
        "\n",
        "    return target, feat_dynamic_real, feat_static_cat\n",
        "\n",
        "\n",
        "# define the parameters of the dataset\n",
        "custom_ds_metadata = {'num_series': 100,\n",
        "                      'num_steps': 24 * 7,\n",
        "                      'prediction_length': 24,\n",
        "                      'freq': '1H',\n",
        "                      'start': [pd.Timestamp(\"01-01-2019\", freq='1H')\n",
        "                                for _ in range(100)]\n",
        "                     }\n",
        "\n",
        "\n",
        "data_out = create_dataset(custom_ds_metadata['num_series'],\n",
        "                          custom_ds_metadata['num_steps'],\n",
        "                          custom_ds_metadata['prediction_length']\n",
        "                         )\n",
        "\n",
        "target, feat_dynamic_real, feat_static_cat = data_out\n",
        "\n",
        "# We can easily create the train and test datasets by simply filling in the correct fields. \n",
        "# Remember that for the train dataset we need to cut the last window.\n",
        "\n",
        "train_ds = ListDataset([{FieldName.TARGET: target,\n",
        "                         FieldName.START: start,\n",
        "                         FieldName.FEAT_DYNAMIC_REAL: [fdr],\n",
        "                         FieldName.FEAT_STATIC_CAT: [fsc]}\n",
        "                        for (target, start, fdr, fsc) in zip(target[:, :-custom_ds_metadata['prediction_length']],\n",
        "                                                             custom_ds_metadata['start'],\n",
        "                                                             feat_dynamic_real[:, :-custom_ds_metadata['prediction_length']],\n",
        "                                                             feat_static_cat)],\n",
        "                      freq=custom_ds_metadata['freq'])\n",
        "\n",
        "test_ds = ListDataset([{FieldName.TARGET: target,\n",
        "                        FieldName.START: start,\n",
        "                        FieldName.FEAT_DYNAMIC_REAL: [fdr],\n",
        "                        FieldName.FEAT_STATIC_CAT: [fsc]}\n",
        "                       for (target, start, fdr, fsc) in zip(target,\n",
        "                                                            custom_ds_metadata['start'],\n",
        "                                                            feat_dynamic_real,\n",
        "                                                            feat_static_cat)],\n",
        "                     freq=custom_ds_metadata['freq'])"
      ],
      "execution_count": 15,
      "outputs": []
    },
    {
      "cell_type": "markdown",
      "metadata": {
        "id": "_7Pz5lVWfJwI",
        "colab_type": "text"
      },
      "source": [
        "* Now, we can examine each entry of the train and test datasets. \n",
        "* We should expect that they have the following fields: \n",
        "  * target, \n",
        "  * start, \n",
        "  * feat_dynamic_real and \n",
        "  * feat_static_cat."
      ]
    },
    {
      "cell_type": "code",
      "metadata": {
        "id": "l9vicmrjg7Y9",
        "colab_type": "code",
        "colab": {
          "base_uri": "https://localhost:8080/",
          "height": 37
        },
        "outputId": "7f8abe9e-0c13-4f45-9927-8b0fa1d199fa"
      },
      "source": [
        "train_entry = next(iter(train_ds))\n",
        "train_entry.keys()"
      ],
      "execution_count": 16,
      "outputs": [
        {
          "output_type": "execute_result",
          "data": {
            "text/plain": [
              "dict_keys(['target', 'start', 'feat_dynamic_real', 'feat_static_cat', 'source'])"
            ]
          },
          "metadata": {
            "tags": []
          },
          "execution_count": 16
        }
      ]
    },
    {
      "cell_type": "code",
      "metadata": {
        "id": "00GXuX9Mg8gv",
        "colab_type": "code",
        "colab": {
          "base_uri": "https://localhost:8080/",
          "height": 37
        },
        "outputId": "fa1dfb79-4ae8-4f71-b9c1-b4348eb8c458"
      },
      "source": [
        "test_entry = next(iter(test_ds))\n",
        "test_entry.keys()"
      ],
      "execution_count": 17,
      "outputs": [
        {
          "output_type": "execute_result",
          "data": {
            "text/plain": [
              "dict_keys(['target', 'start', 'feat_dynamic_real', 'feat_static_cat', 'source'])"
            ]
          },
          "metadata": {
            "tags": []
          },
          "execution_count": 17
        }
      ]
    },
    {
      "cell_type": "code",
      "metadata": {
        "id": "9B2jEasXg_wN",
        "colab_type": "code",
        "colab": {
          "base_uri": "https://localhost:8080/",
          "height": 452
        },
        "outputId": "2a5dfa67-ae94-400b-b75d-bc92e9356a09"
      },
      "source": [
        "test_series = to_pandas(test_entry)\n",
        "train_series = to_pandas(train_entry)\n",
        "\n",
        "fig, ax = plt.subplots(2, 1, sharex=True, sharey=True, figsize=(10, 7))\n",
        "\n",
        "train_series.plot(ax=ax[0])\n",
        "ax[0].grid(which=\"both\")\n",
        "ax[0].legend([\"train series\"], loc=\"upper left\")\n",
        "\n",
        "test_series.plot(ax=ax[1])\n",
        "ax[1].axvline(train_series.index[-1], color='r') # end of train dataset\n",
        "ax[1].grid(which=\"both\")\n",
        "ax[1].legend([\"test series\", \"end of train series\"], loc=\"upper left\")\n",
        "\n",
        "plt.show()"
      ],
      "execution_count": 18,
      "outputs": [
        {
          "output_type": "display_data",
          "data": {
            "image/png": "[encoded data removed]",
            "text/plain": [
              "<Figure size 720x504 with 2 Axes>"
            ]
          },
          "metadata": {
            "tags": [],
            "needs_background": "light"
          }
        }
      ]
    },
    {
      "cell_type": "markdown",
      "metadata": {
        "id": "FS5lKDyYrMVE",
        "colab_type": "text"
      },
      "source": [
        "# Transformation\n",
        "\n",
        "The primary use case for a Transformation is for __feature processing__, e.g., adding a holiday feature and for defining the way the dataset will be split into appropriate windows during training and inference.\n",
        "\n",
        "In general, it __gets an iterable collection of entries of a dataset and transform it to another iterable collection that can possibly contain more fields__. The transformation is done by defining a set of __\"actions\"__ to the raw dataset depending on what is useful to our model.  As an example, in the following we add the following transformations:\n",
        "* __AddObservedValuesIndicator__: Creates the observed_values field in the dataset, i.e., adds a feature that equals to 1 if the value is observed and 0 if the value is missing\n",
        "* __AddAgeFeature__: Creates the feat_dynamic_age field in the dataset, i.e., adds a feature that its value is small for distant past timestamps and it monotonically increases the more we approach the current timestamp\n",
        "\n",
        "The __Transformation__ may not define an additional field in the dataset. However, it __always__ needs to define how the datasets are going to be split in example windows during training and testing. This is done with the InstanceSplitter that is configured as follows (skipping the obvious fields):\n",
        "* `is_pad_field`: indicator if the time series is padded (if the length is not enough)\n",
        "* `train_sampler`: defines how the training windows are cut/sampled\n",
        "* `time_series_fields`: contains the time dependent features that need to be split in the same manner as the target\n"
      ]
    },
    {
      "cell_type": "code",
      "metadata": {
        "id": "sAMCLmYerrgg",
        "colab_type": "code",
        "colab": {}
      },
      "source": [
        "from gluonts.transform import (\n",
        "    AddAgeFeature,\n",
        "    AddObservedValuesIndicator,\n",
        "    Chain,\n",
        "    ExpectedNumInstanceSampler,\n",
        "    InstanceSplitter,\n",
        "    SetFieldIfNotPresent,\n",
        ")\n",
        "\n",
        "def create_transformation(freq, context_length, prediction_length):\n",
        "    return Chain(\n",
        "        [\n",
        "            AddObservedValuesIndicator(\n",
        "                target_field=FieldName.TARGET,\n",
        "                output_field=FieldName.OBSERVED_VALUES,\n",
        "            ),\n",
        "            AddAgeFeature(\n",
        "                target_field=FieldName.TARGET,\n",
        "                output_field=FieldName.FEAT_AGE,\n",
        "                pred_length=prediction_length,\n",
        "                log_scale=True,\n",
        "            ),\n",
        "            InstanceSplitter(\n",
        "                target_field=FieldName.TARGET,\n",
        "                is_pad_field=FieldName.IS_PAD,\n",
        "                start_field=FieldName.START,\n",
        "                forecast_start_field=FieldName.FORECAST_START,\n",
        "                train_sampler=ExpectedNumInstanceSampler(num_instances=1),\n",
        "                past_length=context_length,\n",
        "                future_length=prediction_length,\n",
        "                time_series_fields=[\n",
        "                    FieldName.FEAT_AGE,\n",
        "                    FieldName.FEAT_DYNAMIC_REAL,\n",
        "                    FieldName.OBSERVED_VALUES,\n",
        "                ],\n",
        "            ),\n",
        "        ]\n",
        "    )"
      ],
      "execution_count": 19,
      "outputs": []
    },
    {
      "cell_type": "code",
      "metadata": {
        "id": "rd1A0Wp6vf7Z",
        "colab_type": "code",
        "colab": {}
      },
      "source": [
        "transformation = create_transformation(custom_ds_metadata['freq'],\n",
        "                                       2 * custom_ds_metadata['prediction_length'], # can be any appropriate value\n",
        "                                       custom_ds_metadata['prediction_length'])"
      ],
      "execution_count": 20,
      "outputs": []
    },
    {
      "cell_type": "markdown",
      "metadata": {
        "id": "2bk3idTxv6SU",
        "colab_type": "text"
      },
      "source": [
        "When is_train=True in the transformation, the InstanceSplitter iterates over the transformed dataset and cuts windows by selecting randomly a time series and a starting point on that time series (this “randomness” is defined by the train_sampler)."
      ]
    },
    {
      "cell_type": "code",
      "metadata": {
        "id": "6DW7CXfLvlmd",
        "colab_type": "code",
        "colab": {
          "base_uri": "https://localhost:8080/",
          "height": 37
        },
        "outputId": "24426d26-9ab6-4b2d-f2b6-d9f27f0010d5"
      },
      "source": [
        "train_tf = transformation(iter(train_ds), is_train=True)\n",
        "type(train_tf)"
      ],
      "execution_count": 21,
      "outputs": [
        {
          "output_type": "execute_result",
          "data": {
            "text/plain": [
              "generator"
            ]
          },
          "metadata": {
            "tags": []
          },
          "execution_count": 21
        }
      ]
    },
    {
      "cell_type": "code",
      "metadata": {
        "id": "T1mir5Q0vvgp",
        "colab_type": "code",
        "colab": {
          "base_uri": "https://localhost:8080/",
          "height": 277
        },
        "outputId": "4468cf80-fc75-4e34-9e7f-370d2d663cdb"
      },
      "source": [
        "train_tf_entry = next(iter(train_tf))\n",
        "[k for k in train_tf_entry.keys()]"
      ],
      "execution_count": 22,
      "outputs": [
        {
          "output_type": "execute_result",
          "data": {
            "text/plain": [
              "['start',\n",
              " 'feat_static_cat',\n",
              " 'source',\n",
              " 'past_feat_dynamic_age',\n",
              " 'future_feat_dynamic_age',\n",
              " 'past_feat_dynamic_real',\n",
              " 'future_feat_dynamic_real',\n",
              " 'past_observed_values',\n",
              " 'future_observed_values',\n",
              " 'past_target',\n",
              " 'future_target',\n",
              " 'past_is_pad',\n",
              " 'forecast_start']"
            ]
          },
          "metadata": {
            "tags": []
          },
          "execution_count": 22
        }
      ]
    },
    {
      "cell_type": "markdown",
      "metadata": {
        "id": "jsQPwM-MwCFS",
        "colab_type": "text"
      },
      "source": [
        "The transformer has done what we asked. In particular it has added:\n",
        "* a field for observed values (`observed_values`)\n",
        "* a field for the age feature (`feat_dynamic_age`)\n",
        "* some extra useful fields (`past_is_pad`, `forecast_start`)\n",
        "\n",
        "It has done one more important thing: it has split the window into past and future and has added the corresponding prefixes to all time dependent fields. This way we can easily use e.g., the `past_target` field as input and the `future_target` field to calculate the error of our predictions. Of course, the length of the past is equal to the `context_length` and of the future equal to the `prediction_length`"
      ]
    },
    {
      "cell_type": "code",
      "metadata": {
        "id": "Sw9Jjv8twX6M",
        "colab_type": "code",
        "colab": {
          "base_uri": "https://localhost:8080/",
          "height": 157
        },
        "outputId": "c87f3e83-1792-401d-d65a-f8eedfeb2243"
      },
      "source": [
        "print(f\"past target shape: {train_tf_entry['past_target'].shape}\")\n",
        "print(f\"future target shape: {train_tf_entry['future_target'].shape}\")\n",
        "print(f\"past observed values shape: {train_tf_entry['past_observed_values'].shape}\")\n",
        "print(f\"future observed values shape: {train_tf_entry['future_observed_values'].shape}\")\n",
        "print(f\"past age feature shape: {train_tf_entry['past_feat_dynamic_age'].shape}\")\n",
        "print(f\"future age feature shape: {train_tf_entry['future_feat_dynamic_age'].shape}\")\n",
        "print(train_tf_entry['feat_static_cat'])"
      ],
      "execution_count": 23,
      "outputs": [
        {
          "output_type": "stream",
          "text": [
            "past target shape: (48,)\n",
            "future target shape: (24,)\n",
            "past observed values shape: (48,)\n",
            "future observed values shape: (24,)\n",
            "past age feature shape: (48, 1)\n",
            "future age feature shape: (24, 1)\n",
            "[0]\n"
          ],
          "name": "stdout"
        }
      ]
    },
    {
      "cell_type": "code",
      "metadata": {
        "id": "4fLLPMbnwZMO",
        "colab_type": "code",
        "colab": {
          "base_uri": "https://localhost:8080/",
          "height": 37
        },
        "outputId": "217eee72-f54d-4d17-f86a-d997d2e73b0c"
      },
      "source": [
        "[k for k in next(iter(train_ds)).keys()]"
      ],
      "execution_count": 24,
      "outputs": [
        {
          "output_type": "execute_result",
          "data": {
            "text/plain": [
              "['target', 'start', 'feat_dynamic_real', 'feat_static_cat', 'source']"
            ]
          },
          "metadata": {
            "tags": []
          },
          "execution_count": 24
        }
      ]
    },
    {
      "cell_type": "code",
      "metadata": {
        "id": "TaZLf6N0wlMY",
        "colab_type": "code",
        "colab": {
          "base_uri": "https://localhost:8080/",
          "height": 277
        },
        "outputId": "45f2db6b-32bb-4b55-a664-892864cff44e"
      },
      "source": [
        "test_tf = transformation(iter(test_ds), is_train=False)\n",
        "test_tf_entry = next(iter(test_tf))\n",
        "[k for k in test_tf_entry.keys()]"
      ],
      "execution_count": 25,
      "outputs": [
        {
          "output_type": "execute_result",
          "data": {
            "text/plain": [
              "['start',\n",
              " 'feat_static_cat',\n",
              " 'source',\n",
              " 'past_feat_dynamic_age',\n",
              " 'future_feat_dynamic_age',\n",
              " 'past_feat_dynamic_real',\n",
              " 'future_feat_dynamic_real',\n",
              " 'past_observed_values',\n",
              " 'future_observed_values',\n",
              " 'past_target',\n",
              " 'future_target',\n",
              " 'past_is_pad',\n",
              " 'forecast_start']"
            ]
          },
          "metadata": {
            "tags": []
          },
          "execution_count": 25
        }
      ]
    },
    {
      "cell_type": "code",
      "metadata": {
        "id": "LmP8REAawnjk",
        "colab_type": "code",
        "colab": {
          "base_uri": "https://localhost:8080/",
          "height": 157
        },
        "outputId": "0da41160-71a1-47a4-cecb-245e0ee1620a"
      },
      "source": [
        "print(f\"past target shape: {test_tf_entry['past_target'].shape}\")\n",
        "print(f\"future target shape: {test_tf_entry['future_target'].shape}\")\n",
        "print(f\"past observed values shape: {test_tf_entry['past_observed_values'].shape}\")\n",
        "print(f\"future observed values shape: {test_tf_entry['future_observed_values'].shape}\")\n",
        "print(f\"past age feature shape: {test_tf_entry['past_feat_dynamic_age'].shape}\")\n",
        "print(f\"future age feature shape: {test_tf_entry['future_feat_dynamic_age'].shape}\")\n",
        "print(test_tf_entry['feat_static_cat'])"
      ],
      "execution_count": 26,
      "outputs": [
        {
          "output_type": "stream",
          "text": [
            "past target shape: (48,)\n",
            "future target shape: (0,)\n",
            "past observed values shape: (48,)\n",
            "future observed values shape: (0,)\n",
            "past age feature shape: (48, 1)\n",
            "future age feature shape: (24, 1)\n",
            "[0]\n"
          ],
          "name": "stdout"
        }
      ]
    },
    {
      "cell_type": "code",
      "metadata": {
        "id": "I6CdtnQL0qY9",
        "colab_type": "code",
        "colab": {
          "base_uri": "https://localhost:8080/",
          "height": 137
        },
        "outputId": "15b89bdb-4b36-49ce-f02f-d5770411f1a0"
      },
      "source": [
        "from gluonts.model.simple_feedforward import SimpleFeedForwardEstimator\n",
        "from gluonts.trainer import Trainer\n",
        "\n",
        "estimator = SimpleFeedForwardEstimator(\n",
        "    num_hidden_dimensions=[10],\n",
        "    prediction_length=custom_ds_metadata['prediction_length'],\n",
        "    context_length=2*custom_ds_metadata['prediction_length'],\n",
        "    freq=custom_ds_metadata['freq'],\n",
        "    trainer=Trainer(ctx=\"cpu\",\n",
        "                    epochs=5,\n",
        "                    learning_rate=1e-3,\n",
        "                    hybridize=False,\n",
        "                    num_batches_per_epoch=100\n",
        "                   )\n",
        ")\n",
        "\n",
        "predictor = estimator.train(train_ds)"
      ],
      "execution_count": 33,
      "outputs": [
        {
          "output_type": "stream",
          "text": [
            "\r  0%|          | 0/100 [00:00<?, ?it/s]"
          ],
          "name": "stderr"
        },
        {
          "output_type": "stream",
          "text": [
            "learning rate from ``lr_scheduler`` has been overwritten by ``learning_rate`` in optimizer.\n"
          ],
          "name": "stdout"
        },
        {
          "output_type": "stream",
          "text": [
            "100%|██████████| 100/100 [00:01<00:00, 68.53it/s, epoch=1/5, avg_epoch_loss=1.25]\n",
            "100%|██████████| 100/100 [00:01<00:00, 69.95it/s, epoch=2/5, avg_epoch_loss=0.748]\n",
            "100%|██████████| 100/100 [00:01<00:00, 69.88it/s, epoch=3/5, avg_epoch_loss=0.668]\n",
            "100%|██████████| 100/100 [00:01<00:00, 70.43it/s, epoch=4/5, avg_epoch_loss=0.632]\n",
            "100%|██████████| 100/100 [00:01<00:00, 70.50it/s, epoch=5/5, avg_epoch_loss=0.604]\n"
          ],
          "name": "stderr"
        }
      ]
    },
    {
      "cell_type": "code",
      "metadata": {
        "id": "i_fiuyrS6BxE",
        "colab_type": "code",
        "colab": {}
      },
      "source": [
        "from gluonts.evaluation.backtest import make_evaluation_predictions"
      ],
      "execution_count": 34,
      "outputs": []
    },
    {
      "cell_type": "code",
      "metadata": {
        "id": "oC9nOkdv6Fuv",
        "colab_type": "code",
        "colab": {}
      },
      "source": [
        "forecast_it, ts_it = make_evaluation_predictions(\n",
        "    dataset=test_ds,  # test dataset\n",
        "    predictor=predictor,  # predictor\n",
        "    num_samples=100,  # number of sample paths we want for evaluation\n",
        ")"
      ],
      "execution_count": 35,
      "outputs": []
    },
    {
      "cell_type": "code",
      "metadata": {
        "id": "4GQnjTeV6IZS",
        "colab_type": "code",
        "colab": {
          "base_uri": "https://localhost:8080/",
          "height": 1000
        },
        "outputId": "5b2dcb6f-a522-47b5-bb8c-bfc3ae49aff5"
      },
      "source": [
        "forecasts = list(forecast_it)\n",
        "tss = list(ts_it)\n",
        "tss"
      ],
      "execution_count": 36,
      "outputs": [
        {
          "output_type": "execute_result",
          "data": {
            "text/plain": [
              "[                            0\n",
              " 2019-01-01 00:00:00  1.529216\n",
              " 2019-01-01 01:00:00  0.850250\n",
              " 2019-01-01 02:00:00  0.774037\n",
              " 2019-01-01 03:00:00  0.941432\n",
              " 2019-01-01 04:00:00  0.672382\n",
              " ...                       ...\n",
              " 2019-01-07 19:00:00  1.914151\n",
              " 2019-01-07 20:00:00  1.363205\n",
              " 2019-01-07 21:00:00  1.772893\n",
              " 2019-01-07 22:00:00  0.969732\n",
              " 2019-01-07 23:00:00  0.536569\n",
              " \n",
              " [168 rows x 1 columns],                             0\n",
              " 2019-01-01 00:00:00  1.356409\n",
              " 2019-01-01 01:00:00  0.825286\n",
              " 2019-01-01 02:00:00  0.756674\n",
              " 2019-01-01 03:00:00  0.364782\n",
              " 2019-01-01 04:00:00  0.369164\n",
              " ...                       ...\n",
              " 2019-01-07 19:00:00  1.531202\n",
              " 2019-01-07 20:00:00  1.962812\n",
              " 2019-01-07 21:00:00  1.164420\n",
              " 2019-01-07 22:00:00  0.472045\n",
              " 2019-01-07 23:00:00  1.181896\n",
              " \n",
              " [168 rows x 1 columns],                             0\n",
              " 2019-01-01 00:00:00  0.473233\n",
              " 2019-01-01 01:00:00  0.865484\n",
              " 2019-01-01 02:00:00  0.275213\n",
              " 2019-01-01 03:00:00  0.767029\n",
              " 2019-01-01 04:00:00  0.432668\n",
              " ...                       ...\n",
              " 2019-01-07 19:00:00  1.864529\n",
              " 2019-01-07 20:00:00  1.845656\n",
              " 2019-01-07 21:00:00  1.509311\n",
              " 2019-01-07 22:00:00  1.598701\n",
              " 2019-01-07 23:00:00  0.929735\n",
              " \n",
              " [168 rows x 1 columns],                             0\n",
              " 2019-01-01 00:00:00  0.895765\n",
              " 2019-01-01 01:00:00  0.555823\n",
              " 2019-01-01 02:00:00 -0.009374\n",
              " 2019-01-01 03:00:00 -0.201166\n",
              " 2019-01-01 04:00:00 -0.241633\n",
              " ...                       ...\n",
              " 2019-01-07 19:00:00  2.211644\n",
              " 2019-01-07 20:00:00  1.129571\n",
              " 2019-01-07 21:00:00  1.632647\n",
              " 2019-01-07 22:00:00  1.106083\n",
              " 2019-01-07 23:00:00  0.434624\n",
              " \n",
              " [168 rows x 1 columns],                             0\n",
              " 2019-01-01 00:00:00  0.416289\n",
              " 2019-01-01 01:00:00  0.456368\n",
              " 2019-01-01 02:00:00  0.546269\n",
              " 2019-01-01 03:00:00  0.387083\n",
              " 2019-01-01 04:00:00 -0.169580\n",
              " ...                       ...\n",
              " 2019-01-07 19:00:00  2.148068\n",
              " 2019-01-07 20:00:00  1.476340\n",
              " 2019-01-07 21:00:00  1.421883\n",
              " 2019-01-07 22:00:00  1.410927\n",
              " 2019-01-07 23:00:00  1.093434\n",
              " \n",
              " [168 rows x 1 columns],                             0\n",
              " 2019-01-01 00:00:00  1.071875\n",
              " 2019-01-01 01:00:00  0.619263\n",
              " 2019-01-01 02:00:00  0.772177\n",
              " 2019-01-01 03:00:00  0.909325\n",
              " 2019-01-01 04:00:00  0.234039\n",
              " ...                       ...\n",
              " 2019-01-07 19:00:00  1.919299\n",
              " 2019-01-07 20:00:00  1.799252\n",
              " 2019-01-07 21:00:00  1.580028\n",
              " 2019-01-07 22:00:00  1.432029\n",
              " 2019-01-07 23:00:00  0.454577\n",
              " \n",
              " [168 rows x 1 columns],                             0\n",
              " 2019-01-01 00:00:00  0.985203\n",
              " 2019-01-01 01:00:00  0.801913\n",
              " 2019-01-01 02:00:00  0.180317\n",
              " 2019-01-01 03:00:00  0.771360\n",
              " 2019-01-01 04:00:00  0.160583\n",
              " ...                       ...\n",
              " 2019-01-07 19:00:00  1.540780\n",
              " 2019-01-07 20:00:00  1.962038\n",
              " 2019-01-07 21:00:00  1.480452\n",
              " 2019-01-07 22:00:00  1.816371\n",
              " 2019-01-07 23:00:00  0.977305\n",
              " \n",
              " [168 rows x 1 columns],                             0\n",
              " 2019-01-01 00:00:00  1.126276\n",
              " 2019-01-01 01:00:00  0.804184\n",
              " 2019-01-01 02:00:00  0.292749\n",
              " 2019-01-01 03:00:00  0.566805\n",
              " 2019-01-01 04:00:00  0.683634\n",
              " ...                       ...\n",
              " 2019-01-07 19:00:00  2.291752\n",
              " 2019-01-07 20:00:00  1.590588\n",
              " 2019-01-07 21:00:00  1.260836\n",
              " 2019-01-07 22:00:00  1.456553\n",
              " 2019-01-07 23:00:00  0.810642\n",
              " \n",
              " [168 rows x 1 columns],                             0\n",
              " 2019-01-01 00:00:00  1.170538\n",
              " 2019-01-01 01:00:00  0.630360\n",
              " 2019-01-01 02:00:00  0.624543\n",
              " 2019-01-01 03:00:00 -0.021292\n",
              " 2019-01-01 04:00:00  0.361520\n",
              " ...                       ...\n",
              " 2019-01-07 19:00:00  1.947039\n",
              " 2019-01-07 20:00:00  2.048544\n",
              " 2019-01-07 21:00:00  1.212815\n",
              " 2019-01-07 22:00:00  1.013225\n",
              " 2019-01-07 23:00:00  1.377166\n",
              " \n",
              " [168 rows x 1 columns],                             0\n",
              " 2019-01-01 00:00:00  0.555135\n",
              " 2019-01-01 01:00:00  0.337380\n",
              " 2019-01-01 02:00:00  0.725775\n",
              " 2019-01-01 03:00:00  0.340624\n",
              " 2019-01-01 04:00:00  0.143684\n",
              " ...                       ...\n",
              " 2019-01-07 19:00:00  2.190799\n",
              " 2019-01-07 20:00:00  1.429242\n",
              " 2019-01-07 21:00:00  1.550006\n",
              " 2019-01-07 22:00:00  1.921146\n",
              " 2019-01-07 23:00:00  1.198622\n",
              " \n",
              " [168 rows x 1 columns],                             0\n",
              " 2019-01-01 00:00:00  1.030174\n",
              " 2019-01-01 01:00:00  0.891952\n",
              " 2019-01-01 02:00:00  0.506269\n",
              " 2019-01-01 03:00:00  0.926433\n",
              " 2019-01-01 04:00:00  0.407206\n",
              " ...                       ...\n",
              " 2019-01-07 19:00:00  2.184922\n",
              " 2019-01-07 20:00:00  1.321409\n",
              " 2019-01-07 21:00:00  1.513023\n",
              " 2019-01-07 22:00:00  1.188435\n",
              " 2019-01-07 23:00:00  0.604848\n",
              " \n",
              " [168 rows x 1 columns],                             0\n",
              " 2019-01-01 00:00:00  1.056911\n",
              " 2019-01-01 01:00:00  1.240974\n",
              " 2019-01-01 02:00:00  0.500706\n",
              " 2019-01-01 03:00:00  0.130258\n",
              " 2019-01-01 04:00:00  0.246222\n",
              " ...                       ...\n",
              " 2019-01-07 19:00:00  1.590938\n",
              " 2019-01-07 20:00:00  1.923925\n",
              " 2019-01-07 21:00:00  1.726253\n",
              " 2019-01-07 22:00:00  1.352191\n",
              " 2019-01-07 23:00:00  0.818914\n",
              " \n",
              " [168 rows x 1 columns],                             0\n",
              " 2019-01-01 00:00:00  1.212658\n",
              " 2019-01-01 01:00:00  0.857049\n",
              " 2019-01-01 02:00:00 -0.454641\n",
              " 2019-01-01 03:00:00  0.462500\n",
              " 2019-01-01 04:00:00 -0.462008\n",
              " ...                       ...\n",
              " 2019-01-07 19:00:00  2.227429\n",
              " 2019-01-07 20:00:00  1.225417\n",
              " 2019-01-07 21:00:00  1.369759\n",
              " 2019-01-07 22:00:00  0.841715\n",
              " 2019-01-07 23:00:00  0.720229\n",
              " \n",
              " [168 rows x 1 columns],                             0\n",
              " 2019-01-01 00:00:00  0.696263\n",
              " 2019-01-01 01:00:00  1.105374\n",
              " 2019-01-01 02:00:00  0.410055\n",
              " 2019-01-01 03:00:00  0.010157\n",
              " 2019-01-01 04:00:00 -0.198567\n",
              " ...                       ...\n",
              " 2019-01-07 19:00:00  2.314667\n",
              " 2019-01-07 20:00:00  2.319204\n",
              " 2019-01-07 21:00:00  1.497912\n",
              " 2019-01-07 22:00:00  1.363134\n",
              " 2019-01-07 23:00:00  0.676492\n",
              " \n",
              " [168 rows x 1 columns],                             0\n",
              " 2019-01-01 00:00:00  1.318480\n",
              " 2019-01-01 01:00:00  0.374737\n",
              " 2019-01-01 02:00:00 -0.061159\n",
              " 2019-01-01 03:00:00  0.518280\n",
              " 2019-01-01 04:00:00 -0.044394\n",
              " ...                       ...\n",
              " 2019-01-07 19:00:00  1.558808\n",
              " 2019-01-07 20:00:00  1.452627\n",
              " 2019-01-07 21:00:00  1.786086\n",
              " 2019-01-07 22:00:00  1.112374\n",
              " 2019-01-07 23:00:00  0.584417\n",
              " \n",
              " [168 rows x 1 columns],                             0\n",
              " 2019-01-01 00:00:00  1.030653\n",
              " 2019-01-01 01:00:00  0.881702\n",
              " 2019-01-01 02:00:00  0.879104\n",
              " 2019-01-01 03:00:00  0.334535\n",
              " 2019-01-01 04:00:00 -0.085799\n",
              " ...                       ...\n",
              " 2019-01-07 19:00:00  1.822925\n",
              " 2019-01-07 20:00:00  1.495570\n",
              " 2019-01-07 21:00:00  1.738972\n",
              " 2019-01-07 22:00:00  1.166826\n",
              " 2019-01-07 23:00:00  1.021232\n",
              " \n",
              " [168 rows x 1 columns],                             0\n",
              " 2019-01-01 00:00:00  0.878358\n",
              " 2019-01-01 01:00:00  0.860385\n",
              " 2019-01-01 02:00:00  0.425339\n",
              " 2019-01-01 03:00:00  0.366724\n",
              " 2019-01-01 04:00:00 -0.665902\n",
              " ...                       ...\n",
              " 2019-01-07 19:00:00  1.878312\n",
              " 2019-01-07 20:00:00  1.678753\n",
              " 2019-01-07 21:00:00  1.789056\n",
              " 2019-01-07 22:00:00  1.210461\n",
              " 2019-01-07 23:00:00  0.748667\n",
              " \n",
              " [168 rows x 1 columns],                             0\n",
              " 2019-01-01 00:00:00  1.272757\n",
              " 2019-01-01 01:00:00  0.754419\n",
              " 2019-01-01 02:00:00  0.169307\n",
              " 2019-01-01 03:00:00 -0.064708\n",
              " 2019-01-01 04:00:00  0.140738\n",
              " ...                       ...\n",
              " 2019-01-07 19:00:00  1.835706\n",
              " 2019-01-07 20:00:00  0.887636\n",
              " 2019-01-07 21:00:00  1.474388\n",
              " 2019-01-07 22:00:00  1.125484\n",
              " 2019-01-07 23:00:00  0.929592\n",
              " \n",
              " [168 rows x 1 columns],                             0\n",
              " 2019-01-01 00:00:00  1.269919\n",
              " 2019-01-01 01:00:00  0.256644\n",
              " 2019-01-01 02:00:00  0.553603\n",
              " 2019-01-01 03:00:00  0.740255\n",
              " 2019-01-01 04:00:00 -0.075668\n",
              " ...                       ...\n",
              " 2019-01-07 19:00:00  2.154355\n",
              " 2019-01-07 20:00:00  1.622334\n",
              " 2019-01-07 21:00:00  2.165700\n",
              " 2019-01-07 22:00:00  1.524019\n",
              " 2019-01-07 23:00:00  0.940384\n",
              " \n",
              " [168 rows x 1 columns],                             0\n",
              " 2019-01-01 00:00:00  1.472592\n",
              " 2019-01-01 01:00:00  0.984938\n",
              " 2019-01-01 02:00:00  0.111747\n",
              " 2019-01-01 03:00:00  0.535682\n",
              " 2019-01-01 04:00:00 -0.042831\n",
              " ...                       ...\n",
              " 2019-01-07 19:00:00  2.047225\n",
              " 2019-01-07 20:00:00  1.776406\n",
              " 2019-01-07 21:00:00  1.346416\n",
              " 2019-01-07 22:00:00  0.798272\n",
              " 2019-01-07 23:00:00  0.991646\n",
              " \n",
              " [168 rows x 1 columns],                             0\n",
              " 2019-01-01 00:00:00  0.777683\n",
              " 2019-01-01 01:00:00  0.748206\n",
              " 2019-01-01 02:00:00  0.822563\n",
              " 2019-01-01 03:00:00  0.321011\n",
              " 2019-01-01 04:00:00 -0.012386\n",
              " ...                       ...\n",
              " 2019-01-07 19:00:00  2.081086\n",
              " 2019-01-07 20:00:00  1.186069\n",
              " 2019-01-07 21:00:00  1.744914\n",
              " 2019-01-07 22:00:00  1.359882\n",
              " 2019-01-07 23:00:00  1.633183\n",
              " \n",
              " [168 rows x 1 columns],                             0\n",
              " 2019-01-01 00:00:00  1.423926\n",
              " 2019-01-01 01:00:00  1.182297\n",
              " 2019-01-01 02:00:00  0.725635\n",
              " 2019-01-01 03:00:00  0.463149\n",
              " 2019-01-01 04:00:00 -0.242375\n",
              " ...                       ...\n",
              " 2019-01-07 19:00:00  2.387520\n",
              " 2019-01-07 20:00:00  1.709214\n",
              " 2019-01-07 21:00:00  1.784818\n",
              " 2019-01-07 22:00:00  1.528609\n",
              " 2019-01-07 23:00:00  0.805739\n",
              " \n",
              " [168 rows x 1 columns],                             0\n",
              " 2019-01-01 00:00:00  1.193171\n",
              " 2019-01-01 01:00:00  0.297906\n",
              " 2019-01-01 02:00:00  0.238827\n",
              " 2019-01-01 03:00:00  0.340790\n",
              " 2019-01-01 04:00:00 -0.012322\n",
              " ...                       ...\n",
              " 2019-01-07 19:00:00  2.435651\n",
              " 2019-01-07 20:00:00  1.790771\n",
              " 2019-01-07 21:00:00  1.801988\n",
              " 2019-01-07 22:00:00  1.675224\n",
              " 2019-01-07 23:00:00  0.778553\n",
              " \n",
              " [168 rows x 1 columns],                             0\n",
              " 2019-01-01 00:00:00  0.726469\n",
              " 2019-01-01 01:00:00  1.066775\n",
              " 2019-01-01 02:00:00  0.898267\n",
              " 2019-01-01 03:00:00 -0.143942\n",
              " 2019-01-01 04:00:00  0.715488\n",
              " ...                       ...\n",
              " 2019-01-07 19:00:00  1.711641\n",
              " 2019-01-07 20:00:00  2.108221\n",
              " 2019-01-07 21:00:00  1.261983\n",
              " 2019-01-07 22:00:00  1.400653\n",
              " 2019-01-07 23:00:00  1.471439\n",
              " \n",
              " [168 rows x 1 columns],                             0\n",
              " 2019-01-01 00:00:00  1.323195\n",
              " 2019-01-01 01:00:00  0.973530\n",
              " 2019-01-01 02:00:00 -0.189045\n",
              " 2019-01-01 03:00:00  0.238863\n",
              " 2019-01-01 04:00:00 -0.064098\n",
              " ...                       ...\n",
              " 2019-01-07 19:00:00  2.348084\n",
              " 2019-01-07 20:00:00  1.856154\n",
              " 2019-01-07 21:00:00  1.597099\n",
              " 2019-01-07 22:00:00  0.924668\n",
              " 2019-01-07 23:00:00  1.098734\n",
              " \n",
              " [168 rows x 1 columns],                             0\n",
              " 2019-01-01 00:00:00  1.013657\n",
              " 2019-01-01 01:00:00  0.919828\n",
              " 2019-01-01 02:00:00  0.327162\n",
              " 2019-01-01 03:00:00 -0.166925\n",
              " 2019-01-01 04:00:00  0.194681\n",
              " ...                       ...\n",
              " 2019-01-07 19:00:00  1.815118\n",
              " 2019-01-07 20:00:00  1.947146\n",
              " 2019-01-07 21:00:00  2.209398\n",
              " 2019-01-07 22:00:00  1.578885\n",
              " 2019-01-07 23:00:00  1.465216\n",
              " \n",
              " [168 rows x 1 columns],                             0\n",
              " 2019-01-01 00:00:00  0.671432\n",
              " 2019-01-01 01:00:00  0.800889\n",
              " 2019-01-01 02:00:00  0.598007\n",
              " 2019-01-01 03:00:00  0.438450\n",
              " 2019-01-01 04:00:00  0.348967\n",
              " ...                       ...\n",
              " 2019-01-07 19:00:00  2.013577\n",
              " 2019-01-07 20:00:00  1.703761\n",
              " 2019-01-07 21:00:00  1.881796\n",
              " 2019-01-07 22:00:00  1.296371\n",
              " 2019-01-07 23:00:00  1.662942\n",
              " \n",
              " [168 rows x 1 columns],                             0\n",
              " 2019-01-01 00:00:00  1.305003\n",
              " 2019-01-01 01:00:00  0.630991\n",
              " 2019-01-01 02:00:00  0.887931\n",
              " 2019-01-01 03:00:00  0.287421\n",
              " 2019-01-01 04:00:00  0.713882\n",
              " ...                       ...\n",
              " 2019-01-07 19:00:00  2.167983\n",
              " 2019-01-07 20:00:00  1.187025\n",
              " 2019-01-07 21:00:00  1.482199\n",
              " 2019-01-07 22:00:00  1.218903\n",
              " 2019-01-07 23:00:00  0.862009\n",
              " \n",
              " [168 rows x 1 columns],                             0\n",
              " 2019-01-01 00:00:00  1.256960\n",
              " 2019-01-01 01:00:00  1.218220\n",
              " 2019-01-01 02:00:00  0.203075\n",
              " 2019-01-01 03:00:00  0.222366\n",
              " 2019-01-01 04:00:00  0.239614\n",
              " ...                       ...\n",
              " 2019-01-07 19:00:00  1.802862\n",
              " 2019-01-07 20:00:00  1.370981\n",
              " 2019-01-07 21:00:00  1.495874\n",
              " 2019-01-07 22:00:00  1.516359\n",
              " 2019-01-07 23:00:00  0.948775\n",
              " \n",
              " [168 rows x 1 columns],                             0\n",
              " 2019-01-01 00:00:00  0.504691\n",
              " 2019-01-01 01:00:00  0.667616\n",
              " 2019-01-01 02:00:00  0.267132\n",
              " 2019-01-01 03:00:00  0.284868\n",
              " 2019-01-01 04:00:00  0.401723\n",
              " ...                       ...\n",
              " 2019-01-07 19:00:00  2.047806\n",
              " 2019-01-07 20:00:00  1.698039\n",
              " 2019-01-07 21:00:00  1.434629\n",
              " 2019-01-07 22:00:00  1.699920\n",
              " 2019-01-07 23:00:00  0.829415\n",
              " \n",
              " [168 rows x 1 columns],                             0\n",
              " 2019-01-01 00:00:00  0.745046\n",
              " 2019-01-01 01:00:00  0.947537\n",
              " 2019-01-01 02:00:00  0.662186\n",
              " 2019-01-01 03:00:00 -0.117914\n",
              " 2019-01-01 04:00:00  0.348945\n",
              " ...                       ...\n",
              " 2019-01-07 19:00:00  1.262685\n",
              " 2019-01-07 20:00:00  1.375270\n",
              " 2019-01-07 21:00:00  1.939817\n",
              " 2019-01-07 22:00:00  1.037068\n",
              " 2019-01-07 23:00:00  0.661726\n",
              " \n",
              " [168 rows x 1 columns],                             0\n",
              " 2019-01-01 00:00:00  0.949825\n",
              " 2019-01-01 01:00:00  0.505714\n",
              " 2019-01-01 02:00:00  0.568277\n",
              " 2019-01-01 03:00:00 -0.089736\n",
              " 2019-01-01 04:00:00  0.561845\n",
              " ...                       ...\n",
              " 2019-01-07 19:00:00  2.241686\n",
              " 2019-01-07 20:00:00  1.534430\n",
              " 2019-01-07 21:00:00  1.281650\n",
              " 2019-01-07 22:00:00  1.344933\n",
              " 2019-01-07 23:00:00  1.191674\n",
              " \n",
              " [168 rows x 1 columns],                             0\n",
              " 2019-01-01 00:00:00  0.959849\n",
              " 2019-01-01 01:00:00  0.360738\n",
              " 2019-01-01 02:00:00  0.513040\n",
              " 2019-01-01 03:00:00  0.996440\n",
              " 2019-01-01 04:00:00  0.282009\n",
              " ...                       ...\n",
              " 2019-01-07 19:00:00  2.006985\n",
              " 2019-01-07 20:00:00  2.019724\n",
              " 2019-01-07 21:00:00  1.495666\n",
              " 2019-01-07 22:00:00  1.463250\n",
              " 2019-01-07 23:00:00  1.121402\n",
              " \n",
              " [168 rows x 1 columns],                             0\n",
              " 2019-01-01 00:00:00  0.993615\n",
              " 2019-01-01 01:00:00 -0.001237\n",
              " 2019-01-01 02:00:00  0.430703\n",
              " 2019-01-01 03:00:00  0.545871\n",
              " 2019-01-01 04:00:00 -0.129532\n",
              " ...                       ...\n",
              " 2019-01-07 19:00:00  1.884097\n",
              " 2019-01-07 20:00:00  1.867159\n",
              " 2019-01-07 21:00:00  1.684527\n",
              " 2019-01-07 22:00:00  1.114404\n",
              " 2019-01-07 23:00:00  0.276291\n",
              " \n",
              " [168 rows x 1 columns],                             0\n",
              " 2019-01-01 00:00:00  0.865903\n",
              " 2019-01-01 01:00:00  1.351046\n",
              " 2019-01-01 02:00:00  0.198589\n",
              " 2019-01-01 03:00:00 -0.046473\n",
              " 2019-01-01 04:00:00  0.173224\n",
              " ...                       ...\n",
              " 2019-01-07 19:00:00  1.615790\n",
              " 2019-01-07 20:00:00  2.027281\n",
              " 2019-01-07 21:00:00  1.341264\n",
              " 2019-01-07 22:00:00  1.066489\n",
              " 2019-01-07 23:00:00  0.848360\n",
              " \n",
              " [168 rows x 1 columns],                             0\n",
              " 2019-01-01 00:00:00  0.473194\n",
              " 2019-01-01 01:00:00  0.291206\n",
              " 2019-01-01 02:00:00  0.640111\n",
              " 2019-01-01 03:00:00  0.029156\n",
              " 2019-01-01 04:00:00  0.462614\n",
              " ...                       ...\n",
              " 2019-01-07 19:00:00  1.650539\n",
              " 2019-01-07 20:00:00  2.184288\n",
              " 2019-01-07 21:00:00  1.390823\n",
              " 2019-01-07 22:00:00  1.185350\n",
              " 2019-01-07 23:00:00  0.910405\n",
              " \n",
              " [168 rows x 1 columns],                             0\n",
              " 2019-01-01 00:00:00  1.291409\n",
              " 2019-01-01 01:00:00  1.079983\n",
              " 2019-01-01 02:00:00  0.425064\n",
              " 2019-01-01 03:00:00  0.271140\n",
              " 2019-01-01 04:00:00  0.264079\n",
              " ...                       ...\n",
              " 2019-01-07 19:00:00  1.785588\n",
              " 2019-01-07 20:00:00  1.624440\n",
              " 2019-01-07 21:00:00  1.739588\n",
              " 2019-01-07 22:00:00  1.666462\n",
              " 2019-01-07 23:00:00  0.634429\n",
              " \n",
              " [168 rows x 1 columns],                             0\n",
              " 2019-01-01 00:00:00  1.240507\n",
              " 2019-01-01 01:00:00  0.439582\n",
              " 2019-01-01 02:00:00  0.825217\n",
              " 2019-01-01 03:00:00  0.138125\n",
              " 2019-01-01 04:00:00  0.279299\n",
              " ...                       ...\n",
              " 2019-01-07 19:00:00  2.309746\n",
              " 2019-01-07 20:00:00  0.956728\n",
              " 2019-01-07 21:00:00  1.433185\n",
              " 2019-01-07 22:00:00  0.833551\n",
              " 2019-01-07 23:00:00  1.072724\n",
              " \n",
              " [168 rows x 1 columns],                             0\n",
              " 2019-01-01 00:00:00  1.367139\n",
              " 2019-01-01 01:00:00  0.474835\n",
              " 2019-01-01 02:00:00  0.938392\n",
              " 2019-01-01 03:00:00  0.379999\n",
              " 2019-01-01 04:00:00  0.346636\n",
              " ...                       ...\n",
              " 2019-01-07 19:00:00  1.472485\n",
              " 2019-01-07 20:00:00  1.787236\n",
              " 2019-01-07 21:00:00  1.462299\n",
              " 2019-01-07 22:00:00  0.814576\n",
              " 2019-01-07 23:00:00  1.373301\n",
              " \n",
              " [168 rows x 1 columns],                             0\n",
              " 2019-01-01 00:00:00  1.132745\n",
              " 2019-01-01 01:00:00  0.954748\n",
              " 2019-01-01 02:00:00 -0.070371\n",
              " 2019-01-01 03:00:00 -0.059682\n",
              " 2019-01-01 04:00:00 -0.043920\n",
              " ...                       ...\n",
              " 2019-01-07 19:00:00  1.854368\n",
              " 2019-01-07 20:00:00  1.164856\n",
              " 2019-01-07 21:00:00  1.500001\n",
              " 2019-01-07 22:00:00  1.015273\n",
              " 2019-01-07 23:00:00  1.274738\n",
              " \n",
              " [168 rows x 1 columns],                             0\n",
              " 2019-01-01 00:00:00  0.735695\n",
              " 2019-01-01 01:00:00  0.527196\n",
              " 2019-01-01 02:00:00  0.501942\n",
              " 2019-01-01 03:00:00  0.240854\n",
              " 2019-01-01 04:00:00 -0.152190\n",
              " ...                       ...\n",
              " 2019-01-07 19:00:00  1.960887\n",
              " 2019-01-07 20:00:00  1.301624\n",
              " 2019-01-07 21:00:00  1.199399\n",
              " 2019-01-07 22:00:00  1.042670\n",
              " 2019-01-07 23:00:00  0.857497\n",
              " \n",
              " [168 rows x 1 columns],                             0\n",
              " 2019-01-01 00:00:00  1.024231\n",
              " 2019-01-01 01:00:00  1.118908\n",
              " 2019-01-01 02:00:00  0.639441\n",
              " 2019-01-01 03:00:00  0.141774\n",
              " 2019-01-01 04:00:00 -0.068109\n",
              " ...                       ...\n",
              " 2019-01-07 19:00:00  1.594597\n",
              " 2019-01-07 20:00:00  1.604966\n",
              " 2019-01-07 21:00:00  1.648498\n",
              " 2019-01-07 22:00:00  0.950798\n",
              " 2019-01-07 23:00:00  1.117355\n",
              " \n",
              " [168 rows x 1 columns],                             0\n",
              " 2019-01-01 00:00:00  0.977564\n",
              " 2019-01-01 01:00:00  0.430395\n",
              " 2019-01-01 02:00:00  0.583737\n",
              " 2019-01-01 03:00:00  0.561268\n",
              " 2019-01-01 04:00:00 -0.170811\n",
              " ...                       ...\n",
              " 2019-01-07 19:00:00  1.270093\n",
              " 2019-01-07 20:00:00  1.257631\n",
              " 2019-01-07 21:00:00  1.465311\n",
              " 2019-01-07 22:00:00  2.059697\n",
              " 2019-01-07 23:00:00  0.737844\n",
              " \n",
              " [168 rows x 1 columns],                             0\n",
              " 2019-01-01 00:00:00  1.138795\n",
              " 2019-01-01 01:00:00  0.901719\n",
              " 2019-01-01 02:00:00  0.307360\n",
              " 2019-01-01 03:00:00  0.155726\n",
              " 2019-01-01 04:00:00  0.055882\n",
              " ...                       ...\n",
              " 2019-01-07 19:00:00  2.788822\n",
              " 2019-01-07 20:00:00  1.685454\n",
              " 2019-01-07 21:00:00  1.302265\n",
              " 2019-01-07 22:00:00  1.281434\n",
              " 2019-01-07 23:00:00  0.964054\n",
              " \n",
              " [168 rows x 1 columns],                             0\n",
              " 2019-01-01 00:00:00  1.246255\n",
              " 2019-01-01 01:00:00  0.427954\n",
              " 2019-01-01 02:00:00  0.280078\n",
              " 2019-01-01 03:00:00  0.283655\n",
              " 2019-01-01 04:00:00  0.164626\n",
              " ...                       ...\n",
              " 2019-01-07 19:00:00  1.821151\n",
              " 2019-01-07 20:00:00  1.761613\n",
              " 2019-01-07 21:00:00  1.110610\n",
              " 2019-01-07 22:00:00  1.104646\n",
              " 2019-01-07 23:00:00  1.282557\n",
              " \n",
              " [168 rows x 1 columns],                             0\n",
              " 2019-01-01 00:00:00  1.125014\n",
              " 2019-01-01 01:00:00  1.197845\n",
              " 2019-01-01 02:00:00  0.341688\n",
              " 2019-01-01 03:00:00  0.163548\n",
              " 2019-01-01 04:00:00  0.319827\n",
              " ...                       ...\n",
              " 2019-01-07 19:00:00  1.805105\n",
              " 2019-01-07 20:00:00  1.459675\n",
              " 2019-01-07 21:00:00  1.541722\n",
              " 2019-01-07 22:00:00  1.784153\n",
              " 2019-01-07 23:00:00  0.998516\n",
              " \n",
              " [168 rows x 1 columns],                             0\n",
              " 2019-01-01 00:00:00  0.862576\n",
              " 2019-01-01 01:00:00  0.998383\n",
              " 2019-01-01 02:00:00  0.012128\n",
              " 2019-01-01 03:00:00  0.629092\n",
              " 2019-01-01 04:00:00 -0.295019\n",
              " ...                       ...\n",
              " 2019-01-07 19:00:00  1.540420\n",
              " 2019-01-07 20:00:00  2.126125\n",
              " 2019-01-07 21:00:00  1.032594\n",
              " 2019-01-07 22:00:00  1.323765\n",
              " 2019-01-07 23:00:00  1.205758\n",
              " \n",
              " [168 rows x 1 columns],                             0\n",
              " 2019-01-01 00:00:00  1.018089\n",
              " 2019-01-01 01:00:00  0.549039\n",
              " 2019-01-01 02:00:00  0.795090\n",
              " 2019-01-01 03:00:00 -0.407986\n",
              " 2019-01-01 04:00:00  0.094585\n",
              " ...                       ...\n",
              " 2019-01-07 19:00:00  1.924799\n",
              " 2019-01-07 20:00:00  1.570634\n",
              " 2019-01-07 21:00:00  1.500885\n",
              " 2019-01-07 22:00:00  1.419611\n",
              " 2019-01-07 23:00:00  0.816622\n",
              " \n",
              " [168 rows x 1 columns],                             0\n",
              " 2019-01-01 00:00:00  1.068393\n",
              " 2019-01-01 01:00:00  0.351214\n",
              " 2019-01-01 02:00:00  0.157225\n",
              " 2019-01-01 03:00:00  0.377387\n",
              " 2019-01-01 04:00:00  0.034816\n",
              " ...                       ...\n",
              " 2019-01-07 19:00:00  2.051386\n",
              " 2019-01-07 20:00:00  2.089220\n",
              " 2019-01-07 21:00:00  1.554248\n",
              " 2019-01-07 22:00:00  1.265096\n",
              " 2019-01-07 23:00:00  1.024546\n",
              " \n",
              " [168 rows x 1 columns],                             0\n",
              " 2019-01-01 00:00:00  1.093845\n",
              " 2019-01-01 01:00:00  0.574929\n",
              " 2019-01-01 02:00:00  0.195617\n",
              " 2019-01-01 03:00:00  0.118888\n",
              " 2019-01-01 04:00:00  0.219573\n",
              " ...                       ...\n",
              " 2019-01-07 19:00:00  1.547275\n",
              " 2019-01-07 20:00:00  1.971864\n",
              " 2019-01-07 21:00:00  2.103725\n",
              " 2019-01-07 22:00:00  1.354341\n",
              " 2019-01-07 23:00:00  1.184904\n",
              " \n",
              " [168 rows x 1 columns],                             0\n",
              " 2019-01-01 00:00:00  1.507033\n",
              " 2019-01-01 01:00:00  0.741892\n",
              " 2019-01-01 02:00:00  1.491375\n",
              " 2019-01-01 03:00:00  1.270149\n",
              " 2019-01-01 04:00:00  1.743266\n",
              " ...                       ...\n",
              " 2019-01-07 19:00:00  0.046098\n",
              " 2019-01-07 20:00:00  0.210488\n",
              " 2019-01-07 21:00:00  0.363766\n",
              " 2019-01-07 22:00:00  0.685435\n",
              " 2019-01-07 23:00:00  1.061947\n",
              " \n",
              " [168 rows x 1 columns],                             0\n",
              " 2019-01-01 00:00:00  0.852784\n",
              " 2019-01-01 01:00:00  1.671213\n",
              " 2019-01-01 02:00:00  1.829589\n",
              " 2019-01-01 03:00:00  1.613103\n",
              " 2019-01-01 04:00:00  1.970742\n",
              " ...                       ...\n",
              " 2019-01-07 19:00:00  0.225503\n",
              " 2019-01-07 20:00:00  0.539811\n",
              " 2019-01-07 21:00:00  0.485779\n",
              " 2019-01-07 22:00:00  0.698385\n",
              " 2019-01-07 23:00:00  1.284933\n",
              " \n",
              " [168 rows x 1 columns],                             0\n",
              " 2019-01-01 00:00:00  1.343672\n",
              " 2019-01-01 01:00:00  1.622663\n",
              " 2019-01-01 02:00:00  1.268225\n",
              " 2019-01-01 03:00:00  1.578888\n",
              " 2019-01-01 04:00:00  1.737725\n",
              " ...                       ...\n",
              " 2019-01-07 19:00:00 -0.047101\n",
              " 2019-01-07 20:00:00 -0.085946\n",
              " 2019-01-07 21:00:00  1.177648\n",
              " 2019-01-07 22:00:00  0.619386\n",
              " 2019-01-07 23:00:00  0.989315\n",
              " \n",
              " [168 rows x 1 columns],                             0\n",
              " 2019-01-01 00:00:00  1.516237\n",
              " 2019-01-01 01:00:00  1.263222\n",
              " 2019-01-01 02:00:00  1.194709\n",
              " 2019-01-01 03:00:00  1.257826\n",
              " 2019-01-01 04:00:00  1.845608\n",
              " ...                       ...\n",
              " 2019-01-07 19:00:00 -0.720816\n",
              " 2019-01-07 20:00:00  0.348906\n",
              " 2019-01-07 21:00:00  0.548684\n",
              " 2019-01-07 22:00:00  1.150550\n",
              " 2019-01-07 23:00:00  1.466653\n",
              " \n",
              " [168 rows x 1 columns],                             0\n",
              " 2019-01-01 00:00:00  1.252865\n",
              " 2019-01-01 01:00:00  1.540666\n",
              " 2019-01-01 02:00:00  1.615953\n",
              " 2019-01-01 03:00:00  1.550928\n",
              " 2019-01-01 04:00:00  1.580613\n",
              " ...                       ...\n",
              " 2019-01-07 19:00:00  0.111856\n",
              " 2019-01-07 20:00:00 -0.030201\n",
              " 2019-01-07 21:00:00  0.588300\n",
              " 2019-01-07 22:00:00  0.519414\n",
              " 2019-01-07 23:00:00  0.840266\n",
              " \n",
              " [168 rows x 1 columns],                             0\n",
              " 2019-01-01 00:00:00  0.771984\n",
              " 2019-01-01 01:00:00  0.872835\n",
              " 2019-01-01 02:00:00  1.359368\n",
              " 2019-01-01 03:00:00  1.081507\n",
              " 2019-01-01 04:00:00  2.009903\n",
              " ...                       ...\n",
              " 2019-01-07 19:00:00 -0.275489\n",
              " 2019-01-07 20:00:00  0.764277\n",
              " 2019-01-07 21:00:00  0.611542\n",
              " 2019-01-07 22:00:00  0.522531\n",
              " 2019-01-07 23:00:00  0.450179\n",
              " \n",
              " [168 rows x 1 columns],                             0\n",
              " 2019-01-01 00:00:00  0.964732\n",
              " 2019-01-01 01:00:00  1.275468\n",
              " 2019-01-01 02:00:00  1.487456\n",
              " 2019-01-01 03:00:00  1.201247\n",
              " 2019-01-01 04:00:00  2.059290\n",
              " ...                       ...\n",
              " 2019-01-07 19:00:00 -0.191024\n",
              " 2019-01-07 20:00:00  0.043312\n",
              " 2019-01-07 21:00:00  0.402757\n",
              " 2019-01-07 22:00:00  0.359044\n",
              " 2019-01-07 23:00:00  0.979033\n",
              " \n",
              " [168 rows x 1 columns],                             0\n",
              " 2019-01-01 00:00:00  1.066375\n",
              " 2019-01-01 01:00:00  1.393641\n",
              " 2019-01-01 02:00:00  1.683035\n",
              " 2019-01-01 03:00:00  1.624053\n",
              " 2019-01-01 04:00:00  1.947584\n",
              " ...                       ...\n",
              " 2019-01-07 19:00:00 -0.371812\n",
              " 2019-01-07 20:00:00  0.047495\n",
              " 2019-01-07 21:00:00  1.147695\n",
              " 2019-01-07 22:00:00  0.605574\n",
              " 2019-01-07 23:00:00  0.475578\n",
              " \n",
              " [168 rows x 1 columns],                             0\n",
              " 2019-01-01 00:00:00  0.932519\n",
              " 2019-01-01 01:00:00  1.030001\n",
              " 2019-01-01 02:00:00  1.713396\n",
              " 2019-01-01 03:00:00  1.783817\n",
              " 2019-01-01 04:00:00  1.394768\n",
              " ...                       ...\n",
              " 2019-01-07 19:00:00  0.289505\n",
              " 2019-01-07 20:00:00  0.506411\n",
              " 2019-01-07 21:00:00  0.417380\n",
              " 2019-01-07 22:00:00  1.057454\n",
              " 2019-01-07 23:00:00  1.273279\n",
              " \n",
              " [168 rows x 1 columns],                             0\n",
              " 2019-01-01 00:00:00  1.031606\n",
              " 2019-01-01 01:00:00  1.548002\n",
              " 2019-01-01 02:00:00  1.787490\n",
              " 2019-01-01 03:00:00  1.892177\n",
              " 2019-01-01 04:00:00  1.680777\n",
              " ...                       ...\n",
              " 2019-01-07 19:00:00  0.649432\n",
              " 2019-01-07 20:00:00  0.247403\n",
              " 2019-01-07 21:00:00  0.854721\n",
              " 2019-01-07 22:00:00  0.751546\n",
              " 2019-01-07 23:00:00  0.445668\n",
              " \n",
              " [168 rows x 1 columns],                             0\n",
              " 2019-01-01 00:00:00  1.589774\n",
              " 2019-01-01 01:00:00  1.197475\n",
              " 2019-01-01 02:00:00  1.472243\n",
              " 2019-01-01 03:00:00  1.888473\n",
              " 2019-01-01 04:00:00  1.314384\n",
              " ...                       ...\n",
              " 2019-01-07 19:00:00  0.093241\n",
              " 2019-01-07 20:00:00  0.080198\n",
              " 2019-01-07 21:00:00  0.158453\n",
              " 2019-01-07 22:00:00  0.730520\n",
              " 2019-01-07 23:00:00  0.694684\n",
              " \n",
              " [168 rows x 1 columns],                             0\n",
              " 2019-01-01 00:00:00  0.527702\n",
              " 2019-01-01 01:00:00  0.779167\n",
              " 2019-01-01 02:00:00  2.030878\n",
              " 2019-01-01 03:00:00  1.532305\n",
              " 2019-01-01 04:00:00  1.389910\n",
              " ...                       ...\n",
              " 2019-01-07 19:00:00  0.140113\n",
              " 2019-01-07 20:00:00  0.637603\n",
              " 2019-01-07 21:00:00  0.475059\n",
              " 2019-01-07 22:00:00  0.588590\n",
              " 2019-01-07 23:00:00  1.066424\n",
              " \n",
              " [168 rows x 1 columns],                             0\n",
              " 2019-01-01 00:00:00  1.434058\n",
              " 2019-01-01 01:00:00  1.398977\n",
              " 2019-01-01 02:00:00  1.839904\n",
              " 2019-01-01 03:00:00  1.243608\n",
              " 2019-01-01 04:00:00  1.531699\n",
              " ...                       ...\n",
              " 2019-01-07 19:00:00  0.123732\n",
              " 2019-01-07 20:00:00  0.143517\n",
              " 2019-01-07 21:00:00  0.484631\n",
              " 2019-01-07 22:00:00  0.430592\n",
              " 2019-01-07 23:00:00  0.754305\n",
              " \n",
              " [168 rows x 1 columns],                             0\n",
              " 2019-01-01 00:00:00  1.066553\n",
              " 2019-01-01 01:00:00  1.107073\n",
              " 2019-01-01 02:00:00  1.055853\n",
              " 2019-01-01 03:00:00  1.600453\n",
              " 2019-01-01 04:00:00  2.015550\n",
              " ...                       ...\n",
              " 2019-01-07 19:00:00  0.187980\n",
              " 2019-01-07 20:00:00  0.674916\n",
              " 2019-01-07 21:00:00  0.534503\n",
              " 2019-01-07 22:00:00  0.442592\n",
              " 2019-01-07 23:00:00  0.945371\n",
              " \n",
              " [168 rows x 1 columns],                             0\n",
              " 2019-01-01 00:00:00  1.917130\n",
              " 2019-01-01 01:00:00  1.724834\n",
              " 2019-01-01 02:00:00  1.215801\n",
              " 2019-01-01 03:00:00  1.679255\n",
              " 2019-01-01 04:00:00  2.010259\n",
              " ...                       ...\n",
              " 2019-01-07 19:00:00  0.053537\n",
              " 2019-01-07 20:00:00  0.931235\n",
              " 2019-01-07 21:00:00  0.368283\n",
              " 2019-01-07 22:00:00  1.136532\n",
              " 2019-01-07 23:00:00  0.945666\n",
              " \n",
              " [168 rows x 1 columns],                             0\n",
              " 2019-01-01 00:00:00  1.041805\n",
              " 2019-01-01 01:00:00  1.236355\n",
              " 2019-01-01 02:00:00  1.823018\n",
              " 2019-01-01 03:00:00  1.522763\n",
              " 2019-01-01 04:00:00  1.971514\n",
              " ...                       ...\n",
              " 2019-01-07 19:00:00  0.621702\n",
              " 2019-01-07 20:00:00 -0.019151\n",
              " 2019-01-07 21:00:00  0.702506\n",
              " 2019-01-07 22:00:00  0.909267\n",
              " 2019-01-07 23:00:00  0.399581\n",
              " \n",
              " [168 rows x 1 columns],                             0\n",
              " 2019-01-01 00:00:00  1.452273\n",
              " 2019-01-01 01:00:00  1.258115\n",
              " 2019-01-01 02:00:00  1.667688\n",
              " 2019-01-01 03:00:00  1.620201\n",
              " 2019-01-01 04:00:00  1.771613\n",
              " ...                       ...\n",
              " 2019-01-07 19:00:00  0.406680\n",
              " 2019-01-07 20:00:00 -0.024496\n",
              " 2019-01-07 21:00:00  0.342277\n",
              " 2019-01-07 22:00:00  0.945415\n",
              " 2019-01-07 23:00:00  0.342989\n",
              " \n",
              " [168 rows x 1 columns],                             0\n",
              " 2019-01-01 00:00:00  0.984367\n",
              " 2019-01-01 01:00:00  1.281905\n",
              " 2019-01-01 02:00:00  1.893193\n",
              " 2019-01-01 03:00:00  1.905911\n",
              " 2019-01-01 04:00:00  2.314961\n",
              " ...                       ...\n",
              " 2019-01-07 19:00:00  0.480687\n",
              " 2019-01-07 20:00:00  0.194319\n",
              " 2019-01-07 21:00:00  0.628964\n",
              " 2019-01-07 22:00:00  1.115264\n",
              " 2019-01-07 23:00:00  0.935408\n",
              " \n",
              " [168 rows x 1 columns],                             0\n",
              " 2019-01-01 00:00:00  0.530337\n",
              " 2019-01-01 01:00:00  1.589072\n",
              " 2019-01-01 02:00:00  1.385611\n",
              " 2019-01-01 03:00:00  1.918577\n",
              " 2019-01-01 04:00:00  1.752332\n",
              " ...                       ...\n",
              " 2019-01-07 19:00:00  0.393450\n",
              " 2019-01-07 20:00:00  0.228365\n",
              " 2019-01-07 21:00:00  0.235292\n",
              " 2019-01-07 22:00:00  0.358180\n",
              " 2019-01-07 23:00:00  0.858028\n",
              " \n",
              " [168 rows x 1 columns],                             0\n",
              " 2019-01-01 00:00:00  0.649871\n",
              " 2019-01-01 01:00:00  1.017406\n",
              " 2019-01-01 02:00:00  1.098761\n",
              " 2019-01-01 03:00:00  2.041968\n",
              " 2019-01-01 04:00:00  1.627227\n",
              " ...                       ...\n",
              " 2019-01-07 19:00:00  0.130955\n",
              " 2019-01-07 20:00:00  0.457122\n",
              " 2019-01-07 21:00:00  0.730435\n",
              " 2019-01-07 22:00:00  0.824418\n",
              " 2019-01-07 23:00:00  1.012742\n",
              " \n",
              " [168 rows x 1 columns],                             0\n",
              " 2019-01-01 00:00:00  0.411998\n",
              " 2019-01-01 01:00:00  1.721404\n",
              " 2019-01-01 02:00:00  0.926180\n",
              " 2019-01-01 03:00:00  1.555106\n",
              " 2019-01-01 04:00:00  2.093128\n",
              " ...                       ...\n",
              " 2019-01-07 19:00:00 -0.001347\n",
              " 2019-01-07 20:00:00 -0.575473\n",
              " 2019-01-07 21:00:00  0.221600\n",
              " 2019-01-07 22:00:00  0.480209\n",
              " 2019-01-07 23:00:00  1.366674\n",
              " \n",
              " [168 rows x 1 columns],                             0\n",
              " 2019-01-01 00:00:00  1.252360\n",
              " 2019-01-01 01:00:00  1.375096\n",
              " 2019-01-01 02:00:00  1.590360\n",
              " 2019-01-01 03:00:00  2.005823\n",
              " 2019-01-01 04:00:00  1.889881\n",
              " ...                       ...\n",
              " 2019-01-07 19:00:00  0.000052\n",
              " 2019-01-07 20:00:00  0.756531\n",
              " 2019-01-07 21:00:00  0.541987\n",
              " 2019-01-07 22:00:00  0.925126\n",
              " 2019-01-07 23:00:00  1.122321\n",
              " \n",
              " [168 rows x 1 columns],                             0\n",
              " 2019-01-01 00:00:00  0.933096\n",
              " 2019-01-01 01:00:00  1.042853\n",
              " 2019-01-01 02:00:00  1.492100\n",
              " 2019-01-01 03:00:00  2.057029\n",
              " 2019-01-01 04:00:00  1.807924\n",
              " ...                       ...\n",
              " 2019-01-07 19:00:00 -0.410066\n",
              " 2019-01-07 20:00:00  0.162083\n",
              " 2019-01-07 21:00:00  0.381556\n",
              " 2019-01-07 22:00:00  0.776525\n",
              " 2019-01-07 23:00:00  0.515430\n",
              " \n",
              " [168 rows x 1 columns],                             0\n",
              " 2019-01-01 00:00:00  0.765500\n",
              " 2019-01-01 01:00:00  1.548878\n",
              " 2019-01-01 02:00:00  1.389634\n",
              " 2019-01-01 03:00:00  1.288429\n",
              " 2019-01-01 04:00:00  1.505120\n",
              " ...                       ...\n",
              " 2019-01-07 19:00:00 -0.357368\n",
              " 2019-01-07 20:00:00  0.454262\n",
              " 2019-01-07 21:00:00  0.008069\n",
              " 2019-01-07 22:00:00  0.462950\n",
              " 2019-01-07 23:00:00  0.988519\n",
              " \n",
              " [168 rows x 1 columns],                             0\n",
              " 2019-01-01 00:00:00  0.695896\n",
              " 2019-01-01 01:00:00  1.189245\n",
              " 2019-01-01 02:00:00  1.661956\n",
              " 2019-01-01 03:00:00  1.174889\n",
              " 2019-01-01 04:00:00  2.347411\n",
              " ...                       ...\n",
              " 2019-01-07 19:00:00 -0.252350\n",
              " 2019-01-07 20:00:00  0.134813\n",
              " 2019-01-07 21:00:00  0.594865\n",
              " 2019-01-07 22:00:00  0.823154\n",
              " 2019-01-07 23:00:00  1.110182\n",
              " \n",
              " [168 rows x 1 columns],                             0\n",
              " 2019-01-01 00:00:00  0.846751\n",
              " 2019-01-01 01:00:00  0.931972\n",
              " 2019-01-01 02:00:00  1.655261\n",
              " 2019-01-01 03:00:00  1.034842\n",
              " 2019-01-01 04:00:00  2.270809\n",
              " ...                       ...\n",
              " 2019-01-07 19:00:00  0.788026\n",
              " 2019-01-07 20:00:00  0.566008\n",
              " 2019-01-07 21:00:00  0.508678\n",
              " 2019-01-07 22:00:00  0.746991\n",
              " 2019-01-07 23:00:00  0.806874\n",
              " \n",
              " [168 rows x 1 columns],                             0\n",
              " 2019-01-01 00:00:00  0.844172\n",
              " 2019-01-01 01:00:00  1.236391\n",
              " 2019-01-01 02:00:00  1.340962\n",
              " 2019-01-01 03:00:00  1.740001\n",
              " 2019-01-01 04:00:00  2.499783\n",
              " ...                       ...\n",
              " 2019-01-07 19:00:00  0.278580\n",
              " 2019-01-07 20:00:00  0.510638\n",
              " 2019-01-07 21:00:00  0.182977\n",
              " 2019-01-07 22:00:00  0.657395\n",
              " 2019-01-07 23:00:00  1.131898\n",
              " \n",
              " [168 rows x 1 columns],                             0\n",
              " 2019-01-01 00:00:00  1.338749\n",
              " 2019-01-01 01:00:00  1.735994\n",
              " 2019-01-01 02:00:00  1.525779\n",
              " 2019-01-01 03:00:00  2.663631\n",
              " 2019-01-01 04:00:00  1.704412\n",
              " ...                       ...\n",
              " 2019-01-07 19:00:00  0.019886\n",
              " 2019-01-07 20:00:00  0.343585\n",
              " 2019-01-07 21:00:00  0.707853\n",
              " 2019-01-07 22:00:00  0.557396\n",
              " 2019-01-07 23:00:00  0.441098\n",
              " \n",
              " [168 rows x 1 columns],                             0\n",
              " 2019-01-01 00:00:00  1.312666\n",
              " 2019-01-01 01:00:00  0.747827\n",
              " 2019-01-01 02:00:00  1.886259\n",
              " 2019-01-01 03:00:00  1.890719\n",
              " 2019-01-01 04:00:00  1.724613\n",
              " ...                       ...\n",
              " 2019-01-07 19:00:00  0.870883\n",
              " 2019-01-07 20:00:00  0.247367\n",
              " 2019-01-07 21:00:00  0.736277\n",
              " 2019-01-07 22:00:00  0.665169\n",
              " 2019-01-07 23:00:00  0.642299\n",
              " \n",
              " [168 rows x 1 columns],                             0\n",
              " 2019-01-01 00:00:00  1.235849\n",
              " 2019-01-01 01:00:00  1.216851\n",
              " 2019-01-01 02:00:00  1.678957\n",
              " 2019-01-01 03:00:00  1.540702\n",
              " 2019-01-01 04:00:00  2.040679\n",
              " ...                       ...\n",
              " 2019-01-07 19:00:00  0.274029\n",
              " 2019-01-07 20:00:00  0.304808\n",
              " 2019-01-07 21:00:00  0.008619\n",
              " 2019-01-07 22:00:00  1.074100\n",
              " 2019-01-07 23:00:00  0.952016\n",
              " \n",
              " [168 rows x 1 columns],                             0\n",
              " 2019-01-01 00:00:00  0.522746\n",
              " 2019-01-01 01:00:00  1.611873\n",
              " 2019-01-01 02:00:00  1.535634\n",
              " 2019-01-01 03:00:00  1.932221\n",
              " 2019-01-01 04:00:00  1.820172\n",
              " ...                       ...\n",
              " 2019-01-07 19:00:00 -0.178596\n",
              " 2019-01-07 20:00:00  0.236284\n",
              " 2019-01-07 21:00:00  0.539184\n",
              " 2019-01-07 22:00:00  1.256074\n",
              " 2019-01-07 23:00:00  1.467711\n",
              " \n",
              " [168 rows x 1 columns],                             0\n",
              " 2019-01-01 00:00:00  1.465282\n",
              " 2019-01-01 01:00:00  1.532844\n",
              " 2019-01-01 02:00:00  0.984370\n",
              " 2019-01-01 03:00:00  1.678872\n",
              " 2019-01-01 04:00:00  1.698840\n",
              " ...                       ...\n",
              " 2019-01-07 19:00:00  0.649944\n",
              " 2019-01-07 20:00:00  0.159038\n",
              " 2019-01-07 21:00:00  0.568643\n",
              " 2019-01-07 22:00:00  0.940097\n",
              " 2019-01-07 23:00:00  1.055953\n",
              " \n",
              " [168 rows x 1 columns],                             0\n",
              " 2019-01-01 00:00:00  1.081438\n",
              " 2019-01-01 01:00:00  0.913446\n",
              " 2019-01-01 02:00:00  1.535635\n",
              " 2019-01-01 03:00:00  1.621206\n",
              " 2019-01-01 04:00:00  1.255530\n",
              " ...                       ...\n",
              " 2019-01-07 19:00:00  0.755566\n",
              " 2019-01-07 20:00:00  0.724507\n",
              " 2019-01-07 21:00:00  0.576565\n",
              " 2019-01-07 22:00:00  1.101709\n",
              " 2019-01-07 23:00:00  0.817797\n",
              " \n",
              " [168 rows x 1 columns],                             0\n",
              " 2019-01-01 00:00:00  1.059818\n",
              " 2019-01-01 01:00:00  0.789785\n",
              " 2019-01-01 02:00:00  1.291431\n",
              " 2019-01-01 03:00:00  1.685600\n",
              " 2019-01-01 04:00:00  1.842431\n",
              " ...                       ...\n",
              " 2019-01-07 19:00:00 -0.073557\n",
              " 2019-01-07 20:00:00  0.532851\n",
              " 2019-01-07 21:00:00  0.465451\n",
              " 2019-01-07 22:00:00  0.771849\n",
              " 2019-01-07 23:00:00  0.810717\n",
              " \n",
              " [168 rows x 1 columns],                             0\n",
              " 2019-01-01 00:00:00  0.624574\n",
              " 2019-01-01 01:00:00  0.990189\n",
              " 2019-01-01 02:00:00  1.105176\n",
              " 2019-01-01 03:00:00  2.238585\n",
              " 2019-01-01 04:00:00  2.031378\n",
              " ...                       ...\n",
              " 2019-01-07 19:00:00 -0.195084\n",
              " 2019-01-07 20:00:00  0.490853\n",
              " 2019-01-07 21:00:00  0.662349\n",
              " 2019-01-07 22:00:00  0.860022\n",
              " 2019-01-07 23:00:00  1.144216\n",
              " \n",
              " [168 rows x 1 columns],                             0\n",
              " 2019-01-01 00:00:00  1.046455\n",
              " 2019-01-01 01:00:00  1.217090\n",
              " 2019-01-01 02:00:00  1.394963\n",
              " 2019-01-01 03:00:00  1.562795\n",
              " 2019-01-01 04:00:00  1.699290\n",
              " ...                       ...\n",
              " 2019-01-07 19:00:00  0.526525\n",
              " 2019-01-07 20:00:00  0.386605\n",
              " 2019-01-07 21:00:00  1.212444\n",
              " 2019-01-07 22:00:00  0.989170\n",
              " 2019-01-07 23:00:00  1.149692\n",
              " \n",
              " [168 rows x 1 columns],                             0\n",
              " 2019-01-01 00:00:00  1.137265\n",
              " 2019-01-01 01:00:00  1.449946\n",
              " 2019-01-01 02:00:00  1.940280\n",
              " 2019-01-01 03:00:00  1.456422\n",
              " 2019-01-01 04:00:00  2.006063\n",
              " ...                       ...\n",
              " 2019-01-07 19:00:00  0.091244\n",
              " 2019-01-07 20:00:00  0.577888\n",
              " 2019-01-07 21:00:00  0.274510\n",
              " 2019-01-07 22:00:00  1.207837\n",
              " 2019-01-07 23:00:00  0.845503\n",
              " \n",
              " [168 rows x 1 columns],                             0\n",
              " 2019-01-01 00:00:00  1.129394\n",
              " 2019-01-01 01:00:00  1.639554\n",
              " 2019-01-01 02:00:00  1.741039\n",
              " 2019-01-01 03:00:00  1.746030\n",
              " 2019-01-01 04:00:00  1.969448\n",
              " ...                       ...\n",
              " 2019-01-07 19:00:00 -0.583988\n",
              " 2019-01-07 20:00:00  0.237754\n",
              " 2019-01-07 21:00:00  0.319555\n",
              " 2019-01-07 22:00:00  0.775312\n",
              " 2019-01-07 23:00:00  0.936415\n",
              " \n",
              " [168 rows x 1 columns],                             0\n",
              " 2019-01-01 00:00:00  1.058559\n",
              " 2019-01-01 01:00:00  1.377643\n",
              " 2019-01-01 02:00:00  1.851719\n",
              " 2019-01-01 03:00:00  1.897085\n",
              " 2019-01-01 04:00:00  1.216135\n",
              " ...                       ...\n",
              " 2019-01-07 19:00:00  0.487520\n",
              " 2019-01-07 20:00:00 -0.216233\n",
              " 2019-01-07 21:00:00  0.421600\n",
              " 2019-01-07 22:00:00  0.394966\n",
              " 2019-01-07 23:00:00  0.981182\n",
              " \n",
              " [168 rows x 1 columns],                             0\n",
              " 2019-01-01 00:00:00  1.109442\n",
              " 2019-01-01 01:00:00  1.418116\n",
              " 2019-01-01 02:00:00  1.660576\n",
              " 2019-01-01 03:00:00  2.207747\n",
              " 2019-01-01 04:00:00  2.031497\n",
              " ...                       ...\n",
              " 2019-01-07 19:00:00 -0.184858\n",
              " 2019-01-07 20:00:00  0.374775\n",
              " 2019-01-07 21:00:00  0.469247\n",
              " 2019-01-07 22:00:00  0.758852\n",
              " 2019-01-07 23:00:00  1.267736\n",
              " \n",
              " [168 rows x 1 columns],                             0\n",
              " 2019-01-01 00:00:00  0.583076\n",
              " 2019-01-01 01:00:00  1.357041\n",
              " 2019-01-01 02:00:00  1.562596\n",
              " 2019-01-01 03:00:00  1.370762\n",
              " 2019-01-01 04:00:00  1.540529\n",
              " ...                       ...\n",
              " 2019-01-07 19:00:00 -0.249002\n",
              " 2019-01-07 20:00:00  0.295553\n",
              " 2019-01-07 21:00:00  0.176719\n",
              " 2019-01-07 22:00:00  1.411306\n",
              " 2019-01-07 23:00:00  0.940404\n",
              " \n",
              " [168 rows x 1 columns],                             0\n",
              " 2019-01-01 00:00:00  1.304284\n",
              " 2019-01-01 01:00:00  1.096826\n",
              " 2019-01-01 02:00:00  1.464075\n",
              " 2019-01-01 03:00:00  2.007380\n",
              " 2019-01-01 04:00:00  1.461426\n",
              " ...                       ...\n",
              " 2019-01-07 19:00:00 -0.338365\n",
              " 2019-01-07 20:00:00  0.139231\n",
              " 2019-01-07 21:00:00  0.263333\n",
              " 2019-01-07 22:00:00  0.350634\n",
              " 2019-01-07 23:00:00  1.550657\n",
              " \n",
              " [168 rows x 1 columns],                             0\n",
              " 2019-01-01 00:00:00  0.715243\n",
              " 2019-01-01 01:00:00  1.505163\n",
              " 2019-01-01 02:00:00  1.489435\n",
              " 2019-01-01 03:00:00  1.455679\n",
              " 2019-01-01 04:00:00  1.700430\n",
              " ...                       ...\n",
              " 2019-01-07 19:00:00  0.153838\n",
              " 2019-01-07 20:00:00  0.097473\n",
              " 2019-01-07 21:00:00  0.538789\n",
              " 2019-01-07 22:00:00  0.878252\n",
              " 2019-01-07 23:00:00  1.260142\n",
              " \n",
              " [168 rows x 1 columns],                             0\n",
              " 2019-01-01 00:00:00  1.012028\n",
              " 2019-01-01 01:00:00  1.007174\n",
              " 2019-01-01 02:00:00  1.632218\n",
              " 2019-01-01 03:00:00  1.696560\n",
              " 2019-01-01 04:00:00  1.745036\n",
              " ...                       ...\n",
              " 2019-01-07 19:00:00  0.110490\n",
              " 2019-01-07 20:00:00  0.061967\n",
              " 2019-01-07 21:00:00  0.538907\n",
              " 2019-01-07 22:00:00  1.076005\n",
              " 2019-01-07 23:00:00  1.188332\n",
              " \n",
              " [168 rows x 1 columns],                             0\n",
              " 2019-01-01 00:00:00  0.874958\n",
              " 2019-01-01 01:00:00  1.120218\n",
              " 2019-01-01 02:00:00  1.387120\n",
              " 2019-01-01 03:00:00  1.873608\n",
              " 2019-01-01 04:00:00  1.588030\n",
              " ...                       ...\n",
              " 2019-01-07 19:00:00 -0.090385\n",
              " 2019-01-07 20:00:00  0.463352\n",
              " 2019-01-07 21:00:00  0.307062\n",
              " 2019-01-07 22:00:00  0.903250\n",
              " 2019-01-07 23:00:00  1.714397\n",
              " \n",
              " [168 rows x 1 columns],                             0\n",
              " 2019-01-01 00:00:00  0.733516\n",
              " 2019-01-01 01:00:00  1.258673\n",
              " 2019-01-01 02:00:00  1.045018\n",
              " 2019-01-01 03:00:00  1.568727\n",
              " 2019-01-01 04:00:00  2.164599\n",
              " ...                       ...\n",
              " 2019-01-07 19:00:00 -0.078558\n",
              " 2019-01-07 20:00:00  0.591729\n",
              " 2019-01-07 21:00:00  0.527048\n",
              " 2019-01-07 22:00:00  0.985198\n",
              " 2019-01-07 23:00:00  1.086369\n",
              " \n",
              " [168 rows x 1 columns],                             0\n",
              " 2019-01-01 00:00:00  1.414948\n",
              " 2019-01-01 01:00:00  1.595873\n",
              " 2019-01-01 02:00:00  0.945227\n",
              " 2019-01-01 03:00:00  1.537437\n",
              " 2019-01-01 04:00:00  1.693595\n",
              " ...                       ...\n",
              " 2019-01-07 19:00:00  0.846944\n",
              " 2019-01-07 20:00:00  0.120598\n",
              " 2019-01-07 21:00:00  0.206377\n",
              " 2019-01-07 22:00:00  1.048200\n",
              " 2019-01-07 23:00:00  1.195593\n",
              " \n",
              " [168 rows x 1 columns],                             0\n",
              " 2019-01-01 00:00:00  0.666933\n",
              " 2019-01-01 01:00:00  1.381901\n",
              " 2019-01-01 02:00:00  1.874309\n",
              " 2019-01-01 03:00:00  2.043802\n",
              " 2019-01-01 04:00:00  1.833555\n",
              " ...                       ...\n",
              " 2019-01-07 19:00:00  0.383645\n",
              " 2019-01-07 20:00:00  0.013314\n",
              " 2019-01-07 21:00:00  0.218890\n",
              " 2019-01-07 22:00:00  0.485186\n",
              " 2019-01-07 23:00:00  1.660337\n",
              " \n",
              " [168 rows x 1 columns],                             0\n",
              " 2019-01-01 00:00:00  1.177374\n",
              " 2019-01-01 01:00:00  1.503232\n",
              " 2019-01-01 02:00:00  1.253041\n",
              " 2019-01-01 03:00:00  1.316254\n",
              " 2019-01-01 04:00:00  1.538880\n",
              " ...                       ...\n",
              " 2019-01-07 19:00:00  0.079100\n",
              " 2019-01-07 20:00:00  0.656188\n",
              " 2019-01-07 21:00:00  0.554340\n",
              " 2019-01-07 22:00:00  1.015661\n",
              " 2019-01-07 23:00:00  0.907039\n",
              " \n",
              " [168 rows x 1 columns],                             0\n",
              " 2019-01-01 00:00:00  0.889922\n",
              " 2019-01-01 01:00:00  1.299137\n",
              " 2019-01-01 02:00:00  1.785522\n",
              " 2019-01-01 03:00:00  1.674497\n",
              " 2019-01-01 04:00:00  2.058946\n",
              " ...                       ...\n",
              " 2019-01-07 19:00:00  0.184829\n",
              " 2019-01-07 20:00:00  0.007804\n",
              " 2019-01-07 21:00:00  0.646989\n",
              " 2019-01-07 22:00:00  0.422630\n",
              " 2019-01-07 23:00:00  0.704445\n",
              " \n",
              " [168 rows x 1 columns]]"
            ]
          },
          "metadata": {
            "tags": []
          },
          "execution_count": 36
        }
      ]
    },
    {
      "cell_type": "code",
      "metadata": {
        "id": "FBxnFRI06UQh",
        "colab_type": "code",
        "colab": {
          "base_uri": "https://localhost:8080/",
          "height": 57
        },
        "outputId": "b501b35f-e3c1-45b3-9beb-e77d55942b53"
      },
      "source": [
        "# first entry of the time series list\n",
        "ts_entry = tss[0]\n",
        "\n",
        "# first 5 values of the time series (convert from pandas to numpy)\n",
        "np.array(ts_entry[:5]).reshape(-1,)"
      ],
      "execution_count": 37,
      "outputs": [
        {
          "output_type": "execute_result",
          "data": {
            "text/plain": [
              "array([1.5292157 , 0.85025036, 0.7740374 , 0.941432  , 0.6723822 ],\n",
              "      dtype=float32)"
            ]
          },
          "metadata": {
            "tags": []
          },
          "execution_count": 37
        }
      ]
    },
    {
      "cell_type": "code",
      "metadata": {
        "id": "7e-uMGmc6j1d",
        "colab_type": "code",
        "colab": {
          "base_uri": "https://localhost:8080/",
          "height": 57
        },
        "outputId": "9f0ca0a7-6dcd-49b8-de30-4bf4aed0aa89"
      },
      "source": [
        "# first entry of test_ds\n",
        "test_ds_entry = next(iter(test_ds))\n",
        "\n",
        "# first 5 values\n",
        "test_ds_entry['target'][:5]"
      ],
      "execution_count": 38,
      "outputs": [
        {
          "output_type": "execute_result",
          "data": {
            "text/plain": [
              "array([1.5292157 , 0.85025036, 0.7740374 , 0.941432  , 0.6723822 ],\n",
              "      dtype=float32)"
            ]
          },
          "metadata": {
            "tags": []
          },
          "execution_count": 38
        }
      ]
    },
    {
      "cell_type": "code",
      "metadata": {
        "id": "UVdyf7P66rwD",
        "colab_type": "code",
        "colab": {
          "base_uri": "https://localhost:8080/",
          "height": 97
        },
        "outputId": "443d632c-a22f-43e5-9bca-e3b071c24a96"
      },
      "source": [
        "# first entry of the forecast list\n",
        "forecast_entry = forecasts[0]\n",
        "\n",
        "print(f\"Number of sample paths: {forecast_entry.num_samples}\")\n",
        "print(f\"Dimension of samples: {forecast_entry.samples.shape}\")\n",
        "print(f\"Start date of the forecast window: {forecast_entry.start_date}\")\n",
        "print(f\"Frequency of the time series: {forecast_entry.freq}\")"
      ],
      "execution_count": 39,
      "outputs": [
        {
          "output_type": "stream",
          "text": [
            "Number of sample paths: 100\n",
            "Dimension of samples: (100, 24)\n",
            "Start date of the forecast window: 2019-01-07 00:00:00\n",
            "Frequency of the time series: 1H\n"
          ],
          "name": "stdout"
        }
      ]
    },
    {
      "cell_type": "code",
      "metadata": {
        "id": "rwPK9ISW62Ek",
        "colab_type": "code",
        "colab": {
          "base_uri": "https://localhost:8080/",
          "height": 217
        },
        "outputId": "21815176-885e-4b17-cd3f-508a8dfb4ad1"
      },
      "source": [
        "print(f\"Mean of the future window:\\n {forecast_entry.mean}\")\n",
        "print(f\"0.5-quantile (median) of the future window:\\n {forecast_entry.quantile(0.5)}\")"
      ],
      "execution_count": 40,
      "outputs": [
        {
          "output_type": "stream",
          "text": [
            "Mean of the future window:\n",
            " [ 1.010157    0.69693625  0.53895813  0.17014767  0.04618827 -0.03344584\n",
            "  0.07930034  0.11288085  0.19550577  0.57333446  0.549907    0.79348063\n",
            "  1.1016355   1.3151007   1.4880301   1.8059026   2.0123706   2.1087887\n",
            "  1.751892    1.5947442   1.7505257   1.2426538   1.1423274   1.0145165 ]\n",
            "0.5-quantile (median) of the future window:\n",
            " [0.99757624 0.68248665 0.5009976  0.18920158 0.04634123 0.00625209\n",
            " 0.05963631 0.09024727 0.2192874  0.533474   0.567426   0.8464734\n",
            " 1.1004285  1.3207511  1.4701387  1.7942314  1.9720867  2.1027093\n",
            " 1.7633646  1.6294644  1.7195903  1.2796788  1.1697702  1.0200057 ]\n"
          ],
          "name": "stdout"
        }
      ]
    },
    {
      "cell_type": "code",
      "metadata": {
        "id": "Cs_6eI10661w",
        "colab_type": "code",
        "colab": {}
      },
      "source": [
        "def plot_prob_forecasts(ts_entry, forecast_entry):\n",
        "    plot_length = 150\n",
        "    prediction_intervals = (50.0, 90.0)\n",
        "    legend = [\"observations\", \"median prediction\"] + [f\"{k}% prediction interval\" for k in prediction_intervals][::-1]\n",
        "\n",
        "    fig, ax = plt.subplots(1, 1, figsize=(10, 7))\n",
        "    ts_entry[-plot_length:].plot(ax=ax)  # plot the time series\n",
        "    forecast_entry.plot(prediction_intervals=prediction_intervals, color='g')\n",
        "    plt.grid(which=\"both\")\n",
        "    plt.legend(legend, loc=\"upper left\")\n",
        "    plt.show()"
      ],
      "execution_count": 41,
      "outputs": []
    },
    {
      "cell_type": "code",
      "metadata": {
        "id": "lEWw8uUB6-Bo",
        "colab_type": "code",
        "colab": {
          "base_uri": "https://localhost:8080/",
          "height": 450
        },
        "outputId": "5746265c-3e48-4c74-dc58-b9dfa8909bfa"
      },
      "source": [
        "plot_prob_forecasts(ts_entry, forecast_entry)"
      ],
      "execution_count": 42,
      "outputs": [
        {
          "output_type": "display_data",
          "data": {
            "image/png": "[encoded data removed]",
            "text/plain": [
              "<Figure size 720x504 with 1 Axes>"
            ]
          },
          "metadata": {
            "tags": [],
            "needs_background": "light"
          }
        }
      ]
    },
    {
      "cell_type": "code",
      "metadata": {
        "id": "ZO68E2X97B7j",
        "colab_type": "code",
        "colab": {}
      },
      "source": [
        "from gluonts.evaluation import Evaluator"
      ],
      "execution_count": 43,
      "outputs": []
    },
    {
      "cell_type": "code",
      "metadata": {
        "id": "_5Hi6sHf7Fc2",
        "colab_type": "code",
        "colab": {
          "base_uri": "https://localhost:8080/",
          "height": 37
        },
        "outputId": "d94ade23-ff85-44f1-8957-6ed3268d602e"
      },
      "source": [
        "evaluator = Evaluator(quantiles=[0.1, 0.5, 0.9])\n",
        "agg_metrics, item_metrics = evaluator(iter(tss), iter(forecasts), num_series=len(test_ds))"
      ],
      "execution_count": 44,
      "outputs": [
        {
          "output_type": "stream",
          "text": [
            "Running evaluation: 100%|██████████| 100/100 [00:00<00:00, 3164.13it/s]\n"
          ],
          "name": "stderr"
        }
      ]
    },
    {
      "cell_type": "code",
      "metadata": {
        "id": "iIfp_8TV7Gha",
        "colab_type": "code",
        "colab": {
          "base_uri": "https://localhost:8080/",
          "height": 537
        },
        "outputId": "20722675-afff-418e-b9c2-aee2e4e02f34"
      },
      "source": [
        "print(json.dumps(agg_metrics, indent=4))"
      ],
      "execution_count": 45,
      "outputs": [
        {
          "output_type": "stream",
          "text": [
            "{\n",
            "    \"MSE\": 0.11134329497814179,\n",
            "    \"abs_error\": 637.5226683616638,\n",
            "    \"abs_target_sum\": 2505.765546798706,\n",
            "    \"abs_target_mean\": 1.0440689778327943,\n",
            "    \"seasonal_error\": 0.3378558193842571,\n",
            "    \"MASE\": 0.7932630526420743,\n",
            "    \"MAPE\": 2.1814811062887745,\n",
            "    \"sMAPE\": 0.535017150398573,\n",
            "    \"OWA\": NaN,\n",
            "    \"MSIS\": 7.072284060426365,\n",
            "    \"QuantileLoss[0.1]\": 281.159686344862,\n",
            "    \"Coverage[0.1]\": 0.09958333333333337,\n",
            "    \"QuantileLoss[0.5]\": 637.5226644352078,\n",
            "    \"Coverage[0.5]\": 0.5058333333333335,\n",
            "    \"QuantileLoss[0.9]\": 308.16382847242045,\n",
            "    \"Coverage[0.9]\": 0.8766666666666666,\n",
            "    \"RMSE\": 0.3336814273796817,\n",
            "    \"NRMSE\": 0.31959710944799297,\n",
            "    \"ND\": 0.25442231384182945,\n",
            "    \"wQuantileLoss[0.1]\": 0.11220510502431623,\n",
            "    \"wQuantileLoss[0.5]\": 0.25442231227486084,\n",
            "    \"wQuantileLoss[0.9]\": 0.12298190821009639,\n",
            "    \"mean_wQuantileLoss\": 0.16320310850309117,\n",
            "    \"MAE_Coverage\": 0.009861111111111176\n",
            "}\n"
          ],
          "name": "stdout"
        }
      ]
    },
    {
      "cell_type": "code",
      "metadata": {
        "id": "iJ3EbtZa7Jty",
        "colab_type": "code",
        "colab": {
          "base_uri": "https://localhost:8080/",
          "height": 224
        },
        "outputId": "bcdcc585-1a36-4ad8-eabe-2ac5828cb776"
      },
      "source": [
        "item_metrics.head()"
      ],
      "execution_count": 46,
      "outputs": [
        {
          "output_type": "execute_result",
          "data": {
            "text/html": [
              "<div>\n",
              "<style scoped>\n",
              "    .dataframe tbody tr th:only-of-type {\n",
              "        vertical-align: middle;\n",
              "    }\n",
              "\n",
              "    .dataframe tbody tr th {\n",
              "        vertical-align: top;\n",
              "    }\n",
              "\n",
              "    .dataframe thead th {\n",
              "        text-align: right;\n",
              "    }\n",
              "</style>\n",
              "<table border=\"1\" class=\"dataframe\">\n",
              "  <thead>\n",
              "    <tr style=\"text-align: right;\">\n",
              "      <th></th>\n",
              "      <th>item_id</th>\n",
              "      <th>MSE</th>\n",
              "      <th>abs_error</th>\n",
              "      <th>abs_target_sum</th>\n",
              "      <th>abs_target_mean</th>\n",
              "      <th>seasonal_error</th>\n",
              "      <th>MASE</th>\n",
              "      <th>MAPE</th>\n",
              "      <th>sMAPE</th>\n",
              "      <th>OWA</th>\n",
              "      <th>MSIS</th>\n",
              "      <th>QuantileLoss[0.1]</th>\n",
              "      <th>Coverage[0.1]</th>\n",
              "      <th>QuantileLoss[0.5]</th>\n",
              "      <th>Coverage[0.5]</th>\n",
              "      <th>QuantileLoss[0.9]</th>\n",
              "      <th>Coverage[0.9]</th>\n",
              "    </tr>\n",
              "  </thead>\n",
              "  <tbody>\n",
              "    <tr>\n",
              "      <th>0</th>\n",
              "      <td>NaN</td>\n",
              "      <td>0.128362</td>\n",
              "      <td>7.511822</td>\n",
              "      <td>24.638548</td>\n",
              "      <td>1.026606</td>\n",
              "      <td>0.351642</td>\n",
              "      <td>0.890090</td>\n",
              "      <td>0.971391</td>\n",
              "      <td>0.688437</td>\n",
              "      <td>NaN</td>\n",
              "      <td>7.744248</td>\n",
              "      <td>2.613649</td>\n",
              "      <td>0.125000</td>\n",
              "      <td>7.511821</td>\n",
              "      <td>0.583333</td>\n",
              "      <td>3.514309</td>\n",
              "      <td>0.750000</td>\n",
              "    </tr>\n",
              "    <tr>\n",
              "      <th>1</th>\n",
              "      <td>NaN</td>\n",
              "      <td>0.093853</td>\n",
              "      <td>5.706580</td>\n",
              "      <td>22.178631</td>\n",
              "      <td>0.924110</td>\n",
              "      <td>0.340241</td>\n",
              "      <td>0.698839</td>\n",
              "      <td>1.130932</td>\n",
              "      <td>0.524796</td>\n",
              "      <td>NaN</td>\n",
              "      <td>6.439231</td>\n",
              "      <td>2.622835</td>\n",
              "      <td>0.083333</td>\n",
              "      <td>5.706580</td>\n",
              "      <td>0.750000</td>\n",
              "      <td>3.147576</td>\n",
              "      <td>0.875000</td>\n",
              "    </tr>\n",
              "    <tr>\n",
              "      <th>2</th>\n",
              "      <td>NaN</td>\n",
              "      <td>0.128940</td>\n",
              "      <td>6.430587</td>\n",
              "      <td>26.601139</td>\n",
              "      <td>1.108381</td>\n",
              "      <td>0.323560</td>\n",
              "      <td>0.828104</td>\n",
              "      <td>0.393957</td>\n",
              "      <td>0.529482</td>\n",
              "      <td>NaN</td>\n",
              "      <td>11.424002</td>\n",
              "      <td>3.234810</td>\n",
              "      <td>0.041667</td>\n",
              "      <td>6.430587</td>\n",
              "      <td>0.375000</td>\n",
              "      <td>4.025435</td>\n",
              "      <td>0.833333</td>\n",
              "    </tr>\n",
              "    <tr>\n",
              "      <th>3</th>\n",
              "      <td>NaN</td>\n",
              "      <td>0.108289</td>\n",
              "      <td>6.426091</td>\n",
              "      <td>22.502333</td>\n",
              "      <td>0.937597</td>\n",
              "      <td>0.311026</td>\n",
              "      <td>0.860873</td>\n",
              "      <td>1.176748</td>\n",
              "      <td>0.591845</td>\n",
              "      <td>NaN</td>\n",
              "      <td>6.660148</td>\n",
              "      <td>2.982630</td>\n",
              "      <td>0.166667</td>\n",
              "      <td>6.426091</td>\n",
              "      <td>0.666667</td>\n",
              "      <td>2.601714</td>\n",
              "      <td>0.958333</td>\n",
              "    </tr>\n",
              "    <tr>\n",
              "      <th>4</th>\n",
              "      <td>NaN</td>\n",
              "      <td>0.060962</td>\n",
              "      <td>4.492189</td>\n",
              "      <td>25.864388</td>\n",
              "      <td>1.077683</td>\n",
              "      <td>0.313119</td>\n",
              "      <td>0.597774</td>\n",
              "      <td>1.274738</td>\n",
              "      <td>0.435189</td>\n",
              "      <td>NaN</td>\n",
              "      <td>4.111522</td>\n",
              "      <td>2.435766</td>\n",
              "      <td>0.041667</td>\n",
              "      <td>4.492189</td>\n",
              "      <td>0.541667</td>\n",
              "      <td>2.480141</td>\n",
              "      <td>0.958333</td>\n",
              "    </tr>\n",
              "  </tbody>\n",
              "</table>\n",
              "</div>"
            ],
            "text/plain": [
              "   item_id       MSE  ...  QuantileLoss[0.9]  Coverage[0.9]\n",
              "0      NaN  0.128362  ...           3.514309       0.750000\n",
              "1      NaN  0.093853  ...           3.147576       0.875000\n",
              "2      NaN  0.128940  ...           4.025435       0.833333\n",
              "3      NaN  0.108289  ...           2.601714       0.958333\n",
              "4      NaN  0.060962  ...           2.480141       0.958333\n",
              "\n",
              "[5 rows x 17 columns]"
            ]
          },
          "metadata": {
            "tags": []
          },
          "execution_count": 46
        }
      ]
    },
    {
      "cell_type": "code",
      "metadata": {
        "id": "p00MpzlA7Usn",
        "colab_type": "code",
        "colab": {
          "base_uri": "https://localhost:8080/",
          "height": 279
        },
        "outputId": "8d48c92b-7030-4109-a5ce-4ba79af60661"
      },
      "source": [
        "item_metrics.plot(x='MSIS', y='MASE', kind='scatter')\n",
        "plt.grid(which=\"both\")\n",
        "plt.show()"
      ],
      "execution_count": 47,
      "outputs": [
        {
          "output_type": "display_data",
          "data": {
            "image/png": "[encoded data removed]",
            "text/plain": [
              "<Figure size 432x288 with 1 Axes>"
            ]
          },
          "metadata": {
            "tags": [],
            "needs_background": "light"
          }
        }
      ]
    }
  ]
}