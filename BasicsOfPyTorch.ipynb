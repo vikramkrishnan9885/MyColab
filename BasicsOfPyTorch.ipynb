{
  "nbformat": 4,
  "nbformat_minor": 0,
  "metadata": {
    "colab": {
      "name": "BasicsOfPyTorch.ipynb",
      "provenance": [],
      "collapsed_sections": [],
      "authorship_tag": "ABX9TyMaqjNoYx6gWzPSPQM1NQfg",
      "include_colab_link": true
    },
    "kernelspec": {
      "name": "python3",
      "display_name": "Python 3"
    },
    "accelerator": "GPU",
    "widgets": {
      "application/vnd.jupyter.widget-state+json": {
        "43d0fa5f832f4072a786476c62e10f5a": {
          "model_module": "@jupyter-widgets/controls",
          "model_name": "HBoxModel",
          "state": {
            "_view_name": "HBoxView",
            "_dom_classes": [],
            "_model_name": "HBoxModel",
            "_view_module": "@jupyter-widgets/controls",
            "_model_module_version": "1.5.0",
            "_view_count": null,
            "_view_module_version": "1.5.0",
            "box_style": "",
            "layout": "IPY_MODEL_07fabc6c775c46238cadb7e94fea0821",
            "_model_module": "@jupyter-widgets/controls",
            "children": [
              "IPY_MODEL_f262bced8a29434e856c7619bb9e86a6",
              "IPY_MODEL_24dff0033c204a1a97a36a3e01f039a2"
            ]
          }
        },
        "07fabc6c775c46238cadb7e94fea0821": {
          "model_module": "@jupyter-widgets/base",
          "model_name": "LayoutModel",
          "state": {
            "_view_name": "LayoutView",
            "grid_template_rows": null,
            "right": null,
            "justify_content": null,
            "_view_module": "@jupyter-widgets/base",
            "overflow": null,
            "_model_module_version": "1.2.0",
            "_view_count": null,
            "flex_flow": null,
            "width": null,
            "min_width": null,
            "border": null,
            "align_items": null,
            "bottom": null,
            "_model_module": "@jupyter-widgets/base",
            "top": null,
            "grid_column": null,
            "overflow_y": null,
            "overflow_x": null,
            "grid_auto_flow": null,
            "grid_area": null,
            "grid_template_columns": null,
            "flex": null,
            "_model_name": "LayoutModel",
            "justify_items": null,
            "grid_row": null,
            "max_height": null,
            "align_content": null,
            "visibility": null,
            "align_self": null,
            "height": null,
            "min_height": null,
            "padding": null,
            "grid_auto_rows": null,
            "grid_gap": null,
            "max_width": null,
            "order": null,
            "_view_module_version": "1.2.0",
            "grid_template_areas": null,
            "object_position": null,
            "object_fit": null,
            "grid_auto_columns": null,
            "margin": null,
            "display": null,
            "left": null
          }
        },
        "f262bced8a29434e856c7619bb9e86a6": {
          "model_module": "@jupyter-widgets/controls",
          "model_name": "FloatProgressModel",
          "state": {
            "_view_name": "ProgressView",
            "style": "IPY_MODEL_b5740978e1514a988007db003b212f64",
            "_dom_classes": [],
            "description": "",
            "_model_name": "FloatProgressModel",
            "bar_style": "success",
            "max": 1,
            "_view_module": "@jupyter-widgets/controls",
            "_model_module_version": "1.5.0",
            "value": 1,
            "_view_count": null,
            "_view_module_version": "1.5.0",
            "orientation": "horizontal",
            "min": 0,
            "description_tooltip": null,
            "_model_module": "@jupyter-widgets/controls",
            "layout": "IPY_MODEL_43f2f3fdad8044ecbe30a304f7ced9a9"
          }
        },
        "24dff0033c204a1a97a36a3e01f039a2": {
          "model_module": "@jupyter-widgets/controls",
          "model_name": "HTMLModel",
          "state": {
            "_view_name": "HTMLView",
            "style": "IPY_MODEL_c3e1e7f7f3494b06adf698f679092f48",
            "_dom_classes": [],
            "description": "",
            "_model_name": "HTMLModel",
            "placeholder": "​",
            "_view_module": "@jupyter-widgets/controls",
            "_model_module_version": "1.5.0",
            "value": " 9920512/? [00:02&lt;00:00, 3405505.95it/s]",
            "_view_count": null,
            "_view_module_version": "1.5.0",
            "description_tooltip": null,
            "_model_module": "@jupyter-widgets/controls",
            "layout": "IPY_MODEL_64bd53b58be0461fb69add36e0e4ca51"
          }
        },
        "b5740978e1514a988007db003b212f64": {
          "model_module": "@jupyter-widgets/controls",
          "model_name": "ProgressStyleModel",
          "state": {
            "_view_name": "StyleView",
            "_model_name": "ProgressStyleModel",
            "description_width": "initial",
            "_view_module": "@jupyter-widgets/base",
            "_model_module_version": "1.5.0",
            "_view_count": null,
            "_view_module_version": "1.2.0",
            "bar_color": null,
            "_model_module": "@jupyter-widgets/controls"
          }
        },
        "43f2f3fdad8044ecbe30a304f7ced9a9": {
          "model_module": "@jupyter-widgets/base",
          "model_name": "LayoutModel",
          "state": {
            "_view_name": "LayoutView",
            "grid_template_rows": null,
            "right": null,
            "justify_content": null,
            "_view_module": "@jupyter-widgets/base",
            "overflow": null,
            "_model_module_version": "1.2.0",
            "_view_count": null,
            "flex_flow": null,
            "width": null,
            "min_width": null,
            "border": null,
            "align_items": null,
            "bottom": null,
            "_model_module": "@jupyter-widgets/base",
            "top": null,
            "grid_column": null,
            "overflow_y": null,
            "overflow_x": null,
            "grid_auto_flow": null,
            "grid_area": null,
            "grid_template_columns": null,
            "flex": null,
            "_model_name": "LayoutModel",
            "justify_items": null,
            "grid_row": null,
            "max_height": null,
            "align_content": null,
            "visibility": null,
            "align_self": null,
            "height": null,
            "min_height": null,
            "padding": null,
            "grid_auto_rows": null,
            "grid_gap": null,
            "max_width": null,
            "order": null,
            "_view_module_version": "1.2.0",
            "grid_template_areas": null,
            "object_position": null,
            "object_fit": null,
            "grid_auto_columns": null,
            "margin": null,
            "display": null,
            "left": null
          }
        },
        "c3e1e7f7f3494b06adf698f679092f48": {
          "model_module": "@jupyter-widgets/controls",
          "model_name": "DescriptionStyleModel",
          "state": {
            "_view_name": "StyleView",
            "_model_name": "DescriptionStyleModel",
            "description_width": "",
            "_view_module": "@jupyter-widgets/base",
            "_model_module_version": "1.5.0",
            "_view_count": null,
            "_view_module_version": "1.2.0",
            "_model_module": "@jupyter-widgets/controls"
          }
        },
        "64bd53b58be0461fb69add36e0e4ca51": {
          "model_module": "@jupyter-widgets/base",
          "model_name": "LayoutModel",
          "state": {
            "_view_name": "LayoutView",
            "grid_template_rows": null,
            "right": null,
            "justify_content": null,
            "_view_module": "@jupyter-widgets/base",
            "overflow": null,
            "_model_module_version": "1.2.0",
            "_view_count": null,
            "flex_flow": null,
            "width": null,
            "min_width": null,
            "border": null,
            "align_items": null,
            "bottom": null,
            "_model_module": "@jupyter-widgets/base",
            "top": null,
            "grid_column": null,
            "overflow_y": null,
            "overflow_x": null,
            "grid_auto_flow": null,
            "grid_area": null,
            "grid_template_columns": null,
            "flex": null,
            "_model_name": "LayoutModel",
            "justify_items": null,
            "grid_row": null,
            "max_height": null,
            "align_content": null,
            "visibility": null,
            "align_self": null,
            "height": null,
            "min_height": null,
            "padding": null,
            "grid_auto_rows": null,
            "grid_gap": null,
            "max_width": null,
            "order": null,
            "_view_module_version": "1.2.0",
            "grid_template_areas": null,
            "object_position": null,
            "object_fit": null,
            "grid_auto_columns": null,
            "margin": null,
            "display": null,
            "left": null
          }
        },
        "2f3e829c84b64ff8840ab874f84a25d1": {
          "model_module": "@jupyter-widgets/controls",
          "model_name": "HBoxModel",
          "state": {
            "_view_name": "HBoxView",
            "_dom_classes": [],
            "_model_name": "HBoxModel",
            "_view_module": "@jupyter-widgets/controls",
            "_model_module_version": "1.5.0",
            "_view_count": null,
            "_view_module_version": "1.5.0",
            "box_style": "",
            "layout": "IPY_MODEL_d30792fa202d435fbba7c3b5e05a4045",
            "_model_module": "@jupyter-widgets/controls",
            "children": [
              "IPY_MODEL_ba0c06dc8b72459e835f235b1e779437",
              "IPY_MODEL_11edbe9d90384093ba74e94c92bbbd31"
            ]
          }
        },
        "d30792fa202d435fbba7c3b5e05a4045": {
          "model_module": "@jupyter-widgets/base",
          "model_name": "LayoutModel",
          "state": {
            "_view_name": "LayoutView",
            "grid_template_rows": null,
            "right": null,
            "justify_content": null,
            "_view_module": "@jupyter-widgets/base",
            "overflow": null,
            "_model_module_version": "1.2.0",
            "_view_count": null,
            "flex_flow": null,
            "width": null,
            "min_width": null,
            "border": null,
            "align_items": null,
            "bottom": null,
            "_model_module": "@jupyter-widgets/base",
            "top": null,
            "grid_column": null,
            "overflow_y": null,
            "overflow_x": null,
            "grid_auto_flow": null,
            "grid_area": null,
            "grid_template_columns": null,
            "flex": null,
            "_model_name": "LayoutModel",
            "justify_items": null,
            "grid_row": null,
            "max_height": null,
            "align_content": null,
            "visibility": null,
            "align_self": null,
            "height": null,
            "min_height": null,
            "padding": null,
            "grid_auto_rows": null,
            "grid_gap": null,
            "max_width": null,
            "order": null,
            "_view_module_version": "1.2.0",
            "grid_template_areas": null,
            "object_position": null,
            "object_fit": null,
            "grid_auto_columns": null,
            "margin": null,
            "display": null,
            "left": null
          }
        },
        "ba0c06dc8b72459e835f235b1e779437": {
          "model_module": "@jupyter-widgets/controls",
          "model_name": "FloatProgressModel",
          "state": {
            "_view_name": "ProgressView",
            "style": "IPY_MODEL_1bca2398ffe04083abdeef7b82676e95",
            "_dom_classes": [],
            "description": "",
            "_model_name": "FloatProgressModel",
            "bar_style": "success",
            "max": 1,
            "_view_module": "@jupyter-widgets/controls",
            "_model_module_version": "1.5.0",
            "value": 1,
            "_view_count": null,
            "_view_module_version": "1.5.0",
            "orientation": "horizontal",
            "min": 0,
            "description_tooltip": null,
            "_model_module": "@jupyter-widgets/controls",
            "layout": "IPY_MODEL_3ca7116ca4b84ac99ef706431fe44a95"
          }
        },
        "11edbe9d90384093ba74e94c92bbbd31": {
          "model_module": "@jupyter-widgets/controls",
          "model_name": "HTMLModel",
          "state": {
            "_view_name": "HTMLView",
            "style": "IPY_MODEL_9dd1e05adb664c83bf7a510a68205fbc",
            "_dom_classes": [],
            "description": "",
            "_model_name": "HTMLModel",
            "placeholder": "​",
            "_view_module": "@jupyter-widgets/controls",
            "_model_module_version": "1.5.0",
            "value": " 32768/? [00:01&lt;00:00, 30008.67it/s]",
            "_view_count": null,
            "_view_module_version": "1.5.0",
            "description_tooltip": null,
            "_model_module": "@jupyter-widgets/controls",
            "layout": "IPY_MODEL_51e44202e28d4d0c864c990cbd5e4fe7"
          }
        },
        "1bca2398ffe04083abdeef7b82676e95": {
          "model_module": "@jupyter-widgets/controls",
          "model_name": "ProgressStyleModel",
          "state": {
            "_view_name": "StyleView",
            "_model_name": "ProgressStyleModel",
            "description_width": "initial",
            "_view_module": "@jupyter-widgets/base",
            "_model_module_version": "1.5.0",
            "_view_count": null,
            "_view_module_version": "1.2.0",
            "bar_color": null,
            "_model_module": "@jupyter-widgets/controls"
          }
        },
        "3ca7116ca4b84ac99ef706431fe44a95": {
          "model_module": "@jupyter-widgets/base",
          "model_name": "LayoutModel",
          "state": {
            "_view_name": "LayoutView",
            "grid_template_rows": null,
            "right": null,
            "justify_content": null,
            "_view_module": "@jupyter-widgets/base",
            "overflow": null,
            "_model_module_version": "1.2.0",
            "_view_count": null,
            "flex_flow": null,
            "width": null,
            "min_width": null,
            "border": null,
            "align_items": null,
            "bottom": null,
            "_model_module": "@jupyter-widgets/base",
            "top": null,
            "grid_column": null,
            "overflow_y": null,
            "overflow_x": null,
            "grid_auto_flow": null,
            "grid_area": null,
            "grid_template_columns": null,
            "flex": null,
            "_model_name": "LayoutModel",
            "justify_items": null,
            "grid_row": null,
            "max_height": null,
            "align_content": null,
            "visibility": null,
            "align_self": null,
            "height": null,
            "min_height": null,
            "padding": null,
            "grid_auto_rows": null,
            "grid_gap": null,
            "max_width": null,
            "order": null,
            "_view_module_version": "1.2.0",
            "grid_template_areas": null,
            "object_position": null,
            "object_fit": null,
            "grid_auto_columns": null,
            "margin": null,
            "display": null,
            "left": null
          }
        },
        "9dd1e05adb664c83bf7a510a68205fbc": {
          "model_module": "@jupyter-widgets/controls",
          "model_name": "DescriptionStyleModel",
          "state": {
            "_view_name": "StyleView",
            "_model_name": "DescriptionStyleModel",
            "description_width": "",
            "_view_module": "@jupyter-widgets/base",
            "_model_module_version": "1.5.0",
            "_view_count": null,
            "_view_module_version": "1.2.0",
            "_model_module": "@jupyter-widgets/controls"
          }
        },
        "51e44202e28d4d0c864c990cbd5e4fe7": {
          "model_module": "@jupyter-widgets/base",
          "model_name": "LayoutModel",
          "state": {
            "_view_name": "LayoutView",
            "grid_template_rows": null,
            "right": null,
            "justify_content": null,
            "_view_module": "@jupyter-widgets/base",
            "overflow": null,
            "_model_module_version": "1.2.0",
            "_view_count": null,
            "flex_flow": null,
            "width": null,
            "min_width": null,
            "border": null,
            "align_items": null,
            "bottom": null,
            "_model_module": "@jupyter-widgets/base",
            "top": null,
            "grid_column": null,
            "overflow_y": null,
            "overflow_x": null,
            "grid_auto_flow": null,
            "grid_area": null,
            "grid_template_columns": null,
            "flex": null,
            "_model_name": "LayoutModel",
            "justify_items": null,
            "grid_row": null,
            "max_height": null,
            "align_content": null,
            "visibility": null,
            "align_self": null,
            "height": null,
            "min_height": null,
            "padding": null,
            "grid_auto_rows": null,
            "grid_gap": null,
            "max_width": null,
            "order": null,
            "_view_module_version": "1.2.0",
            "grid_template_areas": null,
            "object_position": null,
            "object_fit": null,
            "grid_auto_columns": null,
            "margin": null,
            "display": null,
            "left": null
          }
        },
        "fe2ee2c8ad414c4d9930f4b846814f69": {
          "model_module": "@jupyter-widgets/controls",
          "model_name": "HBoxModel",
          "state": {
            "_view_name": "HBoxView",
            "_dom_classes": [],
            "_model_name": "HBoxModel",
            "_view_module": "@jupyter-widgets/controls",
            "_model_module_version": "1.5.0",
            "_view_count": null,
            "_view_module_version": "1.5.0",
            "box_style": "",
            "layout": "IPY_MODEL_1cb0339f5e6f4166bb828e2e16dc759c",
            "_model_module": "@jupyter-widgets/controls",
            "children": [
              "IPY_MODEL_aefa3f5083934813aab09891bb19835c",
              "IPY_MODEL_fb96eec7ced840aeab5d5e37eaaa95f9"
            ]
          }
        },
        "1cb0339f5e6f4166bb828e2e16dc759c": {
          "model_module": "@jupyter-widgets/base",
          "model_name": "LayoutModel",
          "state": {
            "_view_name": "LayoutView",
            "grid_template_rows": null,
            "right": null,
            "justify_content": null,
            "_view_module": "@jupyter-widgets/base",
            "overflow": null,
            "_model_module_version": "1.2.0",
            "_view_count": null,
            "flex_flow": null,
            "width": null,
            "min_width": null,
            "border": null,
            "align_items": null,
            "bottom": null,
            "_model_module": "@jupyter-widgets/base",
            "top": null,
            "grid_column": null,
            "overflow_y": null,
            "overflow_x": null,
            "grid_auto_flow": null,
            "grid_area": null,
            "grid_template_columns": null,
            "flex": null,
            "_model_name": "LayoutModel",
            "justify_items": null,
            "grid_row": null,
            "max_height": null,
            "align_content": null,
            "visibility": null,
            "align_self": null,
            "height": null,
            "min_height": null,
            "padding": null,
            "grid_auto_rows": null,
            "grid_gap": null,
            "max_width": null,
            "order": null,
            "_view_module_version": "1.2.0",
            "grid_template_areas": null,
            "object_position": null,
            "object_fit": null,
            "grid_auto_columns": null,
            "margin": null,
            "display": null,
            "left": null
          }
        },
        "aefa3f5083934813aab09891bb19835c": {
          "model_module": "@jupyter-widgets/controls",
          "model_name": "FloatProgressModel",
          "state": {
            "_view_name": "ProgressView",
            "style": "IPY_MODEL_3180edef77a743a396496ffe73383103",
            "_dom_classes": [],
            "description": "",
            "_model_name": "FloatProgressModel",
            "bar_style": "success",
            "max": 1,
            "_view_module": "@jupyter-widgets/controls",
            "_model_module_version": "1.5.0",
            "value": 1,
            "_view_count": null,
            "_view_module_version": "1.5.0",
            "orientation": "horizontal",
            "min": 0,
            "description_tooltip": null,
            "_model_module": "@jupyter-widgets/controls",
            "layout": "IPY_MODEL_5a7769de4552489da6ad57b5fa688006"
          }
        },
        "fb96eec7ced840aeab5d5e37eaaa95f9": {
          "model_module": "@jupyter-widgets/controls",
          "model_name": "HTMLModel",
          "state": {
            "_view_name": "HTMLView",
            "style": "IPY_MODEL_afa25cb52c4f422ca25d5cc6890341f6",
            "_dom_classes": [],
            "description": "",
            "_model_name": "HTMLModel",
            "placeholder": "​",
            "_view_module": "@jupyter-widgets/controls",
            "_model_module_version": "1.5.0",
            "value": " 1654784/? [00:00&lt;00:00, 2048913.29it/s]",
            "_view_count": null,
            "_view_module_version": "1.5.0",
            "description_tooltip": null,
            "_model_module": "@jupyter-widgets/controls",
            "layout": "IPY_MODEL_18484dd2d79546d592411afeb84a4669"
          }
        },
        "3180edef77a743a396496ffe73383103": {
          "model_module": "@jupyter-widgets/controls",
          "model_name": "ProgressStyleModel",
          "state": {
            "_view_name": "StyleView",
            "_model_name": "ProgressStyleModel",
            "description_width": "initial",
            "_view_module": "@jupyter-widgets/base",
            "_model_module_version": "1.5.0",
            "_view_count": null,
            "_view_module_version": "1.2.0",
            "bar_color": null,
            "_model_module": "@jupyter-widgets/controls"
          }
        },
        "5a7769de4552489da6ad57b5fa688006": {
          "model_module": "@jupyter-widgets/base",
          "model_name": "LayoutModel",
          "state": {
            "_view_name": "LayoutView",
            "grid_template_rows": null,
            "right": null,
            "justify_content": null,
            "_view_module": "@jupyter-widgets/base",
            "overflow": null,
            "_model_module_version": "1.2.0",
            "_view_count": null,
            "flex_flow": null,
            "width": null,
            "min_width": null,
            "border": null,
            "align_items": null,
            "bottom": null,
            "_model_module": "@jupyter-widgets/base",
            "top": null,
            "grid_column": null,
            "overflow_y": null,
            "overflow_x": null,
            "grid_auto_flow": null,
            "grid_area": null,
            "grid_template_columns": null,
            "flex": null,
            "_model_name": "LayoutModel",
            "justify_items": null,
            "grid_row": null,
            "max_height": null,
            "align_content": null,
            "visibility": null,
            "align_self": null,
            "height": null,
            "min_height": null,
            "padding": null,
            "grid_auto_rows": null,
            "grid_gap": null,
            "max_width": null,
            "order": null,
            "_view_module_version": "1.2.0",
            "grid_template_areas": null,
            "object_position": null,
            "object_fit": null,
            "grid_auto_columns": null,
            "margin": null,
            "display": null,
            "left": null
          }
        },
        "afa25cb52c4f422ca25d5cc6890341f6": {
          "model_module": "@jupyter-widgets/controls",
          "model_name": "DescriptionStyleModel",
          "state": {
            "_view_name": "StyleView",
            "_model_name": "DescriptionStyleModel",
            "description_width": "",
            "_view_module": "@jupyter-widgets/base",
            "_model_module_version": "1.5.0",
            "_view_count": null,
            "_view_module_version": "1.2.0",
            "_model_module": "@jupyter-widgets/controls"
          }
        },
        "18484dd2d79546d592411afeb84a4669": {
          "model_module": "@jupyter-widgets/base",
          "model_name": "LayoutModel",
          "state": {
            "_view_name": "LayoutView",
            "grid_template_rows": null,
            "right": null,
            "justify_content": null,
            "_view_module": "@jupyter-widgets/base",
            "overflow": null,
            "_model_module_version": "1.2.0",
            "_view_count": null,
            "flex_flow": null,
            "width": null,
            "min_width": null,
            "border": null,
            "align_items": null,
            "bottom": null,
            "_model_module": "@jupyter-widgets/base",
            "top": null,
            "grid_column": null,
            "overflow_y": null,
            "overflow_x": null,
            "grid_auto_flow": null,
            "grid_area": null,
            "grid_template_columns": null,
            "flex": null,
            "_model_name": "LayoutModel",
            "justify_items": null,
            "grid_row": null,
            "max_height": null,
            "align_content": null,
            "visibility": null,
            "align_self": null,
            "height": null,
            "min_height": null,
            "padding": null,
            "grid_auto_rows": null,
            "grid_gap": null,
            "max_width": null,
            "order": null,
            "_view_module_version": "1.2.0",
            "grid_template_areas": null,
            "object_position": null,
            "object_fit": null,
            "grid_auto_columns": null,
            "margin": null,
            "display": null,
            "left": null
          }
        },
        "d68308d7757446c69160d8e720b8cc3d": {
          "model_module": "@jupyter-widgets/controls",
          "model_name": "HBoxModel",
          "state": {
            "_view_name": "HBoxView",
            "_dom_classes": [],
            "_model_name": "HBoxModel",
            "_view_module": "@jupyter-widgets/controls",
            "_model_module_version": "1.5.0",
            "_view_count": null,
            "_view_module_version": "1.5.0",
            "box_style": "",
            "layout": "IPY_MODEL_a72546cdfde744069dbd42c7df192595",
            "_model_module": "@jupyter-widgets/controls",
            "children": [
              "IPY_MODEL_261666fe292d4eed8e52c56c39660e35",
              "IPY_MODEL_28d2a562a6f347a6b74f14c538945935"
            ]
          }
        },
        "a72546cdfde744069dbd42c7df192595": {
          "model_module": "@jupyter-widgets/base",
          "model_name": "LayoutModel",
          "state": {
            "_view_name": "LayoutView",
            "grid_template_rows": null,
            "right": null,
            "justify_content": null,
            "_view_module": "@jupyter-widgets/base",
            "overflow": null,
            "_model_module_version": "1.2.0",
            "_view_count": null,
            "flex_flow": null,
            "width": null,
            "min_width": null,
            "border": null,
            "align_items": null,
            "bottom": null,
            "_model_module": "@jupyter-widgets/base",
            "top": null,
            "grid_column": null,
            "overflow_y": null,
            "overflow_x": null,
            "grid_auto_flow": null,
            "grid_area": null,
            "grid_template_columns": null,
            "flex": null,
            "_model_name": "LayoutModel",
            "justify_items": null,
            "grid_row": null,
            "max_height": null,
            "align_content": null,
            "visibility": null,
            "align_self": null,
            "height": null,
            "min_height": null,
            "padding": null,
            "grid_auto_rows": null,
            "grid_gap": null,
            "max_width": null,
            "order": null,
            "_view_module_version": "1.2.0",
            "grid_template_areas": null,
            "object_position": null,
            "object_fit": null,
            "grid_auto_columns": null,
            "margin": null,
            "display": null,
            "left": null
          }
        },
        "261666fe292d4eed8e52c56c39660e35": {
          "model_module": "@jupyter-widgets/controls",
          "model_name": "FloatProgressModel",
          "state": {
            "_view_name": "ProgressView",
            "style": "IPY_MODEL_79584d1a07f546099b8d34953b0d8e92",
            "_dom_classes": [],
            "description": "",
            "_model_name": "FloatProgressModel",
            "bar_style": "success",
            "max": 1,
            "_view_module": "@jupyter-widgets/controls",
            "_model_module_version": "1.5.0",
            "value": 1,
            "_view_count": null,
            "_view_module_version": "1.5.0",
            "orientation": "horizontal",
            "min": 0,
            "description_tooltip": null,
            "_model_module": "@jupyter-widgets/controls",
            "layout": "IPY_MODEL_066657d580a4401695c1eb153e17c06f"
          }
        },
        "28d2a562a6f347a6b74f14c538945935": {
          "model_module": "@jupyter-widgets/controls",
          "model_name": "HTMLModel",
          "state": {
            "_view_name": "HTMLView",
            "style": "IPY_MODEL_d083f8c8685949baa8d87813f4104e06",
            "_dom_classes": [],
            "description": "",
            "_model_name": "HTMLModel",
            "placeholder": "​",
            "_view_module": "@jupyter-widgets/controls",
            "_model_module_version": "1.5.0",
            "value": " 8192/? [00:00&lt;00:00, 21472.61it/s]",
            "_view_count": null,
            "_view_module_version": "1.5.0",
            "description_tooltip": null,
            "_model_module": "@jupyter-widgets/controls",
            "layout": "IPY_MODEL_7408f3f29e094383b1d4c2edf87d3d71"
          }
        },
        "79584d1a07f546099b8d34953b0d8e92": {
          "model_module": "@jupyter-widgets/controls",
          "model_name": "ProgressStyleModel",
          "state": {
            "_view_name": "StyleView",
            "_model_name": "ProgressStyleModel",
            "description_width": "initial",
            "_view_module": "@jupyter-widgets/base",
            "_model_module_version": "1.5.0",
            "_view_count": null,
            "_view_module_version": "1.2.0",
            "bar_color": null,
            "_model_module": "@jupyter-widgets/controls"
          }
        },
        "066657d580a4401695c1eb153e17c06f": {
          "model_module": "@jupyter-widgets/base",
          "model_name": "LayoutModel",
          "state": {
            "_view_name": "LayoutView",
            "grid_template_rows": null,
            "right": null,
            "justify_content": null,
            "_view_module": "@jupyter-widgets/base",
            "overflow": null,
            "_model_module_version": "1.2.0",
            "_view_count": null,
            "flex_flow": null,
            "width": null,
            "min_width": null,
            "border": null,
            "align_items": null,
            "bottom": null,
            "_model_module": "@jupyter-widgets/base",
            "top": null,
            "grid_column": null,
            "overflow_y": null,
            "overflow_x": null,
            "grid_auto_flow": null,
            "grid_area": null,
            "grid_template_columns": null,
            "flex": null,
            "_model_name": "LayoutModel",
            "justify_items": null,
            "grid_row": null,
            "max_height": null,
            "align_content": null,
            "visibility": null,
            "align_self": null,
            "height": null,
            "min_height": null,
            "padding": null,
            "grid_auto_rows": null,
            "grid_gap": null,
            "max_width": null,
            "order": null,
            "_view_module_version": "1.2.0",
            "grid_template_areas": null,
            "object_position": null,
            "object_fit": null,
            "grid_auto_columns": null,
            "margin": null,
            "display": null,
            "left": null
          }
        },
        "d083f8c8685949baa8d87813f4104e06": {
          "model_module": "@jupyter-widgets/controls",
          "model_name": "DescriptionStyleModel",
          "state": {
            "_view_name": "StyleView",
            "_model_name": "DescriptionStyleModel",
            "description_width": "",
            "_view_module": "@jupyter-widgets/base",
            "_model_module_version": "1.5.0",
            "_view_count": null,
            "_view_module_version": "1.2.0",
            "_model_module": "@jupyter-widgets/controls"
          }
        },
        "7408f3f29e094383b1d4c2edf87d3d71": {
          "model_module": "@jupyter-widgets/base",
          "model_name": "LayoutModel",
          "state": {
            "_view_name": "LayoutView",
            "grid_template_rows": null,
            "right": null,
            "justify_content": null,
            "_view_module": "@jupyter-widgets/base",
            "overflow": null,
            "_model_module_version": "1.2.0",
            "_view_count": null,
            "flex_flow": null,
            "width": null,
            "min_width": null,
            "border": null,
            "align_items": null,
            "bottom": null,
            "_model_module": "@jupyter-widgets/base",
            "top": null,
            "grid_column": null,
            "overflow_y": null,
            "overflow_x": null,
            "grid_auto_flow": null,
            "grid_area": null,
            "grid_template_columns": null,
            "flex": null,
            "_model_name": "LayoutModel",
            "justify_items": null,
            "grid_row": null,
            "max_height": null,
            "align_content": null,
            "visibility": null,
            "align_self": null,
            "height": null,
            "min_height": null,
            "padding": null,
            "grid_auto_rows": null,
            "grid_gap": null,
            "max_width": null,
            "order": null,
            "_view_module_version": "1.2.0",
            "grid_template_areas": null,
            "object_position": null,
            "object_fit": null,
            "grid_auto_columns": null,
            "margin": null,
            "display": null,
            "left": null
          }
        }
      }
    }
  },
  "cells": [
    {
      "cell_type": "markdown",
      "metadata": {
        "id": "view-in-github",
        "colab_type": "text"
      },
      "source": [
        "<a href=\"https://colab.research.google.com/github/vikramkrishnan9885/MyColab/blob/master/BasicsOfPyTorch.ipynb\" target=\"_parent\"><img src=\"https://colab.research.google.com/assets/colab-badge.svg\" alt=\"Open In Colab\"/></a>"
      ]
    },
    {
      "cell_type": "markdown",
      "metadata": {
        "id": "a_2t_3eqxjKN",
        "colab_type": "text"
      },
      "source": [
        "# Imports and stuff"
      ]
    },
    {
      "cell_type": "code",
      "metadata": {
        "id": "6q_KmmEJcYFD",
        "colab_type": "code",
        "colab": {
          "base_uri": "https://localhost:8080/",
          "height": 37
        },
        "outputId": "7bf40421-2a64-46df-efd9-82822acfc558"
      },
      "source": [
        "import torch\n",
        "print(torch.__version__)"
      ],
      "execution_count": 1,
      "outputs": [
        {
          "output_type": "stream",
          "text": [
            "1.5.0+cu101\n"
          ],
          "name": "stdout"
        }
      ]
    },
    {
      "cell_type": "code",
      "metadata": {
        "id": "BRgBdC5dchRO",
        "colab_type": "code",
        "colab": {
          "base_uri": "https://localhost:8080/",
          "height": 37
        },
        "outputId": "84204d87-4197-435e-b583-459f76b3c318"
      },
      "source": [
        "import torchvision\n",
        "print(torchvision.__version__)"
      ],
      "execution_count": 2,
      "outputs": [
        {
          "output_type": "stream",
          "text": [
            "0.6.0+cu101\n"
          ],
          "name": "stdout"
        }
      ]
    },
    {
      "cell_type": "code",
      "metadata": {
        "id": "zCNLmdHgcs4N",
        "colab_type": "code",
        "colab": {
          "base_uri": "https://localhost:8080/",
          "height": 37
        },
        "outputId": "97e32901-8fe7-4904-fa71-0baf3ccb2ace"
      },
      "source": [
        "torch.cuda.is_available()"
      ],
      "execution_count": 3,
      "outputs": [
        {
          "output_type": "execute_result",
          "data": {
            "text/plain": [
              "True"
            ]
          },
          "metadata": {
            "tags": []
          },
          "execution_count": 3
        }
      ]
    },
    {
      "cell_type": "code",
      "metadata": {
        "id": "7pN33HQRgD3o",
        "colab_type": "code",
        "colab": {
          "base_uri": "https://localhost:8080/",
          "height": 37
        },
        "outputId": "873e20a6-40b1-42a7-bd15-2ac71f2df2d6"
      },
      "source": [
        "torch.cuda.device_count()"
      ],
      "execution_count": 4,
      "outputs": [
        {
          "output_type": "execute_result",
          "data": {
            "text/plain": [
              "1"
            ]
          },
          "metadata": {
            "tags": []
          },
          "execution_count": 4
        }
      ]
    },
    {
      "cell_type": "code",
      "metadata": {
        "id": "U0iXZ9G3gMPW",
        "colab_type": "code",
        "colab": {
          "base_uri": "https://localhost:8080/",
          "height": 37
        },
        "outputId": "38d97367-1806-4b30-ac4e-795aa9fec052"
      },
      "source": [
        "# get cuda/gpu device id\n",
        "torch.cuda.current_device()"
      ],
      "execution_count": 5,
      "outputs": [
        {
          "output_type": "execute_result",
          "data": {
            "text/plain": [
              "0"
            ]
          },
          "metadata": {
            "tags": []
          },
          "execution_count": 5
        }
      ]
    },
    {
      "cell_type": "code",
      "metadata": {
        "id": "JFQ17mecgPgZ",
        "colab_type": "code",
        "colab": {
          "base_uri": "https://localhost:8080/",
          "height": 37
        },
        "outputId": "46c5f40a-101d-4913-fe59-aa35711fc48c"
      },
      "source": [
        "# get cuda/gpu device name\n",
        "torch.cuda.get_device_name(0)"
      ],
      "execution_count": 6,
      "outputs": [
        {
          "output_type": "execute_result",
          "data": {
            "text/plain": [
              "'Tesla P100-PCIE-16GB'"
            ]
          },
          "metadata": {
            "tags": []
          },
          "execution_count": 6
        }
      ]
    },
    {
      "cell_type": "markdown",
      "metadata": {
        "id": "VHa9qdavi9TE",
        "colab_type": "text"
      },
      "source": [
        "## Import datasets"
      ]
    },
    {
      "cell_type": "code",
      "metadata": {
        "id": "HlYxK1Jkj7fV",
        "colab_type": "code",
        "colab": {
          "base_uri": "https://localhost:8080/",
          "height": 505,
          "referenced_widgets": [
            "43d0fa5f832f4072a786476c62e10f5a",
            "07fabc6c775c46238cadb7e94fea0821",
            "f262bced8a29434e856c7619bb9e86a6",
            "24dff0033c204a1a97a36a3e01f039a2",
            "b5740978e1514a988007db003b212f64",
            "43f2f3fdad8044ecbe30a304f7ced9a9",
            "c3e1e7f7f3494b06adf698f679092f48",
            "64bd53b58be0461fb69add36e0e4ca51",
            "2f3e829c84b64ff8840ab874f84a25d1",
            "d30792fa202d435fbba7c3b5e05a4045",
            "ba0c06dc8b72459e835f235b1e779437",
            "11edbe9d90384093ba74e94c92bbbd31",
            "1bca2398ffe04083abdeef7b82676e95",
            "3ca7116ca4b84ac99ef706431fe44a95",
            "9dd1e05adb664c83bf7a510a68205fbc",
            "51e44202e28d4d0c864c990cbd5e4fe7",
            "fe2ee2c8ad414c4d9930f4b846814f69",
            "1cb0339f5e6f4166bb828e2e16dc759c",
            "aefa3f5083934813aab09891bb19835c",
            "fb96eec7ced840aeab5d5e37eaaa95f9",
            "3180edef77a743a396496ffe73383103",
            "5a7769de4552489da6ad57b5fa688006",
            "afa25cb52c4f422ca25d5cc6890341f6",
            "18484dd2d79546d592411afeb84a4669",
            "d68308d7757446c69160d8e720b8cc3d",
            "a72546cdfde744069dbd42c7df192595",
            "261666fe292d4eed8e52c56c39660e35",
            "28d2a562a6f347a6b74f14c538945935",
            "79584d1a07f546099b8d34953b0d8e92",
            "066657d580a4401695c1eb153e17c06f",
            "d083f8c8685949baa8d87813f4104e06",
            "7408f3f29e094383b1d4c2edf87d3d71"
          ]
        },
        "outputId": "d5f7e789-6338-459e-8457-87845bb97c0f"
      },
      "source": [
        "from torchvision import datasets\n",
        "\n",
        "# path to store data and/or load from\n",
        "path2data=\"./data\"\n",
        "\n",
        "# loading training data\n",
        "train_data=datasets.MNIST(path2data, train=True, download=True)\n",
        "\n",
        "# extract data and targets\n",
        "x_train, y_train=train_data.data,train_data.targets\n",
        "print(x_train.shape)\n",
        "print(y_train.shape)\n",
        "\n",
        "# loading validation data\n",
        "val_data=datasets.MNIST(path2data, train=False, download=True)\n",
        "\n",
        "# extract data and targets\n",
        "x_val,y_val=val_data.data, val_data.targets\n",
        "print(x_val.shape)\n",
        "print(y_val.shape)"
      ],
      "execution_count": 7,
      "outputs": [
        {
          "output_type": "stream",
          "text": [
            "Downloading http://yann.lecun.com/exdb/mnist/train-images-idx3-ubyte.gz to ./data/MNIST/raw/train-images-idx3-ubyte.gz\n"
          ],
          "name": "stdout"
        },
        {
          "output_type": "display_data",
          "data": {
            "application/vnd.jupyter.widget-view+json": {
              "model_id": "43d0fa5f832f4072a786476c62e10f5a",
              "version_minor": 0,
              "version_major": 2
            },
            "text/plain": [
              "HBox(children=(FloatProgress(value=1.0, bar_style='info', max=1.0), HTML(value='')))"
            ]
          },
          "metadata": {
            "tags": []
          }
        },
        {
          "output_type": "stream",
          "text": [
            "Extracting ./data/MNIST/raw/train-images-idx3-ubyte.gz to ./data/MNIST/raw\n",
            "Downloading http://yann.lecun.com/exdb/mnist/train-labels-idx1-ubyte.gz to ./data/MNIST/raw/train-labels-idx1-ubyte.gz\n"
          ],
          "name": "stdout"
        },
        {
          "output_type": "display_data",
          "data": {
            "application/vnd.jupyter.widget-view+json": {
              "model_id": "2f3e829c84b64ff8840ab874f84a25d1",
              "version_minor": 0,
              "version_major": 2
            },
            "text/plain": [
              "HBox(children=(FloatProgress(value=1.0, bar_style='info', max=1.0), HTML(value='')))"
            ]
          },
          "metadata": {
            "tags": []
          }
        },
        {
          "output_type": "stream",
          "text": [
            "Extracting ./data/MNIST/raw/train-labels-idx1-ubyte.gz to ./data/MNIST/raw\n",
            "Downloading http://yann.lecun.com/exdb/mnist/t10k-images-idx3-ubyte.gz to ./data/MNIST/raw/t10k-images-idx3-ubyte.gz\n"
          ],
          "name": "stdout"
        },
        {
          "output_type": "display_data",
          "data": {
            "application/vnd.jupyter.widget-view+json": {
              "model_id": "fe2ee2c8ad414c4d9930f4b846814f69",
              "version_minor": 0,
              "version_major": 2
            },
            "text/plain": [
              "HBox(children=(FloatProgress(value=1.0, bar_style='info', max=1.0), HTML(value='')))"
            ]
          },
          "metadata": {
            "tags": []
          }
        },
        {
          "output_type": "stream",
          "text": [
            "Extracting ./data/MNIST/raw/t10k-images-idx3-ubyte.gz to ./data/MNIST/raw\n",
            "Downloading http://yann.lecun.com/exdb/mnist/t10k-labels-idx1-ubyte.gz to ./data/MNIST/raw/t10k-labels-idx1-ubyte.gz\n",
            "\n",
            "\n"
          ],
          "name": "stdout"
        },
        {
          "output_type": "display_data",
          "data": {
            "application/vnd.jupyter.widget-view+json": {
              "model_id": "d68308d7757446c69160d8e720b8cc3d",
              "version_minor": 0,
              "version_major": 2
            },
            "text/plain": [
              "HBox(children=(FloatProgress(value=1.0, bar_style='info', max=1.0), HTML(value='')))"
            ]
          },
          "metadata": {
            "tags": []
          }
        },
        {
          "output_type": "stream",
          "text": [
            "Extracting ./data/MNIST/raw/t10k-labels-idx1-ubyte.gz to ./data/MNIST/raw\n",
            "Processing...\n",
            "Done!\n",
            "torch.Size([60000, 28, 28])\n",
            "torch.Size([60000])\n",
            "torch.Size([10000, 28, 28])\n",
            "torch.Size([10000])\n"
          ],
          "name": "stdout"
        },
        {
          "output_type": "stream",
          "text": [
            "/pytorch/torch/csrc/utils/tensor_numpy.cpp:141: UserWarning: The given NumPy array is not writeable, and PyTorch does not support non-writeable tensors. This means you can write to the underlying (supposedly non-writeable) NumPy array using the tensor. You may want to copy the array to protect its data or make it writeable before converting it to a tensor. This type of warning will be suppressed for the rest of this program.\n"
          ],
          "name": "stderr"
        }
      ]
    },
    {
      "cell_type": "code",
      "metadata": {
        "id": "qgNjF0etkkEg",
        "colab_type": "code",
        "colab": {
          "base_uri": "https://localhost:8080/",
          "height": 341
        },
        "outputId": "2ea9278b-ba6b-41c9-fc7a-3310745c6974"
      },
      "source": [
        "from torchvision import utils\n",
        "import matplotlib.pyplot as plt\n",
        "import numpy as np\n",
        "%matplotlib inline\n",
        "\n",
        "# First, add a dimension to tensor to become B*C*H*W\n",
        "if len(x_train.shape)==3:\n",
        "    x_train=x_train.unsqueeze(1)\n",
        "print(x_train.shape)\n",
        "\n",
        "if len(x_val.shape)==3:\n",
        "    x_val=x_val.unsqueeze(1)\n",
        "\n",
        "# make a grid of 40 images, 8 images per row\n",
        "x_grid=utils.make_grid(x_train[:40], nrow=8, padding=2)\n",
        "print(x_grid.shape)\n",
        "\n",
        "# helper function to display images\n",
        "def show(img):\n",
        "    # convert tensor to numpy array\n",
        "    npimg = img.numpy()\n",
        "    \n",
        "    # Convert to H*W*C shape\n",
        "    npimg_tr=np.transpose(npimg, (1,2,0))\n",
        "    \n",
        "    # display images\n",
        "    plt.imshow(npimg_tr,interpolation='nearest')\n",
        "\n",
        "# call helper function\n",
        "show(x_grid)"
      ],
      "execution_count": 8,
      "outputs": [
        {
          "output_type": "stream",
          "text": [
            "\n",
            "\n",
            "torch.Size([60000, 1, 28, 28])\n",
            "torch.Size([3, 152, 242])\n"
          ],
          "name": "stdout"
        },
        {
          "output_type": "display_data",
          "data": {
            "image/png": "[encoded data removed]",
            "text/plain": [
              "<Figure size 432x288 with 1 Axes>"
            ]
          },
          "metadata": {
            "tags": [],
            "needs_background": "light"
          }
        }
      ]
    },
    {
      "cell_type": "markdown",
      "metadata": {
        "id": "ZxkrhiD-oMTJ",
        "colab_type": "text"
      },
      "source": [
        "# Transformations"
      ]
    },
    {
      "cell_type": "code",
      "metadata": {
        "id": "29AX_KLKoRh2",
        "colab_type": "code",
        "colab": {
          "base_uri": "https://localhost:8080/",
          "height": 236
        },
        "outputId": "dafb2c64-7afe-43df-897e-af4902a7c8ba"
      },
      "source": [
        "from torchvision import transforms\n",
        "\n",
        "# loading MNIST training dataset\n",
        "train_data=datasets.MNIST(path2data, train=True, download=True)\n",
        "\n",
        "# define transformations\n",
        "data_transform = transforms.Compose(\n",
        "    [\n",
        "      transforms.RandomHorizontalFlip(p=1),\n",
        "      transforms.RandomVerticalFlip(p=1),\n",
        "      transforms.ToTensor(),\n",
        "    ]\n",
        ")\n",
        "\n",
        "# get a sample image from training dataset\n",
        "img = train_data[0][0]\n",
        "\n",
        "# tranform sample image\n",
        "img_tr=data_transform(img)\n",
        "\n",
        "# convert tensor to numpy array\n",
        "img_tr_np=img_tr.numpy()\n",
        "\n",
        "# show original and transformed images\n",
        "plt.subplot(1,2,1)\n",
        "plt.imshow(img,cmap=\"gray\")\n",
        "plt.title(\"original\")\n",
        "plt.subplot(1,2,2)\n",
        "plt.imshow(img_tr_np[0],cmap=\"gray\");\n",
        "plt.title(\"transformed\")"
      ],
      "execution_count": 9,
      "outputs": [
        {
          "output_type": "execute_result",
          "data": {
            "text/plain": [
              "Text(0.5, 1.0, 'transformed')"
            ]
          },
          "metadata": {
            "tags": []
          },
          "execution_count": 9
        },
        {
          "output_type": "display_data",
          "data": {
            "image/png": "[encoded data removed]",
            "text/plain": [
              "<Figure size 432x288 with 2 Axes>"
            ]
          },
          "metadata": {
            "tags": [],
            "needs_background": "light"
          }
        }
      ]
    },
    {
      "cell_type": "markdown",
      "metadata": {
        "id": "fuf2GpUfqYuC",
        "colab_type": "text"
      },
      "source": [
        "## Wrapping tensors into a dataset\n",
        "\n",
        "If your data is available in tensors, you can wrap them as a PyTorch dataset using the TensorDataset class. This will make it easier to iterate over data during training."
      ]
    },
    {
      "cell_type": "code",
      "metadata": {
        "id": "9wcjkfV4rbgH",
        "colab_type": "code",
        "colab": {
          "base_uri": "https://localhost:8080/",
          "height": 37
        },
        "outputId": "3d2f7652-dfbc-42e1-abb7-df58950026b7"
      },
      "source": [
        "from torch.utils.data import TensorDataset\n",
        "\n",
        "# wrap tensors into a dataset\n",
        "train_ds = TensorDataset(x_train, y_train)\n",
        "val_ds = TensorDataset(x_val, y_val)\n",
        "\n",
        "for x,y in train_ds:\n",
        "  print(x.shape,y.item())    \n",
        "  break"
      ],
      "execution_count": 10,
      "outputs": [
        {
          "output_type": "stream",
          "text": [
            "torch.Size([1, 28, 28]) 5\n"
          ],
          "name": "stdout"
        }
      ]
    },
    {
      "cell_type": "markdown",
      "metadata": {
        "id": "BupCmpNywXcG",
        "colab_type": "text"
      },
      "source": [
        "## Creating data loaders\n",
        "To easily iterate over the data during training, we can create a data loader using the DataLoader class"
      ]
    },
    {
      "cell_type": "code",
      "metadata": {
        "id": "eU6uoR_Ewb-s",
        "colab_type": "code",
        "colab": {
          "base_uri": "https://localhost:8080/",
          "height": 57
        },
        "outputId": "121de683-f02f-47a6-aabb-5cbd17dcc188"
      },
      "source": [
        "from torch.utils.data import DataLoader\n",
        "\n",
        "# create a data loader from dataset\n",
        "train_dl = DataLoader(train_ds, batch_size=8)\n",
        "val_dl = DataLoader(val_ds, batch_size=8)\n",
        "\n",
        "# iterate over batches\n",
        "for xb,yb in train_dl:\n",
        "    print(xb.shape)\n",
        "    print(yb.shape)\n",
        "    break\n",
        "    # your training code will be here!"
      ],
      "execution_count": 11,
      "outputs": [
        {
          "output_type": "stream",
          "text": [
            "torch.Size([8, 1, 28, 28])\n",
            "torch.Size([8])\n"
          ],
          "name": "stdout"
        }
      ]
    },
    {
      "cell_type": "markdown",
      "metadata": {
        "id": "K9Zu84dkrJ_C",
        "colab_type": "text"
      },
      "source": [
        "# Building Models\n",
        "\n",
        "We will define a linear layer, a two-layer network, and a multilayer convolutional network"
      ]
    },
    {
      "cell_type": "code",
      "metadata": {
        "id": "LtrSw_uurRKp",
        "colab_type": "code",
        "colab": {
          "base_uri": "https://localhost:8080/",
          "height": 37
        },
        "outputId": "9e8fb4e2-4f34-48aa-ea29-1ff8e5833782"
      },
      "source": [
        "from torch import nn\n",
        "\n",
        "# input tensor dimension 64*1000\n",
        "input_tensor = torch.randn(64, 1000)\n",
        "\n",
        "# linear layer with 1000 inputs and 100 outputs\n",
        "linear_layer = nn.Linear(1000, 100)\n",
        "\n",
        "# output of the linear layer\n",
        "output = linear_layer(input_tensor)\n",
        "print(output.size())"
      ],
      "execution_count": 12,
      "outputs": [
        {
          "output_type": "stream",
          "text": [
            "torch.Size([64, 100])\n"
          ],
          "name": "stdout"
        }
      ]
    },
    {
      "cell_type": "markdown",
      "metadata": {
        "id": "Z2UQI2odrgqK",
        "colab_type": "text"
      },
      "source": [
        "## Sequential Models"
      ]
    },
    {
      "cell_type": "code",
      "metadata": {
        "id": "NLKjt2AnrmVP",
        "colab_type": "code",
        "colab": {
          "base_uri": "https://localhost:8080/",
          "height": 117
        },
        "outputId": "ae9ee820-5fa6-4870-f61d-ba7d2b00785b"
      },
      "source": [
        "from torch import nn\n",
        "\n",
        "# define a two-layer model\n",
        "model = nn.Sequential(\n",
        "                        nn.Linear(4, 5),\n",
        "                        nn.ReLU(), # relu is not shown in the figure.\n",
        "                        nn.Linear(5, 1),)\n",
        "print(model)"
      ],
      "execution_count": 13,
      "outputs": [
        {
          "output_type": "stream",
          "text": [
            "Sequential(\n",
            "  (0): Linear(in_features=4, out_features=5, bias=True)\n",
            "  (1): ReLU()\n",
            "  (2): Linear(in_features=5, out_features=1, bias=True)\n",
            ")\n"
          ],
          "name": "stdout"
        }
      ]
    },
    {
      "cell_type": "markdown",
      "metadata": {
        "id": "MyLvZoDRr_9X",
        "colab_type": "text"
      },
      "source": [
        "## Define models using nn.Module"
      ]
    },
    {
      "cell_type": "code",
      "metadata": {
        "id": "F2HjR3yksEMS",
        "colab_type": "code",
        "colab": {
          "base_uri": "https://localhost:8080/",
          "height": 137
        },
        "outputId": "8dcb35f0-d5fe-468d-e18f-781cec0336d6"
      },
      "source": [
        "import torch.nn.functional as F\n",
        "class Net(nn.Module):\n",
        "    def __init__(self):\n",
        "        super(Net, self).__init__()\n",
        "        self.conv1 = nn.Conv2d(1, 8, 5, 1)\n",
        "        self.conv2 = nn.Conv2d(8, 16, 5, 1)\n",
        "        self.fc1 = nn.Linear(4*4*16, 100)\n",
        "        self.fc2 = nn.Linear(100, 10)\n",
        "\n",
        "    def forward(self, x):\n",
        "        x = F.relu(self.conv1(x))\n",
        "        x = F.max_pool2d(x, 2, 2)\n",
        "        x = F.relu(self.conv2(x))\n",
        "        x = F.max_pool2d(x, 2, 2)\n",
        "        x = x.view(-1, 4*4*16)\n",
        "        x = F.relu(self.fc1(x))\n",
        "        x = self.fc2(x)\n",
        "        return F.log_softmax(x, dim=1)\n",
        "\n",
        "model = Net()\n",
        "print(model)"
      ],
      "execution_count": 14,
      "outputs": [
        {
          "output_type": "stream",
          "text": [
            "Net(\n",
            "  (conv1): Conv2d(1, 8, kernel_size=(5, 5), stride=(1, 1))\n",
            "  (conv2): Conv2d(8, 16, kernel_size=(5, 5), stride=(1, 1))\n",
            "  (fc1): Linear(in_features=256, out_features=100, bias=True)\n",
            "  (fc2): Linear(in_features=100, out_features=10, bias=True)\n",
            ")\n"
          ],
          "name": "stdout"
        }
      ]
    },
    {
      "cell_type": "code",
      "metadata": {
        "id": "H3v54W-a08LC",
        "colab_type": "code",
        "colab": {
          "base_uri": "https://localhost:8080/",
          "height": 37
        },
        "outputId": "cf03e2ac-4a0d-4c68-ca4d-45b38604319e"
      },
      "source": [
        "# we will move the model to the CUDA device:\n",
        "device = torch.device(\"cuda:0\")\n",
        "model.to(device)\n",
        "print(next(model.parameters()).device)"
      ],
      "execution_count": 15,
      "outputs": [
        {
          "output_type": "stream",
          "text": [
            "cuda:0\n"
          ],
          "name": "stdout"
        }
      ]
    },
    {
      "cell_type": "code",
      "metadata": {
        "id": "Gqbj9yz40_XT",
        "colab_type": "code",
        "colab": {
          "base_uri": "https://localhost:8080/",
          "height": 357
        },
        "outputId": "69281452-3756-469b-f161-7a36d42b4367"
      },
      "source": [
        "# Show model summary\n",
        "\n",
        "from torchsummary import summary\n",
        "\n",
        "summary(model, input_size=(1, 28, 28))"
      ],
      "execution_count": 16,
      "outputs": [
        {
          "output_type": "stream",
          "text": [
            "----------------------------------------------------------------\n",
            "        Layer (type)               Output Shape         Param #\n",
            "================================================================\n",
            "            Conv2d-1            [-1, 8, 24, 24]             208\n",
            "            Conv2d-2             [-1, 16, 8, 8]           3,216\n",
            "            Linear-3                  [-1, 100]          25,700\n",
            "            Linear-4                   [-1, 10]           1,010\n",
            "================================================================\n",
            "Total params: 30,134\n",
            "Trainable params: 30,134\n",
            "Non-trainable params: 0\n",
            "----------------------------------------------------------------\n",
            "Input size (MB): 0.00\n",
            "Forward/backward pass size (MB): 0.04\n",
            "Params size (MB): 0.11\n",
            "Estimated Total Size (MB): 0.16\n",
            "----------------------------------------------------------------\n"
          ],
          "name": "stdout"
        }
      ]
    },
    {
      "cell_type": "markdown",
      "metadata": {
        "id": "BMUievDJ1KR6",
        "colab_type": "text"
      },
      "source": [
        "## Defining the loss function and optimizer\n",
        "The loss function computes the distance between the model outputs and targets.It is also called the objective function, cost function, or criterion. Depending on the problem, we will define the appropriate loss function. For instance, for classification problems, we usually define the cross-entropy loss. \n",
        "\n",
        "We use the optimizer to update the model parameters (also called weights) during training. The optim package in PyTorch provides implementations of various optimization algorithms. These include stochastic gradient descent (SGD) and its variants, that is, Adam, RMSprop, and so on."
      ]
    },
    {
      "cell_type": "code",
      "metadata": {
        "id": "eVLuYlC917E4",
        "colab_type": "code",
        "colab": {
          "base_uri": "https://localhost:8080/",
          "height": 37
        },
        "outputId": "a0066a1e-ecb9-4430-ffbe-53dd5ca963ba"
      },
      "source": [
        "# Loss Function\n",
        "\n",
        "# define the negative log likelihood loss\n",
        "loss_func = nn.NLLLoss(reduction=\"sum\")\n",
        "\n",
        "for xb, yb in train_dl:\n",
        "    # move batch to cuda device\n",
        "    xb=xb.type(torch.float).to(device)\n",
        "    yb=yb.to(device)\n",
        "    # get model output\n",
        "    out=model(xb)\n",
        "    # calculate loss value\n",
        "    loss = loss_func(out, yb)\n",
        "    print (loss.item())\n",
        "    break"
      ],
      "execution_count": 17,
      "outputs": [
        {
          "output_type": "stream",
          "text": [
            "131.11544799804688\n"
          ],
          "name": "stdout"
        }
      ]
    },
    {
      "cell_type": "code",
      "metadata": {
        "id": "bR4JJPXl2C71",
        "colab_type": "code",
        "colab": {}
      },
      "source": [
        "# compute gradients\n",
        "loss.backward()"
      ],
      "execution_count": 0,
      "outputs": []
    },
    {
      "cell_type": "code",
      "metadata": {
        "id": "Ypr65p4R2LF7",
        "colab_type": "code",
        "colab": {}
      },
      "source": [
        "# We will define the optimizer and present the steps backward. Let's get started:\n",
        "\n",
        "# 1. Let's define the Adam optimizer:\n",
        "from torch import optim\n",
        "opt = optim.Adam(model.parameters(), lr=1e-4)\n",
        "\n",
        "# 2. Use the following code to update the model parameters:\n",
        "# update model parameters\n",
        "opt.step()\n",
        "\n",
        "# 3.Next, we set the gradients to zero:\n",
        "# set gradients to zero\n",
        "opt.zero_grad()"
      ],
      "execution_count": 0,
      "outputs": []
    },
    {
      "cell_type": "markdown",
      "metadata": {
        "id": "SXITK_RF2iEy",
        "colab_type": "text"
      },
      "source": [
        "## Loss Functions\n",
        "1. First, we defined the loss function. \n",
        "2. We used the torch.nn package to define the negative log-likelihood loss. \n",
        "3. This loss is useful for training a classification problem with multiple classes. \n",
        "4. The input to this loss function should be log-probabilities.\n",
        "5. We applied log_softmax at the output layer to get log-probabilities from the model. \n",
        "6. Next, we presented the forward path. \n",
        "7. We extracted a mini-batch, fed it to the model, and calculated the loss value. \n",
        "8. Next, we used the .backward method to compute the gradients of the loss with respect to the model parameters. \n",
        "9. This step will be used during the backpropagation algorithm.\n",
        "\n",
        "## Optimizers\n",
        "1. Next, we define the Adam optimizer. \n",
        "2. The inputs to the optimizer are the model parameters and the learning rate. \n",
        "3. Then, we presented the .step() model to automatically update the model parameters. \n",
        "4. Don't forget to set the gradients to zero before computing the gradients of the next batch."
      ]
    },
    {
      "cell_type": "markdown",
      "metadata": {
        "id": "KC90lKGD4Jta",
        "colab_type": "text"
      },
      "source": [
        "## Let's develop a helper function to compute the loss value per mini-batch:"
      ]
    },
    {
      "cell_type": "code",
      "metadata": {
        "id": "l5NIh7FZ4RQx",
        "colab_type": "code",
        "colab": {}
      },
      "source": [
        "def loss_batch(loss_func, xb, yb,yb_h, opt=None):\n",
        "    \n",
        "    # obtain loss\n",
        "    loss = loss_func(yb_h, yb)\n",
        "    \n",
        "    # obtain performance metric\n",
        "    metric_b = metrics_batch(yb,yb_h)\n",
        "    \n",
        "    if opt is not None:\n",
        "        loss.backward()\n",
        "        opt.step()\n",
        "        opt.zero_grad()\n",
        "\n",
        "    return loss.item(), metric_b"
      ],
      "execution_count": 0,
      "outputs": []
    },
    {
      "cell_type": "markdown",
      "metadata": {
        "id": "MesbiZcT4ccG",
        "colab_type": "text"
      },
      "source": [
        "## Next, we will define a helper function to compute the accuracy per mini-batch:"
      ]
    },
    {
      "cell_type": "code",
      "metadata": {
        "id": "WpPbVX6V4iWs",
        "colab_type": "code",
        "colab": {}
      },
      "source": [
        "def metrics_batch(target, output):\n",
        "    # obtain output class\n",
        "    pred = output.argmax(dim=1, keepdim=True)\n",
        "    \n",
        "    # compare output class with target class\n",
        "    corrects=pred.eq(target.view_as(pred)).sum().item()\n",
        "    return corrects"
      ],
      "execution_count": 0,
      "outputs": []
    },
    {
      "cell_type": "markdown",
      "metadata": {
        "id": "42974ZCF412-",
        "colab_type": "text"
      },
      "source": [
        "## Next, we will define a helper function to compute the loss and metric values for a dataset:"
      ]
    },
    {
      "cell_type": "code",
      "metadata": {
        "id": "uU0NtF16447x",
        "colab_type": "code",
        "colab": {}
      },
      "source": [
        "def loss_epoch(model,loss_func,dataset_dl,opt=None):\n",
        "    loss=0.0\n",
        "    metric=0.0\n",
        "    len_data=len(dataset_dl.dataset)\n",
        "    for xb, yb in dataset_dl:\n",
        "        xb=xb.type(torch.float).to(device)\n",
        "        yb=yb.to(device)\n",
        "        \n",
        "        # obtain model output\n",
        "        yb_h=model(xb)\n",
        "\n",
        "        loss_b,metric_b=loss_batch(loss_func, xb, yb,yb_h, opt)\n",
        "        loss+=loss_b\n",
        "        if metric_b is not None:\n",
        "            metric+=metric_b\n",
        "    loss/=len_data\n",
        "    metric/=len_data\n",
        "    return loss, metric"
      ],
      "execution_count": 0,
      "outputs": []
    },
    {
      "cell_type": "markdown",
      "metadata": {
        "id": "E5sqPLq65Srg",
        "colab_type": "text"
      },
      "source": [
        "## Finally, we will define the train_val function:"
      ]
    },
    {
      "cell_type": "code",
      "metadata": {
        "id": "yvxjoKQD5QJD",
        "colab_type": "code",
        "colab": {}
      },
      "source": [
        "def train_val(epochs, model, loss_func, opt, train_dl, val_dl):\n",
        "    for epoch in range(epochs):\n",
        "        model.train()\n",
        "        train_loss, train_metric=loss_epoch(model,loss_func,train_dl,opt)\n",
        "        \n",
        "            \n",
        "        model.eval()\n",
        "        with torch.no_grad():\n",
        "            val_loss, val_metric=loss_epoch(model,loss_func,val_dl)\n",
        "        \n",
        "        accuracy=100*val_metric\n",
        "\n",
        "        print(\"epoch: %d, train loss: %.6f, val loss: %.6f, accuracy: %.2f\" %(epoch, train_loss,val_loss,accuracy))"
      ],
      "execution_count": 0,
      "outputs": []
    },
    {
      "cell_type": "code",
      "metadata": {
        "id": "ivzQmpZz_631",
        "colab_type": "code",
        "colab": {
          "base_uri": "https://localhost:8080/",
          "height": 117
        },
        "outputId": "f94e657c-02e0-491c-d7a2-a1f7fc6ae8d7"
      },
      "source": [
        "# call train_val function\n",
        "num_epochs=5\n",
        "train_val(num_epochs, model, loss_func, opt, train_dl, val_dl)"
      ],
      "execution_count": 24,
      "outputs": [
        {
          "output_type": "stream",
          "text": [
            "epoch: 0, train loss: 0.276224, val loss: 0.126370, accuracy: 96.10\n",
            "epoch: 1, train loss: 0.076624, val loss: 0.084459, accuracy: 97.35\n",
            "epoch: 2, train loss: 0.051226, val loss: 0.061729, accuracy: 97.99\n",
            "epoch: 3, train loss: 0.037105, val loss: 0.052697, accuracy: 98.39\n",
            "epoch: 4, train loss: 0.027392, val loss: 0.048339, accuracy: 98.57\n"
          ],
          "name": "stdout"
        }
      ]
    },
    {
      "cell_type": "markdown",
      "metadata": {
        "id": "J2nxd_EhAows",
        "colab_type": "text"
      },
      "source": [
        "# Storing and loading models\n",
        "\n",
        "## Method 1"
      ]
    },
    {
      "cell_type": "markdown",
      "metadata": {
        "id": "fyVQWl40As-L",
        "colab_type": "text"
      },
      "source": [
        "### First, we will store the model parameters or state_dict in a file:"
      ]
    },
    {
      "cell_type": "code",
      "metadata": {
        "id": "O2vpc3WYA-Rw",
        "colab_type": "code",
        "colab": {}
      },
      "source": [
        "import torch\n",
        "\n",
        "# define path2weights\n",
        "path2weights=\"./weights.pt\"\n",
        "\n",
        "# store state_dict to file\n",
        "torch.save(model.state_dict(), path2weights)"
      ],
      "execution_count": 0,
      "outputs": []
    },
    {
      "cell_type": "markdown",
      "metadata": {
        "id": "Q9_EXfBNBUZz",
        "colab_type": "text"
      },
      "source": [
        "### To load the model parameters from the file, we will define an object of the Net class:\n"
      ]
    },
    {
      "cell_type": "code",
      "metadata": {
        "id": "CnZDZKFJBPT-",
        "colab_type": "code",
        "colab": {}
      },
      "source": [
        "# define model: weights are randomly initiated\n",
        "_model = Net()"
      ],
      "execution_count": 0,
      "outputs": []
    },
    {
      "cell_type": "markdown",
      "metadata": {
        "id": "Upk9t1Y9BdwA",
        "colab_type": "text"
      },
      "source": [
        "### Then, we will load state_dict from the file:\n",
        "\n"
      ]
    },
    {
      "cell_type": "code",
      "metadata": {
        "id": "gPa9qqybB3oH",
        "colab_type": "code",
        "colab": {}
      },
      "source": [
        "weights=torch.load(path2weights)"
      ],
      "execution_count": 0,
      "outputs": []
    },
    {
      "cell_type": "markdown",
      "metadata": {
        "id": "oSfQ5yyTB8V3",
        "colab_type": "text"
      },
      "source": [
        "### Next, we will set state_dict to the model:"
      ]
    },
    {
      "cell_type": "code",
      "metadata": {
        "id": "gWn5thRBDbS-",
        "colab_type": "code",
        "colab": {
          "base_uri": "https://localhost:8080/",
          "height": 37
        },
        "outputId": "81c07115-e895-4d9a-f425-cfc491486753"
      },
      "source": [
        "_model.load_state_dict(weights)"
      ],
      "execution_count": 28,
      "outputs": [
        {
          "output_type": "execute_result",
          "data": {
            "text/plain": [
              "<All keys matched successfully>"
            ]
          },
          "metadata": {
            "tags": []
          },
          "execution_count": 28
        }
      ]
    },
    {
      "cell_type": "markdown",
      "metadata": {
        "id": "Qai8sfRPDfaN",
        "colab_type": "text"
      },
      "source": [
        "## Method 2"
      ]
    },
    {
      "cell_type": "markdown",
      "metadata": {
        "id": "0TNvm7HsDtNA",
        "colab_type": "text"
      },
      "source": [
        "1. Instead of saving `model.state_dict()` save `model`. \n",
        "2. Likewise instead of `_model.load_state_dict(weights)` use `_model=torch.load(path2model)`"
      ]
    },
    {
      "cell_type": "code",
      "metadata": {
        "id": "oMebsyttEjw1",
        "colab_type": "code",
        "colab": {
          "base_uri": "https://localhost:8080/",
          "height": 197
        },
        "outputId": "1d9794cf-f2a3-481c-97ed-dd5566317735"
      },
      "source": [
        "# define a path2model\n",
        "path2model=\"./model.pt\"\n",
        "\n",
        "# store model and weights into local file\n",
        "torch.save(model,path2model)\n",
        "\n",
        "# define model: weights are randomly initiated\n",
        "_model = Net()\n",
        "\n",
        "# load model and weights from local file\n",
        "_model=torch.load(path2model)\n",
        "\n",
        "# set model in eval mode for deployment\n",
        "_model.eval()\n",
        "\n",
        "# move model to cuda device for accelerated computation\n",
        "_model.to(device)"
      ],
      "execution_count": 29,
      "outputs": [
        {
          "output_type": "stream",
          "text": [
            "/usr/local/lib/python3.6/dist-packages/torch/serialization.py:402: UserWarning: Couldn't retrieve source code for container of type Net. It won't be checked for correctness upon loading.\n",
            "  \"type \" + obj.__name__ + \". It won't be checked \"\n"
          ],
          "name": "stderr"
        },
        {
          "output_type": "execute_result",
          "data": {
            "text/plain": [
              "Net(\n",
              "  (conv1): Conv2d(1, 8, kernel_size=(5, 5), stride=(1, 1))\n",
              "  (conv2): Conv2d(8, 16, kernel_size=(5, 5), stride=(1, 1))\n",
              "  (fc1): Linear(in_features=256, out_features=100, bias=True)\n",
              "  (fc2): Linear(in_features=100, out_features=10, bias=True)\n",
              ")"
            ]
          },
          "metadata": {
            "tags": []
          },
          "execution_count": 29
        }
      ]
    },
    {
      "cell_type": "markdown",
      "metadata": {
        "id": "QMNtbdcfFHP_",
        "colab_type": "text"
      },
      "source": [
        "# Deploying the model"
      ]
    },
    {
      "cell_type": "code",
      "metadata": {
        "id": "Kz8bkugOcn0W",
        "colab_type": "code",
        "colab": {
          "base_uri": "https://localhost:8080/",
          "height": 305
        },
        "outputId": "a031de8f-ffea-4c78-a806-8191ac1d79b7"
      },
      "source": [
        "# x is a data point with C*H*W shape\n",
        "n=100\n",
        "x= x_val[n]\n",
        "y=y_val[n]\n",
        "print(x.shape)\n",
        "plt.imshow(x.numpy()[0],cmap=\"gray\")\n",
        "\n",
        "# we use unsqueeze to expand dimensions to 1*C*H*W\n",
        "x= x.unsqueeze(0)\n",
        "\n",
        "# convert to torch.float32\n",
        "x=x.type(torch.float)\n",
        "\n",
        "# move to cuda device\n",
        "x=x.to(device)\n",
        "\n",
        "# get model output\n",
        "output=_model(x)\n",
        "\n",
        "# get predicted class\n",
        "pred = output.argmax(dim=1, keepdim=True)\n",
        "print (pred.item(),y.item())"
      ],
      "execution_count": 30,
      "outputs": [
        {
          "output_type": "stream",
          "text": [
            "torch.Size([1, 28, 28])\n",
            "6 6\n"
          ],
          "name": "stdout"
        },
        {
          "output_type": "display_data",
          "data": {
            "image/png": "[encoded data removed]",
            "text/plain": [
              "<Figure size 432x288 with 1 Axes>"
            ]
          },
          "metadata": {
            "tags": [],
            "needs_background": "light"
          }
        }
      ]
    }
  ]
}