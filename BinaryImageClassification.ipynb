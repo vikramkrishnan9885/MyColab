{
  "nbformat": 4,
  "nbformat_minor": 0,
  "metadata": {
    "colab": {
      "name": "BinaryImageClassification.ipynb",
      "provenance": [],
      "collapsed_sections": [],
      "authorship_tag": "ABX9TyOQd+8WQGzh91BL6V+9jMhu",
      "include_colab_link": true
    },
    "kernelspec": {
      "name": "python3",
      "display_name": "Python 3"
    }
  },
  "cells": [
    {
      "cell_type": "markdown",
      "metadata": {
        "id": "view-in-github",
        "colab_type": "text"
      },
      "source": [
        "<a href=\"https://colab.research.google.com/github/vikramkrishnan9885/MyColab/blob/master/BinaryImageClassification.ipynb\" target=\"_parent\"><img src=\"https://colab.research.google.com/assets/colab-badge.svg\" alt=\"Open In Colab\"/></a>"
      ]
    },
    {
      "cell_type": "markdown",
      "metadata": {
        "id": "Ym_pi3oBd3dj",
        "colab_type": "text"
      },
      "source": [
        "# Steps\n",
        "\n",
        "1. Load Data\n",
        "2. Preprocessing Data\n",
        "3. Building the model\n",
        "4. Defining the loss model\n",
        "5. Defining optimizer\n",
        "6. Train and evaluating the model\n",
        "7. Deploying the model"
      ]
    }
  ]
}