{
  "nbformat": 4,
  "nbformat_minor": 0,
  "metadata": {
    "colab": {
      "name": "NeuralMachineTranslation",
      "provenance": [],
      "authorship_tag": "ABX9TyNYnmufMl3Yv5mQokVdYlys",
      "include_colab_link": true
    },
    "kernelspec": {
      "name": "python3",
      "display_name": "Python 3"
    },
    "accelerator": "GPU"
  },
  "cells": [
    {
      "cell_type": "markdown",
      "metadata": {
        "id": "view-in-github",
        "colab_type": "text"
      },
      "source": [
        "<a href=\"https://colab.research.google.com/github/vikramkrishnan9885/MyColab/blob/master/NeuralMachineTranslation.ipynb\" target=\"_parent\"><img src=\"https://colab.research.google.com/assets/colab-badge.svg\" alt=\"Open In Colab\"/></a>"
      ]
    },
    {
      "cell_type": "code",
      "metadata": {
        "id": "brtMQDy7fXXi",
        "colab_type": "code",
        "colab": {
          "base_uri": "https://localhost:8080/",
          "height": 77
        },
        "outputId": "f1b79129-66e0-46ef-af34-1f2eac3e84eb"
      },
      "source": [
        "import requests\n",
        "\n",
        "from argparse import Namespace\n",
        "from nltk.tokenize import word_tokenize\n",
        "import numpy as np\n",
        "import pandas as pd\n",
        "\n",
        "import nltk\n",
        "nltk.download('punkt')"
      ],
      "execution_count": null,
      "outputs": [
        {
          "output_type": "stream",
          "text": [
            "[nltk_data] Downloading package punkt to /root/nltk_data...\n",
            "[nltk_data]   Unzipping tokenizers/punkt.zip.\n"
          ],
          "name": "stdout"
        },
        {
          "output_type": "execute_result",
          "data": {
            "text/plain": [
              "True"
            ]
          },
          "metadata": {
            "tags": []
          },
          "execution_count": 11
        }
      ]
    },
    {
      "cell_type": "code",
      "metadata": {
        "id": "DG8JnGuKBIuI",
        "colab_type": "code",
        "colab": {}
      },
      "source": [
        "def progress_bar(some_iter):\n",
        "    try:\n",
        "        from tqdm import tqdm\n",
        "        return tqdm(some_iter)\n",
        "    except ModuleNotFoundError:\n",
        "        return some_iter\n",
        "\n",
        "def download_file_from_google_drive(id, destination):\n",
        "    print(\"Trying to fetch {}\".format(destination))\n",
        "\n",
        "    def get_confirm_token(response):\n",
        "        for key, value in response.cookies.items():\n",
        "            if key.startswith('download_warning'):\n",
        "                return value\n",
        "\n",
        "        return None\n",
        "\n",
        "    def save_response_content(response, destination):\n",
        "        CHUNK_SIZE = 32768\n",
        "\n",
        "        with open(destination, \"wb\") as f:\n",
        "            for chunk in progress_bar(response.iter_content(CHUNK_SIZE)):\n",
        "                if chunk: # filter out keep-alive new chunks\n",
        "                    f.write(chunk)\n",
        "\n",
        "    URL = \"https://docs.google.com/uc?export=download\"\n",
        "\n",
        "    session = requests.Session()\n",
        "\n",
        "    response = session.get(URL, params = { 'id' : id }, stream = True)\n",
        "    token = get_confirm_token(response)\n",
        "\n",
        "    if token:\n",
        "        params = { 'id' : id, 'confirm' : token }\n",
        "        response = session.get(URL, params = params, stream = True)\n",
        "\n",
        "    save_response_content(response, destination)"
      ],
      "execution_count": null,
      "outputs": []
    },
    {
      "cell_type": "code",
      "metadata": {
        "id": "BAroRm5WcmOg",
        "colab_type": "code",
        "colab": {
          "base_uri": "https://localhost:8080/",
          "height": 57
        },
        "outputId": "d518f975-b17b-4b26-a200-6bfc84b29079"
      },
      "source": [
        "file_id_0 = '1o2ac0EliUod63sYUdpow_Dh-OqS3hF5Z'\n",
        "destination_0 = 'eng-fra.txt'\n",
        "download_file_from_google_drive(file_id_0, destination_0)"
      ],
      "execution_count": null,
      "outputs": [
        {
          "output_type": "stream",
          "text": [
            "Trying to fetch eng-fra.txt\n"
          ],
          "name": "stdout"
        },
        {
          "output_type": "stream",
          "text": [
            "292it [00:00, 2262.38it/s]\n"
          ],
          "name": "stderr"
        }
      ]
    },
    {
      "cell_type": "code",
      "metadata": {
        "id": "cwK56_e3c3Bj",
        "colab_type": "code",
        "colab": {
          "base_uri": "https://localhost:8080/",
          "height": 57
        },
        "outputId": "6464789b-81d2-44da-d6a4-e5e3c1d0a3eb"
      },
      "source": [
        "file_id_1 = '1jLx6dZllBQ3LXZkCjZ4VciMQkZUInU10'\n",
        "destination_1 = 'simplest_eng_fra.csv'\n",
        "download_file_from_google_drive(file_id_1, destination_1)"
      ],
      "execution_count": null,
      "outputs": [
        {
          "output_type": "stream",
          "text": [
            "Trying to fetch simplest_eng_fra.csv\n"
          ],
          "name": "stdout"
        },
        {
          "output_type": "stream",
          "text": [
            "30it [00:00, 2761.95it/s]\n"
          ],
          "name": "stderr"
        }
      ]
    },
    {
      "cell_type": "code",
      "metadata": {
        "id": "lRNu3VG7fUL7",
        "colab_type": "code",
        "colab": {}
      },
      "source": [
        "args = Namespace(\n",
        "    source_data_path=\"eng-fra.txt\",\n",
        "    output_data_path=\"simplest_eng_fra.csv\",\n",
        "    perc_train=0.7,\n",
        "    perc_val=0.15,\n",
        "    perc_test=0.15,\n",
        "    seed=1337\n",
        ")"
      ],
      "execution_count": null,
      "outputs": []
    },
    {
      "cell_type": "code",
      "metadata": {
        "id": "_qP2E3PdfoHZ",
        "colab_type": "code",
        "colab": {}
      },
      "source": [
        "with open(args.source_data_path) as fp:\n",
        "    lines = fp.readlines()"
      ],
      "execution_count": null,
      "outputs": []
    },
    {
      "cell_type": "code",
      "metadata": {
        "id": "ByVvvCxlftoJ",
        "colab_type": "code",
        "colab": {}
      },
      "source": [
        "lines = [line.replace(\"\\n\", \"\").lower().split(\"\\t\") for line in lines]"
      ],
      "execution_count": null,
      "outputs": []
    },
    {
      "cell_type": "code",
      "metadata": {
        "id": "pMauIzkKfxX1",
        "colab_type": "code",
        "colab": {}
      },
      "source": [
        "data = []\n",
        "for english_sentence, french_sentence in lines:\n",
        "    data.append(\n",
        "        {\n",
        "            \"english_tokens\": word_tokenize(english_sentence, language=\"english\"),\n",
        "            \"french_tokens\": word_tokenize(french_sentence, language=\"french\")\n",
        "        }\n",
        "    )"
      ],
      "execution_count": null,
      "outputs": []
    },
    {
      "cell_type": "code",
      "metadata": {
        "id": "xUV3ncN5gSmj",
        "colab_type": "code",
        "colab": {}
      },
      "source": [
        "filter_phrases = (\n",
        "    (\"i\", \"am\"), (\"i\", \"'m\"), \n",
        "    (\"he\", \"is\"), (\"he\", \"'s\"),\n",
        "    (\"she\", \"is\"), (\"she\", \"'s\"),\n",
        "    (\"you\", \"are\"), (\"you\", \"'re\"),\n",
        "    (\"we\", \"are\"), (\"we\", \"'re\"),\n",
        "    (\"they\", \"are\"), (\"they\", \"'re\")\n",
        ")"
      ],
      "execution_count": null,
      "outputs": []
    },
    {
      "cell_type": "code",
      "metadata": {
        "id": "uPATvGLBgUQk",
        "colab_type": "code",
        "colab": {}
      },
      "source": [
        "data_subset = {phrase: [] for phrase in filter_phrases}\n",
        "for datum in data:\n",
        "    key = tuple(datum['english_tokens'][:2])\n",
        "    if key in data_subset:\n",
        "        data_subset[key].append(datum)"
      ],
      "execution_count": null,
      "outputs": []
    },
    {
      "cell_type": "code",
      "metadata": {
        "id": "uVYXgetvgY63",
        "colab_type": "code",
        "colab": {
          "base_uri": "https://localhost:8080/",
          "height": 277
        },
        "outputId": "7f2fe15c-5955-46be-fd5e-0a3369040917"
      },
      "source": [
        "counts = {k: len(v) for k,v in data_subset.items()}\n",
        "counts, sum(counts.values())"
      ],
      "execution_count": null,
      "outputs": [
        {
          "output_type": "execute_result",
          "data": {
            "text/plain": [
              "({('he', \"'s\"): 787,\n",
              "  ('he', 'is'): 1069,\n",
              "  ('i', \"'m\"): 4760,\n",
              "  ('i', 'am'): 805,\n",
              "  ('she', \"'s\"): 316,\n",
              "  ('she', 'is'): 504,\n",
              "  ('they', \"'re\"): 470,\n",
              "  ('they', 'are'): 194,\n",
              "  ('we', \"'re\"): 1053,\n",
              "  ('we', 'are'): 181,\n",
              "  ('you', \"'re\"): 2474,\n",
              "  ('you', 'are'): 449},\n",
              " 13062)"
            ]
          },
          "metadata": {
            "tags": []
          },
          "execution_count": 15
        }
      ]
    },
    {
      "cell_type": "code",
      "metadata": {
        "id": "lkQhnuB6gc0s",
        "colab_type": "code",
        "colab": {}
      },
      "source": [
        "np.random.seed(args.seed)\n",
        "\n",
        "dataset_stage3 = []\n",
        "for phrase, datum_list in sorted(data_subset.items()):\n",
        "    np.random.shuffle(datum_list)\n",
        "    n_train = int(len(datum_list) * args.perc_train)\n",
        "    n_val = int(len(datum_list) * args.perc_val)\n",
        "\n",
        "    for datum in datum_list[:n_train]:\n",
        "        datum['split'] = 'train'\n",
        "        \n",
        "    for datum in datum_list[n_train:n_train+n_val]:\n",
        "        datum['split'] = 'val'\n",
        "        \n",
        "    for datum in datum_list[n_train+n_val:]:\n",
        "        datum['split'] = 'test'\n",
        "    \n",
        "    dataset_stage3.extend(datum_list)    "
      ],
      "execution_count": null,
      "outputs": []
    },
    {
      "cell_type": "code",
      "metadata": {
        "id": "IyqxZywaggGG",
        "colab_type": "code",
        "colab": {}
      },
      "source": [
        "# here we pop and assign into the dictionary, thus modifying in place\n",
        "for datum in dataset_stage3:\n",
        "    datum['source_language'] = \" \".join(datum.pop('english_tokens'))\n",
        "    datum['target_language'] = \" \".join(datum.pop('french_tokens'))"
      ],
      "execution_count": null,
      "outputs": []
    },
    {
      "cell_type": "code",
      "metadata": {
        "id": "JhArKuEwgjJd",
        "colab_type": "code",
        "colab": {}
      },
      "source": [
        "nmt_df = pd.DataFrame(dataset_stage3)"
      ],
      "execution_count": null,
      "outputs": []
    },
    {
      "cell_type": "code",
      "metadata": {
        "id": "E56ntDrAgn_f",
        "colab_type": "code",
        "colab": {
          "base_uri": "https://localhost:8080/",
          "height": 204
        },
        "outputId": "a6ac7811-547b-4359-b303-95bb72fa61da"
      },
      "source": [
        "nmt_df.head()"
      ],
      "execution_count": null,
      "outputs": [
        {
          "output_type": "execute_result",
          "data": {
            "text/html": [
              "<div>\n",
              "<style scoped>\n",
              "    .dataframe tbody tr th:only-of-type {\n",
              "        vertical-align: middle;\n",
              "    }\n",
              "\n",
              "    .dataframe tbody tr th {\n",
              "        vertical-align: top;\n",
              "    }\n",
              "\n",
              "    .dataframe thead th {\n",
              "        text-align: right;\n",
              "    }\n",
              "</style>\n",
              "<table border=\"1\" class=\"dataframe\">\n",
              "  <thead>\n",
              "    <tr style=\"text-align: right;\">\n",
              "      <th></th>\n",
              "      <th>split</th>\n",
              "      <th>source_language</th>\n",
              "      <th>target_language</th>\n",
              "    </tr>\n",
              "  </thead>\n",
              "  <tbody>\n",
              "    <tr>\n",
              "      <th>0</th>\n",
              "      <td>train</td>\n",
              "      <td>he 's the cutest boy in town .</td>\n",
              "      <td>c'est le garçon le plus mignon en ville .</td>\n",
              "    </tr>\n",
              "    <tr>\n",
              "      <th>1</th>\n",
              "      <td>train</td>\n",
              "      <td>he 's a nonsmoker .</td>\n",
              "      <td>il est non-fumeur .</td>\n",
              "    </tr>\n",
              "    <tr>\n",
              "      <th>2</th>\n",
              "      <td>train</td>\n",
              "      <td>he 's smarter than me .</td>\n",
              "      <td>il est plus intelligent que moi .</td>\n",
              "    </tr>\n",
              "    <tr>\n",
              "      <th>3</th>\n",
              "      <td>train</td>\n",
              "      <td>he 's a lovely young man .</td>\n",
              "      <td>c'est un adorable jeune homme .</td>\n",
              "    </tr>\n",
              "    <tr>\n",
              "      <th>4</th>\n",
              "      <td>train</td>\n",
              "      <td>he 's three years older than me .</td>\n",
              "      <td>il a trois ans de plus que moi .</td>\n",
              "    </tr>\n",
              "  </tbody>\n",
              "</table>\n",
              "</div>"
            ],
            "text/plain": [
              "   split  ...                            target_language\n",
              "0  train  ...  c'est le garçon le plus mignon en ville .\n",
              "1  train  ...                        il est non-fumeur .\n",
              "2  train  ...          il est plus intelligent que moi .\n",
              "3  train  ...            c'est un adorable jeune homme .\n",
              "4  train  ...           il a trois ans de plus que moi .\n",
              "\n",
              "[5 rows x 3 columns]"
            ]
          },
          "metadata": {
            "tags": []
          },
          "execution_count": 19
        }
      ]
    },
    {
      "cell_type": "code",
      "metadata": {
        "id": "J_ulK7XBgqfa",
        "colab_type": "code",
        "colab": {}
      },
      "source": [
        "nmt_df.to_csv(args.output_data_path)"
      ],
      "execution_count": null,
      "outputs": []
    }
  ]
}