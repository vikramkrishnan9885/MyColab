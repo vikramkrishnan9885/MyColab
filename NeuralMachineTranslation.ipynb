{
  "nbformat": 4,
  "nbformat_minor": 0,
  "metadata": {
    "colab": {
      "name": "NeuralMachineTranslation",
      "provenance": [],
      "authorship_tag": "ABX9TyOSJJMLYCZU6PJr849p7wuM",
      "include_colab_link": true
    },
    "kernelspec": {
      "name": "python3",
      "display_name": "Python 3"
    },
    "accelerator": "GPU"
  },
  "cells": [
    {
      "cell_type": "markdown",
      "metadata": {
        "id": "view-in-github",
        "colab_type": "text"
      },
      "source": [
        "<a href=\"https://colab.research.google.com/github/vikramkrishnan9885/MyColab/blob/master/NeuralMachineTranslation.ipynb\" target=\"_parent\"><img src=\"https://colab.research.google.com/assets/colab-badge.svg\" alt=\"Open In Colab\"/></a>"
      ]
    },
    {
      "cell_type": "code",
      "metadata": {
        "id": "brtMQDy7fXXi",
        "colab_type": "code",
        "colab": {
          "base_uri": "https://localhost:8080/",
          "height": 77
        },
        "outputId": "6848ca70-2b3c-4a61-9ef3-7618ebd2a305"
      },
      "source": [
        "import requests\n",
        "\n",
        "from argparse import Namespace\n",
        "from nltk.tokenize import word_tokenize\n",
        "import numpy as np\n",
        "import pandas as pd\n",
        "\n",
        "import nltk\n",
        "nltk.download('punkt')"
      ],
      "execution_count": 1,
      "outputs": [
        {
          "output_type": "stream",
          "text": [
            "[nltk_data] Downloading package punkt to /root/nltk_data...\n",
            "[nltk_data]   Unzipping tokenizers/punkt.zip.\n"
          ],
          "name": "stdout"
        },
        {
          "output_type": "execute_result",
          "data": {
            "text/plain": [
              "True"
            ]
          },
          "metadata": {
            "tags": []
          },
          "execution_count": 1
        }
      ]
    },
    {
      "cell_type": "code",
      "metadata": {
        "id": "DG8JnGuKBIuI",
        "colab_type": "code",
        "colab": {}
      },
      "source": [
        "def progress_bar(some_iter):\n",
        "    try:\n",
        "        from tqdm import tqdm\n",
        "        return tqdm(some_iter)\n",
        "    except ModuleNotFoundError:\n",
        "        return some_iter\n",
        "\n",
        "def download_file_from_google_drive(id, destination):\n",
        "    print(\"Trying to fetch {}\".format(destination))\n",
        "\n",
        "    def get_confirm_token(response):\n",
        "        for key, value in response.cookies.items():\n",
        "            if key.startswith('download_warning'):\n",
        "                return value\n",
        "\n",
        "        return None\n",
        "\n",
        "    def save_response_content(response, destination):\n",
        "        CHUNK_SIZE = 32768\n",
        "\n",
        "        with open(destination, \"wb\") as f:\n",
        "            for chunk in progress_bar(response.iter_content(CHUNK_SIZE)):\n",
        "                if chunk: # filter out keep-alive new chunks\n",
        "                    f.write(chunk)\n",
        "\n",
        "    URL = \"https://docs.google.com/uc?export=download\"\n",
        "\n",
        "    session = requests.Session()\n",
        "\n",
        "    response = session.get(URL, params = { 'id' : id }, stream = True)\n",
        "    token = get_confirm_token(response)\n",
        "\n",
        "    if token:\n",
        "        params = { 'id' : id, 'confirm' : token }\n",
        "        response = session.get(URL, params = params, stream = True)\n",
        "\n",
        "    save_response_content(response, destination)"
      ],
      "execution_count": 2,
      "outputs": []
    },
    {
      "cell_type": "code",
      "metadata": {
        "id": "BAroRm5WcmOg",
        "colab_type": "code",
        "colab": {
          "base_uri": "https://localhost:8080/",
          "height": 57
        },
        "outputId": "26aa0bb7-24c3-4939-cd0f-1378b68c13b6"
      },
      "source": [
        "file_id_0 = '1o2ac0EliUod63sYUdpow_Dh-OqS3hF5Z'\n",
        "destination_0 = 'eng-fra.txt'\n",
        "download_file_from_google_drive(file_id_0, destination_0)"
      ],
      "execution_count": 3,
      "outputs": [
        {
          "output_type": "stream",
          "text": [
            "Trying to fetch eng-fra.txt\n"
          ],
          "name": "stdout"
        },
        {
          "output_type": "stream",
          "text": [
            "292it [00:00, 857.59it/s]\n"
          ],
          "name": "stderr"
        }
      ]
    },
    {
      "cell_type": "code",
      "metadata": {
        "id": "cwK56_e3c3Bj",
        "colab_type": "code",
        "colab": {
          "base_uri": "https://localhost:8080/",
          "height": 57
        },
        "outputId": "b68c2fb7-2430-4eec-d14b-cc2204edb8a8"
      },
      "source": [
        "file_id_1 = '1jLx6dZllBQ3LXZkCjZ4VciMQkZUInU10'\n",
        "destination_1 = 'simplest_eng_fra.csv'\n",
        "download_file_from_google_drive(file_id_1, destination_1)"
      ],
      "execution_count": 4,
      "outputs": [
        {
          "output_type": "stream",
          "text": [
            "Trying to fetch simplest_eng_fra.csv\n"
          ],
          "name": "stdout"
        },
        {
          "output_type": "stream",
          "text": [
            "30it [00:00, 3744.47it/s]\n"
          ],
          "name": "stderr"
        }
      ]
    },
    {
      "cell_type": "code",
      "metadata": {
        "id": "lRNu3VG7fUL7",
        "colab_type": "code",
        "colab": {}
      },
      "source": [
        "args = Namespace(\n",
        "    source_data_path=\"eng-fra.txt\",\n",
        "    output_data_path=\"simplest_eng_fra.csv\",\n",
        "    perc_train=0.7,\n",
        "    perc_val=0.15,\n",
        "    perc_test=0.15,\n",
        "    seed=1337\n",
        ")"
      ],
      "execution_count": 5,
      "outputs": []
    },
    {
      "cell_type": "code",
      "metadata": {
        "id": "_qP2E3PdfoHZ",
        "colab_type": "code",
        "colab": {}
      },
      "source": [
        "with open(args.source_data_path) as fp:\n",
        "    lines = fp.readlines()"
      ],
      "execution_count": 6,
      "outputs": []
    },
    {
      "cell_type": "code",
      "metadata": {
        "id": "ByVvvCxlftoJ",
        "colab_type": "code",
        "colab": {}
      },
      "source": [
        "lines = [line.replace(\"\\n\", \"\").lower().split(\"\\t\") for line in lines]"
      ],
      "execution_count": 7,
      "outputs": []
    },
    {
      "cell_type": "code",
      "metadata": {
        "id": "pMauIzkKfxX1",
        "colab_type": "code",
        "colab": {}
      },
      "source": [
        "data = []\n",
        "for english_sentence, french_sentence in lines:\n",
        "    data.append(\n",
        "        {\n",
        "            \"english_tokens\": word_tokenize(english_sentence, language=\"english\"),\n",
        "            \"french_tokens\": word_tokenize(french_sentence, language=\"french\")\n",
        "        }\n",
        "    )"
      ],
      "execution_count": 8,
      "outputs": []
    },
    {
      "cell_type": "code",
      "metadata": {
        "id": "xUV3ncN5gSmj",
        "colab_type": "code",
        "colab": {}
      },
      "source": [
        "filter_phrases = (\n",
        "    (\"i\", \"am\"), (\"i\", \"'m\"), \n",
        "    (\"he\", \"is\"), (\"he\", \"'s\"),\n",
        "    (\"she\", \"is\"), (\"she\", \"'s\"),\n",
        "    (\"you\", \"are\"), (\"you\", \"'re\"),\n",
        "    (\"we\", \"are\"), (\"we\", \"'re\"),\n",
        "    (\"they\", \"are\"), (\"they\", \"'re\")\n",
        ")"
      ],
      "execution_count": 9,
      "outputs": []
    },
    {
      "cell_type": "code",
      "metadata": {
        "id": "uPATvGLBgUQk",
        "colab_type": "code",
        "colab": {}
      },
      "source": [
        "data_subset = {phrase: [] for phrase in filter_phrases}\n",
        "for datum in data:\n",
        "    key = tuple(datum['english_tokens'][:2])\n",
        "    if key in data_subset:\n",
        "        data_subset[key].append(datum)"
      ],
      "execution_count": 10,
      "outputs": []
    },
    {
      "cell_type": "code",
      "metadata": {
        "id": "uVYXgetvgY63",
        "colab_type": "code",
        "colab": {
          "base_uri": "https://localhost:8080/",
          "height": 277
        },
        "outputId": "061452ff-a554-4b75-f50e-48d9ae2a397f"
      },
      "source": [
        "counts = {k: len(v) for k,v in data_subset.items()}\n",
        "counts, sum(counts.values())"
      ],
      "execution_count": 11,
      "outputs": [
        {
          "output_type": "execute_result",
          "data": {
            "text/plain": [
              "({('he', \"'s\"): 787,\n",
              "  ('he', 'is'): 1069,\n",
              "  ('i', \"'m\"): 4760,\n",
              "  ('i', 'am'): 805,\n",
              "  ('she', \"'s\"): 316,\n",
              "  ('she', 'is'): 504,\n",
              "  ('they', \"'re\"): 470,\n",
              "  ('they', 'are'): 194,\n",
              "  ('we', \"'re\"): 1053,\n",
              "  ('we', 'are'): 181,\n",
              "  ('you', \"'re\"): 2474,\n",
              "  ('you', 'are'): 449},\n",
              " 13062)"
            ]
          },
          "metadata": {
            "tags": []
          },
          "execution_count": 11
        }
      ]
    },
    {
      "cell_type": "code",
      "metadata": {
        "id": "lkQhnuB6gc0s",
        "colab_type": "code",
        "colab": {}
      },
      "source": [
        "np.random.seed(args.seed)\n",
        "\n",
        "dataset_stage3 = []\n",
        "for phrase, datum_list in sorted(data_subset.items()):\n",
        "    np.random.shuffle(datum_list)\n",
        "    n_train = int(len(datum_list) * args.perc_train)\n",
        "    n_val = int(len(datum_list) * args.perc_val)\n",
        "\n",
        "    for datum in datum_list[:n_train]:\n",
        "        datum['split'] = 'train'\n",
        "        \n",
        "    for datum in datum_list[n_train:n_train+n_val]:\n",
        "        datum['split'] = 'val'\n",
        "        \n",
        "    for datum in datum_list[n_train+n_val:]:\n",
        "        datum['split'] = 'test'\n",
        "    \n",
        "    dataset_stage3.extend(datum_list)    "
      ],
      "execution_count": 12,
      "outputs": []
    },
    {
      "cell_type": "code",
      "metadata": {
        "id": "IyqxZywaggGG",
        "colab_type": "code",
        "colab": {}
      },
      "source": [
        "# here we pop and assign into the dictionary, thus modifying in place\n",
        "for datum in dataset_stage3:\n",
        "    datum['source_language'] = \" \".join(datum.pop('english_tokens'))\n",
        "    datum['target_language'] = \" \".join(datum.pop('french_tokens'))"
      ],
      "execution_count": 13,
      "outputs": []
    },
    {
      "cell_type": "code",
      "metadata": {
        "id": "JhArKuEwgjJd",
        "colab_type": "code",
        "colab": {}
      },
      "source": [
        "nmt_df = pd.DataFrame(dataset_stage3)"
      ],
      "execution_count": 14,
      "outputs": []
    },
    {
      "cell_type": "code",
      "metadata": {
        "id": "E56ntDrAgn_f",
        "colab_type": "code",
        "colab": {
          "base_uri": "https://localhost:8080/",
          "height": 204
        },
        "outputId": "4372fa8b-d0fd-41f6-8525-c15ea89d064c"
      },
      "source": [
        "nmt_df.head()"
      ],
      "execution_count": 15,
      "outputs": [
        {
          "output_type": "execute_result",
          "data": {
            "text/html": [
              "<div>\n",
              "<style scoped>\n",
              "    .dataframe tbody tr th:only-of-type {\n",
              "        vertical-align: middle;\n",
              "    }\n",
              "\n",
              "    .dataframe tbody tr th {\n",
              "        vertical-align: top;\n",
              "    }\n",
              "\n",
              "    .dataframe thead th {\n",
              "        text-align: right;\n",
              "    }\n",
              "</style>\n",
              "<table border=\"1\" class=\"dataframe\">\n",
              "  <thead>\n",
              "    <tr style=\"text-align: right;\">\n",
              "      <th></th>\n",
              "      <th>split</th>\n",
              "      <th>source_language</th>\n",
              "      <th>target_language</th>\n",
              "    </tr>\n",
              "  </thead>\n",
              "  <tbody>\n",
              "    <tr>\n",
              "      <th>0</th>\n",
              "      <td>train</td>\n",
              "      <td>he 's the cutest boy in town .</td>\n",
              "      <td>c'est le garçon le plus mignon en ville .</td>\n",
              "    </tr>\n",
              "    <tr>\n",
              "      <th>1</th>\n",
              "      <td>train</td>\n",
              "      <td>he 's a nonsmoker .</td>\n",
              "      <td>il est non-fumeur .</td>\n",
              "    </tr>\n",
              "    <tr>\n",
              "      <th>2</th>\n",
              "      <td>train</td>\n",
              "      <td>he 's smarter than me .</td>\n",
              "      <td>il est plus intelligent que moi .</td>\n",
              "    </tr>\n",
              "    <tr>\n",
              "      <th>3</th>\n",
              "      <td>train</td>\n",
              "      <td>he 's a lovely young man .</td>\n",
              "      <td>c'est un adorable jeune homme .</td>\n",
              "    </tr>\n",
              "    <tr>\n",
              "      <th>4</th>\n",
              "      <td>train</td>\n",
              "      <td>he 's three years older than me .</td>\n",
              "      <td>il a trois ans de plus que moi .</td>\n",
              "    </tr>\n",
              "  </tbody>\n",
              "</table>\n",
              "</div>"
            ],
            "text/plain": [
              "   split  ...                            target_language\n",
              "0  train  ...  c'est le garçon le plus mignon en ville .\n",
              "1  train  ...                        il est non-fumeur .\n",
              "2  train  ...          il est plus intelligent que moi .\n",
              "3  train  ...            c'est un adorable jeune homme .\n",
              "4  train  ...           il a trois ans de plus que moi .\n",
              "\n",
              "[5 rows x 3 columns]"
            ]
          },
          "metadata": {
            "tags": []
          },
          "execution_count": 15
        }
      ]
    },
    {
      "cell_type": "code",
      "metadata": {
        "id": "J_ulK7XBgqfa",
        "colab_type": "code",
        "colab": {}
      },
      "source": [
        "nmt_df.to_csv(args.output_data_path)"
      ],
      "execution_count": 16,
      "outputs": []
    },
    {
      "cell_type": "markdown",
      "metadata": {
        "id": "n3U4VdGuWwoR",
        "colab_type": "text"
      },
      "source": [
        "# Vocabulary"
      ]
    },
    {
      "cell_type": "code",
      "metadata": {
        "id": "wMbw2Ic2Wyve",
        "colab_type": "code",
        "colab": {}
      },
      "source": [
        "import os\n",
        "from argparse import Namespace\n",
        "from collections import Counter\n",
        "import json\n",
        "import re\n",
        "import string\n",
        "\n",
        "import numpy as np\n",
        "import pandas as pd\n",
        "import torch\n",
        "import torch.nn as nn\n",
        "from torch.nn import functional as F\n",
        "from torch.nn.utils.rnn import pack_padded_sequence, pad_packed_sequence\n",
        "import torch.optim as optim\n",
        "from torch.utils.data import Dataset, DataLoader\n",
        "from tqdm import tqdm_notebook"
      ],
      "execution_count": 17,
      "outputs": []
    },
    {
      "cell_type": "code",
      "metadata": {
        "id": "DkIajbJOWzmC",
        "colab_type": "code",
        "colab": {}
      },
      "source": [
        "class Vocabulary(object):\n",
        "    \"\"\"Class to process text and extract vocabulary for mapping\"\"\"\n",
        "\n",
        "    def __init__(self, token_to_idx=None):\n",
        "        \"\"\"\n",
        "        Args:\n",
        "            token_to_idx (dict): a pre-existing map of tokens to indices\n",
        "        \"\"\"\n",
        "\n",
        "        if token_to_idx is None:\n",
        "            token_to_idx = {}\n",
        "        self._token_to_idx = token_to_idx\n",
        "\n",
        "        self._idx_to_token = {idx: token \n",
        "                              for token, idx in self._token_to_idx.items()}\n",
        "        \n",
        "    def to_serializable(self):\n",
        "        \"\"\" returns a dictionary that can be serialized \"\"\"\n",
        "        return {'token_to_idx': self._token_to_idx}\n",
        "\n",
        "    @classmethod\n",
        "    def from_serializable(cls, contents):\n",
        "        \"\"\" instantiates the Vocabulary from a serialized dictionary \"\"\"\n",
        "        return cls(**contents)\n",
        "\n",
        "    def add_token(self, token):\n",
        "        \"\"\"Update mapping dicts based on the token.\n",
        "\n",
        "        Args:\n",
        "            token (str): the item to add into the Vocabulary\n",
        "        Returns:\n",
        "            index (int): the integer corresponding to the token\n",
        "        \"\"\"\n",
        "        if token in self._token_to_idx:\n",
        "            index = self._token_to_idx[token]\n",
        "        else:\n",
        "            index = len(self._token_to_idx)\n",
        "            self._token_to_idx[token] = index\n",
        "            self._idx_to_token[index] = token\n",
        "        return index\n",
        "            \n",
        "    def add_many(self, tokens):\n",
        "        \"\"\"Add a list of tokens into the Vocabulary\n",
        "        \n",
        "        Args:\n",
        "            tokens (list): a list of string tokens\n",
        "        Returns:\n",
        "            indices (list): a list of indices corresponding to the tokens\n",
        "        \"\"\"\n",
        "        return [self.add_token(token) for token in tokens]\n",
        "\n",
        "    def lookup_token(self, token):\n",
        "        \"\"\"Retrieve the index associated with the token \n",
        "        \n",
        "        Args:\n",
        "            token (str): the token to look up \n",
        "        Returns:\n",
        "            index (int): the index corresponding to the token\n",
        "        \"\"\"\n",
        "        return self._token_to_idx[token]\n",
        "\n",
        "    def lookup_index(self, index):\n",
        "        \"\"\"Return the token associated with the index\n",
        "        \n",
        "        Args: \n",
        "            index (int): the index to look up\n",
        "        Returns:\n",
        "            token (str): the token corresponding to the index\n",
        "        Raises:\n",
        "            KeyError: if the index is not in the Vocabulary\n",
        "        \"\"\"\n",
        "        if index not in self._idx_to_token:\n",
        "            raise KeyError(\"the index (%d) is not in the Vocabulary\" % index)\n",
        "        return self._idx_to_token[index]\n",
        "\n",
        "    def __str__(self):\n",
        "        return \"<Vocabulary(size=%d)>\" % len(self)\n",
        "\n",
        "    def __len__(self):\n",
        "        return len(self._token_to_idx)"
      ],
      "execution_count": 18,
      "outputs": []
    },
    {
      "cell_type": "code",
      "metadata": {
        "id": "53YyNYE5W3yu",
        "colab_type": "code",
        "colab": {}
      },
      "source": [
        "class SequenceVocabulary(Vocabulary):\n",
        "    def __init__(\n",
        "        self, \n",
        "        token_to_idx=None, \n",
        "        unk_token=\"<UNK>\",\n",
        "        mask_token=\"<MASK>\", \n",
        "        begin_seq_token=\"<BEGIN>\",\n",
        "        end_seq_token=\"<END>\"\n",
        "    ):\n",
        "\n",
        "        super(SequenceVocabulary, self).__init__(token_to_idx)\n",
        "\n",
        "        self._mask_token = mask_token\n",
        "        self._unk_token = unk_token\n",
        "        self._begin_seq_token = begin_seq_token\n",
        "        self._end_seq_token = end_seq_token\n",
        "\n",
        "        self.mask_index = self.add_token(self._mask_token)\n",
        "        self.unk_index = self.add_token(self._unk_token)\n",
        "        self.begin_seq_index = self.add_token(self._begin_seq_token)\n",
        "        self.end_seq_index = self.add_token(self._end_seq_token)\n",
        "\n",
        "    def to_serializable(self):\n",
        "        contents = super(SequenceVocabulary, self).to_serializable()\n",
        "        contents.update({'unk_token': self._unk_token,\n",
        "                         'mask_token': self._mask_token,\n",
        "                         'begin_seq_token': self._begin_seq_token,\n",
        "                         'end_seq_token': self._end_seq_token})\n",
        "        return contents\n",
        "\n",
        "    def lookup_token(self, token):\n",
        "        \"\"\"Retrieve the index associated with the token \n",
        "          or the UNK index if token isn't present.\n",
        "        \n",
        "        Args:\n",
        "            token (str): the token to look up \n",
        "        Returns:\n",
        "            index (int): the index corresponding to the token\n",
        "        Notes:\n",
        "            `unk_index` needs to be >=0 (having been added into the Vocabulary) \n",
        "              for the UNK functionality \n",
        "        \"\"\"\n",
        "        if self.unk_index >= 0:\n",
        "            return self._token_to_idx.get(token, self.unk_index)\n",
        "        else:\n",
        "            return self._token_to_idx[token]"
      ],
      "execution_count": 19,
      "outputs": []
    },
    {
      "cell_type": "markdown",
      "metadata": {
        "id": "rXoNMSv3XEjs",
        "colab_type": "text"
      },
      "source": [
        "# Vectorizer"
      ]
    },
    {
      "cell_type": "markdown",
      "metadata": {
        "id": "FTfSf_cdXLgr",
        "colab_type": "text"
      },
      "source": [
        "* Vectorizing the source English and target French sentences requires a more complex pipeline than we have seen previously. \n",
        "* There are two reasons for the increase in complexity. \n",
        "  * First, the source and target sequences have different roles in the model, belong to different languages, and are vectorized in two different ways. \n",
        "  * Second, as a prerequisite to use PyTorch’s PackedSequences, we must sort each minibatch by the length of the source sentences.\n",
        "* To prepare for these two complexities, the NMTVectorizer is instantiated with two separate SequenceVocabulary objects and two measurements of max sequence length"
      ]
    },
    {
      "cell_type": "markdown",
      "metadata": {
        "id": "sjaXW_PeXkHV",
        "colab_type": "text"
      },
      "source": [
        "* The first increase in complexity is in the different ways in which the source and target sequences are handled. \n",
        "* The source sequence is vectorized with the BEGIN-OF-SEQUENCE token inserted at the beginning and the END-OF-SEQUENCE token added to the end. \n",
        "* The model uses a bi-GRU to create summary vectors for each token in the source sentence, and these summary vectors greatly benefit from having an indication of sentence boundaries. \n",
        "* In contrast, the target sequence is vectorized as two copies offset by one token: \n",
        "  * the first copy needs the BEGIN-OF-SEQUENCE token and \n",
        "  * the second copy needs the END-OF-SEQUENCE token. \n",
        "* Sequence prediction tasks require observations of the input token and output token at every time step. \n",
        "* The decoder in an S2S model is performing this task, but with the added availability of the encoder context. \n",
        "* To address this complexity, **we make the core vectorization method, _vectorize(), indifferent to whether it is the source or target indices**. \n",
        "* Then, two methods are written to handle the source and target indices separately. \n",
        "* Finally, these sets of indices are coordinated by using the NMTVectorizer.vectorize method, which is the method invoked by the dataset."
      ]
    },
    {
      "cell_type": "code",
      "metadata": {
        "id": "M-4RcQOJXGkT",
        "colab_type": "code",
        "colab": {}
      },
      "source": [
        "class NMTVectorizer(object):\n",
        "    \"\"\" The Vectorizer which coordinates the Vocabularies and puts them to use\"\"\"        \n",
        "    def __init__(self, source_vocab, target_vocab, max_source_length, max_target_length):\n",
        "        \"\"\"\n",
        "        Args:\n",
        "            source_vocab (SequenceVocabulary): maps source words to integers\n",
        "            target_vocab (SequenceVocabulary): maps target words to integers\n",
        "            max_source_length (int): the longest sequence in the source dataset\n",
        "            max_target_length (int): the longest sequence in the target dataset\n",
        "        \"\"\"\n",
        "        self.source_vocab = source_vocab\n",
        "        self.target_vocab = target_vocab\n",
        "        \n",
        "        self.max_source_length = max_source_length\n",
        "        self.max_target_length = max_target_length\n",
        "        \n",
        "\n",
        "    def _vectorize(self, indices, vector_length=-1, mask_index=0):\n",
        "        \"\"\"Vectorize the provided indices\n",
        "        \n",
        "        Args:\n",
        "            indices (list): a list of integers that represent a sequence\n",
        "            vector_length (int): an argument for forcing the length of index vector\n",
        "            mask_index (int): the mask_index to use; almost always 0\n",
        "        \"\"\"\n",
        "        if vector_length < 0:\n",
        "            vector_length = len(indices)\n",
        "        \n",
        "        vector = np.zeros(vector_length, dtype=np.int64)\n",
        "        vector[:len(indices)] = indices\n",
        "        vector[len(indices):] = mask_index\n",
        "\n",
        "        return vector\n",
        "    \n",
        "    def _get_source_indices(self, text):\n",
        "        \"\"\"Return the vectorized source text\n",
        "        \n",
        "        Args:\n",
        "            text (str): the source text; tokens should be separated by spaces\n",
        "        Returns:\n",
        "            indices (list): list of integers representing the text\n",
        "        \"\"\"\n",
        "        indices = [self.source_vocab.begin_seq_index]\n",
        "        indices.extend(self.source_vocab.lookup_token(token) for token in text.split(\" \"))\n",
        "        indices.append(self.source_vocab.end_seq_index)\n",
        "        return indices\n",
        "    \n",
        "    def _get_target_indices(self, text):\n",
        "        \"\"\"Return the vectorized source text\n",
        "        \n",
        "        Args:\n",
        "            text (str): the source text; tokens should be separated by spaces\n",
        "        Returns:\n",
        "            a tuple: (x_indices, y_indices)\n",
        "                x_indices (list): list of integers representing the observations in target decoder \n",
        "                y_indices (list): list of integers representing predictions in target decoder\n",
        "        \"\"\"\n",
        "        indices = [self.target_vocab.lookup_token(token) for token in text.split(\" \")]\n",
        "        x_indices = [self.target_vocab.begin_seq_index] + indices\n",
        "        y_indices = indices + [self.target_vocab.end_seq_index]\n",
        "        return x_indices, y_indices\n",
        "        \n",
        "    def vectorize(self, source_text, target_text, use_dataset_max_lengths=True):\n",
        "        \"\"\"Return the vectorized source and target text\n",
        "        \n",
        "        The vetorized source text is just the a single vector.\n",
        "        The vectorized target text is split into two vectors in a similar style to \n",
        "            the surname modeling in Chapter 7.\n",
        "        At each timestep, the first vector is the observation and the second vector is the target. \n",
        "        \n",
        "        \n",
        "        Args:\n",
        "            source_text (str): text from the source language\n",
        "            target_text (str): text from the target language\n",
        "            use_dataset_max_lengths (bool): whether to use the global max vector lengths\n",
        "        Returns:\n",
        "            The vectorized data point as a dictionary with the keys: \n",
        "                source_vector, target_x_vector, target_y_vector, source_length\n",
        "        \"\"\"\n",
        "        source_vector_length = -1\n",
        "        target_vector_length = -1\n",
        "        \n",
        "        if use_dataset_max_lengths:\n",
        "            source_vector_length = self.max_source_length + 2\n",
        "            target_vector_length = self.max_target_length + 1\n",
        "            \n",
        "        source_indices = self._get_source_indices(source_text)\n",
        "        source_vector = self._vectorize(source_indices, \n",
        "                                        vector_length=source_vector_length, \n",
        "                                        mask_index=self.source_vocab.mask_index)\n",
        "        \n",
        "        target_x_indices, target_y_indices = self._get_target_indices(target_text)\n",
        "        target_x_vector = self._vectorize(target_x_indices,\n",
        "                                        vector_length=target_vector_length,\n",
        "                                        mask_index=self.target_vocab.mask_index)\n",
        "        target_y_vector = self._vectorize(target_y_indices,\n",
        "                                        vector_length=target_vector_length,\n",
        "                                        mask_index=self.target_vocab.mask_index)\n",
        "        return {\"source_vector\": source_vector, \n",
        "                \"target_x_vector\": target_x_vector, \n",
        "                \"target_y_vector\": target_y_vector, \n",
        "                \"source_length\": len(source_indices)}\n",
        "        \n",
        "    @classmethod\n",
        "    def from_dataframe(cls, bitext_df):\n",
        "        \"\"\"Instantiate the vectorizer from the dataset dataframe\n",
        "        \n",
        "        Args:\n",
        "            bitext_df (pandas.DataFrame): the parallel text dataset\n",
        "        Returns:\n",
        "            an instance of the NMTVectorizer\n",
        "        \"\"\"\n",
        "        source_vocab = SequenceVocabulary()\n",
        "        target_vocab = SequenceVocabulary()\n",
        "        \n",
        "        max_source_length = 0\n",
        "        max_target_length = 0\n",
        "\n",
        "        for _, row in bitext_df.iterrows():\n",
        "            source_tokens = row[\"source_language\"].split(\" \")\n",
        "            if len(source_tokens) > max_source_length:\n",
        "                max_source_length = len(source_tokens)\n",
        "            for token in source_tokens:\n",
        "                source_vocab.add_token(token)\n",
        "            \n",
        "            target_tokens = row[\"target_language\"].split(\" \")\n",
        "            if len(target_tokens) > max_target_length:\n",
        "                max_target_length = len(target_tokens)\n",
        "            for token in target_tokens:\n",
        "                target_vocab.add_token(token)\n",
        "            \n",
        "        return cls(source_vocab, target_vocab, max_source_length, max_target_length)\n",
        "\n",
        "    @classmethod\n",
        "    def from_serializable(cls, contents):\n",
        "        source_vocab = SequenceVocabulary.from_serializable(contents[\"source_vocab\"])\n",
        "        target_vocab = SequenceVocabulary.from_serializable(contents[\"target_vocab\"])\n",
        "        \n",
        "        return cls(source_vocab=source_vocab, \n",
        "                   target_vocab=target_vocab, \n",
        "                   max_source_length=contents[\"max_source_length\"], \n",
        "                   max_target_length=contents[\"max_target_length\"])\n",
        "\n",
        "    def to_serializable(self):\n",
        "        return {\"source_vocab\": self.source_vocab.to_serializable(), \n",
        "                \"target_vocab\": self.target_vocab.to_serializable(), \n",
        "                \"max_source_length\": self.max_source_length,\n",
        "                \"max_target_length\": self.max_target_length}"
      ],
      "execution_count": 20,
      "outputs": []
    },
    {
      "cell_type": "code",
      "metadata": {
        "id": "nGs8vEsIX5hc",
        "colab_type": "code",
        "colab": {}
      },
      "source": [
        "class NMTDataset(Dataset):\n",
        "    def __init__(self, text_df, vectorizer):\n",
        "        \"\"\"\n",
        "        Args:\n",
        "            surname_df (pandas.DataFrame): the dataset\n",
        "            vectorizer (SurnameVectorizer): vectorizer instatiated from dataset\n",
        "        \"\"\"\n",
        "        self.text_df = text_df\n",
        "        self._vectorizer = vectorizer\n",
        "\n",
        "        self.train_df = self.text_df[self.text_df.split=='train']\n",
        "        self.train_size = len(self.train_df)\n",
        "\n",
        "        self.val_df = self.text_df[self.text_df.split=='val']\n",
        "        self.validation_size = len(self.val_df)\n",
        "\n",
        "        self.test_df = self.text_df[self.text_df.split=='test']\n",
        "        self.test_size = len(self.test_df)\n",
        "\n",
        "        self._lookup_dict = {'train': (self.train_df, self.train_size),\n",
        "                             'val': (self.val_df, self.validation_size),\n",
        "                             'test': (self.test_df, self.test_size)}\n",
        "\n",
        "        self.set_split('train')\n",
        "\n",
        "    @classmethod\n",
        "    def load_dataset_and_make_vectorizer(cls, dataset_csv):\n",
        "        \"\"\"Load dataset and make a new vectorizer from scratch\n",
        "        \n",
        "        Args:\n",
        "            surname_csv (str): location of the dataset\n",
        "        Returns:\n",
        "            an instance of SurnameDataset\n",
        "        \"\"\"\n",
        "        text_df = pd.read_csv(dataset_csv)\n",
        "        train_subset = text_df[text_df.split=='train']\n",
        "        return cls(text_df, NMTVectorizer.from_dataframe(train_subset))\n",
        "\n",
        "    @classmethod\n",
        "    def load_dataset_and_load_vectorizer(cls, dataset_csv, vectorizer_filepath):\n",
        "        \"\"\"Load dataset and the corresponding vectorizer. \n",
        "        Used in the case in the vectorizer has been cached for re-use\n",
        "        \n",
        "        Args:\n",
        "            surname_csv (str): location of the dataset\n",
        "            vectorizer_filepath (str): location of the saved vectorizer\n",
        "        Returns:\n",
        "            an instance of SurnameDataset\n",
        "        \"\"\"\n",
        "        text_df = pd.read_csv(dataset_csv)\n",
        "        vectorizer = cls.load_vectorizer_only(vectorizer_filepath)\n",
        "        return cls(text_df, vectorizer)\n",
        "\n",
        "    @staticmethod\n",
        "    def load_vectorizer_only(vectorizer_filepath):\n",
        "        \"\"\"a static method for loading the vectorizer from file\n",
        "        \n",
        "        Args:\n",
        "            vectorizer_filepath (str): the location of the serialized vectorizer\n",
        "        Returns:\n",
        "            an instance of SurnameVectorizer\n",
        "        \"\"\"\n",
        "        with open(vectorizer_filepath) as fp:\n",
        "            return NMTVectorizer.from_serializable(json.load(fp))\n",
        "\n",
        "    def save_vectorizer(self, vectorizer_filepath):\n",
        "        \"\"\"saves the vectorizer to disk using json\n",
        "        \n",
        "        Args:\n",
        "            vectorizer_filepath (str): the location to save the vectorizer\n",
        "        \"\"\"\n",
        "        with open(vectorizer_filepath, \"w\") as fp:\n",
        "            json.dump(self._vectorizer.to_serializable(), fp)\n",
        "\n",
        "    def get_vectorizer(self):\n",
        "        \"\"\" returns the vectorizer \"\"\"\n",
        "        return self._vectorizer\n",
        "\n",
        "    def set_split(self, split=\"train\"):\n",
        "        self._target_split = split\n",
        "        self._target_df, self._target_size = self._lookup_dict[split]\n",
        "\n",
        "    def __len__(self):\n",
        "        return self._target_size\n",
        "\n",
        "    def __getitem__(self, index):\n",
        "        \"\"\"the primary entry point method for PyTorch datasets\n",
        "        \n",
        "        Args:\n",
        "            index (int): the index to the data point \n",
        "        Returns:\n",
        "            a dictionary holding the data point: (x_data, y_target, class_index)\n",
        "        \"\"\"\n",
        "        row = self._target_df.iloc[index]\n",
        "\n",
        "        vector_dict = self._vectorizer.vectorize(row.source_language, row.target_language)\n",
        "\n",
        "        return {\"x_source\": vector_dict[\"source_vector\"], \n",
        "                \"x_target\": vector_dict[\"target_x_vector\"],\n",
        "                \"y_target\": vector_dict[\"target_y_vector\"], \n",
        "                \"x_source_length\": vector_dict[\"source_length\"]}\n",
        "        \n",
        "    def get_num_batches(self, batch_size):\n",
        "        \"\"\"Given a batch size, return the number of batches in the dataset\n",
        "        \n",
        "        Args:\n",
        "            batch_size (int)\n",
        "        Returns:\n",
        "            number of batches in the dataset\n",
        "        \"\"\"\n",
        "        return len(self) // batch_size"
      ],
      "execution_count": 22,
      "outputs": []
    },
    {
      "cell_type": "code",
      "metadata": {
        "id": "WnSjFdLnYYZi",
        "colab_type": "code",
        "colab": {}
      },
      "source": [
        "def generate_nmt_batches(dataset, batch_size, shuffle=True, \n",
        "                            drop_last=True, device=\"cpu\"):\n",
        "    \"\"\"A generator function which wraps the PyTorch DataLoader.  The NMT Version \"\"\"\n",
        "    dataloader = DataLoader(dataset=dataset, batch_size=batch_size,\n",
        "                            shuffle=shuffle, drop_last=drop_last)\n",
        "\n",
        "    for data_dict in dataloader:\n",
        "        lengths = data_dict['x_source_length'].numpy()\n",
        "        sorted_length_indices = lengths.argsort()[::-1].tolist()\n",
        "        \n",
        "        out_data_dict = {}\n",
        "        for name, tensor in data_dict.items():\n",
        "            out_data_dict[name] = data_dict[name][sorted_length_indices].to(device)\n",
        "        yield out_data_dict"
      ],
      "execution_count": 23,
      "outputs": []
    },
    {
      "cell_type": "markdown",
      "metadata": {
        "id": "7o8F6jLIZn_X",
        "colab_type": "text"
      },
      "source": [
        "# Neural Machine Translation Model\n",
        "\n",
        "##Components:\n",
        "\n",
        "## NMTEncoder\n",
        "accepts as input a source sequence to be embedded and fed through a bi-directional GRU\n",
        "## NMTDecoder\n",
        "using the encoder state and attention, the decoder generates a new sequence the ground truth target sequence is used as input to the decoder at each time step an alternative formulation would allow some of the decoder's own choices to be used as input this is referred to as curriculum learning, learning to search\n",
        "\n",
        "TODO: Look up references for this. I believe Bengio has a paper from the image captioning competitions. Hal Daume has tons on this and is the main NLP guy for it.\n",
        "\n",
        "## NMTModel\n",
        "Combines the encoder and decoder into a single class."
      ]
    },
    {
      "cell_type": "code",
      "metadata": {
        "id": "DdcNhVOiZzmE",
        "colab_type": "code",
        "colab": {}
      },
      "source": [
        "class NMTEncoder(nn.Module):\n",
        "    def __init__(self, num_embeddings, embedding_size, rnn_hidden_size):\n",
        "        \"\"\"\n",
        "        Args:\n",
        "            num_embeddings (int): number of embeddings is the size of source vocabulary\n",
        "            embedding_size (int): size of the embedding vectors\n",
        "            rnn_hidden_size (int): size of the RNN hidden state vectors \n",
        "        \"\"\"\n",
        "        super(NMTEncoder, self).__init__()\n",
        "    \n",
        "        self.source_embedding = nn.Embedding(num_embeddings, embedding_size, padding_idx=0)\n",
        "        self.birnn = nn.GRU(embedding_size, rnn_hidden_size, bidirectional=True, batch_first=True)\n",
        "    \n",
        "    def forward(self, x_source, x_lengths):\n",
        "        \"\"\"The forward pass of the model\n",
        "        \n",
        "        Args:\n",
        "            x_source (torch.Tensor): the input data tensor.\n",
        "                x_source.shape is (batch, seq_size)\n",
        "            x_lengths (torch.Tensor): a vector of lengths for each item in the batch\n",
        "        Returns:\n",
        "            a tuple: x_unpacked (torch.Tensor), x_birnn_h (torch.Tensor)\n",
        "                x_unpacked.shape = (batch, seq_size, rnn_hidden_size * 2)\n",
        "                x_birnn_h.shape = (batch, rnn_hidden_size * 2)\n",
        "        \"\"\"\n",
        "        x_embedded = self.source_embedding(x_source)\n",
        "        # create PackedSequence; x_packed.data.shape=(number_items, embeddign_size)\n",
        "        x_packed = pack_padded_sequence(x_embedded, x_lengths.detach().cpu().numpy(), \n",
        "                                        batch_first=True)\n",
        "        \n",
        "        # x_birnn_h.shape = (num_rnn, batch_size, feature_size)\n",
        "        x_birnn_out, x_birnn_h  = self.birnn(x_packed)\n",
        "        # permute to (batch_size, num_rnn, feature_size)\n",
        "        x_birnn_h = x_birnn_h.permute(1, 0, 2)\n",
        "        \n",
        "        # flatten features; reshape to (batch_size, num_rnn * feature_size)\n",
        "        #  (recall: -1 takes the remaining positions, \n",
        "        #           flattening the two RNN hidden vectors into 1)\n",
        "        x_birnn_h = x_birnn_h.contiguous().view(x_birnn_h.size(0), -1)\n",
        "        \n",
        "        x_unpacked, _ = pad_packed_sequence(x_birnn_out, batch_first=True)\n",
        "        \n",
        "        return x_unpacked, x_birnn_h"
      ],
      "execution_count": 24,
      "outputs": []
    },
    {
      "cell_type": "code",
      "metadata": {
        "id": "iM0GwQXZZ7jc",
        "colab_type": "code",
        "colab": {}
      },
      "source": [
        "def verbose_attention(encoder_state_vectors, query_vector):\n",
        "    \"\"\"A descriptive version of the neural attention mechanism \n",
        "    \n",
        "    Args:\n",
        "        encoder_state_vectors (torch.Tensor): 3dim tensor from bi-GRU in encoder\n",
        "        query_vector (torch.Tensor): hidden state in decoder GRU\n",
        "    Returns:\n",
        "        \n",
        "    \"\"\"\n",
        "    batch_size, num_vectors, vector_size = encoder_state_vectors.size()\n",
        "    vector_scores = torch.sum(encoder_state_vectors * query_vector.view(batch_size, 1, vector_size), \n",
        "                              dim=2)\n",
        "    vector_probabilities = F.softmax(vector_scores, dim=1)\n",
        "    weighted_vectors = encoder_state_vectors * vector_probabilities.view(batch_size, num_vectors, 1)\n",
        "    context_vectors = torch.sum(weighted_vectors, dim=1)\n",
        "    return context_vectors, vector_probabilities, vector_scores"
      ],
      "execution_count": 25,
      "outputs": []
    },
    {
      "cell_type": "code",
      "metadata": {
        "id": "Yu3WouJIaAwg",
        "colab_type": "code",
        "colab": {}
      },
      "source": [
        "def terse_attention(encoder_state_vectors, query_vector):\n",
        "    \"\"\"A shorter and more optimized version of the neural attention mechanism\n",
        "    \n",
        "    Args:\n",
        "        encoder_state_vectors (torch.Tensor): 3dim tensor from bi-GRU in encoder\n",
        "        query_vector (torch.Tensor): hidden state\n",
        "    \"\"\"\n",
        "    vector_scores = torch.matmul(encoder_state_vectors, query_vector.unsqueeze(dim=2)).squeeze()\n",
        "    vector_probabilities = F.softmax(vector_scores, dim=-1)\n",
        "    context_vectors = torch.matmul(encoder_state_vectors.transpose(-2, -1), \n",
        "                                   vector_probabilities.unsqueeze(dim=2)).squeeze()\n",
        "    return context_vectors, vector_probabilities"
      ],
      "execution_count": 27,
      "outputs": []
    },
    {
      "cell_type": "code",
      "metadata": {
        "id": "WgME6Y7maFlx",
        "colab_type": "code",
        "colab": {}
      },
      "source": [
        "class NMTDecoder(nn.Module):\n",
        "    def __init__(self, num_embeddings, embedding_size, rnn_hidden_size, bos_index):\n",
        "        \"\"\"\n",
        "        Args:\n",
        "            num_embeddings (int): number of embeddings is also the number of \n",
        "                unique words in target vocabulary \n",
        "            embedding_size (int): the embedding vector size\n",
        "            rnn_hidden_size (int): size of the hidden rnn state\n",
        "            bos_index(int): begin-of-sequence index\n",
        "        \"\"\"\n",
        "        super(NMTDecoder, self).__init__()\n",
        "        self._rnn_hidden_size = rnn_hidden_size\n",
        "        self.target_embedding = nn.Embedding(num_embeddings=num_embeddings, \n",
        "                                             embedding_dim=embedding_size, \n",
        "                                             padding_idx=0)\n",
        "        self.gru_cell = nn.GRUCell(embedding_size + rnn_hidden_size, \n",
        "                                   rnn_hidden_size)\n",
        "        self.hidden_map = nn.Linear(rnn_hidden_size, rnn_hidden_size)\n",
        "        self.classifier = nn.Linear(rnn_hidden_size * 2, num_embeddings)\n",
        "        self.bos_index = bos_index\n",
        "    \n",
        "    def _init_indices(self, batch_size):\n",
        "        \"\"\" return the BEGIN-OF-SEQUENCE index vector \"\"\"\n",
        "        return torch.ones(batch_size, dtype=torch.int64) * self.bos_index\n",
        "    \n",
        "    def _init_context_vectors(self, batch_size):\n",
        "        \"\"\" return a zeros vector for initializing the context \"\"\"\n",
        "        return torch.zeros(batch_size, self._rnn_hidden_size)\n",
        "            \n",
        "    def forward(self, encoder_state, initial_hidden_state, target_sequence):\n",
        "        \"\"\"The forward pass of the model\n",
        "        \n",
        "        Args:\n",
        "            encoder_state (torch.Tensor): the output of the NMTEncoder\n",
        "            initial_hidden_state (torch.Tensor): The last hidden state in the  NMTEncoder\n",
        "            target_sequence (torch.Tensor): the target text data tensor\n",
        "        Returns:\n",
        "            output_vectors (torch.Tensor): prediction vectors at each output step\n",
        "        \"\"\"    \n",
        "        # We are making an assumption there: The batch is on first\n",
        "        # The input is (Batch, Seq)\n",
        "        # We want to iterate over sequence so we permute it to (S, B)\n",
        "        target_sequence = target_sequence.permute(1, 0)\n",
        "        output_sequence_size = target_sequence.size(0)\n",
        "\n",
        "        # use the provided encoder hidden state as the initial hidden state\n",
        "        h_t = self.hidden_map(initial_hidden_state)\n",
        "\n",
        "        batch_size = encoder_state.size(0)\n",
        "        # initialize context vectors to zeros\n",
        "        context_vectors = self._init_context_vectors(batch_size)\n",
        "        # initialize first y_t word as BOS\n",
        "        y_t_index = self._init_indices(batch_size)\n",
        "        \n",
        "        h_t = h_t.to(encoder_state.device)\n",
        "        y_t_index = y_t_index.to(encoder_state.device)\n",
        "        context_vectors = context_vectors.to(encoder_state.device)\n",
        "\n",
        "        output_vectors = []\n",
        "        self._cached_p_attn = []\n",
        "        self._cached_ht = []\n",
        "        self._cached_decoder_state = encoder_state.cpu().detach().numpy()\n",
        "        \n",
        "        for i in range(output_sequence_size):\n",
        "            y_t_index = target_sequence[i]\n",
        "                \n",
        "            # Step 1: Embed word and concat with previous context\n",
        "            y_input_vector = self.target_embedding(y_t_index)\n",
        "            rnn_input = torch.cat([y_input_vector, context_vectors], dim=1)\n",
        "            \n",
        "            # Step 2: Make a GRU step, getting a new hidden vector\n",
        "            h_t = self.gru_cell(rnn_input, h_t)\n",
        "            self._cached_ht.append(h_t.cpu().detach().numpy())\n",
        "            \n",
        "            # Step 3: Use the current hidden to attend to the encoder state\n",
        "            context_vectors, p_attn, _ = verbose_attention(encoder_state_vectors=encoder_state, \n",
        "                                                           query_vector=h_t)\n",
        "            \n",
        "            # auxillary: cache the attention probabilities for visualization\n",
        "            self._cached_p_attn.append(p_attn.cpu().detach().numpy())\n",
        "            \n",
        "            # Step 4: Use the current hidden and context vectors to make a prediction to the next word\n",
        "            prediction_vector = torch.cat((context_vectors, h_t), dim=1)\n",
        "            score_for_y_t_index = self.classifier(F.dropout(prediction_vector, 0.3))\n",
        "            \n",
        "            # auxillary: collect the prediction scores\n",
        "            output_vectors.append(score_for_y_t_index)\n",
        "            \n",
        "        output_vectors = torch.stack(output_vectors).permute(1, 0, 2)\n",
        "        \n",
        "        return output_vectors"
      ],
      "execution_count": 28,
      "outputs": []
    },
    {
      "cell_type": "code",
      "metadata": {
        "id": "XhpAlfT1aKYK",
        "colab_type": "code",
        "colab": {}
      },
      "source": [
        "class NMTModel(nn.Module):\n",
        "    \"\"\" The Neural Machine Translation Model \"\"\"\n",
        "    def __init__(self, source_vocab_size, source_embedding_size, \n",
        "                 target_vocab_size, target_embedding_size, encoding_size, \n",
        "                 target_bos_index):\n",
        "        \"\"\"\n",
        "        Args:\n",
        "            source_vocab_size (int): number of unique words in source language\n",
        "            source_embedding_size (int): size of the source embedding vectors\n",
        "            target_vocab_size (int): number of unique words in target language\n",
        "            target_embedding_size (int): size of the target embedding vectors\n",
        "            encoding_size (int): the size of the encoder RNN.  \n",
        "        \"\"\"\n",
        "        super(NMTModel, self).__init__()\n",
        "        self.encoder = NMTEncoder(num_embeddings=source_vocab_size, \n",
        "                                  embedding_size=source_embedding_size,\n",
        "                                  rnn_hidden_size=encoding_size)\n",
        "        decoding_size = encoding_size * 2\n",
        "        self.decoder = NMTDecoder(num_embeddings=target_vocab_size, \n",
        "                                  embedding_size=target_embedding_size, \n",
        "                                  rnn_hidden_size=decoding_size,\n",
        "                                  bos_index=target_bos_index)\n",
        "    \n",
        "    def forward(self, x_source, x_source_lengths, target_sequence):\n",
        "        \"\"\"The forward pass of the model\n",
        "        \n",
        "        Args:\n",
        "            x_source (torch.Tensor): the source text data tensor. \n",
        "                x_source.shape should be (batch, vectorizer.max_source_length)\n",
        "            x_source_lengths torch.Tensor): the length of the sequences in x_source \n",
        "            target_sequence (torch.Tensor): the target text data tensor\n",
        "        Returns:\n",
        "            decoded_states (torch.Tensor): prediction vectors at each output step\n",
        "        \"\"\"\n",
        "        encoder_state, final_hidden_states = self.encoder(x_source, x_source_lengths)\n",
        "        decoded_states = self.decoder(encoder_state=encoder_state, \n",
        "                                      initial_hidden_state=final_hidden_states, \n",
        "                                      target_sequence=target_sequence)\n",
        "        return decoded_states"
      ],
      "execution_count": 29,
      "outputs": []
    }
  ]
}