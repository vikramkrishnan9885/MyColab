{
  "nbformat": 4,
  "nbformat_minor": 0,
  "metadata": {
    "colab": {
      "name": "Word2VecEmbeddings.ipynb",
      "provenance": [],
      "collapsed_sections": [],
      "authorship_tag": "ABX9TyPAMFDAa/0iNOKY/YaYray4",
      "include_colab_link": true
    },
    "kernelspec": {
      "name": "python3",
      "display_name": "Python 3"
    }
  },
  "cells": [
    {
      "cell_type": "markdown",
      "metadata": {
        "id": "view-in-github",
        "colab_type": "text"
      },
      "source": [
        "<a href=\"https://colab.research.google.com/github/vikramkrishnan9885/MyColab/blob/master/Word2VecEmbeddings.ipynb\" target=\"_parent\"><img src=\"https://colab.research.google.com/assets/colab-badge.svg\" alt=\"Open In Colab\"/></a>"
      ]
    },
    {
      "cell_type": "markdown",
      "metadata": {
        "id": "0RkiPruBwvk8",
        "colab_type": "text"
      },
      "source": [
        "# WordNet - old fashioned NLP\n",
        "\n",
        "* These approaches mainly can be categorized into two classes:\n",
        "  * approaches that use external resources for representing words and \n",
        "  * approaches that do not. \n",
        "* Example of first is  WordNet — one of the most popular external resource-based approaches for representing words. \n",
        "* Then we will proceed to more localized methods (that is, those that do not rely on external resources), such as **one-hot encoding** and **Term Frequency-Inverse Document Frequency (TF-IDF)**.\n",
        "\n",
        "## Imports"
      ]
    },
    {
      "cell_type": "code",
      "metadata": {
        "id": "AR56VMQsA3ke",
        "colab_type": "code",
        "colab": {
          "base_uri": "https://localhost:8080/",
          "height": 57
        },
        "outputId": "8c549c85-56e3-4005-97cf-acb75c218cd7"
      },
      "source": [
        "import nltk\n",
        "nltk.download('wordnet')\n",
        "\n",
        "from nltk.corpus import wordnet as wn"
      ],
      "execution_count": 1,
      "outputs": [
        {
          "output_type": "stream",
          "text": [
            "[nltk_data] Downloading package wordnet to /root/nltk_data...\n",
            "[nltk_data]   Unzipping corpora/wordnet.zip.\n"
          ],
          "name": "stdout"
        }
      ]
    },
    {
      "cell_type": "markdown",
      "metadata": {
        "id": "nZb9cp_gBLJm",
        "colab_type": "text"
      },
      "source": [
        "# WordNet – using an external lexical knowledge base for learning word representations\n",
        "\n",
        "* WordNet is one of the most popular classical approaches or statistical NLP that deals with word representations. \n",
        "* It relies on an external lexical knowledge base that encodes the information about the definition, synonyms, ancestors, descendants, and so forth of a given word.\n",
        "* First, WordNet uses the term synset to denote a group or set of synonyms. \n",
        "* Next, each synset has a definition that explains what the synset represents. \n",
        "* Synonyms contained within a synset are called lemmas.\n",
        "* In WordNet, the word representations are modeled hierarchically, which forms a\n",
        "complex graph between a given synset and the associations to another synset.\n",
        "* These associations can be of two different categories: an is-a relationship or an is-made-of relationship. \n",
        "* First, we will discuss the is-a association.\n",
        "* For a given synset, there exist two categories of relations: \n",
        "  * hypernyms and \n",
        "  * hyponyms.\n",
        "* Hypernyms of a synset are the synsets that carry a general (high-level) meaning of he considered synset. For example, vehicle is a hypernym of the synset car. \n",
        "* Next, hyponyms are synsets that are more specific than the corresponding synset. For example, Toyota car is a hyponym of the synset car. \n",
        "* Now let's discuss the is-made-of relationships for a synset. \n",
        "  * Holonyms of a synset are the group of synsets that represents the whole entity of the considered synset. For example, a holonym of tires is the cars synset. \n",
        "  * Meronyms are an is-made-of category and represent the opposite of holonyms, where meronyms are the parts or substances synset that makes the corresponding synset.\n",
        "  "
      ]
    },
    {
      "cell_type": "code",
      "metadata": {
        "id": "rPXh-l4nEmmm",
        "colab_type": "code",
        "colab": {
          "base_uri": "https://localhost:8080/",
          "height": 117
        },
        "outputId": "928d4005-3be9-4dc2-d3db-a3f9b5f5040f"
      },
      "source": [
        "word = \"car\"\n",
        "car_syns = wn.synsets(word)\n",
        "car_syns"
      ],
      "execution_count": 3,
      "outputs": [
        {
          "output_type": "execute_result",
          "data": {
            "text/plain": [
              "[Synset('car.n.01'),\n",
              " Synset('car.n.02'),\n",
              " Synset('car.n.03'),\n",
              " Synset('car.n.04'),\n",
              " Synset('cable_car.n.01')]"
            ]
          },
          "metadata": {
            "tags": []
          },
          "execution_count": 3
        }
      ]
    },
    {
      "cell_type": "code",
      "metadata": {
        "id": "5iiFR3lmEyOc",
        "colab_type": "code",
        "colab": {
          "base_uri": "https://localhost:8080/",
          "height": 117
        },
        "outputId": "168193fa-dfdd-4018-ab11-28cf2ad1d737"
      },
      "source": [
        "# The definition of the first two synsets\n",
        "syns_defs = [car_syns[i].definition() for i in range(len(car_syns))]\n",
        "for i in range(len(car_syns)):\n",
        "    print(car_syns[i].name(),': ',syns_defs[i])"
      ],
      "execution_count": 6,
      "outputs": [
        {
          "output_type": "stream",
          "text": [
            "car.n.01 :  a motor vehicle with four wheels; usually propelled by an internal combustion engine\n",
            "car.n.02 :  a wheeled vehicle adapted to the rails of railroad\n",
            "car.n.03 :  the compartment that is suspended from an airship and that carries personnel and the cargo and the power plant\n",
            "car.n.04 :  where passengers ride up and down\n",
            "cable_car.n.01 :  a conveyance for passengers or freight on a cable railway\n"
          ],
          "name": "stdout"
        }
      ]
    },
    {
      "cell_type": "code",
      "metadata": {
        "id": "A4wn4eWjFMkE",
        "colab_type": "code",
        "colab": {
          "base_uri": "https://localhost:8080/",
          "height": 117
        },
        "outputId": "ae8e1ccc-412e-44c0-b2ad-a1ff0ed4827c"
      },
      "source": [
        "for i in range(len(car_syns)):\n",
        "  print(car_syns[i].name(),\": \", car_syns[i].lemmas())"
      ],
      "execution_count": 7,
      "outputs": [
        {
          "output_type": "stream",
          "text": [
            "car.n.01 :  [Lemma('car.n.01.car'), Lemma('car.n.01.auto'), Lemma('car.n.01.automobile'), Lemma('car.n.01.machine'), Lemma('car.n.01.motorcar')]\n",
            "car.n.02 :  [Lemma('car.n.02.car'), Lemma('car.n.02.railcar'), Lemma('car.n.02.railway_car'), Lemma('car.n.02.railroad_car')]\n",
            "car.n.03 :  [Lemma('car.n.03.car'), Lemma('car.n.03.gondola')]\n",
            "car.n.04 :  [Lemma('car.n.04.car'), Lemma('car.n.04.elevator_car')]\n",
            "cable_car.n.01 :  [Lemma('cable_car.n.01.cable_car'), Lemma('cable_car.n.01.car')]\n"
          ],
          "name": "stdout"
        }
      ]
    },
    {
      "cell_type": "code",
      "metadata": {
        "id": "xV_MPJxsFkbZ",
        "colab_type": "code",
        "colab": {
          "base_uri": "https://localhost:8080/",
          "height": 117
        },
        "outputId": "806ab9a6-42f1-4a79-9ed1-b08a09803544"
      },
      "source": [
        "# Lemmas is a method\n",
        "for i in range(len(car_syns[0].lemmas())):\n",
        "  #print(car_syns[0].lemmas()[i])\n",
        "  print(car_syns[0].lemmas()[i].name())"
      ],
      "execution_count": 12,
      "outputs": [
        {
          "output_type": "stream",
          "text": [
            "car\n",
            "auto\n",
            "automobile\n",
            "machine\n",
            "motorcar\n"
          ],
          "name": "stdout"
        }
      ]
    },
    {
      "cell_type": "code",
      "metadata": {
        "id": "H7voxgK7Hb6U",
        "colab_type": "code",
        "colab": {}
      },
      "source": [
        ""
      ],
      "execution_count": null,
      "outputs": []
    }
  ]
}