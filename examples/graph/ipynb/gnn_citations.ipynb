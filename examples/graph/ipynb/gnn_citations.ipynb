{
  "cells": [
    {
      "cell_type": "markdown",
      "metadata": {
        "id": "wBnk11iUUZcJ"
      },
      "source": [
        "# Node Classification with Graph Neural Networks\n",
        "\n",
        "**Author:** [Khalid Salama](https://www.linkedin.com/in/khalid-salama-24403144/)<br>\n",
        "**Date created:** 2021/05/30<br>\n",
        "**Last modified:** 2021/05/30<br>\n",
        "**Description:** Implementing a graph neural network model for predicting the topic of a paper given its citations."
      ]
    },
    {
      "cell_type": "markdown",
      "metadata": {
        "id": "TPKpFLcRUZcN"
      },
      "source": [
        "## Introduction\n",
        "\n",
        "Many datasets in various machine learning (ML) applications have structural relationships\n",
        "between their entities, which can be represented as graphs. Such application includes\n",
        "social and communication networks analysis, traffic prediction, and fraud detection.\n",
        "[Graph representation Learning](https://www.cs.mcgill.ca/~wlh/grl_book/)\n",
        "aims to build and train models for graph datasets to be used for a variety of ML tasks.\n",
        "\n",
        "This example demonstrate a simple implementation of a [Graph Neural Network](https://arxiv.org/pdf/1901.00596.pdf)\n",
        "(GNN) model. The model is used for a node prediction task on the [Cora dataset](https://relational.fit.cvut.cz/dataset/CORA)\n",
        "to predict the subject of a paper given its words and citations network.\n",
        "\n",
        "Note that, **we implement a Graph Convolution Layer from scratch** to provide better\n",
        "understanding of how they work. However, there is a number of specialized TensorFlow-based\n",
        "libraries that provide rich GNN APIs, such as [Spectral](https://graphneural.network/),\n",
        "[StellarGraph](https://stellargraph.readthedocs.io/en/stable/README.html), and\n",
        "[GraphNets](https://github.com/deepmind/graph_nets)."
      ]
    },
    {
      "cell_type": "markdown",
      "metadata": {
        "id": "bA5VujqRUZcO"
      },
      "source": [
        "## Setup"
      ]
    },
    {
      "cell_type": "code",
      "execution_count": 1,
      "metadata": {
        "id": "U25lqcn2UZcO"
      },
      "outputs": [],
      "source": [
        "import os\n",
        "import pandas as pd\n",
        "import numpy as np\n",
        "import networkx as nx\n",
        "import matplotlib.pyplot as plt\n",
        "import tensorflow as tf\n",
        "from tensorflow import keras\n",
        "from tensorflow.keras import layers"
      ]
    },
    {
      "cell_type": "markdown",
      "metadata": {
        "id": "XLzL_17LUZcP"
      },
      "source": [
        "## Prepare the Dataset\n",
        "\n",
        "The Cora dataset consists of 2,708 scientific papers classified into one of seven classes.\n",
        "The citation network consists of 5,429 links. Each paper has a binary word vector of size\n",
        "1,433, indicating the presence of a corresponding word.\n",
        "\n",
        "### Download the dataset\n",
        "\n",
        "The dataset has two tap-separated files: `cora.cites` and `cora.content`.\n",
        "\n",
        "1. The `cora.cites` includes the citation records with two columns:\n",
        "`cited_paper_id` (target) and `citing_paper_id` (source).\n",
        "2. The `cora.content` includes the paper content records with 1,435 columns:\n",
        "`paper_id`, `subject`, and 1,433 binary features.\n",
        "\n",
        "Let's download the dataset."
      ]
    },
    {
      "cell_type": "code",
      "execution_count": 2,
      "metadata": {
        "id": "3uiBXBbLUZcP",
        "outputId": "5bfddfe2-24b0-44ea-b575-fe714f09df66",
        "colab": {
          "base_uri": "https://localhost:8080/"
        }
      },
      "outputs": [
        {
          "output_type": "stream",
          "name": "stdout",
          "text": [
            "Downloading data from https://linqs-data.soe.ucsc.edu/public/lbc/cora.tgz\n",
            "172032/168052 [==============================] - 0s 0us/step\n",
            "180224/168052 [================================] - 0s 0us/step\n"
          ]
        }
      ],
      "source": [
        "zip_file = keras.utils.get_file(\n",
        "    fname=\"cora.tgz\",\n",
        "    origin=\"https://linqs-data.soe.ucsc.edu/public/lbc/cora.tgz\",\n",
        "    extract=True,\n",
        ")\n",
        "data_dir = os.path.join(os.path.dirname(zip_file), \"cora\")"
      ]
    },
    {
      "cell_type": "markdown",
      "metadata": {
        "id": "kALpZdE5UZcQ"
      },
      "source": [
        "### Process and visualize the dataset\n",
        "\n",
        "Then we load the citations data into a Pandas DataFrame."
      ]
    },
    {
      "cell_type": "code",
      "execution_count": 3,
      "metadata": {
        "id": "B1DBfHi_UZcQ",
        "outputId": "3e56d241-e55f-4ad0-87f0-4aed5151b8a3",
        "colab": {
          "base_uri": "https://localhost:8080/"
        }
      },
      "outputs": [
        {
          "output_type": "stream",
          "name": "stdout",
          "text": [
            "Citations shape: (5429, 2)\n"
          ]
        }
      ],
      "source": [
        "citations = pd.read_csv(\n",
        "    os.path.join(data_dir, \"cora.cites\"),\n",
        "    sep=\"\\t\",\n",
        "    header=None,\n",
        "    names=[\"target\", \"source\"],\n",
        ")\n",
        "print(\"Citations shape:\", citations.shape)"
      ]
    },
    {
      "cell_type": "markdown",
      "metadata": {
        "id": "fF6Cnr98UZcR"
      },
      "source": [
        "Now we display a sample of the `citations` DataFrame.\n",
        "The `target` column includes the paper ids cited by the paper ids in the `source` column."
      ]
    },
    {
      "cell_type": "code",
      "execution_count": 4,
      "metadata": {
        "id": "c5L5g8H6UZcR",
        "outputId": "f804f405-8076-4db7-ced8-c5d4a3210a33",
        "colab": {
          "base_uri": "https://localhost:8080/",
          "height": 206
        }
      },
      "outputs": [
        {
          "output_type": "execute_result",
          "data": {
            "text/html": [
              "\n",
              "  <div id=\"df-75cbc99d-e577-481b-b2e1-c1eb831b6702\">\n",
              "    <div class=\"colab-df-container\">\n",
              "      <div>\n",
              "<style scoped>\n",
              "    .dataframe tbody tr th:only-of-type {\n",
              "        vertical-align: middle;\n",
              "    }\n",
              "\n",
              "    .dataframe tbody tr th {\n",
              "        vertical-align: top;\n",
              "    }\n",
              "\n",
              "    .dataframe thead th {\n",
              "        text-align: right;\n",
              "    }\n",
              "</style>\n",
              "<table border=\"1\" class=\"dataframe\">\n",
              "  <thead>\n",
              "    <tr style=\"text-align: right;\">\n",
              "      <th></th>\n",
              "      <th>target</th>\n",
              "      <th>source</th>\n",
              "    </tr>\n",
              "  </thead>\n",
              "  <tbody>\n",
              "    <tr>\n",
              "      <th>1163</th>\n",
              "      <td>6130</td>\n",
              "      <td>1132461</td>\n",
              "    </tr>\n",
              "    <tr>\n",
              "      <th>1726</th>\n",
              "      <td>10796</td>\n",
              "      <td>30895</td>\n",
              "    </tr>\n",
              "    <tr>\n",
              "      <th>4698</th>\n",
              "      <td>256106</td>\n",
              "      <td>1114192</td>\n",
              "    </tr>\n",
              "    <tr>\n",
              "      <th>3205</th>\n",
              "      <td>48766</td>\n",
              "      <td>1104647</td>\n",
              "    </tr>\n",
              "    <tr>\n",
              "      <th>4295</th>\n",
              "      <td>152731</td>\n",
              "      <td>23507</td>\n",
              "    </tr>\n",
              "  </tbody>\n",
              "</table>\n",
              "</div>\n",
              "      <button class=\"colab-df-convert\" onclick=\"convertToInteractive('df-75cbc99d-e577-481b-b2e1-c1eb831b6702')\"\n",
              "              title=\"Convert this dataframe to an interactive table.\"\n",
              "              style=\"display:none;\">\n",
              "        \n",
              "  <svg xmlns=\"http://www.w3.org/2000/svg\" height=\"24px\"viewBox=\"0 0 24 24\"\n",
              "       width=\"24px\">\n",
              "    <path d=\"M0 0h24v24H0V0z\" fill=\"none\"/>\n",
              "    <path d=\"M18.56 5.44l.94 2.06.94-2.06 2.06-.94-2.06-.94-.94-2.06-.94 2.06-2.06.94zm-11 1L8.5 8.5l.94-2.06 2.06-.94-2.06-.94L8.5 2.5l-.94 2.06-2.06.94zm10 10l.94 2.06.94-2.06 2.06-.94-2.06-.94-.94-2.06-.94 2.06-2.06.94z\"/><path d=\"M17.41 7.96l-1.37-1.37c-.4-.4-.92-.59-1.43-.59-.52 0-1.04.2-1.43.59L10.3 9.45l-7.72 7.72c-.78.78-.78 2.05 0 2.83L4 21.41c.39.39.9.59 1.41.59.51 0 1.02-.2 1.41-.59l7.78-7.78 2.81-2.81c.8-.78.8-2.07 0-2.86zM5.41 20L4 18.59l7.72-7.72 1.47 1.35L5.41 20z\"/>\n",
              "  </svg>\n",
              "      </button>\n",
              "      \n",
              "  <style>\n",
              "    .colab-df-container {\n",
              "      display:flex;\n",
              "      flex-wrap:wrap;\n",
              "      gap: 12px;\n",
              "    }\n",
              "\n",
              "    .colab-df-convert {\n",
              "      background-color: #E8F0FE;\n",
              "      border: none;\n",
              "      border-radius: 50%;\n",
              "      cursor: pointer;\n",
              "      display: none;\n",
              "      fill: #1967D2;\n",
              "      height: 32px;\n",
              "      padding: 0 0 0 0;\n",
              "      width: 32px;\n",
              "    }\n",
              "\n",
              "    .colab-df-convert:hover {\n",
              "      background-color: #E2EBFA;\n",
              "      box-shadow: 0px 1px 2px rgba(60, 64, 67, 0.3), 0px 1px 3px 1px rgba(60, 64, 67, 0.15);\n",
              "      fill: #174EA6;\n",
              "    }\n",
              "\n",
              "    [theme=dark] .colab-df-convert {\n",
              "      background-color: #3B4455;\n",
              "      fill: #D2E3FC;\n",
              "    }\n",
              "\n",
              "    [theme=dark] .colab-df-convert:hover {\n",
              "      background-color: #434B5C;\n",
              "      box-shadow: 0px 1px 3px 1px rgba(0, 0, 0, 0.15);\n",
              "      filter: drop-shadow(0px 1px 2px rgba(0, 0, 0, 0.3));\n",
              "      fill: #FFFFFF;\n",
              "    }\n",
              "  </style>\n",
              "\n",
              "      <script>\n",
              "        const buttonEl =\n",
              "          document.querySelector('#df-75cbc99d-e577-481b-b2e1-c1eb831b6702 button.colab-df-convert');\n",
              "        buttonEl.style.display =\n",
              "          google.colab.kernel.accessAllowed ? 'block' : 'none';\n",
              "\n",
              "        async function convertToInteractive(key) {\n",
              "          const element = document.querySelector('#df-75cbc99d-e577-481b-b2e1-c1eb831b6702');\n",
              "          const dataTable =\n",
              "            await google.colab.kernel.invokeFunction('convertToInteractive',\n",
              "                                                     [key], {});\n",
              "          if (!dataTable) return;\n",
              "\n",
              "          const docLinkHtml = 'Like what you see? Visit the ' +\n",
              "            '<a target=\"_blank\" href=https://colab.research.google.com/notebooks/data_table.ipynb>data table notebook</a>'\n",
              "            + ' to learn more about interactive tables.';\n",
              "          element.innerHTML = '';\n",
              "          dataTable['output_type'] = 'display_data';\n",
              "          await google.colab.output.renderOutput(dataTable, element);\n",
              "          const docLink = document.createElement('div');\n",
              "          docLink.innerHTML = docLinkHtml;\n",
              "          element.appendChild(docLink);\n",
              "        }\n",
              "      </script>\n",
              "    </div>\n",
              "  </div>\n",
              "  "
            ],
            "text/plain": [
              "      target   source\n",
              "1163    6130  1132461\n",
              "1726   10796    30895\n",
              "4698  256106  1114192\n",
              "3205   48766  1104647\n",
              "4295  152731    23507"
            ]
          },
          "metadata": {},
          "execution_count": 4
        }
      ],
      "source": [
        "citations.sample(frac=1).head()"
      ]
    },
    {
      "cell_type": "markdown",
      "metadata": {
        "id": "lQHDQgHEUZcR"
      },
      "source": [
        "Now let's load the papers data into a Pandas DataFrame."
      ]
    },
    {
      "cell_type": "code",
      "execution_count": 5,
      "metadata": {
        "id": "2QT5O7H4UZcS",
        "outputId": "188bd520-5dba-49c3-835b-d8b8f5957978",
        "colab": {
          "base_uri": "https://localhost:8080/"
        }
      },
      "outputs": [
        {
          "output_type": "stream",
          "name": "stdout",
          "text": [
            "Papers shape: (2708, 1435)\n"
          ]
        }
      ],
      "source": [
        "column_names = [\"paper_id\"] + [f\"term_{idx}\" for idx in range(1433)] + [\"subject\"]\n",
        "papers = pd.read_csv(\n",
        "    os.path.join(data_dir, \"cora.content\"), sep=\"\\t\", header=None, names=column_names,\n",
        ")\n",
        "print(\"Papers shape:\", papers.shape)"
      ]
    },
    {
      "cell_type": "markdown",
      "metadata": {
        "id": "2oa6q7JrUZcS"
      },
      "source": [
        "Now we display a sample of the `papers` DataFrame. The DataFrame includes the `paper_id`\n",
        "and the `subject` columns, as well as 1,433 binary column representing whether a term exists\n",
        "in the paper or not."
      ]
    },
    {
      "cell_type": "code",
      "execution_count": 6,
      "metadata": {
        "id": "ujdcSH9YUZcS",
        "outputId": "67de7ba5-7b98-4cf1-e736-b0c28b58fde4",
        "colab": {
          "base_uri": "https://localhost:8080/"
        }
      },
      "outputs": [
        {
          "output_type": "stream",
          "name": "stdout",
          "text": [
            "                      1633    795   ...                100                    2366\n",
            "paper_id            179706  128203  ...              134199                 633585\n",
            "term_0                   0       0  ...                   0                      0\n",
            "term_1                   0       0  ...                   0                      0\n",
            "term_2                   0       0  ...                   0                      0\n",
            "term_3                   0       0  ...                   0                      0\n",
            "...                    ...     ...  ...                 ...                    ...\n",
            "term_1429                0       0  ...                   0                      0\n",
            "term_1430                0       0  ...                   0                      0\n",
            "term_1431                0       0  ...                   0                      0\n",
            "term_1432                0       0  ...                   0                      0\n",
            "subject    Neural_Networks  Theory  ...  Genetic_Algorithms  Probabilistic_Methods\n",
            "\n",
            "[1435 rows x 5 columns]\n"
          ]
        }
      ],
      "source": [
        "print(papers.sample(5).T)"
      ]
    },
    {
      "cell_type": "markdown",
      "metadata": {
        "id": "_sXIl4hiUZcT"
      },
      "source": [
        "Let's display the count of the papers in each subject."
      ]
    },
    {
      "cell_type": "code",
      "execution_count": 7,
      "metadata": {
        "id": "n5yjjZNXUZcT",
        "outputId": "8ffaa057-6191-47c4-a511-03cee0ec656a",
        "colab": {
          "base_uri": "https://localhost:8080/"
        }
      },
      "outputs": [
        {
          "output_type": "stream",
          "name": "stdout",
          "text": [
            "Neural_Networks           818\n",
            "Probabilistic_Methods     426\n",
            "Genetic_Algorithms        418\n",
            "Theory                    351\n",
            "Case_Based                298\n",
            "Reinforcement_Learning    217\n",
            "Rule_Learning             180\n",
            "Name: subject, dtype: int64\n"
          ]
        }
      ],
      "source": [
        "print(papers.subject.value_counts())"
      ]
    },
    {
      "cell_type": "markdown",
      "metadata": {
        "id": "PFbHUVqmUZcT"
      },
      "source": [
        "We convert the paper ids and the subjects into zero-based indices."
      ]
    },
    {
      "cell_type": "code",
      "execution_count": 8,
      "metadata": {
        "id": "ktURwQyzUZcT"
      },
      "outputs": [],
      "source": [
        "class_values = sorted(papers[\"subject\"].unique())\n",
        "class_idx = {name: id for id, name in enumerate(class_values)}\n",
        "paper_idx = {name: idx for idx, name in enumerate(sorted(papers[\"paper_id\"].unique()))}\n",
        "\n",
        "papers[\"paper_id\"] = papers[\"paper_id\"].apply(lambda name: paper_idx[name])\n",
        "citations[\"source\"] = citations[\"source\"].apply(lambda name: paper_idx[name])\n",
        "citations[\"target\"] = citations[\"target\"].apply(lambda name: paper_idx[name])\n",
        "papers[\"subject\"] = papers[\"subject\"].apply(lambda value: class_idx[value])"
      ]
    },
    {
      "cell_type": "markdown",
      "metadata": {
        "id": "WHKcbGPCUZcT"
      },
      "source": [
        "Now let's visualize the citation graph. Each node in the graph represents a paper,\n",
        "and the color of the node corresponds to its subject. Note that we only show a sample of\n",
        "the papers in the dataset."
      ]
    },
    {
      "cell_type": "code",
      "execution_count": 9,
      "metadata": {
        "id": "nj2Q-qjHUZcU",
        "outputId": "881d0294-b339-46ff-b0df-bd6c9009856e",
        "colab": {
          "base_uri": "https://localhost:8080/",
          "height": 751
        }
      },
      "outputs": [
        {
          "output_type": "display_data",
          "data": {
            "image/png": "[encoded data removed]",
            "text/plain": [
              "<Figure size 720x720 with 1 Axes>"
            ]
          },
          "metadata": {}
        }
      ],
      "source": [
        "plt.figure(figsize=(10, 10))\n",
        "colors = papers[\"subject\"].tolist()\n",
        "cora_graph = nx.from_pandas_edgelist(citations.sample(n=1500))\n",
        "subjects = list(papers[papers[\"paper_id\"].isin(list(cora_graph.nodes))][\"subject\"])\n",
        "nx.draw_spring(cora_graph, node_size=15, node_color=subjects)\n"
      ]
    },
    {
      "cell_type": "markdown",
      "metadata": {
        "id": "yCzZLMKoUZcU"
      },
      "source": [
        "### Split the dataset into stratified train and test sets"
      ]
    },
    {
      "cell_type": "code",
      "execution_count": 10,
      "metadata": {
        "id": "0tFJxRUPUZcU",
        "outputId": "da9585c4-518c-4aae-d03b-65ba42774ad3",
        "colab": {
          "base_uri": "https://localhost:8080/"
        }
      },
      "outputs": [
        {
          "output_type": "stream",
          "name": "stdout",
          "text": [
            "Train data shape: (1380, 1435)\n",
            "Test data shape: (1328, 1435)\n"
          ]
        }
      ],
      "source": [
        "train_data, test_data = [], []\n",
        "\n",
        "for _, group_data in papers.groupby(\"subject\"):\n",
        "    # Select around 50% of the dataset for training.\n",
        "    random_selection = np.random.rand(len(group_data.index)) <= 0.5\n",
        "    train_data.append(group_data[random_selection])\n",
        "    test_data.append(group_data[~random_selection])\n",
        "\n",
        "train_data = pd.concat(train_data).sample(frac=1)\n",
        "test_data = pd.concat(test_data).sample(frac=1)\n",
        "\n",
        "print(\"Train data shape:\", train_data.shape)\n",
        "print(\"Test data shape:\", test_data.shape)"
      ]
    },
    {
      "cell_type": "markdown",
      "metadata": {
        "id": "yCdl3FSeUZcU"
      },
      "source": [
        "## Implement Train and Evaluate Experiment"
      ]
    },
    {
      "cell_type": "code",
      "execution_count": 11,
      "metadata": {
        "id": "zN6i22lZUZcU"
      },
      "outputs": [],
      "source": [
        "hidden_units = [32, 32]\n",
        "learning_rate = 0.01\n",
        "dropout_rate = 0.5\n",
        "num_epochs = 300\n",
        "batch_size = 256"
      ]
    },
    {
      "cell_type": "markdown",
      "metadata": {
        "id": "tHlAialoUZcU"
      },
      "source": [
        "This function compiles and trains an input model using the given training data."
      ]
    },
    {
      "cell_type": "code",
      "execution_count": 12,
      "metadata": {
        "id": "FoNmv-EnUZcV"
      },
      "outputs": [],
      "source": [
        "\n",
        "def run_experiment(model, x_train, y_train):\n",
        "    # Compile the model.\n",
        "    model.compile(\n",
        "        optimizer=keras.optimizers.Adam(learning_rate),\n",
        "        loss=keras.losses.SparseCategoricalCrossentropy(from_logits=True),\n",
        "        metrics=[keras.metrics.SparseCategoricalAccuracy(name=\"acc\")],\n",
        "    )\n",
        "    # Create an early stopping callback.\n",
        "    early_stopping = keras.callbacks.EarlyStopping(\n",
        "        monitor=\"val_acc\", patience=50, restore_best_weights=True\n",
        "    )\n",
        "    # Fit the model.\n",
        "    history = model.fit(\n",
        "        x=x_train,\n",
        "        y=y_train,\n",
        "        epochs=num_epochs,\n",
        "        batch_size=batch_size,\n",
        "        validation_split=0.15,\n",
        "        callbacks=[early_stopping],\n",
        "    )\n",
        "\n",
        "    return history\n"
      ]
    },
    {
      "cell_type": "markdown",
      "metadata": {
        "id": "jK8t4ZBWUZcV"
      },
      "source": [
        "This function displays the loss and accuracy curves of the model during training."
      ]
    },
    {
      "cell_type": "code",
      "execution_count": 13,
      "metadata": {
        "id": "0A8fjS8lUZcV"
      },
      "outputs": [],
      "source": [
        "\n",
        "def display_learning_curves(history):\n",
        "    fig, (ax1, ax2) = plt.subplots(1, 2, figsize=(15, 5))\n",
        "\n",
        "    ax1.plot(history.history[\"loss\"])\n",
        "    ax1.plot(history.history[\"val_loss\"])\n",
        "    ax1.legend([\"train\", \"test\"], loc=\"upper right\")\n",
        "    ax1.set_xlabel(\"Epochs\")\n",
        "    ax1.set_ylabel(\"Loss\")\n",
        "\n",
        "    ax2.plot(history.history[\"acc\"])\n",
        "    ax2.plot(history.history[\"val_acc\"])\n",
        "    ax2.legend([\"train\", \"test\"], loc=\"upper right\")\n",
        "    ax2.set_xlabel(\"Epochs\")\n",
        "    ax2.set_ylabel(\"Accuracy\")\n",
        "    plt.show()\n"
      ]
    },
    {
      "cell_type": "markdown",
      "metadata": {
        "id": "PH5VE0DSUZcV"
      },
      "source": [
        "## Implement Feedforward Network (FFN) Module\n",
        "\n",
        "We will use this module in the baseline and the GNN models."
      ]
    },
    {
      "cell_type": "code",
      "execution_count": 14,
      "metadata": {
        "id": "vo5fj47jUZcV"
      },
      "outputs": [],
      "source": [
        "\n",
        "def create_ffn(hidden_units, dropout_rate, name=None):\n",
        "    fnn_layers = []\n",
        "\n",
        "    for units in hidden_units:\n",
        "        fnn_layers.append(layers.BatchNormalization())\n",
        "        fnn_layers.append(layers.Dropout(dropout_rate))\n",
        "        fnn_layers.append(layers.Dense(units, activation=tf.nn.gelu))\n",
        "\n",
        "    return keras.Sequential(fnn_layers, name=name)\n"
      ]
    },
    {
      "cell_type": "markdown",
      "metadata": {
        "id": "sbR78-WUUZcV"
      },
      "source": [
        "## Build a Baseline Neural Network Model\n",
        "\n",
        "### Prepare the data for the baseline model"
      ]
    },
    {
      "cell_type": "code",
      "execution_count": 15,
      "metadata": {
        "id": "iuEARmDmUZcV"
      },
      "outputs": [],
      "source": [
        "feature_names = set(papers.columns) - {\"paper_id\", \"subject\"}\n",
        "num_features = len(feature_names)\n",
        "num_classes = len(class_idx)\n",
        "\n",
        "# Create train and test features as a numpy array.\n",
        "x_train = train_data[feature_names].to_numpy()\n",
        "x_test = test_data[feature_names].to_numpy()\n",
        "# Create train and test targets as a numpy array.\n",
        "y_train = train_data[\"subject\"]\n",
        "y_test = test_data[\"subject\"]"
      ]
    },
    {
      "cell_type": "markdown",
      "metadata": {
        "id": "SmgR5zQnUZcV"
      },
      "source": [
        "### Implement a baseline classifier\n",
        "\n",
        "We add five FFN blocks with skip connections, so that we generate a baseline model with\n",
        "roughly the same number of parameters as the GNN models to be built later."
      ]
    },
    {
      "cell_type": "code",
      "execution_count": 16,
      "metadata": {
        "id": "chPoIpyaUZcW",
        "outputId": "3fb9b9b4-904a-465a-c400-05c84f564c15",
        "colab": {
          "base_uri": "https://localhost:8080/"
        }
      },
      "outputs": [
        {
          "output_type": "stream",
          "name": "stdout",
          "text": [
            "Model: \"baseline\"\n",
            "__________________________________________________________________________________________________\n",
            " Layer (type)                   Output Shape         Param #     Connected to                     \n",
            "==================================================================================================\n",
            " input_features (InputLayer)    [(None, 1433)]       0           []                               \n",
            "                                                                                                  \n",
            " ffn_block1 (Sequential)        (None, 32)           52804       ['input_features[0][0]']         \n",
            "                                                                                                  \n",
            " ffn_block2 (Sequential)        (None, 32)           2368        ['ffn_block1[0][0]']             \n",
            "                                                                                                  \n",
            " skip_connection2 (Add)         (None, 32)           0           ['ffn_block1[0][0]',             \n",
            "                                                                  'ffn_block2[0][0]']             \n",
            "                                                                                                  \n",
            " ffn_block3 (Sequential)        (None, 32)           2368        ['skip_connection2[0][0]']       \n",
            "                                                                                                  \n",
            " skip_connection3 (Add)         (None, 32)           0           ['skip_connection2[0][0]',       \n",
            "                                                                  'ffn_block3[0][0]']             \n",
            "                                                                                                  \n",
            " ffn_block4 (Sequential)        (None, 32)           2368        ['skip_connection3[0][0]']       \n",
            "                                                                                                  \n",
            " skip_connection4 (Add)         (None, 32)           0           ['skip_connection3[0][0]',       \n",
            "                                                                  'ffn_block4[0][0]']             \n",
            "                                                                                                  \n",
            " ffn_block5 (Sequential)        (None, 32)           2368        ['skip_connection4[0][0]']       \n",
            "                                                                                                  \n",
            " skip_connection5 (Add)         (None, 32)           0           ['skip_connection4[0][0]',       \n",
            "                                                                  'ffn_block5[0][0]']             \n",
            "                                                                                                  \n",
            " logits (Dense)                 (None, 7)            231         ['skip_connection5[0][0]']       \n",
            "                                                                                                  \n",
            "==================================================================================================\n",
            "Total params: 62,507\n",
            "Trainable params: 59,065\n",
            "Non-trainable params: 3,442\n",
            "__________________________________________________________________________________________________\n"
          ]
        }
      ],
      "source": [
        "\n",
        "def create_baseline_model(hidden_units, num_classes, dropout_rate=0.2):\n",
        "    inputs = layers.Input(shape=(num_features,), name=\"input_features\")\n",
        "    x = create_ffn(hidden_units, dropout_rate, name=f\"ffn_block1\")(inputs)\n",
        "    for block_idx in range(4):\n",
        "        # Create an FFN block.\n",
        "        x1 = create_ffn(hidden_units, dropout_rate, name=f\"ffn_block{block_idx + 2}\")(x)\n",
        "        # Add skip connection.\n",
        "        x = layers.Add(name=f\"skip_connection{block_idx + 2}\")([x, x1])\n",
        "    # Compute logits.\n",
        "    logits = layers.Dense(num_classes, name=\"logits\")(x)\n",
        "    # Create the model.\n",
        "    return keras.Model(inputs=inputs, outputs=logits, name=\"baseline\")\n",
        "\n",
        "\n",
        "baseline_model = create_baseline_model(hidden_units, num_classes, dropout_rate)\n",
        "baseline_model.summary()"
      ]
    },
    {
      "cell_type": "markdown",
      "metadata": {
        "id": "1y9E0hVOUZcW"
      },
      "source": [
        "### Train the baseline classifier"
      ]
    },
    {
      "cell_type": "code",
      "execution_count": 17,
      "metadata": {
        "id": "lzFgWaiLUZcW",
        "outputId": "4849af39-3d6f-4444-97d5-19bdc50a9f8f",
        "colab": {
          "base_uri": "https://localhost:8080/"
        }
      },
      "outputs": [
        {
          "output_type": "stream",
          "name": "stdout",
          "text": [
            "Epoch 1/300\n",
            "5/5 [==============================] - 13s 247ms/step - loss: 3.7153 - acc: 0.1705 - val_loss: 1.9362 - val_acc: 0.1304\n",
            "Epoch 2/300\n",
            "5/5 [==============================] - 0s 31ms/step - loss: 2.6259 - acc: 0.2413 - val_loss: 1.9348 - val_acc: 0.1353\n",
            "Epoch 3/300\n",
            "5/5 [==============================] - 0s 45ms/step - loss: 2.4014 - acc: 0.2404 - val_loss: 1.9041 - val_acc: 0.1401\n",
            "Epoch 4/300\n",
            "5/5 [==============================] - 0s 31ms/step - loss: 2.0520 - acc: 0.2941 - val_loss: 1.9043 - val_acc: 0.1401\n",
            "Epoch 5/300\n",
            "5/5 [==============================] - 0s 40ms/step - loss: 1.9501 - acc: 0.2890 - val_loss: 1.9129 - val_acc: 0.1498\n",
            "Epoch 6/300\n",
            "5/5 [==============================] - 0s 32ms/step - loss: 1.7840 - acc: 0.3112 - val_loss: 1.8927 - val_acc: 0.1643\n",
            "Epoch 7/300\n",
            "5/5 [==============================] - 0s 38ms/step - loss: 1.7207 - acc: 0.3470 - val_loss: 1.8531 - val_acc: 0.2222\n",
            "Epoch 8/300\n",
            "5/5 [==============================] - 0s 35ms/step - loss: 1.6766 - acc: 0.3623 - val_loss: 1.8051 - val_acc: 0.3430\n",
            "Epoch 9/300\n",
            "5/5 [==============================] - 0s 35ms/step - loss: 1.5552 - acc: 0.4203 - val_loss: 1.7541 - val_acc: 0.4348\n",
            "Epoch 10/300\n",
            "5/5 [==============================] - 0s 39ms/step - loss: 1.5326 - acc: 0.4382 - val_loss: 1.6970 - val_acc: 0.5169\n",
            "Epoch 11/300\n",
            "5/5 [==============================] - 0s 28ms/step - loss: 1.3922 - acc: 0.4987 - val_loss: 1.6231 - val_acc: 0.4879\n",
            "Epoch 12/300\n",
            "5/5 [==============================] - 0s 38ms/step - loss: 1.3049 - acc: 0.5269 - val_loss: 1.5258 - val_acc: 0.4976\n",
            "Epoch 13/300\n",
            "5/5 [==============================] - 0s 28ms/step - loss: 1.2357 - acc: 0.5550 - val_loss: 1.4320 - val_acc: 0.4928\n",
            "Epoch 14/300\n",
            "5/5 [==============================] - 0s 29ms/step - loss: 1.2218 - acc: 0.5703 - val_loss: 1.3639 - val_acc: 0.5072\n",
            "Epoch 15/300\n",
            "5/5 [==============================] - 0s 32ms/step - loss: 1.0975 - acc: 0.6172 - val_loss: 1.3491 - val_acc: 0.4928\n",
            "Epoch 16/300\n",
            "5/5 [==============================] - 0s 29ms/step - loss: 1.0453 - acc: 0.6317 - val_loss: 1.3676 - val_acc: 0.4976\n",
            "Epoch 17/300\n",
            "5/5 [==============================] - 0s 32ms/step - loss: 1.0028 - acc: 0.6419 - val_loss: 1.3607 - val_acc: 0.5314\n",
            "Epoch 18/300\n",
            "5/5 [==============================] - 0s 26ms/step - loss: 0.9494 - acc: 0.6573 - val_loss: 1.4344 - val_acc: 0.5072\n",
            "Epoch 19/300\n",
            "5/5 [==============================] - 0s 29ms/step - loss: 0.8377 - acc: 0.7093 - val_loss: 1.5992 - val_acc: 0.4686\n",
            "Epoch 20/300\n",
            "5/5 [==============================] - 0s 32ms/step - loss: 0.8507 - acc: 0.6965 - val_loss: 1.6719 - val_acc: 0.4444\n",
            "Epoch 21/300\n",
            "5/5 [==============================] - 0s 28ms/step - loss: 0.8255 - acc: 0.7153 - val_loss: 1.6902 - val_acc: 0.4396\n",
            "Epoch 22/300\n",
            "5/5 [==============================] - 0s 39ms/step - loss: 0.7939 - acc: 0.7161 - val_loss: 1.6836 - val_acc: 0.4493\n",
            "Epoch 23/300\n",
            "5/5 [==============================] - 0s 38ms/step - loss: 0.7621 - acc: 0.7289 - val_loss: 1.7352 - val_acc: 0.4348\n",
            "Epoch 24/300\n",
            "5/5 [==============================] - 0s 32ms/step - loss: 0.7319 - acc: 0.7485 - val_loss: 1.6967 - val_acc: 0.4444\n",
            "Epoch 25/300\n",
            "5/5 [==============================] - 0s 36ms/step - loss: 0.6677 - acc: 0.7630 - val_loss: 1.6744 - val_acc: 0.4541\n",
            "Epoch 26/300\n",
            "5/5 [==============================] - 0s 31ms/step - loss: 0.6758 - acc: 0.7732 - val_loss: 1.5848 - val_acc: 0.4638\n",
            "Epoch 27/300\n",
            "5/5 [==============================] - 0s 36ms/step - loss: 0.6063 - acc: 0.8073 - val_loss: 1.5812 - val_acc: 0.4589\n",
            "Epoch 28/300\n",
            "5/5 [==============================] - 0s 31ms/step - loss: 0.6718 - acc: 0.7545 - val_loss: 1.3912 - val_acc: 0.5217\n",
            "Epoch 29/300\n",
            "5/5 [==============================] - 0s 33ms/step - loss: 0.5924 - acc: 0.8022 - val_loss: 1.2146 - val_acc: 0.5459\n",
            "Epoch 30/300\n",
            "5/5 [==============================] - 0s 27ms/step - loss: 0.5806 - acc: 0.8159 - val_loss: 1.2759 - val_acc: 0.5314\n",
            "Epoch 31/300\n",
            "5/5 [==============================] - 0s 29ms/step - loss: 0.5873 - acc: 0.7945 - val_loss: 1.5115 - val_acc: 0.4976\n",
            "Epoch 32/300\n",
            "5/5 [==============================] - 0s 36ms/step - loss: 0.5870 - acc: 0.8082 - val_loss: 1.5488 - val_acc: 0.4976\n",
            "Epoch 33/300\n",
            "5/5 [==============================] - 0s 34ms/step - loss: 0.5963 - acc: 0.7954 - val_loss: 1.3003 - val_acc: 0.5652\n",
            "Epoch 34/300\n",
            "5/5 [==============================] - 0s 51ms/step - loss: 0.5438 - acc: 0.8124 - val_loss: 1.1852 - val_acc: 0.6039\n",
            "Epoch 35/300\n",
            "5/5 [==============================] - 0s 28ms/step - loss: 0.5394 - acc: 0.8014 - val_loss: 1.1745 - val_acc: 0.5942\n",
            "Epoch 36/300\n",
            "5/5 [==============================] - 0s 41ms/step - loss: 0.5791 - acc: 0.8142 - val_loss: 1.1668 - val_acc: 0.5749\n",
            "Epoch 37/300\n",
            "5/5 [==============================] - 0s 41ms/step - loss: 0.5600 - acc: 0.8124 - val_loss: 1.0779 - val_acc: 0.6377\n",
            "Epoch 38/300\n",
            "5/5 [==============================] - 0s 43ms/step - loss: 0.5377 - acc: 0.8022 - val_loss: 1.0274 - val_acc: 0.6473\n",
            "Epoch 39/300\n",
            "5/5 [==============================] - 0s 32ms/step - loss: 0.5383 - acc: 0.8099 - val_loss: 1.0856 - val_acc: 0.6232\n",
            "Epoch 40/300\n",
            "5/5 [==============================] - 0s 31ms/step - loss: 0.5265 - acc: 0.8176 - val_loss: 1.0862 - val_acc: 0.6184\n",
            "Epoch 41/300\n",
            "5/5 [==============================] - 0s 27ms/step - loss: 0.5196 - acc: 0.8286 - val_loss: 1.0602 - val_acc: 0.6232\n",
            "Epoch 42/300\n",
            "5/5 [==============================] - 0s 36ms/step - loss: 0.5184 - acc: 0.8252 - val_loss: 0.9489 - val_acc: 0.6667\n",
            "Epoch 43/300\n",
            "5/5 [==============================] - 0s 45ms/step - loss: 0.5031 - acc: 0.8210 - val_loss: 0.8724 - val_acc: 0.7101\n",
            "Epoch 44/300\n",
            "5/5 [==============================] - 0s 29ms/step - loss: 0.4924 - acc: 0.8252 - val_loss: 0.8952 - val_acc: 0.6957\n",
            "Epoch 45/300\n",
            "5/5 [==============================] - 0s 37ms/step - loss: 0.4854 - acc: 0.8295 - val_loss: 0.9465 - val_acc: 0.6425\n",
            "Epoch 46/300\n",
            "5/5 [==============================] - 0s 32ms/step - loss: 0.4847 - acc: 0.8346 - val_loss: 0.9631 - val_acc: 0.6329\n",
            "Epoch 47/300\n",
            "5/5 [==============================] - 0s 47ms/step - loss: 0.5231 - acc: 0.8159 - val_loss: 0.9455 - val_acc: 0.6522\n",
            "Epoch 48/300\n",
            "5/5 [==============================] - 0s 33ms/step - loss: 0.4845 - acc: 0.8295 - val_loss: 0.9471 - val_acc: 0.6715\n",
            "Epoch 49/300\n",
            "5/5 [==============================] - 0s 56ms/step - loss: 0.4924 - acc: 0.8244 - val_loss: 0.9573 - val_acc: 0.6522\n",
            "Epoch 50/300\n",
            "5/5 [==============================] - 0s 48ms/step - loss: 0.4810 - acc: 0.8193 - val_loss: 0.9254 - val_acc: 0.6957\n",
            "Epoch 51/300\n",
            "5/5 [==============================] - 0s 30ms/step - loss: 0.4655 - acc: 0.8431 - val_loss: 0.9447 - val_acc: 0.6667\n",
            "Epoch 52/300\n",
            "5/5 [==============================] - 0s 44ms/step - loss: 0.4705 - acc: 0.8346 - val_loss: 0.9638 - val_acc: 0.6667\n",
            "Epoch 53/300\n",
            "5/5 [==============================] - 0s 60ms/step - loss: 0.5130 - acc: 0.8184 - val_loss: 0.8987 - val_acc: 0.7150\n",
            "Epoch 54/300\n",
            "5/5 [==============================] - 0s 47ms/step - loss: 0.4415 - acc: 0.8414 - val_loss: 0.8746 - val_acc: 0.7198\n",
            "Epoch 55/300\n",
            "5/5 [==============================] - 0s 35ms/step - loss: 0.4691 - acc: 0.8355 - val_loss: 0.8528 - val_acc: 0.7150\n",
            "Epoch 56/300\n",
            "5/5 [==============================] - 0s 36ms/step - loss: 0.4596 - acc: 0.8397 - val_loss: 0.8519 - val_acc: 0.7150\n",
            "Epoch 57/300\n",
            "5/5 [==============================] - 0s 39ms/step - loss: 0.4754 - acc: 0.8303 - val_loss: 0.8807 - val_acc: 0.7101\n",
            "Epoch 58/300\n",
            "5/5 [==============================] - 0s 41ms/step - loss: 0.4573 - acc: 0.8363 - val_loss: 0.8876 - val_acc: 0.6908\n",
            "Epoch 59/300\n",
            "5/5 [==============================] - 0s 32ms/step - loss: 0.4788 - acc: 0.8406 - val_loss: 0.9468 - val_acc: 0.6715\n",
            "Epoch 60/300\n",
            "5/5 [==============================] - 0s 36ms/step - loss: 0.4670 - acc: 0.8457 - val_loss: 0.8966 - val_acc: 0.7005\n",
            "Epoch 61/300\n",
            "5/5 [==============================] - 0s 40ms/step - loss: 0.4243 - acc: 0.8457 - val_loss: 0.8805 - val_acc: 0.7101\n",
            "Epoch 62/300\n",
            "5/5 [==============================] - 0s 41ms/step - loss: 0.4225 - acc: 0.8662 - val_loss: 0.8682 - val_acc: 0.7005\n",
            "Epoch 63/300\n",
            "5/5 [==============================] - 0s 38ms/step - loss: 0.4190 - acc: 0.8483 - val_loss: 0.8703 - val_acc: 0.7246\n",
            "Epoch 64/300\n",
            "5/5 [==============================] - 0s 35ms/step - loss: 0.4472 - acc: 0.8517 - val_loss: 0.8661 - val_acc: 0.7246\n",
            "Epoch 65/300\n",
            "5/5 [==============================] - 0s 41ms/step - loss: 0.4263 - acc: 0.8568 - val_loss: 0.8661 - val_acc: 0.6957\n",
            "Epoch 66/300\n",
            "5/5 [==============================] - 0s 35ms/step - loss: 0.4196 - acc: 0.8338 - val_loss: 0.8840 - val_acc: 0.6860\n",
            "Epoch 67/300\n",
            "5/5 [==============================] - 0s 28ms/step - loss: 0.4185 - acc: 0.8585 - val_loss: 0.9036 - val_acc: 0.6763\n",
            "Epoch 68/300\n",
            "5/5 [==============================] - 0s 28ms/step - loss: 0.4285 - acc: 0.8508 - val_loss: 0.9323 - val_acc: 0.6763\n",
            "Epoch 69/300\n",
            "5/5 [==============================] - 0s 30ms/step - loss: 0.4338 - acc: 0.8602 - val_loss: 0.9248 - val_acc: 0.6860\n",
            "Epoch 70/300\n",
            "5/5 [==============================] - 0s 31ms/step - loss: 0.4060 - acc: 0.8559 - val_loss: 0.8925 - val_acc: 0.6957\n",
            "Epoch 71/300\n",
            "5/5 [==============================] - 0s 43ms/step - loss: 0.4469 - acc: 0.8500 - val_loss: 0.8505 - val_acc: 0.7246\n",
            "Epoch 72/300\n",
            "5/5 [==============================] - 0s 31ms/step - loss: 0.4242 - acc: 0.8542 - val_loss: 0.8555 - val_acc: 0.7005\n",
            "Epoch 73/300\n",
            "5/5 [==============================] - 0s 30ms/step - loss: 0.4023 - acc: 0.8568 - val_loss: 0.8992 - val_acc: 0.6957\n",
            "Epoch 74/300\n",
            "5/5 [==============================] - 0s 30ms/step - loss: 0.4121 - acc: 0.8610 - val_loss: 0.8950 - val_acc: 0.6957\n",
            "Epoch 75/300\n",
            "5/5 [==============================] - 0s 31ms/step - loss: 0.3710 - acc: 0.8679 - val_loss: 0.8676 - val_acc: 0.6860\n",
            "Epoch 76/300\n",
            "5/5 [==============================] - 0s 35ms/step - loss: 0.4818 - acc: 0.8465 - val_loss: 0.8670 - val_acc: 0.7053\n",
            "Epoch 77/300\n",
            "5/5 [==============================] - 0s 35ms/step - loss: 0.4057 - acc: 0.8585 - val_loss: 0.8517 - val_acc: 0.7005\n",
            "Epoch 78/300\n",
            "5/5 [==============================] - 0s 30ms/step - loss: 0.3806 - acc: 0.8798 - val_loss: 0.8338 - val_acc: 0.7150\n",
            "Epoch 79/300\n",
            "5/5 [==============================] - 0s 28ms/step - loss: 0.4077 - acc: 0.8670 - val_loss: 0.8525 - val_acc: 0.7101\n",
            "Epoch 80/300\n",
            "5/5 [==============================] - 0s 24ms/step - loss: 0.4207 - acc: 0.8500 - val_loss: 0.8807 - val_acc: 0.7005\n",
            "Epoch 81/300\n",
            "5/5 [==============================] - 0s 37ms/step - loss: 0.4115 - acc: 0.8500 - val_loss: 0.9228 - val_acc: 0.7053\n",
            "Epoch 82/300\n",
            "5/5 [==============================] - 0s 30ms/step - loss: 0.4299 - acc: 0.8414 - val_loss: 0.9190 - val_acc: 0.7005\n",
            "Epoch 83/300\n",
            "5/5 [==============================] - 0s 38ms/step - loss: 0.3585 - acc: 0.8696 - val_loss: 0.9528 - val_acc: 0.6715\n",
            "Epoch 84/300\n",
            "5/5 [==============================] - 0s 32ms/step - loss: 0.4017 - acc: 0.8653 - val_loss: 0.9769 - val_acc: 0.6667\n",
            "Epoch 85/300\n",
            "5/5 [==============================] - 0s 27ms/step - loss: 0.4160 - acc: 0.8602 - val_loss: 0.9889 - val_acc: 0.6812\n",
            "Epoch 86/300\n",
            "5/5 [==============================] - 0s 32ms/step - loss: 0.3790 - acc: 0.8610 - val_loss: 0.9557 - val_acc: 0.6715\n",
            "Epoch 87/300\n",
            "5/5 [==============================] - 0s 32ms/step - loss: 0.3685 - acc: 0.8849 - val_loss: 0.9963 - val_acc: 0.6618\n",
            "Epoch 88/300\n",
            "5/5 [==============================] - 0s 40ms/step - loss: 0.3596 - acc: 0.8747 - val_loss: 1.0007 - val_acc: 0.6522\n",
            "Epoch 89/300\n",
            "5/5 [==============================] - 0s 31ms/step - loss: 0.3468 - acc: 0.8798 - val_loss: 0.9541 - val_acc: 0.6715\n",
            "Epoch 90/300\n",
            "5/5 [==============================] - 0s 31ms/step - loss: 0.3820 - acc: 0.8730 - val_loss: 0.9197 - val_acc: 0.7005\n",
            "Epoch 91/300\n",
            "5/5 [==============================] - 0s 35ms/step - loss: 0.3996 - acc: 0.8636 - val_loss: 0.9226 - val_acc: 0.7101\n",
            "Epoch 92/300\n",
            "5/5 [==============================] - 0s 37ms/step - loss: 0.3714 - acc: 0.8738 - val_loss: 0.9449 - val_acc: 0.6908\n",
            "Epoch 93/300\n",
            "5/5 [==============================] - 0s 27ms/step - loss: 0.3622 - acc: 0.8730 - val_loss: 0.9471 - val_acc: 0.6908\n",
            "Epoch 94/300\n",
            "5/5 [==============================] - 0s 20ms/step - loss: 0.3978 - acc: 0.8636 - val_loss: 0.9484 - val_acc: 0.6957\n",
            "Epoch 95/300\n",
            "5/5 [==============================] - 0s 16ms/step - loss: 0.3968 - acc: 0.8662 - val_loss: 0.9482 - val_acc: 0.6860\n",
            "Epoch 96/300\n",
            "5/5 [==============================] - 0s 16ms/step - loss: 0.4034 - acc: 0.8568 - val_loss: 0.9803 - val_acc: 0.6812\n",
            "Epoch 97/300\n",
            "5/5 [==============================] - 0s 16ms/step - loss: 0.4048 - acc: 0.8645 - val_loss: 0.9474 - val_acc: 0.7101\n",
            "Epoch 98/300\n",
            "5/5 [==============================] - 0s 16ms/step - loss: 0.3938 - acc: 0.8713 - val_loss: 0.9473 - val_acc: 0.7101\n",
            "Epoch 99/300\n",
            "5/5 [==============================] - 0s 22ms/step - loss: 0.4205 - acc: 0.8585 - val_loss: 0.9560 - val_acc: 0.6957\n",
            "Epoch 100/300\n",
            "5/5 [==============================] - 0s 16ms/step - loss: 0.3725 - acc: 0.8747 - val_loss: 0.9546 - val_acc: 0.7005\n",
            "Epoch 101/300\n",
            "5/5 [==============================] - 0s 16ms/step - loss: 0.3627 - acc: 0.8764 - val_loss: 0.9666 - val_acc: 0.7005\n",
            "Epoch 102/300\n",
            "5/5 [==============================] - 0s 16ms/step - loss: 0.3554 - acc: 0.8662 - val_loss: 0.9875 - val_acc: 0.7005\n",
            "Epoch 103/300\n",
            "5/5 [==============================] - 0s 20ms/step - loss: 0.3798 - acc: 0.8730 - val_loss: 1.0045 - val_acc: 0.6812\n",
            "Epoch 104/300\n",
            "5/5 [==============================] - 0s 16ms/step - loss: 0.3861 - acc: 0.8662 - val_loss: 1.0130 - val_acc: 0.6908\n",
            "Epoch 105/300\n",
            "5/5 [==============================] - 0s 16ms/step - loss: 0.3713 - acc: 0.8636 - val_loss: 1.0281 - val_acc: 0.6957\n",
            "Epoch 106/300\n",
            "5/5 [==============================] - 0s 16ms/step - loss: 0.3758 - acc: 0.8696 - val_loss: 1.0299 - val_acc: 0.6908\n",
            "Epoch 107/300\n",
            "5/5 [==============================] - 0s 17ms/step - loss: 0.3519 - acc: 0.8721 - val_loss: 1.0298 - val_acc: 0.6812\n",
            "Epoch 108/300\n",
            "5/5 [==============================] - 0s 17ms/step - loss: 0.3781 - acc: 0.8662 - val_loss: 1.0453 - val_acc: 0.6763\n",
            "Epoch 109/300\n",
            "5/5 [==============================] - 0s 16ms/step - loss: 0.4078 - acc: 0.8491 - val_loss: 1.0519 - val_acc: 0.6667\n",
            "Epoch 110/300\n",
            "5/5 [==============================] - 0s 16ms/step - loss: 0.3933 - acc: 0.8627 - val_loss: 1.0477 - val_acc: 0.6715\n",
            "Epoch 111/300\n",
            "5/5 [==============================] - 0s 17ms/step - loss: 0.3603 - acc: 0.8704 - val_loss: 1.0586 - val_acc: 0.6763\n",
            "Epoch 112/300\n",
            "5/5 [==============================] - 0s 16ms/step - loss: 0.3723 - acc: 0.8636 - val_loss: 1.0739 - val_acc: 0.6667\n",
            "Epoch 113/300\n",
            "5/5 [==============================] - 0s 21ms/step - loss: 0.3610 - acc: 0.8738 - val_loss: 1.0727 - val_acc: 0.6715\n"
          ]
        }
      ],
      "source": [
        "history = run_experiment(baseline_model, x_train, y_train)"
      ]
    },
    {
      "cell_type": "markdown",
      "metadata": {
        "id": "Sw-fS9WmUZcW"
      },
      "source": [
        "Let's plot the learning curves."
      ]
    },
    {
      "cell_type": "code",
      "execution_count": 18,
      "metadata": {
        "id": "oJ_MGlw_UZcW",
        "outputId": "6ef851aa-dc80-4bb7-a2d8-cc6e11b6ba15",
        "colab": {
          "base_uri": "https://localhost:8080/",
          "height": 279
        }
      },
      "outputs": [
        {
          "output_type": "display_data",
          "data": {
            "image/png": "[encoded data removed]",
            "text/plain": [
              "<Figure size 1080x360 with 2 Axes>"
            ]
          },
          "metadata": {
            "needs_background": "light"
          }
        }
      ],
      "source": [
        "display_learning_curves(history)"
      ]
    },
    {
      "cell_type": "markdown",
      "metadata": {
        "id": "CzGxaI7ZUZcW"
      },
      "source": [
        "Now we evaluate the baseline model on the test data split."
      ]
    },
    {
      "cell_type": "code",
      "execution_count": 19,
      "metadata": {
        "id": "Srf83hofUZcW",
        "outputId": "22228a5c-8dc2-4203-af12-f39b36375f4a",
        "colab": {
          "base_uri": "https://localhost:8080/"
        }
      },
      "outputs": [
        {
          "output_type": "stream",
          "name": "stdout",
          "text": [
            "Test accuracy: 73.95%\n"
          ]
        }
      ],
      "source": [
        "_, test_accuracy = baseline_model.evaluate(x=x_test, y=y_test, verbose=0)\n",
        "print(f\"Test accuracy: {round(test_accuracy * 100, 2)}%\")"
      ]
    },
    {
      "cell_type": "markdown",
      "metadata": {
        "id": "jgLqgKwLUZcW"
      },
      "source": [
        "### Examine the baseline model predictions\n",
        "\n",
        "Let's create new data instances by randomly generating binary word vectors with respect to\n",
        "the word presence probabilities."
      ]
    },
    {
      "cell_type": "code",
      "execution_count": 20,
      "metadata": {
        "id": "HTssR2ZTUZcX"
      },
      "outputs": [],
      "source": [
        "\n",
        "def generate_random_instances(num_instances):\n",
        "    token_probability = x_train.mean(axis=0)\n",
        "    instances = []\n",
        "    for _ in range(num_instances):\n",
        "        probabilities = np.random.uniform(size=len(token_probability))\n",
        "        instance = (probabilities <= token_probability).astype(int)\n",
        "        instances.append(instance)\n",
        "\n",
        "    return np.array(instances)\n",
        "\n",
        "\n",
        "def display_class_probabilities(probabilities):\n",
        "    for instance_idx, probs in enumerate(probabilities):\n",
        "        print(f\"Instance {instance_idx + 1}:\")\n",
        "        for class_idx, prob in enumerate(probs):\n",
        "            print(f\"- {class_values[class_idx]}: {round(prob * 100, 2)}%\")\n"
      ]
    },
    {
      "cell_type": "markdown",
      "metadata": {
        "id": "9MjVm680UZcX"
      },
      "source": [
        "Now we show the baseline model predictions given these randomly generated instances."
      ]
    },
    {
      "cell_type": "code",
      "execution_count": 21,
      "metadata": {
        "id": "_lrTAuDMUZcX",
        "outputId": "d33aed9b-b58b-487d-83ac-c5c8d600f3bb",
        "colab": {
          "base_uri": "https://localhost:8080/"
        }
      },
      "outputs": [
        {
          "output_type": "stream",
          "name": "stdout",
          "text": [
            "Instance 1:\n",
            "- Case_Based: 71.3%\n",
            "- Genetic_Algorithms: 3.3%\n",
            "- Neural_Networks: 12.67%\n",
            "- Probabilistic_Methods: 4.2%\n",
            "- Reinforcement_Learning: 3.76%\n",
            "- Rule_Learning: 3.03%\n",
            "- Theory: 1.73%\n",
            "Instance 2:\n",
            "- Case_Based: 1.31%\n",
            "- Genetic_Algorithms: 1.96%\n",
            "- Neural_Networks: 55.94%\n",
            "- Probabilistic_Methods: 33.1%\n",
            "- Reinforcement_Learning: 1.19%\n",
            "- Rule_Learning: 1.42%\n",
            "- Theory: 5.08%\n",
            "Instance 3:\n",
            "- Case_Based: 0.03%\n",
            "- Genetic_Algorithms: 0.1%\n",
            "- Neural_Networks: 96.48%\n",
            "- Probabilistic_Methods: 1.37%\n",
            "- Reinforcement_Learning: 0.21%\n",
            "- Rule_Learning: 0.01%\n",
            "- Theory: 1.8%\n",
            "Instance 4:\n",
            "- Case_Based: 18.47%\n",
            "- Genetic_Algorithms: 2.26%\n",
            "- Neural_Networks: 6.55%\n",
            "- Probabilistic_Methods: 59.82%\n",
            "- Reinforcement_Learning: 0.82%\n",
            "- Rule_Learning: 6.68%\n",
            "- Theory: 5.4%\n",
            "Instance 5:\n",
            "- Case_Based: 0.41%\n",
            "- Genetic_Algorithms: 24.06%\n",
            "- Neural_Networks: 61.71%\n",
            "- Probabilistic_Methods: 10.47%\n",
            "- Reinforcement_Learning: 0.64%\n",
            "- Rule_Learning: 0.59%\n",
            "- Theory: 2.12%\n",
            "Instance 6:\n",
            "- Case_Based: 1.58%\n",
            "- Genetic_Algorithms: 6.37%\n",
            "- Neural_Networks: 44.09%\n",
            "- Probabilistic_Methods: 9.85%\n",
            "- Reinforcement_Learning: 5.55%\n",
            "- Rule_Learning: 3.76%\n",
            "- Theory: 28.8%\n",
            "Instance 7:\n",
            "- Case_Based: 4.19%\n",
            "- Genetic_Algorithms: 3.92%\n",
            "- Neural_Networks: 65.78%\n",
            "- Probabilistic_Methods: 4.29%\n",
            "- Reinforcement_Learning: 1.02%\n",
            "- Rule_Learning: 0.2%\n",
            "- Theory: 20.6%\n"
          ]
        }
      ],
      "source": [
        "new_instances = generate_random_instances(num_classes)\n",
        "logits = baseline_model.predict(new_instances)\n",
        "probabilities = keras.activations.softmax(tf.convert_to_tensor(logits)).numpy()\n",
        "display_class_probabilities(probabilities)"
      ]
    },
    {
      "cell_type": "markdown",
      "metadata": {
        "id": "l0CIhNeIUZcX"
      },
      "source": [
        "## Build a Graph Neural Network Model\n",
        "\n",
        "### Prepare the data for the graph model\n",
        "\n",
        "Preparing and loading the graphs data into the model for training is the most challenging\n",
        "part in GNN models, which is addressed in different ways by the specialised libraries.\n",
        "In this example, we show a simple approach for preparing and using graph data that is suitable\n",
        "if your dataset consists of a single graph that fits entirely in memory.\n",
        "\n",
        "The graph data is represented by the `graph_info` tuple, which consists of the following\n",
        "three elements:\n",
        "\n",
        "1. `node_features`: This is a `[num_nodes, num_features]` NumPy array that includes the\n",
        "node features. In this dataset, the nodes are the papers, and the `node_features` are the\n",
        "word-presence binary vectors of each paper.\n",
        "2. `edges`:  This is `[num_edges, num_edges]` NumPy array representing a sparse\n",
        "[adjacency matrix](https://en.wikipedia.org/wiki/Adjacency_matrix#:~:text=In%20graph%20theory%20and%20computer,with%20zeros%20on%20its%20diagonal.)\n",
        "of the links between the nodes. In this example, the links are the citations between the papers.\n",
        "3. `edge_weights` (optional): This is a `[num_edges]` NumPy array that includes the edge weights, which *quantify*\n",
        "the relationships between nodes in the graph. In this example, there are no weights for the paper citations."
      ]
    },
    {
      "cell_type": "code",
      "execution_count": 22,
      "metadata": {
        "id": "30p5dg3IUZcY",
        "outputId": "8daa2052-142f-43d3-9b24-42689a385ccf",
        "colab": {
          "base_uri": "https://localhost:8080/"
        }
      },
      "outputs": [
        {
          "output_type": "stream",
          "name": "stdout",
          "text": [
            "Edges shape: (2, 5429)\n",
            "Nodes shape: (2708, 1433)\n"
          ]
        }
      ],
      "source": [
        "# Create an edges array (sparse adjacency matrix) of shape [2, num_edges].\n",
        "edges = citations[[\"source\", \"target\"]].to_numpy().T\n",
        "# Create an edge weights array of ones.\n",
        "edge_weights = tf.ones(shape=edges.shape[1])\n",
        "# Create a node features array of shape [num_nodes, num_features].\n",
        "node_features = tf.cast(\n",
        "    papers.sort_values(\"paper_id\")[feature_names].to_numpy(), dtype=tf.dtypes.float32\n",
        ")\n",
        "# Create graph info tuple with node_features, edges, and edge_weights.\n",
        "graph_info = (node_features, edges, edge_weights)\n",
        "\n",
        "print(\"Edges shape:\", edges.shape)\n",
        "print(\"Nodes shape:\", node_features.shape)"
      ]
    },
    {
      "cell_type": "markdown",
      "metadata": {
        "id": "4Wid9ZXpUZcY"
      },
      "source": [
        "### Implement a graph convolution layer\n",
        "\n",
        "We implement a graph convolution module as a [Keras Layer](https://www.tensorflow.org/api_docs/python/tf/keras/layers/Layer?version=nightly).\n",
        "Our `GraphConvLayer` performs the following steps:\n",
        "\n",
        "1. **Prepare**: The input node representations are processed using a FFN to produce a *message*. You can simplify\n",
        "the processing by only applying linear transformation to the representations.\n",
        "2. **Aggregate**: The messages of the neighbours of each node are aggregated with\n",
        "respect to the `edge_weights` using a *permutation invariant* pooling operation, such as *sum*, *mean*, and *max*,\n",
        "to prepare a single aggregated message for each node. See, for example, [tf.math.unsorted_segment_sum](https://www.tensorflow.org/api_docs/python/tf/math/unsorted_segment_sum)\n",
        "APIs used to aggregate neighbour messages.\n",
        "3. **Update**: The `node_repesentations` and `aggregated_messages`—both of shape `[num_nodes, representation_dim]`—\n",
        "are combined and processed to produce the new state of the node representations (node embeddings).\n",
        "If `combination_type` is `gru`, the `node_repesentations` and `aggregated_messages` are stacked to create a sequence,\n",
        "then processed by a GRU layer. Otherwise, the `node_repesentations` and `aggregated_messages` are added\n",
        "or concatenated, then processed using a FFN.\n",
        "\n",
        "\n",
        "The technique implemented use ideas from [Graph Convolutional Networks](https://arxiv.org/abs/1609.02907),\n",
        "[GraphSage](https://arxiv.org/abs/1706.02216), [Graph Isomorphism Network](https://arxiv.org/abs/1810.00826),\n",
        "[Simple Graph Networks](https://arxiv.org/abs/1902.07153), and\n",
        "[Gated Graph Sequence Neural Networks](https://arxiv.org/abs/1511.05493).\n",
        "Two other key techniques that are not covered are [Graph Attention Networks](https://arxiv.org/abs/1710.10903)\n",
        "and [Message Passing Neural Networks](https://arxiv.org/abs/1704.01212)."
      ]
    },
    {
      "cell_type": "code",
      "execution_count": 23,
      "metadata": {
        "id": "hbIMtk20UZcY"
      },
      "outputs": [],
      "source": [
        "\n",
        "class GraphConvLayer(layers.Layer):\n",
        "    def __init__(\n",
        "        self,\n",
        "        hidden_units,\n",
        "        dropout_rate=0.2,\n",
        "        aggregation_type=\"mean\",\n",
        "        combination_type=\"concat\",\n",
        "        normalize=False,\n",
        "        *args,\n",
        "        **kwargs,\n",
        "    ):\n",
        "        super(GraphConvLayer, self).__init__(*args, **kwargs)\n",
        "\n",
        "        self.aggregation_type = aggregation_type\n",
        "        self.combination_type = combination_type\n",
        "        self.normalize = normalize\n",
        "\n",
        "        self.ffn_prepare = create_ffn(hidden_units, dropout_rate)\n",
        "        if self.combination_type == \"gated\":\n",
        "            self.update_fn = layers.GRU(\n",
        "                units=hidden_units,\n",
        "                activation=\"tanh\",\n",
        "                recurrent_activation=\"sigmoid\",\n",
        "                dropout=dropout_rate,\n",
        "                return_state=True,\n",
        "                recurrent_dropout=dropout_rate,\n",
        "            )\n",
        "        else:\n",
        "            self.update_fn = create_ffn(hidden_units, dropout_rate)\n",
        "\n",
        "    def prepare(self, node_repesentations, weights=None):\n",
        "        # node_repesentations shape is [num_edges, embedding_dim].\n",
        "        messages = self.ffn_prepare(node_repesentations)\n",
        "        if weights is not None:\n",
        "            messages = messages * tf.expand_dims(weights, -1)\n",
        "        return messages\n",
        "\n",
        "    def aggregate(self, node_indices, neighbour_messages):\n",
        "        # node_indices shape is [num_edges].\n",
        "        # neighbour_messages shape: [num_edges, representation_dim].\n",
        "        num_nodes = tf.math.reduce_max(node_indices) + 1\n",
        "        if self.aggregation_type == \"sum\":\n",
        "            aggregated_message = tf.math.unsorted_segment_sum(\n",
        "                neighbour_messages, node_indices, num_segments=num_nodes\n",
        "            )\n",
        "        elif self.aggregation_type == \"mean\":\n",
        "            aggregated_message = tf.math.unsorted_segment_mean(\n",
        "                neighbour_messages, node_indices, num_segments=num_nodes\n",
        "            )\n",
        "        elif self.aggregation_type == \"max\":\n",
        "            aggregated_message = tf.math.unsorted_segment_max(\n",
        "                neighbour_messages, node_indices, num_segments=num_nodes\n",
        "            )\n",
        "        else:\n",
        "            raise ValueError(f\"Invalid aggregation type: {self.aggregation_type}.\")\n",
        "\n",
        "        return aggregated_message\n",
        "\n",
        "    def update(self, node_repesentations, aggregated_messages):\n",
        "        # node_repesentations shape is [num_nodes, representation_dim].\n",
        "        # aggregated_messages shape is [num_nodes, representation_dim].\n",
        "        if self.combination_type == \"gru\":\n",
        "            # Create a sequence of two elements for the GRU layer.\n",
        "            h = tf.stack([node_repesentations, aggregated_messages], axis=1)\n",
        "        elif self.combination_type == \"concat\":\n",
        "            # Concatenate the node_repesentations and aggregated_messages.\n",
        "            h = tf.concat([node_repesentations, aggregated_messages], axis=1)\n",
        "        elif self.combination_type == \"add\":\n",
        "            # Add node_repesentations and aggregated_messages.\n",
        "            h = node_repesentations + aggregated_messages\n",
        "        else:\n",
        "            raise ValueError(f\"Invalid combination type: {self.combination_type}.\")\n",
        "\n",
        "        # Apply the processing function.\n",
        "        node_embeddings = self.update_fn(h)\n",
        "        if self.combination_type == \"gru\":\n",
        "            node_embeddings = tf.unstack(node_embeddings, axis=1)[-1]\n",
        "\n",
        "        if self.normalize:\n",
        "            node_embeddings = tf.nn.l2_normalize(node_embeddings, axis=-1)\n",
        "        return node_embeddings\n",
        "\n",
        "    def call(self, inputs):\n",
        "        \"\"\"Process the inputs to produce the node_embeddings.\n",
        "\n",
        "        inputs: a tuple of three elements: node_repesentations, edges, edge_weights.\n",
        "        Returns: node_embeddings of shape [num_nodes, representation_dim].\n",
        "        \"\"\"\n",
        "\n",
        "        node_repesentations, edges, edge_weights = inputs\n",
        "        # Get node_indices (source) and neighbour_indices (target) from edges.\n",
        "        node_indices, neighbour_indices = edges[0], edges[1]\n",
        "        # neighbour_repesentations shape is [num_edges, representation_dim].\n",
        "        neighbour_repesentations = tf.gather(node_repesentations, neighbour_indices)\n",
        "\n",
        "        # Prepare the messages of the neighbours.\n",
        "        neighbour_messages = self.prepare(neighbour_repesentations, edge_weights)\n",
        "        # Aggregate the neighbour messages.\n",
        "        aggregated_messages = self.aggregate(node_indices, neighbour_messages)\n",
        "        # Update the node embedding with the neighbour messages.\n",
        "        return self.update(node_repesentations, aggregated_messages)\n"
      ]
    },
    {
      "cell_type": "markdown",
      "metadata": {
        "id": "rCcKR3L5UZcZ"
      },
      "source": [
        "### Implement a graph neural network node classifier\n",
        "\n",
        "The GNN classification model follows the [Design Space for Graph Neural Networks](https://arxiv.org/abs/2011.08843) approach,\n",
        "as follows:\n",
        "\n",
        "1. Apply preprocessing using FFN to the node features to generate initial node representations.\n",
        "2. Apply one or more graph convolutional layer, with skip connections,  to the node representation\n",
        "to produce node embeddings.\n",
        "3. Apply post-processing using FFN to the node embeddings to generat the final node embeddings.\n",
        "4. Feed the node embeddings in a Softmax layer to predict the node class.\n",
        "\n",
        "Each graph convolutional layer added captures information from a further level of neighbours.\n",
        "However, adding many graph convolutional layer can cause oversmoothing, where the model\n",
        "produces similar embeddings for all the nodes.\n",
        "\n",
        "Note that the `graph_info` passed to the constructor of the Keras model, and used as a *property*\n",
        "of the Keras model object, rather than input data for training or prediction.\n",
        "The model will accept a **batch** of `node_indices`, which are used to lookup the\n",
        "node features and neighbours from the `graph_info`."
      ]
    },
    {
      "cell_type": "code",
      "execution_count": 24,
      "metadata": {
        "id": "eDdNDN5wUZcZ"
      },
      "outputs": [],
      "source": [
        "\n",
        "class GNNNodeClassifier(tf.keras.Model):\n",
        "    def __init__(\n",
        "        self,\n",
        "        graph_info,\n",
        "        num_classes,\n",
        "        hidden_units,\n",
        "        aggregation_type=\"sum\",\n",
        "        combination_type=\"concat\",\n",
        "        dropout_rate=0.2,\n",
        "        normalize=True,\n",
        "        *args,\n",
        "        **kwargs,\n",
        "    ):\n",
        "        super(GNNNodeClassifier, self).__init__(*args, **kwargs)\n",
        "\n",
        "        # Unpack graph_info to three elements: node_features, edges, and edge_weight.\n",
        "        node_features, edges, edge_weights = graph_info\n",
        "        self.node_features = node_features\n",
        "        self.edges = edges\n",
        "        self.edge_weights = edge_weights\n",
        "        # Set edge_weights to ones if not provided.\n",
        "        if self.edge_weights is None:\n",
        "            self.edge_weights = tf.ones(shape=edges.shape[1])\n",
        "        # Scale edge_weights to sum to 1.\n",
        "        self.edge_weights = self.edge_weights / tf.math.reduce_sum(self.edge_weights)\n",
        "\n",
        "        # Create a process layer.\n",
        "        self.preprocess = create_ffn(hidden_units, dropout_rate, name=\"preprocess\")\n",
        "        # Create the first GraphConv layer.\n",
        "        self.conv1 = GraphConvLayer(\n",
        "            hidden_units,\n",
        "            dropout_rate,\n",
        "            aggregation_type,\n",
        "            combination_type,\n",
        "            normalize,\n",
        "            name=\"graph_conv1\",\n",
        "        )\n",
        "        # Create the second GraphConv layer.\n",
        "        self.conv2 = GraphConvLayer(\n",
        "            hidden_units,\n",
        "            dropout_rate,\n",
        "            aggregation_type,\n",
        "            combination_type,\n",
        "            normalize,\n",
        "            name=\"graph_conv2\",\n",
        "        )\n",
        "        # Create a postprocess layer.\n",
        "        self.postprocess = create_ffn(hidden_units, dropout_rate, name=\"postprocess\")\n",
        "        # Create a compute logits layer.\n",
        "        self.compute_logits = layers.Dense(units=num_classes, name=\"logits\")\n",
        "\n",
        "    def call(self, input_node_indices):\n",
        "        # Preprocess the node_features to produce node representations.\n",
        "        x = self.preprocess(self.node_features)\n",
        "        # Apply the first graph conv layer.\n",
        "        x1 = self.conv1((x, self.edges, self.edge_weights))\n",
        "        # Skip connection.\n",
        "        x = x1 + x\n",
        "        # Apply the second graph conv layer.\n",
        "        x2 = self.conv2((x, self.edges, self.edge_weights))\n",
        "        # Skip connection.\n",
        "        x = x2 + x\n",
        "        # Postprocess node embedding.\n",
        "        x = self.postprocess(x)\n",
        "        # Fetch node embeddings for the input node_indices.\n",
        "        node_embeddings = tf.gather(x, input_node_indices)\n",
        "        # Compute logits\n",
        "        return self.compute_logits(node_embeddings)\n"
      ]
    },
    {
      "cell_type": "markdown",
      "metadata": {
        "id": "GBqAF-odUZcZ"
      },
      "source": [
        "Let's test instantiating and calling the GNN model.\n",
        "Notice that if you provide `N` node indices, the output will be a tensor of shape `[N, num_classes]`,\n",
        "regardless of the size of the graph."
      ]
    },
    {
      "cell_type": "code",
      "execution_count": 25,
      "metadata": {
        "id": "SRQMWB2hUZca",
        "outputId": "f36b6f57-b54e-4ac6-a518-c9b67a051253",
        "colab": {
          "base_uri": "https://localhost:8080/"
        }
      },
      "outputs": [
        {
          "output_type": "stream",
          "name": "stdout",
          "text": [
            "GNN output shape: tf.Tensor(\n",
            "[[ 5.46056218e-02  4.88422811e-05  7.77789205e-03  6.33607134e-02\n",
            "  -3.31586599e-02  1.57164261e-02  6.85303956e-02]\n",
            " [ 1.36834495e-02  1.02436975e-01  6.71181977e-02  1.40270218e-02\n",
            "  -9.36016738e-02 -5.30416518e-02  5.03111966e-02]\n",
            " [ 1.48397416e-01  3.08799446e-02  4.05243598e-02 -8.79817009e-02\n",
            "   6.07047975e-03  9.20781400e-03 -1.17245451e-01]], shape=(3, 7), dtype=float32)\n",
            "Model: \"gnn_model\"\n",
            "_________________________________________________________________\n",
            " Layer (type)                Output Shape              Param #   \n",
            "=================================================================\n",
            " preprocess (Sequential)     (2708, 32)                52804     \n",
            "                                                                 \n",
            " graph_conv1 (GraphConvLayer  multiple                 5888      \n",
            " )                                                               \n",
            "                                                                 \n",
            " graph_conv2 (GraphConvLayer  multiple                 5888      \n",
            " )                                                               \n",
            "                                                                 \n",
            " postprocess (Sequential)    (2708, 32)                2368      \n",
            "                                                                 \n",
            " logits (Dense)              multiple                  231       \n",
            "                                                                 \n",
            "=================================================================\n",
            "Total params: 67,179\n",
            "Trainable params: 63,481\n",
            "Non-trainable params: 3,698\n",
            "_________________________________________________________________\n"
          ]
        }
      ],
      "source": [
        "gnn_model = GNNNodeClassifier(\n",
        "    graph_info=graph_info,\n",
        "    num_classes=num_classes,\n",
        "    hidden_units=hidden_units,\n",
        "    dropout_rate=dropout_rate,\n",
        "    name=\"gnn_model\",\n",
        ")\n",
        "\n",
        "print(\"GNN output shape:\", gnn_model([1, 10, 100]))\n",
        "\n",
        "gnn_model.summary()"
      ]
    },
    {
      "cell_type": "markdown",
      "metadata": {
        "id": "bIY0i-hvUZca"
      },
      "source": [
        "### Train the GNN model\n",
        "\n",
        "Note that we use the standard *supervised* cross-entropy loss to train the model.\n",
        "However, we can add another *self-supervised* loss term for the generated node embeddings\n",
        "that makes sure that neighbouring nodes in graph have similar representations, while faraway\n",
        "nodes have dissimilar representations."
      ]
    },
    {
      "cell_type": "code",
      "execution_count": 26,
      "metadata": {
        "id": "tTwFSr2zUZca",
        "outputId": "603a136b-f8af-4f9c-d918-fd3906b18dde",
        "colab": {
          "base_uri": "https://localhost:8080/"
        }
      },
      "outputs": [
        {
          "output_type": "stream",
          "name": "stdout",
          "text": [
            "Epoch 1/300\n",
            "5/5 [==============================] - 4s 135ms/step - loss: 2.2218 - acc: 0.1824 - val_loss: 1.9096 - val_acc: 0.1981\n",
            "Epoch 2/300\n",
            "5/5 [==============================] - 0s 22ms/step - loss: 2.0060 - acc: 0.2558 - val_loss: 1.8930 - val_acc: 0.3237\n",
            "Epoch 3/300\n",
            "5/5 [==============================] - 0s 17ms/step - loss: 1.9141 - acc: 0.2720 - val_loss: 1.8821 - val_acc: 0.3237\n",
            "Epoch 4/300\n",
            "5/5 [==============================] - 0s 16ms/step - loss: 1.8972 - acc: 0.2754 - val_loss: 1.8722 - val_acc: 0.3237\n",
            "Epoch 5/300\n",
            "5/5 [==============================] - 0s 17ms/step - loss: 1.8657 - acc: 0.2847 - val_loss: 1.8545 - val_acc: 0.3237\n",
            "Epoch 6/300\n",
            "5/5 [==============================] - 0s 16ms/step - loss: 1.8572 - acc: 0.2771 - val_loss: 1.8446 - val_acc: 0.3237\n",
            "Epoch 7/300\n",
            "5/5 [==============================] - 0s 20ms/step - loss: 1.8428 - acc: 0.2924 - val_loss: 1.8374 - val_acc: 0.3237\n",
            "Epoch 8/300\n",
            "5/5 [==============================] - 0s 15ms/step - loss: 1.8281 - acc: 0.2907 - val_loss: 1.8293 - val_acc: 0.3237\n",
            "Epoch 9/300\n",
            "5/5 [==============================] - 0s 19ms/step - loss: 1.8104 - acc: 0.2779 - val_loss: 1.8223 - val_acc: 0.3237\n",
            "Epoch 10/300\n",
            "5/5 [==============================] - 0s 20ms/step - loss: 1.8040 - acc: 0.3009 - val_loss: 1.8197 - val_acc: 0.3237\n",
            "Epoch 11/300\n",
            "5/5 [==============================] - 0s 15ms/step - loss: 1.7796 - acc: 0.3061 - val_loss: 1.8217 - val_acc: 0.3237\n",
            "Epoch 12/300\n",
            "5/5 [==============================] - 0s 19ms/step - loss: 1.7560 - acc: 0.2941 - val_loss: 1.8216 - val_acc: 0.3333\n",
            "Epoch 13/300\n",
            "5/5 [==============================] - 0s 19ms/step - loss: 1.7236 - acc: 0.3205 - val_loss: 1.7976 - val_acc: 0.4106\n",
            "Epoch 14/300\n",
            "5/5 [==============================] - 0s 16ms/step - loss: 1.7124 - acc: 0.3197 - val_loss: 1.7566 - val_acc: 0.4106\n",
            "Epoch 15/300\n",
            "5/5 [==============================] - 0s 18ms/step - loss: 1.6787 - acc: 0.3180 - val_loss: 1.6827 - val_acc: 0.4589\n",
            "Epoch 16/300\n",
            "5/5 [==============================] - 0s 23ms/step - loss: 1.6441 - acc: 0.3581 - val_loss: 1.5993 - val_acc: 0.5169\n",
            "Epoch 17/300\n",
            "5/5 [==============================] - 0s 20ms/step - loss: 1.5681 - acc: 0.4032 - val_loss: 1.5030 - val_acc: 0.5266\n",
            "Epoch 18/300\n",
            "5/5 [==============================] - 0s 15ms/step - loss: 1.5387 - acc: 0.3973 - val_loss: 1.4370 - val_acc: 0.5217\n",
            "Epoch 19/300\n",
            "5/5 [==============================] - 0s 20ms/step - loss: 1.5292 - acc: 0.4288 - val_loss: 1.4485 - val_acc: 0.5459\n",
            "Epoch 20/300\n",
            "5/5 [==============================] - 0s 18ms/step - loss: 1.4600 - acc: 0.4561 - val_loss: 1.3991 - val_acc: 0.5556\n",
            "Epoch 21/300\n",
            "5/5 [==============================] - 0s 18ms/step - loss: 1.4457 - acc: 0.4800 - val_loss: 1.4212 - val_acc: 0.4831\n",
            "Epoch 22/300\n",
            "5/5 [==============================] - 0s 14ms/step - loss: 1.3814 - acc: 0.4740 - val_loss: 1.3999 - val_acc: 0.5024\n",
            "Epoch 23/300\n",
            "5/5 [==============================] - 0s 16ms/step - loss: 1.3743 - acc: 0.4842 - val_loss: 1.3854 - val_acc: 0.5314\n",
            "Epoch 24/300\n",
            "5/5 [==============================] - 0s 16ms/step - loss: 1.3279 - acc: 0.5047 - val_loss: 1.4114 - val_acc: 0.5314\n",
            "Epoch 25/300\n",
            "5/5 [==============================] - 0s 15ms/step - loss: 1.2447 - acc: 0.5575 - val_loss: 1.3786 - val_acc: 0.5411\n",
            "Epoch 26/300\n",
            "5/5 [==============================] - 0s 18ms/step - loss: 1.2455 - acc: 0.5490 - val_loss: 1.3536 - val_acc: 0.5652\n",
            "Epoch 27/300\n",
            "5/5 [==============================] - 0s 20ms/step - loss: 1.1900 - acc: 0.5789 - val_loss: 1.2569 - val_acc: 0.5942\n",
            "Epoch 28/300\n",
            "5/5 [==============================] - 0s 15ms/step - loss: 1.1697 - acc: 0.5857 - val_loss: 1.3312 - val_acc: 0.5942\n",
            "Epoch 29/300\n",
            "5/5 [==============================] - 0s 15ms/step - loss: 1.1236 - acc: 0.6061 - val_loss: 1.5124 - val_acc: 0.5217\n",
            "Epoch 30/300\n",
            "5/5 [==============================] - 0s 19ms/step - loss: 1.0801 - acc: 0.6138 - val_loss: 1.6785 - val_acc: 0.5169\n",
            "Epoch 31/300\n",
            "5/5 [==============================] - 0s 15ms/step - loss: 1.0980 - acc: 0.6095 - val_loss: 1.6530 - val_acc: 0.5266\n",
            "Epoch 32/300\n",
            "5/5 [==============================] - 0s 15ms/step - loss: 1.0243 - acc: 0.6419 - val_loss: 1.4913 - val_acc: 0.5459\n",
            "Epoch 33/300\n",
            "5/5 [==============================] - 0s 15ms/step - loss: 1.0053 - acc: 0.6377 - val_loss: 1.4097 - val_acc: 0.5845\n",
            "Epoch 34/300\n",
            "5/5 [==============================] - 0s 18ms/step - loss: 0.9486 - acc: 0.6701 - val_loss: 1.3570 - val_acc: 0.6039\n",
            "Epoch 35/300\n",
            "5/5 [==============================] - 0s 18ms/step - loss: 0.9419 - acc: 0.6624 - val_loss: 1.4493 - val_acc: 0.5894\n",
            "Epoch 36/300\n",
            "5/5 [==============================] - 0s 19ms/step - loss: 0.9228 - acc: 0.6718 - val_loss: 1.4877 - val_acc: 0.5459\n",
            "Epoch 37/300\n",
            "5/5 [==============================] - 0s 14ms/step - loss: 0.9269 - acc: 0.6922 - val_loss: 1.2299 - val_acc: 0.5797\n",
            "Epoch 38/300\n",
            "5/5 [==============================] - 0s 22ms/step - loss: 0.8826 - acc: 0.6922 - val_loss: 1.0584 - val_acc: 0.6618\n",
            "Epoch 39/300\n",
            "5/5 [==============================] - 0s 15ms/step - loss: 0.8577 - acc: 0.6888 - val_loss: 1.1674 - val_acc: 0.6425\n",
            "Epoch 40/300\n",
            "5/5 [==============================] - 0s 16ms/step - loss: 0.8284 - acc: 0.7016 - val_loss: 1.2126 - val_acc: 0.6570\n",
            "Epoch 41/300\n",
            "5/5 [==============================] - 0s 23ms/step - loss: 0.8418 - acc: 0.7076 - val_loss: 1.1411 - val_acc: 0.6715\n",
            "Epoch 42/300\n",
            "5/5 [==============================] - 0s 18ms/step - loss: 0.8491 - acc: 0.7008 - val_loss: 1.0927 - val_acc: 0.6763\n",
            "Epoch 43/300\n",
            "5/5 [==============================] - 0s 23ms/step - loss: 0.8271 - acc: 0.7280 - val_loss: 1.0921 - val_acc: 0.6957\n",
            "Epoch 44/300\n",
            "5/5 [==============================] - 0s 15ms/step - loss: 0.8058 - acc: 0.7212 - val_loss: 1.1336 - val_acc: 0.6763\n",
            "Epoch 45/300\n",
            "5/5 [==============================] - 0s 15ms/step - loss: 0.7697 - acc: 0.7374 - val_loss: 1.1316 - val_acc: 0.6860\n",
            "Epoch 46/300\n",
            "5/5 [==============================] - 0s 15ms/step - loss: 0.7815 - acc: 0.7229 - val_loss: 1.0813 - val_acc: 0.6957\n",
            "Epoch 47/300\n",
            "5/5 [==============================] - 0s 19ms/step - loss: 0.7753 - acc: 0.7229 - val_loss: 1.0745 - val_acc: 0.7053\n",
            "Epoch 48/300\n",
            "5/5 [==============================] - 0s 20ms/step - loss: 0.7550 - acc: 0.7391 - val_loss: 1.0792 - val_acc: 0.7246\n",
            "Epoch 49/300\n",
            "5/5 [==============================] - 0s 15ms/step - loss: 0.7321 - acc: 0.7477 - val_loss: 1.0795 - val_acc: 0.7101\n",
            "Epoch 50/300\n",
            "5/5 [==============================] - 0s 14ms/step - loss: 0.7519 - acc: 0.7477 - val_loss: 1.0862 - val_acc: 0.6860\n",
            "Epoch 51/300\n",
            "5/5 [==============================] - 0s 15ms/step - loss: 0.7230 - acc: 0.7613 - val_loss: 1.1136 - val_acc: 0.6570\n",
            "Epoch 52/300\n",
            "5/5 [==============================] - 0s 17ms/step - loss: 0.7640 - acc: 0.7502 - val_loss: 1.0624 - val_acc: 0.6667\n",
            "Epoch 53/300\n",
            "5/5 [==============================] - 0s 15ms/step - loss: 0.7030 - acc: 0.7673 - val_loss: 1.0823 - val_acc: 0.6618\n",
            "Epoch 54/300\n",
            "5/5 [==============================] - 0s 14ms/step - loss: 0.7328 - acc: 0.7630 - val_loss: 1.0570 - val_acc: 0.6618\n",
            "Epoch 55/300\n",
            "5/5 [==============================] - 0s 14ms/step - loss: 0.6985 - acc: 0.7732 - val_loss: 1.0025 - val_acc: 0.6957\n",
            "Epoch 56/300\n",
            "5/5 [==============================] - 0s 20ms/step - loss: 0.6970 - acc: 0.7766 - val_loss: 0.8903 - val_acc: 0.7440\n",
            "Epoch 57/300\n",
            "5/5 [==============================] - 0s 19ms/step - loss: 0.6207 - acc: 0.7860 - val_loss: 0.8769 - val_acc: 0.7585\n",
            "Epoch 58/300\n",
            "5/5 [==============================] - 0s 15ms/step - loss: 0.6241 - acc: 0.7928 - val_loss: 0.9315 - val_acc: 0.7536\n",
            "Epoch 59/300\n",
            "5/5 [==============================] - 0s 15ms/step - loss: 0.6204 - acc: 0.7852 - val_loss: 0.9513 - val_acc: 0.7391\n",
            "Epoch 60/300\n",
            "5/5 [==============================] - 0s 15ms/step - loss: 0.6615 - acc: 0.7903 - val_loss: 0.9640 - val_acc: 0.7440\n",
            "Epoch 61/300\n",
            "5/5 [==============================] - 0s 14ms/step - loss: 0.6499 - acc: 0.7741 - val_loss: 0.9256 - val_acc: 0.7440\n",
            "Epoch 62/300\n",
            "5/5 [==============================] - 0s 14ms/step - loss: 0.6405 - acc: 0.7681 - val_loss: 0.9393 - val_acc: 0.7488\n",
            "Epoch 63/300\n",
            "5/5 [==============================] - 0s 15ms/step - loss: 0.5780 - acc: 0.8235 - val_loss: 1.0010 - val_acc: 0.7343\n",
            "Epoch 64/300\n",
            "5/5 [==============================] - 0s 14ms/step - loss: 0.5705 - acc: 0.8124 - val_loss: 1.0092 - val_acc: 0.7198\n",
            "Epoch 65/300\n",
            "5/5 [==============================] - 0s 17ms/step - loss: 0.6066 - acc: 0.7962 - val_loss: 0.9614 - val_acc: 0.7440\n",
            "Epoch 66/300\n",
            "5/5 [==============================] - 0s 15ms/step - loss: 0.5683 - acc: 0.8159 - val_loss: 0.9147 - val_acc: 0.7488\n",
            "Epoch 67/300\n",
            "5/5 [==============================] - 0s 14ms/step - loss: 0.5501 - acc: 0.8176 - val_loss: 0.9080 - val_acc: 0.7440\n",
            "Epoch 68/300\n",
            "5/5 [==============================] - 0s 15ms/step - loss: 0.5995 - acc: 0.7971 - val_loss: 0.9279 - val_acc: 0.7150\n",
            "Epoch 69/300\n",
            "5/5 [==============================] - 0s 15ms/step - loss: 0.5757 - acc: 0.8107 - val_loss: 0.9169 - val_acc: 0.7150\n",
            "Epoch 70/300\n",
            "5/5 [==============================] - 0s 15ms/step - loss: 0.5708 - acc: 0.8133 - val_loss: 0.8489 - val_acc: 0.7440\n",
            "Epoch 71/300\n",
            "5/5 [==============================] - 0s 14ms/step - loss: 0.5660 - acc: 0.8159 - val_loss: 0.8372 - val_acc: 0.7585\n",
            "Epoch 72/300\n",
            "5/5 [==============================] - 0s 15ms/step - loss: 0.6548 - acc: 0.7835 - val_loss: 0.9127 - val_acc: 0.7488\n",
            "Epoch 73/300\n",
            "5/5 [==============================] - 0s 23ms/step - loss: 0.5465 - acc: 0.8269 - val_loss: 0.9301 - val_acc: 0.7391\n",
            "Epoch 74/300\n",
            "5/5 [==============================] - 0s 16ms/step - loss: 0.5571 - acc: 0.8099 - val_loss: 0.8574 - val_acc: 0.7391\n",
            "Epoch 75/300\n",
            "5/5 [==============================] - 0s 21ms/step - loss: 0.5231 - acc: 0.8278 - val_loss: 0.8189 - val_acc: 0.7681\n",
            "Epoch 76/300\n",
            "5/5 [==============================] - 0s 19ms/step - loss: 0.5506 - acc: 0.8252 - val_loss: 0.8408 - val_acc: 0.7681\n",
            "Epoch 77/300\n",
            "5/5 [==============================] - 0s 24ms/step - loss: 0.5311 - acc: 0.8227 - val_loss: 0.8189 - val_acc: 0.7729\n",
            "Epoch 78/300\n",
            "5/5 [==============================] - 0s 22ms/step - loss: 0.5485 - acc: 0.8269 - val_loss: 0.7955 - val_acc: 0.7778\n",
            "Epoch 79/300\n",
            "5/5 [==============================] - 0s 25ms/step - loss: 0.5300 - acc: 0.8235 - val_loss: 0.7618 - val_acc: 0.7923\n",
            "Epoch 80/300\n",
            "5/5 [==============================] - 0s 20ms/step - loss: 0.5410 - acc: 0.8193 - val_loss: 0.7792 - val_acc: 0.7826\n",
            "Epoch 81/300\n",
            "5/5 [==============================] - 0s 19ms/step - loss: 0.5853 - acc: 0.8142 - val_loss: 0.8056 - val_acc: 0.7681\n",
            "Epoch 82/300\n",
            "5/5 [==============================] - 0s 15ms/step - loss: 0.5190 - acc: 0.8363 - val_loss: 0.8365 - val_acc: 0.7633\n",
            "Epoch 83/300\n",
            "5/5 [==============================] - 0s 15ms/step - loss: 0.5053 - acc: 0.8474 - val_loss: 0.8497 - val_acc: 0.7778\n",
            "Epoch 84/300\n",
            "5/5 [==============================] - 0s 19ms/step - loss: 0.4921 - acc: 0.8406 - val_loss: 0.8399 - val_acc: 0.7729\n",
            "Epoch 85/300\n",
            "5/5 [==============================] - 0s 15ms/step - loss: 0.5069 - acc: 0.8406 - val_loss: 0.8140 - val_acc: 0.7633\n",
            "Epoch 86/300\n",
            "5/5 [==============================] - 0s 15ms/step - loss: 0.5007 - acc: 0.8372 - val_loss: 0.8007 - val_acc: 0.7729\n",
            "Epoch 87/300\n",
            "5/5 [==============================] - 0s 15ms/step - loss: 0.4971 - acc: 0.8474 - val_loss: 0.8030 - val_acc: 0.7826\n",
            "Epoch 88/300\n",
            "5/5 [==============================] - 0s 21ms/step - loss: 0.4793 - acc: 0.8474 - val_loss: 0.7823 - val_acc: 0.8019\n",
            "Epoch 89/300\n",
            "5/5 [==============================] - 0s 15ms/step - loss: 0.4780 - acc: 0.8363 - val_loss: 0.7943 - val_acc: 0.7971\n",
            "Epoch 90/300\n",
            "5/5 [==============================] - 0s 16ms/step - loss: 0.4805 - acc: 0.8465 - val_loss: 0.8204 - val_acc: 0.7971\n",
            "Epoch 91/300\n",
            "5/5 [==============================] - 0s 15ms/step - loss: 0.5120 - acc: 0.8465 - val_loss: 0.8310 - val_acc: 0.7923\n",
            "Epoch 92/300\n",
            "5/5 [==============================] - 0s 15ms/step - loss: 0.4752 - acc: 0.8525 - val_loss: 0.8346 - val_acc: 0.7874\n",
            "Epoch 93/300\n",
            "5/5 [==============================] - 0s 19ms/step - loss: 0.4860 - acc: 0.8457 - val_loss: 0.8554 - val_acc: 0.7681\n",
            "Epoch 94/300\n",
            "5/5 [==============================] - 0s 14ms/step - loss: 0.4508 - acc: 0.8568 - val_loss: 0.8674 - val_acc: 0.7633\n",
            "Epoch 95/300\n",
            "5/5 [==============================] - 0s 15ms/step - loss: 0.5049 - acc: 0.8389 - val_loss: 0.7976 - val_acc: 0.7874\n",
            "Epoch 96/300\n",
            "5/5 [==============================] - 0s 15ms/step - loss: 0.4245 - acc: 0.8593 - val_loss: 0.7979 - val_acc: 0.7826\n",
            "Epoch 97/300\n",
            "5/5 [==============================] - 0s 14ms/step - loss: 0.4501 - acc: 0.8525 - val_loss: 0.8601 - val_acc: 0.7729\n",
            "Epoch 98/300\n",
            "5/5 [==============================] - 0s 15ms/step - loss: 0.5103 - acc: 0.8312 - val_loss: 0.8505 - val_acc: 0.7729\n",
            "Epoch 99/300\n",
            "5/5 [==============================] - 0s 15ms/step - loss: 0.4177 - acc: 0.8602 - val_loss: 0.8130 - val_acc: 0.7826\n",
            "Epoch 100/300\n",
            "5/5 [==============================] - 0s 20ms/step - loss: 0.4053 - acc: 0.8755 - val_loss: 0.7976 - val_acc: 0.7826\n",
            "Epoch 101/300\n",
            "5/5 [==============================] - 0s 15ms/step - loss: 0.4817 - acc: 0.8483 - val_loss: 0.8205 - val_acc: 0.7826\n",
            "Epoch 102/300\n",
            "5/5 [==============================] - 0s 21ms/step - loss: 0.4835 - acc: 0.8355 - val_loss: 0.7826 - val_acc: 0.7923\n",
            "Epoch 103/300\n",
            "5/5 [==============================] - 0s 15ms/step - loss: 0.4720 - acc: 0.8491 - val_loss: 0.7551 - val_acc: 0.8019\n",
            "Epoch 104/300\n",
            "5/5 [==============================] - 0s 20ms/step - loss: 0.4607 - acc: 0.8448 - val_loss: 0.7480 - val_acc: 0.8068\n",
            "Epoch 105/300\n",
            "5/5 [==============================] - 0s 14ms/step - loss: 0.4869 - acc: 0.8440 - val_loss: 0.7566 - val_acc: 0.8019\n",
            "Epoch 106/300\n",
            "5/5 [==============================] - 0s 15ms/step - loss: 0.4554 - acc: 0.8457 - val_loss: 0.7751 - val_acc: 0.8068\n",
            "Epoch 107/300\n",
            "5/5 [==============================] - 0s 19ms/step - loss: 0.4598 - acc: 0.8414 - val_loss: 0.7671 - val_acc: 0.8068\n",
            "Epoch 108/300\n",
            "5/5 [==============================] - 0s 14ms/step - loss: 0.4673 - acc: 0.8465 - val_loss: 0.7866 - val_acc: 0.8019\n",
            "Epoch 109/300\n",
            "5/5 [==============================] - 0s 14ms/step - loss: 0.4317 - acc: 0.8747 - val_loss: 0.8253 - val_acc: 0.7826\n",
            "Epoch 110/300\n",
            "5/5 [==============================] - 0s 15ms/step - loss: 0.4355 - acc: 0.8619 - val_loss: 0.8041 - val_acc: 0.7923\n",
            "Epoch 111/300\n",
            "5/5 [==============================] - 0s 18ms/step - loss: 0.4283 - acc: 0.8576 - val_loss: 0.7878 - val_acc: 0.8164\n",
            "Epoch 112/300\n",
            "5/5 [==============================] - 0s 19ms/step - loss: 0.4492 - acc: 0.8593 - val_loss: 0.7981 - val_acc: 0.8019\n",
            "Epoch 113/300\n",
            "5/5 [==============================] - 0s 15ms/step - loss: 0.4390 - acc: 0.8755 - val_loss: 0.7974 - val_acc: 0.8019\n",
            "Epoch 114/300\n",
            "5/5 [==============================] - 0s 15ms/step - loss: 0.4359 - acc: 0.8687 - val_loss: 0.7964 - val_acc: 0.8068\n",
            "Epoch 115/300\n",
            "5/5 [==============================] - 0s 14ms/step - loss: 0.4303 - acc: 0.8645 - val_loss: 0.8202 - val_acc: 0.7826\n",
            "Epoch 116/300\n",
            "5/5 [==============================] - 0s 15ms/step - loss: 0.4253 - acc: 0.8602 - val_loss: 0.7979 - val_acc: 0.7874\n",
            "Epoch 117/300\n",
            "5/5 [==============================] - 0s 15ms/step - loss: 0.4752 - acc: 0.8406 - val_loss: 0.7724 - val_acc: 0.7923\n",
            "Epoch 118/300\n",
            "5/5 [==============================] - 0s 20ms/step - loss: 0.4130 - acc: 0.8645 - val_loss: 0.7720 - val_acc: 0.8116\n",
            "Epoch 119/300\n",
            "5/5 [==============================] - 0s 19ms/step - loss: 0.4145 - acc: 0.8772 - val_loss: 0.7730 - val_acc: 0.8213\n",
            "Epoch 120/300\n",
            "5/5 [==============================] - 0s 16ms/step - loss: 0.4094 - acc: 0.8610 - val_loss: 0.8194 - val_acc: 0.7971\n",
            "Epoch 121/300\n",
            "5/5 [==============================] - 0s 15ms/step - loss: 0.4360 - acc: 0.8636 - val_loss: 0.8248 - val_acc: 0.7874\n",
            "Epoch 122/300\n",
            "5/5 [==============================] - 0s 14ms/step - loss: 0.4101 - acc: 0.8636 - val_loss: 0.7930 - val_acc: 0.7971\n",
            "Epoch 123/300\n",
            "5/5 [==============================] - 0s 15ms/step - loss: 0.3819 - acc: 0.8764 - val_loss: 0.7778 - val_acc: 0.8164\n",
            "Epoch 124/300\n",
            "5/5 [==============================] - 0s 19ms/step - loss: 0.4217 - acc: 0.8653 - val_loss: 0.8156 - val_acc: 0.8164\n",
            "Epoch 125/300\n",
            "5/5 [==============================] - 0s 20ms/step - loss: 0.4412 - acc: 0.8593 - val_loss: 0.8029 - val_acc: 0.8116\n",
            "Epoch 126/300\n",
            "5/5 [==============================] - 0s 14ms/step - loss: 0.3886 - acc: 0.8747 - val_loss: 0.8218 - val_acc: 0.7971\n",
            "Epoch 127/300\n",
            "5/5 [==============================] - 0s 15ms/step - loss: 0.4316 - acc: 0.8645 - val_loss: 0.8404 - val_acc: 0.7971\n",
            "Epoch 128/300\n",
            "5/5 [==============================] - 0s 15ms/step - loss: 0.4200 - acc: 0.8610 - val_loss: 0.8320 - val_acc: 0.7971\n",
            "Epoch 129/300\n",
            "5/5 [==============================] - 0s 15ms/step - loss: 0.4330 - acc: 0.8585 - val_loss: 0.7821 - val_acc: 0.7971\n",
            "Epoch 130/300\n",
            "5/5 [==============================] - 0s 19ms/step - loss: 0.3982 - acc: 0.8713 - val_loss: 0.7564 - val_acc: 0.7923\n",
            "Epoch 131/300\n",
            "5/5 [==============================] - 0s 20ms/step - loss: 0.3854 - acc: 0.8670 - val_loss: 0.7763 - val_acc: 0.8019\n",
            "Epoch 132/300\n",
            "5/5 [==============================] - 0s 14ms/step - loss: 0.3959 - acc: 0.8815 - val_loss: 0.7983 - val_acc: 0.7923\n",
            "Epoch 133/300\n",
            "5/5 [==============================] - 0s 14ms/step - loss: 0.4424 - acc: 0.8568 - val_loss: 0.8172 - val_acc: 0.7971\n",
            "Epoch 134/300\n",
            "5/5 [==============================] - 0s 19ms/step - loss: 0.4036 - acc: 0.8662 - val_loss: 0.8454 - val_acc: 0.8068\n",
            "Epoch 135/300\n",
            "5/5 [==============================] - 0s 16ms/step - loss: 0.4008 - acc: 0.8670 - val_loss: 0.8952 - val_acc: 0.7826\n",
            "Epoch 136/300\n",
            "5/5 [==============================] - 0s 17ms/step - loss: 0.4450 - acc: 0.8542 - val_loss: 0.8995 - val_acc: 0.7826\n",
            "Epoch 137/300\n",
            "5/5 [==============================] - 0s 15ms/step - loss: 0.4442 - acc: 0.8670 - val_loss: 0.9098 - val_acc: 0.7826\n",
            "Epoch 138/300\n",
            "5/5 [==============================] - 0s 16ms/step - loss: 0.4011 - acc: 0.8755 - val_loss: 0.8530 - val_acc: 0.7971\n",
            "Epoch 139/300\n",
            "5/5 [==============================] - 0s 16ms/step - loss: 0.3926 - acc: 0.8832 - val_loss: 0.8398 - val_acc: 0.7971\n",
            "Epoch 140/300\n",
            "5/5 [==============================] - 0s 16ms/step - loss: 0.3904 - acc: 0.8798 - val_loss: 0.8330 - val_acc: 0.8068\n",
            "Epoch 141/300\n",
            "5/5 [==============================] - 0s 15ms/step - loss: 0.3565 - acc: 0.8841 - val_loss: 0.8584 - val_acc: 0.8019\n",
            "Epoch 142/300\n",
            "5/5 [==============================] - 0s 16ms/step - loss: 0.4075 - acc: 0.8687 - val_loss: 0.8143 - val_acc: 0.8068\n",
            "Epoch 143/300\n",
            "5/5 [==============================] - 0s 15ms/step - loss: 0.4018 - acc: 0.8747 - val_loss: 0.8276 - val_acc: 0.8068\n",
            "Epoch 144/300\n",
            "5/5 [==============================] - 0s 15ms/step - loss: 0.4147 - acc: 0.8645 - val_loss: 0.8289 - val_acc: 0.7923\n",
            "Epoch 145/300\n",
            "5/5 [==============================] - 0s 16ms/step - loss: 0.3620 - acc: 0.8909 - val_loss: 0.8494 - val_acc: 0.7729\n",
            "Epoch 146/300\n",
            "5/5 [==============================] - 0s 15ms/step - loss: 0.3830 - acc: 0.8721 - val_loss: 0.9066 - val_acc: 0.7681\n",
            "Epoch 147/300\n",
            "5/5 [==============================] - 0s 19ms/step - loss: 0.3519 - acc: 0.8824 - val_loss: 0.8540 - val_acc: 0.7778\n",
            "Epoch 148/300\n",
            "5/5 [==============================] - 0s 16ms/step - loss: 0.3607 - acc: 0.8858 - val_loss: 0.8279 - val_acc: 0.7729\n",
            "Epoch 149/300\n",
            "5/5 [==============================] - 0s 15ms/step - loss: 0.3696 - acc: 0.8789 - val_loss: 0.8347 - val_acc: 0.7923\n",
            "Epoch 150/300\n",
            "5/5 [==============================] - 0s 16ms/step - loss: 0.3985 - acc: 0.8670 - val_loss: 0.8653 - val_acc: 0.8068\n",
            "Epoch 151/300\n",
            "5/5 [==============================] - 0s 15ms/step - loss: 0.3899 - acc: 0.8747 - val_loss: 0.8379 - val_acc: 0.7923\n",
            "Epoch 152/300\n",
            "5/5 [==============================] - 0s 15ms/step - loss: 0.3976 - acc: 0.8653 - val_loss: 0.8178 - val_acc: 0.8019\n",
            "Epoch 153/300\n",
            "5/5 [==============================] - 0s 20ms/step - loss: 0.3780 - acc: 0.8892 - val_loss: 0.8215 - val_acc: 0.8019\n",
            "Epoch 154/300\n",
            "5/5 [==============================] - 0s 16ms/step - loss: 0.3769 - acc: 0.8721 - val_loss: 0.8196 - val_acc: 0.8019\n",
            "Epoch 155/300\n",
            "5/5 [==============================] - 0s 15ms/step - loss: 0.3947 - acc: 0.8619 - val_loss: 0.8126 - val_acc: 0.8019\n",
            "Epoch 156/300\n",
            "5/5 [==============================] - 0s 15ms/step - loss: 0.3704 - acc: 0.8747 - val_loss: 0.8331 - val_acc: 0.7923\n",
            "Epoch 157/300\n",
            "5/5 [==============================] - 0s 15ms/step - loss: 0.3845 - acc: 0.8824 - val_loss: 0.8649 - val_acc: 0.7971\n",
            "Epoch 158/300\n",
            "5/5 [==============================] - 0s 14ms/step - loss: 0.3460 - acc: 0.8968 - val_loss: 0.8728 - val_acc: 0.7971\n",
            "Epoch 159/300\n",
            "5/5 [==============================] - 0s 15ms/step - loss: 0.3579 - acc: 0.8900 - val_loss: 0.8600 - val_acc: 0.8019\n",
            "Epoch 160/300\n",
            "5/5 [==============================] - 0s 16ms/step - loss: 0.3841 - acc: 0.8781 - val_loss: 0.8309 - val_acc: 0.8019\n",
            "Epoch 161/300\n",
            "5/5 [==============================] - 0s 15ms/step - loss: 0.3784 - acc: 0.8806 - val_loss: 0.8287 - val_acc: 0.7874\n",
            "Epoch 162/300\n",
            "5/5 [==============================] - 0s 15ms/step - loss: 0.3618 - acc: 0.8849 - val_loss: 0.8629 - val_acc: 0.7923\n",
            "Epoch 163/300\n",
            "5/5 [==============================] - 0s 16ms/step - loss: 0.3803 - acc: 0.8806 - val_loss: 0.8565 - val_acc: 0.7971\n",
            "Epoch 164/300\n",
            "5/5 [==============================] - 0s 20ms/step - loss: 0.3501 - acc: 0.8917 - val_loss: 0.8762 - val_acc: 0.8068\n",
            "Epoch 165/300\n",
            "5/5 [==============================] - 0s 17ms/step - loss: 0.3619 - acc: 0.8824 - val_loss: 0.8981 - val_acc: 0.7923\n",
            "Epoch 166/300\n",
            "5/5 [==============================] - 0s 15ms/step - loss: 0.3949 - acc: 0.8824 - val_loss: 0.9007 - val_acc: 0.7826\n",
            "Epoch 167/300\n",
            "5/5 [==============================] - 0s 15ms/step - loss: 0.3541 - acc: 0.9003 - val_loss: 0.8641 - val_acc: 0.8068\n",
            "Epoch 168/300\n",
            "5/5 [==============================] - 0s 14ms/step - loss: 0.3476 - acc: 0.8951 - val_loss: 0.8819 - val_acc: 0.8019\n",
            "Epoch 169/300\n",
            "5/5 [==============================] - 0s 20ms/step - loss: 0.4059 - acc: 0.8653 - val_loss: 0.8877 - val_acc: 0.7874\n"
          ]
        }
      ],
      "source": [
        "x_train = train_data.paper_id.to_numpy()\n",
        "history = run_experiment(gnn_model, x_train, y_train)"
      ]
    },
    {
      "cell_type": "markdown",
      "metadata": {
        "id": "rPZu1b7DUZca"
      },
      "source": [
        "Let's plot the learning curves"
      ]
    },
    {
      "cell_type": "code",
      "execution_count": 27,
      "metadata": {
        "id": "awql0S0vUZca",
        "outputId": "d43e44dc-acf6-4713-fd44-1a43de3d92bc",
        "colab": {
          "base_uri": "https://localhost:8080/",
          "height": 275
        }
      },
      "outputs": [
        {
          "output_type": "display_data",
          "data": {
            "image/png": "[encoded data removed]",
            "text/plain": [
              "<Figure size 1080x360 with 2 Axes>"
            ]
          },
          "metadata": {
            "needs_background": "light"
          }
        }
      ],
      "source": [
        "display_learning_curves(history)"
      ]
    },
    {
      "cell_type": "markdown",
      "metadata": {
        "id": "0FhSQvwDUZca"
      },
      "source": [
        "Now we evaluate the GNN model on the test data split.\n",
        "The results may vary depending on the training sample, however the GNN model always outperforms\n",
        "the baseline model in terms of the test accuracy."
      ]
    },
    {
      "cell_type": "code",
      "execution_count": 28,
      "metadata": {
        "id": "9yU31ho4UZca",
        "outputId": "9b6b56cb-bd6c-45e9-d0f6-040e742eae80",
        "colab": {
          "base_uri": "https://localhost:8080/"
        }
      },
      "outputs": [
        {
          "output_type": "stream",
          "name": "stdout",
          "text": [
            "Test accuracy: 81.02%\n"
          ]
        }
      ],
      "source": [
        "x_test = test_data.paper_id.to_numpy()\n",
        "_, test_accuracy = gnn_model.evaluate(x=x_test, y=y_test, verbose=0)\n",
        "print(f\"Test accuracy: {round(test_accuracy * 100, 2)}%\")"
      ]
    },
    {
      "cell_type": "markdown",
      "metadata": {
        "id": "fNJpFOXJUZca"
      },
      "source": [
        "### Examine the GNN model predictions\n",
        "\n",
        "Let's add the new instances as nodes to the `node_features`, and generate links\n",
        "(citations) to existing nodes."
      ]
    },
    {
      "cell_type": "code",
      "execution_count": 29,
      "metadata": {
        "id": "nQ2DOdkrUZca"
      },
      "outputs": [],
      "source": [
        "# First we add the N new_instances as nodes to the graph\n",
        "# by appending the new_instance to node_features.\n",
        "num_nodes = node_features.shape[0]\n",
        "new_node_features = np.concatenate([node_features, new_instances])\n",
        "# Second we add the M edges (citations) from each new node to a set\n",
        "# of existing nodes in a particular subject\n",
        "new_node_indices = [i + num_nodes for i in range(num_classes)]\n",
        "new_citations = []\n",
        "for subject_idx, group in papers.groupby(\"subject\"):\n",
        "    subject_papers = list(group.paper_id)\n",
        "    # Select random x papers specific subject.\n",
        "    selected_paper_indices1 = np.random.choice(subject_papers, 5)\n",
        "    # Select random y papers from any subject (where y < x).\n",
        "    selected_paper_indices2 = np.random.choice(list(papers.paper_id), 2)\n",
        "    # Merge the selected paper indices.\n",
        "    selected_paper_indices = np.concatenate(\n",
        "        [selected_paper_indices1, selected_paper_indices2], axis=0\n",
        "    )\n",
        "    # Create edges between a citing paper idx and the selected cited papers.\n",
        "    citing_paper_indx = new_node_indices[subject_idx]\n",
        "    for cited_paper_idx in selected_paper_indices:\n",
        "        new_citations.append([citing_paper_indx, cited_paper_idx])\n",
        "\n",
        "new_citations = np.array(new_citations).T\n",
        "new_edges = np.concatenate([edges, new_citations], axis=1)"
      ]
    },
    {
      "cell_type": "markdown",
      "metadata": {
        "id": "GQd8tYAGUZca"
      },
      "source": [
        "Now let's update the `node_features` and the `edges` in the GNN model."
      ]
    },
    {
      "cell_type": "code",
      "execution_count": 30,
      "metadata": {
        "id": "BP6x5-zGUZcb",
        "outputId": "daa76376-1dc8-4faa-f515-c8d2da3d1529",
        "colab": {
          "base_uri": "https://localhost:8080/"
        }
      },
      "outputs": [
        {
          "output_type": "stream",
          "name": "stdout",
          "text": [
            "Original node_features shape: (2708, 1433)\n",
            "Original edges shape: (2, 5429)\n",
            "New node_features shape: (2715, 1433)\n",
            "New edges shape: (2, 5478)\n",
            "Instance 1:\n",
            "- Case_Based: 94.78%\n",
            "- Genetic_Algorithms: 0.41%\n",
            "- Neural_Networks: 0.21%\n",
            "- Probabilistic_Methods: 0.09%\n",
            "- Reinforcement_Learning: 0.01%\n",
            "- Rule_Learning: 4.22%\n",
            "- Theory: 0.27%\n",
            "Instance 2:\n",
            "- Case_Based: 0.33%\n",
            "- Genetic_Algorithms: 73.29%\n",
            "- Neural_Networks: 0.95%\n",
            "- Probabilistic_Methods: 0.27%\n",
            "- Reinforcement_Learning: 23.92%\n",
            "- Rule_Learning: 0.2%\n",
            "- Theory: 1.05%\n",
            "Instance 3:\n",
            "- Case_Based: 0.02%\n",
            "- Genetic_Algorithms: 0.04%\n",
            "- Neural_Networks: 96.9%\n",
            "- Probabilistic_Methods: 2.15%\n",
            "- Reinforcement_Learning: 0.16%\n",
            "- Rule_Learning: 0.0%\n",
            "- Theory: 0.72%\n",
            "Instance 4:\n",
            "- Case_Based: 0.02%\n",
            "- Genetic_Algorithms: 0.12%\n",
            "- Neural_Networks: 2.01%\n",
            "- Probabilistic_Methods: 96.42%\n",
            "- Reinforcement_Learning: 0.03%\n",
            "- Rule_Learning: 0.17%\n",
            "- Theory: 1.23%\n",
            "Instance 5:\n",
            "- Case_Based: 2.26%\n",
            "- Genetic_Algorithms: 69.65%\n",
            "- Neural_Networks: 19.93%\n",
            "- Probabilistic_Methods: 1.01%\n",
            "- Reinforcement_Learning: 6.56%\n",
            "- Rule_Learning: 0.12%\n",
            "- Theory: 0.47%\n",
            "Instance 6:\n",
            "- Case_Based: 6.3%\n",
            "- Genetic_Algorithms: 1.76%\n",
            "- Neural_Networks: 0.88%\n",
            "- Probabilistic_Methods: 0.76%\n",
            "- Reinforcement_Learning: 0.68%\n",
            "- Rule_Learning: 61.55%\n",
            "- Theory: 28.07%\n",
            "Instance 7:\n",
            "- Case_Based: 1.11%\n",
            "- Genetic_Algorithms: 0.2%\n",
            "- Neural_Networks: 88.92%\n",
            "- Probabilistic_Methods: 1.53%\n",
            "- Reinforcement_Learning: 0.84%\n",
            "- Rule_Learning: 0.16%\n",
            "- Theory: 7.23%\n"
          ]
        }
      ],
      "source": [
        "print(\"Original node_features shape:\", gnn_model.node_features.shape)\n",
        "print(\"Original edges shape:\", gnn_model.edges.shape)\n",
        "gnn_model.node_features = new_node_features\n",
        "gnn_model.edges = new_edges\n",
        "gnn_model.edge_weights = tf.ones(shape=new_edges.shape[1])\n",
        "print(\"New node_features shape:\", gnn_model.node_features.shape)\n",
        "print(\"New edges shape:\", gnn_model.edges.shape)\n",
        "\n",
        "logits = gnn_model.predict(tf.convert_to_tensor(new_node_indices))\n",
        "probabilities = keras.activations.softmax(tf.convert_to_tensor(logits)).numpy()\n",
        "display_class_probabilities(probabilities)"
      ]
    },
    {
      "cell_type": "markdown",
      "metadata": {
        "id": "Hi_ceUCfUZcb"
      },
      "source": [
        "Notice that the probabilities of the expected subjects\n",
        "(to which several citations are added) are higher compared to the baseline model."
      ]
    }
  ],
  "metadata": {
    "colab": {
      "collapsed_sections": [],
      "name": "gnn_citations",
      "provenance": [],
      "toc_visible": true
    },
    "kernelspec": {
      "display_name": "Python 3",
      "language": "python",
      "name": "python3"
    },
    "language_info": {
      "codemirror_mode": {
        "name": "ipython",
        "version": 3
      },
      "file_extension": ".py",
      "mimetype": "text/x-python",
      "name": "python",
      "nbconvert_exporter": "python",
      "pygments_lexer": "ipython3",
      "version": "3.7.0"
    },
    "accelerator": "GPU"
  },
  "nbformat": 4,
  "nbformat_minor": 0
}